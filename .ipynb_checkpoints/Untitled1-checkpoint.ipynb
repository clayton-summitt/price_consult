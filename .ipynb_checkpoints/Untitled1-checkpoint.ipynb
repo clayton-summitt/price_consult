{
 "cells": [
  {
   "cell_type": "code",
   "execution_count": 30,
   "metadata": {},
   "outputs": [],
   "source": [
    "#!/usr/bin/env python # coding: utf-8 # In[207]: \n",
    "import pandas as pd \n",
    "import numpy as np \n",
    "import seaborn as sns \n",
    "import matplotlib as mat \n",
    "#import psycopg2 \n",
    "import seaborn as sns; sns.set() \n",
    "import matplotlib.pyplot as plt \n",
    "import datetime \n",
    "import scipy.stats \n",
    "from statistics import mean \n",
    "import plotly.express as px \n",
    "import plotly.graph_objects as go \n",
    "from plotly.subplots import make_subplots \n",
    "import chart_studio \n",
    "import plotly.io as pio \n",
    "import chart_studio.tools as tls \n",
    "\n",
    "\n",
    "def clean_spins_upc(df):\n",
    "\t#take in a dataframe, expand the number of columns into a temp\n",
    "\t#datafram\n",
    "\ttemp = df[\"Item_UPC\"].str.rsplit(\" \", n=1, expand = True)\n",
    "    #df[\"Item_cleaned\"] = df.apply(lambda x: x.Item_UPC.lstrip(x.Brand.lower()), axis=1)\n",
    "\t#add columns  to main dataframe from Temp\n",
    "\tdf.insert(0, \"UPC\", temp[1])\n",
    "\tdf.insert(1, \"Item\", temp[0])\n",
    "\n",
    "\t#drop original combined column\n",
    "\tdf.drop(columns= [\"Item_UPC\"], inplace=True)\n",
    "\t#SPINS data adds a leading zero to UPC and includes hypen. \n",
    "\t#neither are needed for analysis.\n",
    "\tdf[\"UPC\"]= df[\"UPC\"].apply(lambda x : x[1:] if x.startswith(\"0\") else x)\n",
    "\tdf[\"UPC\"]=df[\"UPC\"].apply(lambda x :x.replace('-', ''))\n",
    "\tcol_names = df.columns\n",
    "    #make all columns lower case to ease searching\n",
    "\tfor cols in col_names:\n",
    "\t    df[cols] = df[cols].apply(lambda x: x.lower() if type(x) == str else x)\n",
    "        \n",
    "\n",
    "def item_cleanup_is_in(x):\n",
    "        if x[0] not in x[3] and x[1] not in x[3]:\n",
    "            return x[0] + \" \"+ x[1] + \" \"+ x[2]\n",
    "        elif x[0] in x[3] and x[1] in x[3]:\n",
    "            return x[2]\n",
    "        elif x[0] in x[3] and x[1] not in x[3]:\n",
    "            return x[1]  + \" \" +x[2] \n",
    "        \n",
    "        \n",
    "def clean_up_item(df):\n",
    "\n",
    "    #split cells and expand to clean up brands with >1 name ie Garden Of Life into 2 columns\n",
    "    temp = df[\"Item\"].str.split(\" \", n=3, expand = True)\n",
    "    brand_temp = df[\"Brand\"].str.split(\" \", n = 1, expand = True)\n",
    "\n",
    "    #drop first columns as these should match\n",
    "\n",
    "    temp.drop(columns = [0], inplace = True)\n",
    "    brand_temp.drop(columns = [0], inplace = True)\n",
    "\n",
    "    #and rename columns to concatenate\n",
    "    temp.rename(columns = {1:0, 2:1, 3:2}, inplace = True)\n",
    "    brand_temp.rename(columns = {1:3}, inplace = True)\n",
    "\n",
    "    #remove none type objects from dataframe introduced by pandas.DataFrame.str.split() method\n",
    "    temp[0] = temp[0].apply(lambda s: ' ' if s is None else str(s))\n",
    "    temp[1] = temp[1].apply(lambda s: ' ' if s is None else str(s))\n",
    "    temp[2] = temp[2].apply(lambda s: ' ' if s is None else str(s))\n",
    "    brand_temp[3] = brand_temp[3].apply(lambda s: ' ' if s is None else str(s))\n",
    "    #combine brand_temp and  temp df into 1 dataframe\n",
    "    frames = [temp,brand_temp]\n",
    "    result = pd.concat(frames, axis=1, join='inner')\n",
    "\n",
    "\n",
    "    #remove brand names from columns\n",
    "    temp[2] = result.apply(lambda x: item_cleanup_is_in(x), axis = 1)\n",
    "    df.drop(columns= [\"Item\"], inplace=True)\n",
    "    df.insert(2, \"Item\", temp[2])\n",
    "\n",
    "def sub_set_metrics_of_interest(df, metric_to_use = ['ARP']):\n",
    "\treturn df.loc[df[\"Metric\"].isin(metric_to_use)].reset_index()\n",
    "\n",
    "\n",
    "def subset_for_boxplots(df):\n",
    "    metric_to_use = ['ARP']\n",
    "    df = df[df[\"Metric\"].isin(metric_to_use)].reset_index()\n",
    "\n",
    "    return df\n",
    "\n",
    "def cl_box_plot(df):\n",
    "    fig = px.box(df, x=\"Metric\", y=\"amount\", points=\"all\", title = df[\"Item\"][0])\n",
    "    fig.add_trace(go.Scatter(x=['ARP'], y=[get_MSRP(df.loc[0,\"UPC\"]),get_MSRP(df.loc[0,\"UPC\"])], mode=\"lines\", name=\"MSRP\"))\n",
    "    fig.show()\n",
    "    \n",
    "def competive_analysis_easy_melt(df):\n",
    "\t#return df.melt(id_vars=[\"UPC\", \"Item\",\"Geography\",'Brand', 'Subcategory'], var_name = \"Metric\" , value_name='amount')\n",
    "\n",
    "\treturn df.melt(id_vars=[\"index\",'UPC', \"Item\",\"Geography\",'Brand', 'Subcategory'], var_name = \"Metric\" , value_name='amount')\n",
    "\n",
    "def competition_skus(upc_list,df):\n",
    "    '''Select SKUs from a list to subset main data frame, item ID can be either full UPC or catalog ID\n",
    "    df = the dataframe you are subsetting\n",
    "    \n",
    "    upc_list : a list of upcs that will be used to subset the dataframe.\n",
    "    \n",
    "    '''\n",
    "    #df = df[df[\"Brand\"].str.contains(brand)]\n",
    "    df = df[df[\"UPC\"].isin(upc_list)].reset_index()\n",
    "    df.dropna(inplace = True)\n",
    "    #add the lines below once MSRP is procurred and get_msrp is modified for all brnds, not just CL\n",
    "    #df.loc[:, \"ARP_percent_off_MSRP\"] =  df.loc[:,\"ARP\"].apply(lambda x: (1-(x/get_MSRP(item_id)))*100)\n",
    "    \n",
    "#     df.loc[:,'bins'] = pd.cut(df['ARP_percent_off_MSRP'],bins=[0,5,10,15,20,25,30,35,40], \n",
    "#                               labels=[\"0-5% off\",\n",
    "#                                       \"5-10%  off\",\n",
    "#                                       \"10-15% off\",\n",
    "#                                       \"15-20% off\",\n",
    "#                                       \"20-25% off\",\n",
    "#                                       \"25-30% off\", \n",
    "#                                       \"30-35% off\",\n",
    "#                                       \"35-40% off\"])\n",
    "    return df\n",
    "\n",
    "def box_plot(df):\n",
    "    fig = px.box(df, x=\"Metric\", y=\"amount\", points=\"all\", title = df[\"Brand\"][0] + \" \" + df[\"Item\"][0] )\n",
    "    #fig.add_trace(go.Scatter(x=['ARP'], y=[get_MSRP(df.loc[0,\"UPC\"]),get_MSRP(df.loc[0,\"UPC\"])], mode=\"lines\", name=\"MSRP\"))\n",
    "    fig.show()\n",
    "def box_plot2(df):\n",
    "    fig = px.box(df, x=\"Item\", y=\"ARP\", points=\"all\", title = \"magnesium\" , color = \"Brand\")\n",
    "    #fig.add_trace(go.Scatter(x=['ARP'], y=[get_MSRP(df.loc[0,\"UPC\"]),get_MSRP(df.loc[0,\"UPC\"])], mode=\"lines\", name=\"MSRP\"))\n",
    "    fig.show()\n",
    "\n",
    "def competiotn_make_plots(a_df_list = []):\n",
    "    a_df_list = list(a_df_list)\n",
    "\n",
    "    \n",
    "    if len(a_df_list) == 1:\n",
    "        box_plot(a_df_list[0])\n",
    "    \n",
    "\n",
    "    else:\n",
    "        fig = make_subplots(\n",
    "            rows=1, cols=2,\n",
    "            specs=[[{\"type\": \"box\"}, {\"type\": \"pie\"}]],\n",
    "        )\n",
    "\n",
    "        fig.add_trace(go.Box( x=a_df_list[0].Metric, \n",
    "                             y=a_df_list[0].amount, \n",
    "                             boxpoints =\"all\",\n",
    "                             hovertext =a_df_list[0][\"Geography\"],\n",
    "                             jitter =0.5,\n",
    "                             boxmean = True, \n",
    "                             showlegend=False,\n",
    "                           # hovertemplate = 'Geography: $%{geography}'\n",
    "                            ), \n",
    "                      row=1, col=1)\n",
    "        #adds a line to reprsentMSRP\n",
    "        fig.add_trace(go.Scatter(x=['ARP'], y=[get_MSRP(df.loc[0,\"UPC\"]),get_MSRP(df.loc[0,\"UPC\"])],\n",
    "                                 mode=\"lines\", name=\"MSRP\", line=dict(color=\"#000000\") ))\n",
    "\n",
    "        #generates pie chart from calculated proportion data\n",
    "        fig.add_trace(go.Pie(values=a_df_list[1][\"count\"], labels =a_df_list[1][\"bins\"], showlegend=True,\n",
    "                             title_text =\"Proportion MSRP Discounts\"),\n",
    "                      row=1, col=2)\n",
    "        # Update xaxis properties\n",
    "        fig.update_xaxes(title_text=\"Distribution of ARP vs Base ARP\", row=1, col=1)\n",
    "        #fig.update(title_text=\"Proportion of ARP as percentage discount\",  row=1, col=2)\n",
    "\n",
    "        fig.update_yaxes(title_text=\"Dollars\", row=1, col=1)\n",
    "        #fig.update_yaxes(title_text=\"Proportion of ARP as percentage discount\",  row=1, col=2)\n",
    "\n",
    "        #label the plot\n",
    "        fig.update_layout(title_text=a_df_list[0][\"Item\"][0], height=600)\n",
    "        fig.update_layout(height=600, showlegend=True)\n",
    "\n",
    "        fig.show()\n",
    "        #pio.write_html(fig, file=df[\"Item\"][0]+'.html', auto_open=True)\n",
    "\n",
    "\n",
    "def competition_single_product_analysis(item_id ,df):\n",
    "    '''\n",
    "    item_id will be UPC, \n",
    "    df = data frame of interest\n",
    "    '''\n",
    "    \n",
    "    \n",
    "    single_sku_df = competition_skus(((item_id)),df)\n",
    "    \n",
    "    #once MSRP for all SKU's are procured, add this\n",
    "    #pie_frame = get_discount_proportions(single_sku_df)\n",
    "\n",
    "    melted_df = competive_analysis_easy_meltt(single_sku_df)\n",
    "\n",
    "\n",
    "\n",
    "    subset_df_forplot = subset_for_boxplots(melted_df)\n",
    "\n",
    "    competiotn_make_plots(a_df_list =[subset_df_forplot])#, pie_frame)#add pie frame once MSRP is procured\n",
    "    boot_strap_sample.plot_bootstrap_mean(single_sku_df[\"ARP\"].to_numpy())\n",
    "    #boot_strap_sample.plot_bootstrap_median(single_sku_df[\"ARP\"].to_numpy(), test_statistic=np.median) \n",
    "\n",
    "def competitive_analysis_df_list(path):\n",
    "    '''Typically vendors provide an excel sheet of items they are interested in.\n",
    "    This function returns a list of data frames that contain which SKUs, provided by vendor, we are analyzing\n",
    "    prior to loading, the excel file has the vendor provided skus separated by into sheets based on the category of the supplement\n",
    "    '''\n",
    "    sheetname_list = (pd.ExcelFile(path).sheet_names)\n",
    "    sheetname_list.remove('Comp-Brands')\n",
    "    sheetname_list.remove('Sheet13')\n",
    "    sheetname_list.remove('Competitive-Item')\n",
    "    sheetname_list.remove('Sheet1')\n",
    "\n",
    "    df_list = []\n",
    "\n",
    "    for sheet in sheetname_list:\n",
    "        df = pd.read_excel(path, sheet_name = sheet, index_col=None, header = 0, dtype={'UPC': str})\n",
    "        df_list.append(df)\n",
    "    return df_list\n",
    "\n",
    "def get_upc_list(df_list, index):\n",
    "    '''returns a data frame which contains all geographic occurences of each sku of interest'''\n",
    "    df2 = df_list[0]\n",
    "    df2[\"UPC\"]= df2[\"UPC\"].apply(lambda x : x[1:] if x.startswith(\"0\") else x)\n",
    "    df2[\"UPC\"]=df2[\"UPC\"].apply(lambda x :x.replace('-', ''))\n",
    "    upc_list = [upc for upc in df2[\"UPC\"]]\n",
    "    return df2,upc_list\n"
   ]
  },
  {
   "cell_type": "code",
   "execution_count": null,
   "metadata": {},
   "outputs": [],
   "source": [
    "#select the most up to date spins data, provide the file path to data,columns we want to investigate and na values \n",
    "path = \"/Users/GuntherUlvanget/country_life/price_consult/SPINS_24_weeks_ending_7_12_20_for_competitive_analysis.csv\"\n",
    "cols = ['Geography', 'Item UPC','Brand','Subcategory','ARP','Units, Promo','Units, Non-Promo']\n",
    "na_val = \"-\"\n",
    "comp_analysis_df = pd.read_csv(path, sep = \",\", na_values = na_val, usecols= cols)\n",
    "\n",
    "\n",
    "\n",
    "comp_analysis_df.rename(columns =  {'Item UPC': 'Item_UPC', 'Units, Non-Promo':'Units_Non_Promo' }, inplace = True)\n",
    "\n",
    "comp_analysis_df['ARP'] = comp_analysis_df['ARP'].astype(float)\n",
    "\n",
    "\n",
    "clean_spins_upc(comp_analysis_df)"
   ]
  },
  {
   "cell_type": "code",
   "execution_count": 81,
   "metadata": {},
   "outputs": [
    {
     "data": {
      "text/plain": [
       "[            UPC                                       Description  Unit Size  \\\n",
       " 0   01579402474                                  MAGNESIUM 300 MG       60.0   \n",
       " 1   74371500683             Bluebonnet Chelated Magnesium 120 Vcp        NaN   \n",
       " 2   74371500682              Bluebonnet Chelated Magnesium 60 Vcp        NaN   \n",
       " 3   75395000025  Doctor's Best High Absorption Magneisum 120 caps        NaN   \n",
       " 4   75395000087  Doctor's Best High Absorption Magneisum 240 caps        NaN   \n",
       " 5   65801012280           Garden of Life Whole Food Magneium 420g        NaN   \n",
       " 6   02124581209                  Kal Magnesium Glyc 400 Mg 180 Tb        NaN   \n",
       " 7   02124581109                     Kal Magnesium Glycinate 90 Tb        NaN   \n",
       " 8   01579402475                                  MAGNESIUM 300 MG      120.0   \n",
       " 9   04064700437                   Nat Life Magnesium W/b-6 100 Cp        NaN   \n",
       " 10  03367441051                   Nat Way Magnesium 500 Mg 100 Cp        NaN   \n",
       " 11  73373901283                Now Foods Magnesium caps, 180 caps        NaN   \n",
       " 12  09746703360                       NTPL MAGNESIUM 200MG 180 CT        NaN   \n",
       " 13  03398401710                      SLGR MAGNESIUM CITRATE 60 CT        NaN   \n",
       " 14  07628004630                   Solaray Magnesium 200 Mg 100 Cp        NaN   \n",
       " 15  07628039151           Solaray Magnesium Glycnt 400 Mg 120 Vcp        NaN   \n",
       " \n",
       "         Form   MSRP  WSP    Item  \n",
       " 0   Vegicaps  10.79  5.4  2474.0  \n",
       " 1        NaN    NaN  NaN     NaN  \n",
       " 2        NaN  12.75  NaN     NaN  \n",
       " 3        NaN    NaN  NaN     NaN  \n",
       " 4        NaN  29.99  NaN     NaN  \n",
       " 5        NaN    NaN  NaN     NaN  \n",
       " 6        NaN    NaN  NaN     NaN  \n",
       " 7        NaN    NaN  NaN     NaN  \n",
       " 8   Vegicaps  19.19  9.6  2475.0  \n",
       " 9        NaN    NaN  NaN     NaN  \n",
       " 10       NaN    NaN  NaN     NaN  \n",
       " 11       NaN    NaN  NaN     NaN  \n",
       " 12       NaN    NaN  NaN     NaN  \n",
       " 13       NaN   7.49  NaN     NaN  \n",
       " 14       NaN    NaN  NaN     NaN  \n",
       " 15       NaN    NaN  NaN     NaN  ,\n",
       "            UPC                                    Description  Unit Size  \\\n",
       " 0  01579402659                                EASY IRON 25 MG       90.0   \n",
       " 1  03398401249                       Solgar Iron 25 Mg 90 Vcp        NaN   \n",
       " 2  07628074610                Veglife Vegan Iron 25 Mg 100 Tb        NaN   \n",
       " 3  65801011376       Garden Life Vitamin Code Iron Ogc 30 Vcp        NaN   \n",
       " 4  03367441041                          NTWY IRON 18MG 100 CT        NaN   \n",
       " 5  05149410171                   Megafood Blood Builder 60 Tb        NaN   \n",
       " 6  05149410195                   Megafood Blood Builder 90 Tb        NaN   \n",
       " 7  65801011654  Garden Life Vit Code Healthy Blood Ogc 60 Vcp        NaN   \n",
       " 8  06895801647         Natural Factors Easy Iron Chews 60 Chw        NaN   \n",
       " 9  03398401250               Solgar Gentle Iron 30 Mg 180 Vcp        NaN   \n",
       " \n",
       "        Form   MSRP  WSP    Item  \n",
       " 0  Vegicaps  14.99  7.5  2659.0  \n",
       " 1       NaN    NaN  NaN     NaN  \n",
       " 2       NaN    NaN  NaN     NaN  \n",
       " 3       NaN    NaN  NaN     NaN  \n",
       " 4       NaN    NaN  NaN     NaN  \n",
       " 5       NaN    NaN  NaN     NaN  \n",
       " 6       NaN    NaN  NaN     NaN  \n",
       " 7       NaN    NaN  NaN     NaN  \n",
       " 8       NaN    NaN  NaN     NaN  \n",
       " 9       NaN    NaN  NaN     NaN  ,\n",
       "            UPC                                        Description  Unit Size  \\\n",
       " 0  01579402488                          CAL-MAG+VITAMIN D COMPLEX      240.0   \n",
       " 1  03398400519              Solgar Cal Mag with Vit D3 - 300 Tab         NaN   \n",
       " 2  07628013175  Solaray Cal-Mag Citrate with 400IU Vitamin D 3...        NaN   \n",
       " 3  74371500717              Bluebonnet Cal/mag 180 Cp (45 serv.)         NaN   \n",
       " 4  03367441421                        NTWY CALCIUM MAG & D 250 CT        NaN   \n",
       " 5  07628088450                     Soloray Cal Mag W/vit D 180 Cp        NaN   \n",
       " \n",
       "        Form   MSRP   WSP    Item  \n",
       " 0  Vegicaps  26.79  13.4  2488.0  \n",
       " 1       NaN    NaN   NaN     NaN  \n",
       " 2       NaN    NaN   NaN     NaN  \n",
       " 3       NaN    NaN   NaN     NaN  \n",
       " 4       NaN    NaN   NaN     NaN  \n",
       " 5       NaN    NaN   NaN     NaN  ,\n",
       "            UPC                                       Description  Unit Size  \\\n",
       " 0  01579403491                                   CHARCOAL 260 MG       40.0   \n",
       " 1  02124558605                         Kal Charcoal 260 Mg 50 Cp        NaN   \n",
       " 2  01579403492                                   CHARCOAL 260 MG      100.0   \n",
       " 3  03367402070              Natures Way Herb Charcoal Act 100 Cp        NaN   \n",
       " 4  07628000860                  Solaray Activated Charcoal 90 Cp        NaN   \n",
       " 5          nan  Natural Life Organic Activated charcoal 100 caps        NaN   \n",
       " 6  02124558610                     Kal Activated Charcoal 100 Cp        NaN   \n",
       " 7          nan               Swanson Activated Charcoal 120 caps        NaN   \n",
       " \n",
       "       Form   MSRP  WSP    Item  \n",
       " 0  Capsule  10.79  5.4  3491.0  \n",
       " 1      NaN    NaN  NaN     NaN  \n",
       " 2  Capsule  15.59  7.8  3492.0  \n",
       " 3      NaN    NaN  NaN     NaN  \n",
       " 4      NaN    NaN  NaN     NaN  \n",
       " 5      NaN    NaN  NaN     NaN  \n",
       " 6      NaN    NaN  NaN     NaN  \n",
       " 7      NaN    NaN  NaN     NaN  ,\n",
       "            UPC                                        Description  Unit Size  \\\n",
       " 0  01579405045                              MAXI HAIR PLUS BIOTIN      120.0   \n",
       " 1  72778390116      New Chapter Perfect Hair Skin Nails Ogc 30vcp        NaN   \n",
       " 2  72778390117      New Chapter Perfect Hair Skin Nails Ogc 60vcp        NaN   \n",
       " 3  74371515005  Blue Bonnett BEAUTIFUL ALLY® HAIR, SKIN & NAIL...        NaN   \n",
       " 4   0494790005              Futurebiotics Hair Skin & Nails 75 Tb        NaN   \n",
       " 5  05149410191             Megafood Skin Nails And Hair Ogc 60 Tb        NaN   \n",
       " 6  36770321006                   Terry Naturally Hair Renew 60 Sg        NaN   \n",
       " 7  71036356939               Irwin Naturals Skin Hair Nails 60 Sg        NaN   \n",
       " 8  71036358134      Irwin Naturals Healthy Skin Hair Nails 120 Sg        NaN   \n",
       " 9          nan  Nature's Bounty Optimal Solutions Extra Streng...        NaN   \n",
       " \n",
       "        Form   MSRP   WSP    Item  \n",
       " 0  Vegicaps  31.19  15.6  5045.0  \n",
       " 1       NaN    NaN   NaN     NaN  \n",
       " 2       NaN    NaN   NaN     NaN  \n",
       " 3       NaN    NaN   NaN     NaN  \n",
       " 4       NaN    NaN   NaN     NaN  \n",
       " 5       NaN    NaN   NaN     NaN  \n",
       " 6       NaN    NaN   NaN     NaN  \n",
       " 7       NaN    NaN   NaN     NaN  \n",
       " 8       NaN    NaN   NaN     NaN  \n",
       " 9       NaN    NaN   NaN     NaN  ,\n",
       "             UPC                                    Description  Unit Size  \\\n",
       " 0   01579405070              HIGH POTENCY MAXI COLLAGEN POWDER        7.0   \n",
       " 1   85023200509         Vital Proteins Collagen Peptides 10 Oz        NaN   \n",
       " 2  001618501986              NEOCELL SUPER COLLAGEN POWDR 7 OZ        NaN   \n",
       " 3   01618512990  Neocell Super Collagen Berry Lemon Ogc 6.7 Oz        NaN   \n",
       " 4   65801012457  Garden Of Life Unflav Cllagn Peptides 9.87 Oz        NaN   \n",
       " 5   85050200751     Youtheory Unflavored Collagen Powder 10 Oz        NaN   \n",
       " \n",
       "      Form   MSRP   WSP    Item  \n",
       " 0  Powder  23.99  14.4  5070.0  \n",
       " 1     NaN    NaN   NaN     NaN  \n",
       " 2     NaN    NaN   NaN     NaN  \n",
       " 3     NaN    NaN   NaN     NaN  \n",
       " 4     NaN    NaN   NaN     NaN  \n",
       " 5     NaN    NaN   NaN     NaN  ,\n",
       "             UPC                                        Description  Unit Size  \\\n",
       " 0   01579405805                                 VITAMIN D3 2500 IU      200.0   \n",
       " 1   73373900367                              Now D-3 2000iu 120 Sg        NaN   \n",
       " 2   73373900377                              Now D-3 2000iu 240 Sg        NaN   \n",
       " 3   08839501461                    Carlson Vitamin D 2000iu 120 Sg        NaN   \n",
       " 4   75395000210              Doctors Best Vitamin D3 2000iu 180 Sg        NaN   \n",
       " 5   06895801063              Natr Fac Vitamin D3 2000iu Ogc 240 Sg        NaN   \n",
       " 6   06895801053              Natr Fac Vitamin D3 2000iu Ogc 120 Sg        NaN   \n",
       " 7   74371500319                Bluebonnet Vitamin D3 2000iu 250 Sg        NaN   \n",
       " 8   01579405806                                 VITAMIN D3 1000 IU      200.0   \n",
       " 9   03398403341                         Solgar Vit D 1000iu 250 Sg        NaN   \n",
       " 10  79001130004         Jarrow, Vitamin D3, 1,000 IU, 200 Softgels        NaN   \n",
       " 11  73373900365            Now  Vitamin D-3 1,000 IU 180 Softgels         NaN   \n",
       " 12  76899001600                 Nordic Naturals D3 1000 IU 120 CT         NaN   \n",
       " 13  08839501452                      Carlson Vitamin D 1000 250 Sg        NaN   \n",
       " 14  06895801054              Natr Fac Vitamin D3 1000iu Ogc 180 Sg        NaN   \n",
       " 15  01579405808                                 VITAMIN D3 5000 IU      200.0   \n",
       " 16  03398403313                   Solgar Vitamin D3 5000iu 120 Vcp        NaN   \n",
       " 17  73373900372                   NOW VIT D3 5000MCG SFTGLS 120 CT        NaN   \n",
       " 18  75395000218             Doctor's Best; vegan D3 with Vitashine        NaN   \n",
       " 19  74371500323      Bluebonnet, Vitamin D3, 5000 IU, 250 Softgels        NaN   \n",
       " 20  74371500369                Bluebonnet Vitamin D3 5000iu 250 CP        NaN   \n",
       " 21  75395000218  Doctor's Best, Vitamin D3, 125 mcg (5,000 IU),...        NaN   \n",
       " 22  06895801056              Natr Fac Vitamin D3 5000iu Ogc 120 Sg        NaN   \n",
       " 23  06895801061              Natr Fac Vitamin D3 5000iu Ogc 240 Sg        NaN   \n",
       " 24  07628069755                Solaray Super Bio D3 5000 Iu 120 Sg        NaN   \n",
       " 25  76899001503           Nordic Naturals 5000 Iu Vitamin D 120 Sg        NaN   \n",
       " \n",
       "        Form   MSRP   WSP    Item  \n",
       " 0   Softgel  17.59   8.8  5805.0  \n",
       " 1       NaN    NaN   NaN     NaN  \n",
       " 2       NaN    NaN   NaN     NaN  \n",
       " 3       NaN    NaN   NaN     NaN  \n",
       " 4       NaN    NaN   NaN     NaN  \n",
       " 5       NaN    NaN   NaN     NaN  \n",
       " 6       NaN    NaN   NaN     NaN  \n",
       " 7       NaN    NaN   NaN     NaN  \n",
       " 8   Softgel  15.19   7.6  5806.0  \n",
       " 9       NaN    NaN   NaN     NaN  \n",
       " 10      NaN    NaN   NaN     NaN  \n",
       " 11      NaN    NaN   NaN     NaN  \n",
       " 12      NaN    NaN   NaN     NaN  \n",
       " 13      NaN    NaN   NaN     NaN  \n",
       " 14      NaN    NaN   NaN     NaN  \n",
       " 15  Softgel  21.79  10.9  5808.0  \n",
       " 16      NaN    NaN   NaN     NaN  \n",
       " 17      NaN    NaN   NaN     NaN  \n",
       " 18      NaN    NaN   NaN     NaN  \n",
       " 19      NaN    NaN   NaN     NaN  \n",
       " 20      NaN    NaN   NaN     NaN  \n",
       " 21      NaN    NaN   NaN     NaN  \n",
       " 22      NaN    NaN   NaN     NaN  \n",
       " 23      NaN    NaN   NaN     NaN  \n",
       " 24      NaN    NaN   NaN     NaN  \n",
       " 25      NaN    NaN   NaN     NaN  ,\n",
       "             UPC                                    Description  Unit Size  \\\n",
       " 0   01579406418                             COENZYME B-COMPLEX       60.0   \n",
       " 1   74371500414          Bluebonnet B-complex Coenzymes 50 Vcp        NaN   \n",
       " 2   74365000229                 Emerald Ultra B Healthy 60 Vcp        NaN   \n",
       " 3   73373900406                 Now Co Enzyme B Complex 60 Vcp        NaN   \n",
       " 4   06895801132  Natr Fac Bicoenzymtd Actv B Complex Ogc 60vcp        NaN   \n",
       " 5   75395000299     Dr Best Best Fully Active B Complex 30 Vcp        NaN   \n",
       " 6   65801011380  Garden Life Vitamin Code B Complex Ogc 60 Vcp        NaN   \n",
       " 7   65801011850      Garden Life Mykind Org B Complex Og 30 Tb        NaN   \n",
       " 8   03398400201                Solgar B Complex with vitamin C        NaN   \n",
       " 9   01579406419                             COENZYME B-COMPLEX      120.0   \n",
       " 10  74365000345         Emerald Laboratories B Healthy 120 Vcp        NaN   \n",
       " 11  74371500415         Bluebonnet B-complex Coenzymes 100 Vcp        NaN   \n",
       " 12  79001101006                         Jarrow B-right 100 Vcp        NaN   \n",
       " 13  71036357979            Irwin Naturals Mega B Complex 60 Sg        NaN   \n",
       " 14  03398401150                      SLGR B COMPLEX 100 100 CT        NaN   \n",
       " 15  65801011650  Garden Life Vit Code Raw B Complx Ogc 120 Vcp        NaN   \n",
       " 16          nan                  Divine Bounty Super B Complex        NaN   \n",
       " \n",
       "         Form   MSRP   WSP    Item  \n",
       " 0   Vegicaps  21.39  10.7  6418.0  \n",
       " 1        NaN    NaN   NaN     NaN  \n",
       " 2        NaN    NaN   NaN     NaN  \n",
       " 3        NaN    NaN   NaN     NaN  \n",
       " 4        NaN    NaN   NaN     NaN  \n",
       " 5        NaN    NaN   NaN     NaN  \n",
       " 6        NaN    NaN   NaN     NaN  \n",
       " 7        NaN    NaN   NaN     NaN  \n",
       " 8        NaN    NaN   NaN     NaN  \n",
       " 9   Vegicaps  32.19  16.1  6419.0  \n",
       " 10       NaN    NaN   NaN     NaN  \n",
       " 11       NaN    NaN   NaN     NaN  \n",
       " 12       NaN    NaN   NaN     NaN  \n",
       " 13       NaN    NaN   NaN     NaN  \n",
       " 14       NaN    NaN   NaN     NaN  \n",
       " 15       NaN    NaN   NaN     NaN  \n",
       " 16       NaN    NaN   NaN     NaN  ,\n",
       "            UPC                                      Description  Unit Size  \\\n",
       " 0  01579406507                                     BIOTIN 10 MG       60.0   \n",
       " 1  03398452387                    Solgar Biotin 10000mcg 60 Vcp        NaN   \n",
       " 2  07663590490           Superior Source Biotin 10000 Mcg 60 Tb        NaN   \n",
       " 3  02124523425    Kal Ultra Biotin 10000 Mcg Bry Activmelt 60tb        NaN   \n",
       " 4          nan  Sports Research Biotin 5000mcg with coconut oil        NaN   \n",
       " 5  01579406508                                     BIOTIN 10 MG      120.0   \n",
       " 6  04746905396                Natrol Biotin Max Strength 100 Tb        NaN   \n",
       " 7  03398452392                   Solgar Biotin 10000mcg 120 Vcp        NaN   \n",
       " 8  73373900479           Now Extra Strength Biotin 10mg 120 Vcp        NaN   \n",
       " \n",
       "        Form   MSRP   WSP    Item  \n",
       " 0  Vegicaps  21.39  10.7  6507.0  \n",
       " 1       NaN    NaN   NaN     NaN  \n",
       " 2       NaN    NaN   NaN     NaN  \n",
       " 3       NaN    NaN   NaN     NaN  \n",
       " 4       NaN    NaN   NaN     NaN  \n",
       " 5  Vegicaps  30.99  15.5  6508.0  \n",
       " 6       NaN    NaN   NaN     NaN  \n",
       " 7       NaN    NaN   NaN     NaN  \n",
       " 8       NaN    NaN   NaN     NaN  ,\n",
       "             UPC                                        Description  Unit Size  \\\n",
       " 0   01579408190                                 CORE DAILY 1 MEN'S       60.0   \n",
       " 1   03367415685              Natures Way Alive Once Daily Men 60tb        NaN   \n",
       " 2   05149410107              MegaFood, Men's One Daily, 60 Tablets        NaN   \n",
       " 3   65801011402  Garden of Life, Vitamin Code, RAW One, Once Da...        NaN   \n",
       " 4   65801011767  Garden of Life, MyKind Organics, Men's Once Da...        NaN   \n",
       " 5   02188821713            Rain Lt Vibrance Mens One Ngmo Ogc 60tb        NaN   \n",
       " 6   02188810892                   Rainbow Light Mens One Ogc 90 Tb        NaN   \n",
       " 7   07628020055         Solaray Once Daily Active Man Multi 90 Vcp        NaN   \n",
       " 8   74365000340             Emerald Labs Mens Multi Vitamin 60 Vcp        NaN   \n",
       " 9   06895835504                 Natr Fac We&s Mens Multi Ogc 60 Tb        NaN   \n",
       " 10  74371500141      Bluebonnet Mns One Whl Fd Bsd Mltpl Ogc 60vcp        NaN   \n",
       " 11  03373900215                Supernutri Simply One Men Ogc 90 Tb        NaN   \n",
       " 12  03373900223           Supernutrition One Men No Iron Ogc 90 Tb        NaN   \n",
       " 13  73373903880                              Now Foods Adam 90 cap        NaN   \n",
       " 14  74892705223                          Optimum Nutrition OptiMen        NaN   \n",
       " 15  01579408194                             CORE DAILY 1 MEN'S 50+       60.0   \n",
       " 16  03367415691         Natures Way Alive Once Daily Men 50+ 60 Tb        NaN   \n",
       " 17  65801011369           Garden of Life VitaCode 50 and wiser men        NaN   \n",
       " 18  65801011768                  Garden Life Kind Men 40+ Og 60 Tb        NaN   \n",
       " 19  65801011769          Garden Life Kind Mens 40+ Multi Og 120 Tb        NaN   \n",
       " 20  05149410269        MegaFood, Men Over 40 One Daily, 60 Tablets        NaN   \n",
       " 21  05149410355        MegaFood, Men Over 55 One Daily, 60 Tablets        NaN   \n",
       " 22  72778390127      New Chapter Every Man One Daily 55+ Ogc 48 Tb        NaN   \n",
       " 23  72778300370       New Chapter Every Mans 1 Daily 40+ Ogc 48 Tb        NaN   \n",
       " 24  74365000342         Emerald Labs Mens 45+ Multi Vitamin 60 Vcp        NaN   \n",
       " 25  06895835503         Natr Factors We&s Mens 50+ Multi Ogc 60 Tb        NaN   \n",
       " 26  03373900198  Supernutrition Simply One Men 50+ No Irn Ogc 90tb        NaN   \n",
       " 27  03373900196        Supernutrition Simply One 50+ Men Ogc 90 Tb        NaN   \n",
       " 28  03367415898                     NTWY ALIVE MENS 50 GUMMY 75 CT        NaN   \n",
       " 29  01579408192                               CORE DAILY 1 WOMEN'S       60.0   \n",
       " 30  03367415686           Natures Way Alive Once Daily Women 60 Tb        NaN   \n",
       " 31  06895835502               Natr Fac We&s Womens Multi Ogc 60 Tb        NaN   \n",
       " 32  07628051812       Solaray Once Daily Woman Multivitamin 90 Vcp        NaN   \n",
       " 33  74371500135       Bluebonnet Ladies One Fb Multiple Ogc 60 Vcp        NaN   \n",
       " 34  65801011776        Garden Life Kind Womens Once Daily Og 60 Tb        NaN   \n",
       " 35  65801011403  Garden of Life, Vitamin Code, RAW One, Once Da...        NaN   \n",
       " 36  72778300307          New Chapter Every Woman 1 Daily Ogc 48 Tb        NaN   \n",
       " 37  05149410104                Megafood Womens One Daily Ogc 60 Tb        NaN   \n",
       " 38  74365000341          Emerald Labs One A Day Womens Multi 60 Cp        NaN   \n",
       " 39  02188821703         Rain Lt Vibrance Womens One Ngmo Ogc 60 Tb        NaN   \n",
       " 40  02188810882                 Rainbow Light Womens One Ogc 90 Tb        NaN   \n",
       " 41  03373900213              Supernutri Simply One Women Ogc 90 Tb        NaN   \n",
       " 42  85135600483  Smarty Pants Daily Organic Gummy Women’s Multi...        NaN   \n",
       " 43  74892702450                        Optimum Nutrition OptiWomen        NaN   \n",
       " 44  01579408196                           CORE DAILY 1 WOMEN'S 50+       60.0   \n",
       " 45  03367415692       Natures Way Alive Once Daily 50+ Women 60 Tb        NaN   \n",
       " 46  06895835501           Natr Fac We&s Womens 50+ Multi Ogc 60 Tb        NaN   \n",
       " 47  65801011777               Garden Life Kind Womens 40+ Og 60 Tb        NaN   \n",
       " 48  65801011778        Garden Life Kind Womens 40+ Multi Og 120 Tb        NaN   \n",
       " 49  72778300366      New Chapter Everywomans 1 Daily 40+ Ogc 48 Tb        NaN   \n",
       " 50  72778390124      New Chapter Every Woman One Daily 55 Ogc 48tb        NaN   \n",
       " 51  05149410266         Megafood Women Over 40 One Daily Ogc 60 Tb        NaN   \n",
       " 52  05149410352      MegaFood, Women Over 55 One Daily, 60 Tablets        NaN   \n",
       " 53  74365000343       Emerald Labs Womens 45+ Multi Vitamin 60 Vcp        NaN   \n",
       " 54  03373900228         Supernutrition Women 50+ No Iron Ogc 90 Tb        NaN   \n",
       " 55  03373900200          Supernutri Simply One 50+ Women Ogc 90 Tb        NaN   \n",
       " 56  81176202147      Nutrigold Womens 55 Plus Multi Gold Og 90 Vcp        NaN   \n",
       " 57  65801011369         Garden of Life VitaCode 50 and wiser women        NaN   \n",
       " 58          nan                         SmartyPants Womens Masters        NaN   \n",
       " \n",
       "       Form   MSRP   WSP    Item  \n",
       " 0   Tablet  24.59  12.3  8190.0  \n",
       " 1      NaN    NaN   NaN     NaN  \n",
       " 2      NaN    NaN   NaN     NaN  \n",
       " 3      NaN    NaN   NaN     NaN  \n",
       " 4      NaN    NaN   NaN     NaN  \n",
       " 5      NaN    NaN   NaN     NaN  \n",
       " 6      NaN    NaN   NaN     NaN  \n",
       " 7      NaN    NaN   NaN     NaN  \n",
       " 8      NaN    NaN   NaN     NaN  \n",
       " 9      NaN    NaN   NaN     NaN  \n",
       " 10     NaN    NaN   NaN     NaN  \n",
       " 11     NaN    NaN   NaN     NaN  \n",
       " 12     NaN    NaN   NaN     NaN  \n",
       " 13     NaN    NaN   NaN     NaN  \n",
       " 14     NaN    NaN   NaN     NaN  \n",
       " 15  Tablet  34.39  17.2  8194.0  \n",
       " 16     NaN    NaN   NaN     NaN  \n",
       " 17     NaN    NaN   NaN     NaN  \n",
       " 18     NaN    NaN   NaN     NaN  \n",
       " 19     NaN    NaN   NaN     NaN  \n",
       " 20     NaN    NaN   NaN     NaN  \n",
       " 21     NaN    NaN   NaN     NaN  \n",
       " 22     NaN    NaN   NaN     NaN  \n",
       " 23     NaN    NaN   NaN     NaN  \n",
       " 24     NaN    NaN   NaN     NaN  \n",
       " 25     NaN    NaN   NaN     NaN  \n",
       " 26     NaN    NaN   NaN     NaN  \n",
       " 27     NaN    NaN   NaN     NaN  \n",
       " 28     NaN    NaN   NaN     NaN  \n",
       " 29  Tablet  24.59  12.3  8192.0  \n",
       " 30     NaN    NaN   NaN     NaN  \n",
       " 31     NaN    NaN   NaN     NaN  \n",
       " 32     NaN    NaN   NaN     NaN  \n",
       " 33     NaN    NaN   NaN     NaN  \n",
       " 34     NaN    NaN   NaN     NaN  \n",
       " 35     NaN    NaN   NaN     NaN  \n",
       " 36     NaN    NaN   NaN     NaN  \n",
       " 37     NaN    NaN   NaN     NaN  \n",
       " 38     NaN    NaN   NaN     NaN  \n",
       " 39     NaN    NaN   NaN     NaN  \n",
       " 40     NaN    NaN   NaN     NaN  \n",
       " 41     NaN    NaN   NaN     NaN  \n",
       " 42     NaN    NaN   NaN     NaN  \n",
       " 43     NaN    NaN   NaN     NaN  \n",
       " 44  Tablet  34.39  17.2  8196.0  \n",
       " 45     NaN    NaN   NaN     NaN  \n",
       " 46     NaN    NaN   NaN     NaN  \n",
       " 47     NaN    NaN   NaN     NaN  \n",
       " 48     NaN    NaN   NaN     NaN  \n",
       " 49     NaN    NaN   NaN     NaN  \n",
       " 50     NaN    NaN   NaN     NaN  \n",
       " 51     NaN    NaN   NaN     NaN  \n",
       " 52     NaN    NaN   NaN     NaN  \n",
       " 53     NaN    NaN   NaN     NaN  \n",
       " 54     NaN    NaN   NaN     NaN  \n",
       " 55     NaN    NaN   NaN     NaN  \n",
       " 56     NaN    NaN   NaN     NaN  \n",
       " 57     NaN    NaN   NaN     NaN  \n",
       " 58     NaN    NaN   NaN     NaN  ,\n",
       "            UPC                                   Description  Unit Size  \\\n",
       " 0  01579409123                  RFO BASIC ALOE 32 OZ ORGANIC       32.0   \n",
       " 1  02639584032  Lily Aloe Vera Jce No Presrv Whl Lf Og 32 Oz        NaN   \n",
       " 2  02639583032  Lily Aloe Vera Jce No Presrv Fillet Og 32 Oz        NaN   \n",
       " 3  02639500032        Lily Aloe Vera Juice  Fillet Ogc 32 Oz        NaN   \n",
       " 4  04260847010    Lakewood Pure Whole Leaf Aloe Jce Og 32 Oz        NaN   \n",
       " 5  79592236362          Aloe Life Whl Lf Aloe Gold Ogc 32 Oz        NaN   \n",
       " 6  78928710032                   Georges Aloe Vera Jce 32 Oz        NaN   \n",
       " 7  79022310075      Dynamic Health Aloe Vera Herbal Og 32 Oz        NaN   \n",
       " 8  03367414280               Nat Way Aloe Vera Jce Ogc 34 Oz        NaN   \n",
       " 9  73373903036               Now Foods, Aloe Vera Gels 250ct        NaN   \n",
       " \n",
       "      Form   MSRP   WSP    Item  \n",
       " 0  Liquid  18.19  10.9  9123.0  \n",
       " 1     NaN    NaN   NaN     NaN  \n",
       " 2     NaN    NaN   NaN     NaN  \n",
       " 3     NaN    NaN   NaN     NaN  \n",
       " 4     NaN    NaN   NaN     NaN  \n",
       " 5     NaN    NaN   NaN     NaN  \n",
       " 6     NaN    NaN   NaN     NaN  \n",
       " 7     NaN    NaN   NaN     NaN  \n",
       " 8     NaN    NaN   NaN     NaN  \n",
       " 9     NaN    NaN   NaN     NaN  ]"
      ]
     },
     "execution_count": 81,
     "metadata": {},
     "output_type": "execute_result"
    }
   ],
   "source": [
    "def competitive_analysis_df_list(path):\n",
    "    '''Typically vendors provide an excel sheet of items they are interested in.\n",
    "    This function returns a list of data frames that contain which SKUs, provided by vendor, we are analyzing\n",
    "    prior to loading, the excel file has the vendor provided skus separated by into sheets based on the category of the supplement\n",
    "    '''\n",
    "    sheetname_list = (pd.ExcelFile(path).sheet_names)\n",
    "    sheetname_list.remove('Comp-Brands')\n",
    "    sheetname_list.remove('Sheet13')\n",
    "    sheetname_list.remove('Competitive-Item')\n",
    "    sheetname_list.remove('Sheet1')\n",
    "\n",
    "    df_list = []\n",
    "\n",
    "    for sheet in sheetname_list:\n",
    "        df = pd.read_excel(path, sheet_name = sheet, index_col=None, header = 0, dtype={'UPC': str})\n",
    "        df[\"UPC\"] = df[\"UPC\"].astype(str)\n",
    "        df[\"UPC\"] = df[\"UPC\"].apply(lambda x : x[1:] if x.startswith(\"0\") else x)\n",
    "        df[\"UPC\"] = df[\"UPC\"].apply(lambda x :x.replace('-', ''))\n",
    "        df_list.append(df)\n",
    "   # for df in df_list:\n",
    "    \n",
    "    return df_list\n",
    "\n",
    "#clean_up_item(comp_analysis_df)\n",
    "\n",
    "upc_list_path = \"/Users/GuntherUlvanget/country_life/country_life_spins/Top Sellers_Competitive.xlsx\"\n",
    "df_list = competitive_analysis_df_list(upc_list_path)\n",
    "    \n",
    "\n",
    "\n",
    "\n",
    "\n",
    "    #upc_list = [upc for upc in df2[\"UPC\"]]\n",
    "df_list    "
   ]
  },
  {
   "cell_type": "code",
   "execution_count": null,
   "metadata": {},
   "outputs": [],
   "source": [
    "#make this a function to iterate through list\n",
    "\n",
    "df2 = df_list[0]\n",
    "\n",
    "df2[\"UPC\"]= df2[\"UPC\"].apply(lambda x : x[1:] if x.startswith(\"0\") else x)\n",
    "\n",
    "df2[\"UPC\"]=df2[\"UPC\"].apply(lambda x :x.replace('-', ''))\n",
    "\n",
    "upc_list = [upc for upc in df2[\"UPC\"]]"
   ]
  },
  {
   "cell_type": "code",
   "execution_count": 47,
   "metadata": {},
   "outputs": [],
   "source": []
  },
  {
   "cell_type": "code",
   "execution_count": 70,
   "metadata": {},
   "outputs": [],
   "source": [
    "#upc_list, comp_analysis_df = get_upc_list(df_list,3)"
   ]
  },
  {
   "cell_type": "code",
   "execution_count": 56,
   "metadata": {},
   "outputs": [
    {
     "data": {
      "text/plain": [
       "['01579402474',\n",
       " '74371500683',\n",
       " '74371500682',\n",
       " '75395000025',\n",
       " '75395000087',\n",
       " '65801012280',\n",
       " '02124581209',\n",
       " '02124581109',\n",
       " '01579402475',\n",
       " '04064700437',\n",
       " '03367441051',\n",
       " '73373901283',\n",
       " '09746703360',\n",
       " '03398401710',\n",
       " '07628004630',\n",
       " '07628039151']"
      ]
     },
     "execution_count": 56,
     "metadata": {},
     "output_type": "execute_result"
    }
   ],
   "source": [
    "upc_list"
   ]
  },
  {
   "cell_type": "code",
   "execution_count": 29,
   "metadata": {},
   "outputs": [],
   "source": [
    "# melt_c_df = easy_melt(c_df)\n",
    "\n",
    "# melt_c_df[\"Metric\"].unique()\n",
    "\n",
    "# df.melt(id_vars=['UPC', \"Item\",\"Geography\", 'Subcategory'], var_name = \"Metric\" , value_name='amount')\n",
    "\n",
    "# subset_for_boxplots(melt_c_df)"
   ]
  },
  {
   "cell_type": "code",
   "execution_count": null,
   "metadata": {},
   "outputs": [],
   "source": []
  },
  {
   "cell_type": "code",
   "execution_count": 72,
   "metadata": {},
   "outputs": [
    {
     "data": {
      "text/html": [
       "<div>\n",
       "<style scoped>\n",
       "    .dataframe tbody tr th:only-of-type {\n",
       "        vertical-align: middle;\n",
       "    }\n",
       "\n",
       "    .dataframe tbody tr th {\n",
       "        vertical-align: top;\n",
       "    }\n",
       "\n",
       "    .dataframe thead th {\n",
       "        text-align: right;\n",
       "    }\n",
       "</style>\n",
       "<table border=\"1\" class=\"dataframe\">\n",
       "  <thead>\n",
       "    <tr style=\"text-align: right;\">\n",
       "      <th></th>\n",
       "      <th>index</th>\n",
       "      <th>UPC</th>\n",
       "      <th>Item</th>\n",
       "      <th>Geography</th>\n",
       "      <th>Brand</th>\n",
       "      <th>Subcategory</th>\n",
       "      <th>ARP</th>\n",
       "      <th>Units, Promo</th>\n",
       "      <th>Units_Non_Promo</th>\n",
       "    </tr>\n",
       "  </thead>\n",
       "  <tbody>\n",
       "    <tr>\n",
       "      <th>0</th>\n",
       "      <td>27</td>\n",
       "      <td>07628039151</td>\n",
       "      <td>solaray magnesium glycnt 400 mg 120 vcp</td>\n",
       "      <td>earth fare - total us (corp)</td>\n",
       "      <td>solaray</td>\n",
       "      <td>minerals other</td>\n",
       "      <td>20.99</td>\n",
       "      <td>0.0</td>\n",
       "      <td>168.0</td>\n",
       "    </tr>\n",
       "    <tr>\n",
       "      <th>1</th>\n",
       "      <td>79</td>\n",
       "      <td>02124581209</td>\n",
       "      <td>kal magnesium glyc 400 mg 180 tb</td>\n",
       "      <td>earth fare - total us (corp)</td>\n",
       "      <td>kal</td>\n",
       "      <td>minerals other</td>\n",
       "      <td>30.04</td>\n",
       "      <td>57.0</td>\n",
       "      <td>118.0</td>\n",
       "    </tr>\n",
       "    <tr>\n",
       "      <th>2</th>\n",
       "      <td>127</td>\n",
       "      <td>02124581109</td>\n",
       "      <td>kal magnesium glycinate 90 tb</td>\n",
       "      <td>earth fare - total us (corp)</td>\n",
       "      <td>kal</td>\n",
       "      <td>minerals other</td>\n",
       "      <td>19.49</td>\n",
       "      <td>0.0</td>\n",
       "      <td>153.0</td>\n",
       "    </tr>\n",
       "    <tr>\n",
       "      <th>3</th>\n",
       "      <td>483</td>\n",
       "      <td>73373901283</td>\n",
       "      <td>now magnesium 400 mg 180 cp</td>\n",
       "      <td>earth fare - total us (corp)</td>\n",
       "      <td>now</td>\n",
       "      <td>minerals other</td>\n",
       "      <td>18.03</td>\n",
       "      <td>24.0</td>\n",
       "      <td>89.0</td>\n",
       "    </tr>\n",
       "    <tr>\n",
       "      <th>4</th>\n",
       "      <td>504</td>\n",
       "      <td>04064700437</td>\n",
       "      <td>nat life magnesium w/b-6 100 cp</td>\n",
       "      <td>earth fare - total us (corp)</td>\n",
       "      <td>natures life</td>\n",
       "      <td>minerals other</td>\n",
       "      <td>11.99</td>\n",
       "      <td>0.0</td>\n",
       "      <td>187.0</td>\n",
       "    </tr>\n",
       "    <tr>\n",
       "      <th>...</th>\n",
       "      <td>...</td>\n",
       "      <td>...</td>\n",
       "      <td>...</td>\n",
       "      <td>...</td>\n",
       "      <td>...</td>\n",
       "      <td>...</td>\n",
       "      <td>...</td>\n",
       "      <td>...</td>\n",
       "      <td>...</td>\n",
       "    </tr>\n",
       "    <tr>\n",
       "      <th>305</th>\n",
       "      <td>212467</td>\n",
       "      <td>03367441051</td>\n",
       "      <td>nat way magnesium 500 mg 100 cp</td>\n",
       "      <td>sprouts farmers market - total us w/o pl (corp)</td>\n",
       "      <td>natures way</td>\n",
       "      <td>minerals other</td>\n",
       "      <td>9.36</td>\n",
       "      <td>2451.0</td>\n",
       "      <td>4350.0</td>\n",
       "    </tr>\n",
       "    <tr>\n",
       "      <th>306</th>\n",
       "      <td>212472</td>\n",
       "      <td>75395000025</td>\n",
       "      <td>dr best magnesium 120 tb</td>\n",
       "      <td>sprouts farmers market - total us w/o pl (corp)</td>\n",
       "      <td>doctors best</td>\n",
       "      <td>minerals other</td>\n",
       "      <td>15.72</td>\n",
       "      <td>1153.0</td>\n",
       "      <td>5854.0</td>\n",
       "    </tr>\n",
       "    <tr>\n",
       "      <th>307</th>\n",
       "      <td>212524</td>\n",
       "      <td>01579402474</td>\n",
       "      <td>country life magnesium 300 mg 60 vcp</td>\n",
       "      <td>sprouts farmers market - total us w/o pl (corp)</td>\n",
       "      <td>country life</td>\n",
       "      <td>minerals other</td>\n",
       "      <td>7.93</td>\n",
       "      <td>2611.0</td>\n",
       "      <td>3529.0</td>\n",
       "    </tr>\n",
       "    <tr>\n",
       "      <th>309</th>\n",
       "      <td>213023</td>\n",
       "      <td>65801012280</td>\n",
       "      <td>garden life dr form mgnsm rsp lmn ogc 14.9oz</td>\n",
       "      <td>sprouts farmers market - total us w/o pl (corp)</td>\n",
       "      <td>garden of life</td>\n",
       "      <td>minerals other</td>\n",
       "      <td>33.04</td>\n",
       "      <td>535.0</td>\n",
       "      <td>357.0</td>\n",
       "    </tr>\n",
       "    <tr>\n",
       "      <th>310</th>\n",
       "      <td>213759</td>\n",
       "      <td>03398401710</td>\n",
       "      <td>solgar magnesium citrate 60tb</td>\n",
       "      <td>sprouts farmers market - total us w/o pl (corp)</td>\n",
       "      <td>solgar</td>\n",
       "      <td>minerals other</td>\n",
       "      <td>7.93</td>\n",
       "      <td>899.0</td>\n",
       "      <td>1033.0</td>\n",
       "    </tr>\n",
       "  </tbody>\n",
       "</table>\n",
       "<p>296 rows × 9 columns</p>\n",
       "</div>"
      ],
      "text/plain": [
       "      index          UPC                                          Item  \\\n",
       "0        27  07628039151       solaray magnesium glycnt 400 mg 120 vcp   \n",
       "1        79  02124581209              kal magnesium glyc 400 mg 180 tb   \n",
       "2       127  02124581109                 kal magnesium glycinate 90 tb   \n",
       "3       483  73373901283                   now magnesium 400 mg 180 cp   \n",
       "4       504  04064700437               nat life magnesium w/b-6 100 cp   \n",
       "..      ...          ...                                           ...   \n",
       "305  212467  03367441051               nat way magnesium 500 mg 100 cp   \n",
       "306  212472  75395000025                      dr best magnesium 120 tb   \n",
       "307  212524  01579402474          country life magnesium 300 mg 60 vcp   \n",
       "309  213023  65801012280  garden life dr form mgnsm rsp lmn ogc 14.9oz   \n",
       "310  213759  03398401710                 solgar magnesium citrate 60tb   \n",
       "\n",
       "                                           Geography           Brand  \\\n",
       "0                       earth fare - total us (corp)         solaray   \n",
       "1                       earth fare - total us (corp)             kal   \n",
       "2                       earth fare - total us (corp)             kal   \n",
       "3                       earth fare - total us (corp)             now   \n",
       "4                       earth fare - total us (corp)    natures life   \n",
       "..                                               ...             ...   \n",
       "305  sprouts farmers market - total us w/o pl (corp)     natures way   \n",
       "306  sprouts farmers market - total us w/o pl (corp)    doctors best   \n",
       "307  sprouts farmers market - total us w/o pl (corp)    country life   \n",
       "309  sprouts farmers market - total us w/o pl (corp)  garden of life   \n",
       "310  sprouts farmers market - total us w/o pl (corp)          solgar   \n",
       "\n",
       "        Subcategory    ARP  Units, Promo  Units_Non_Promo  \n",
       "0    minerals other  20.99           0.0            168.0  \n",
       "1    minerals other  30.04          57.0            118.0  \n",
       "2    minerals other  19.49           0.0            153.0  \n",
       "3    minerals other  18.03          24.0             89.0  \n",
       "4    minerals other  11.99           0.0            187.0  \n",
       "..              ...    ...           ...              ...  \n",
       "305  minerals other   9.36        2451.0           4350.0  \n",
       "306  minerals other  15.72        1153.0           5854.0  \n",
       "307  minerals other   7.93        2611.0           3529.0  \n",
       "309  minerals other  33.04         535.0            357.0  \n",
       "310  minerals other   7.93         899.0           1033.0  \n",
       "\n",
       "[296 rows x 9 columns]"
      ]
     },
     "execution_count": 72,
     "metadata": {},
     "output_type": "execute_result"
    }
   ],
   "source": [
    "competition_skus(upc_list, comp_analysis_df)"
   ]
  },
  {
   "cell_type": "code",
   "execution_count": 73,
   "metadata": {},
   "outputs": [],
   "source": [
    "c_df = competition_skus(upc_list,comp_analysis_df )\n"
   ]
  },
  {
   "cell_type": "code",
   "execution_count": 74,
   "metadata": {},
   "outputs": [
    {
     "data": {
      "application/vnd.plotly.v1+json": {
       "config": {
        "plotlyServerURL": "https://plot.ly"
       },
       "data": [
        {
         "alignmentgroup": "True",
         "boxpoints": "all",
         "hovertemplate": "Brand=solaray<br>Item=%{x}<br>ARP=%{y}<extra></extra>",
         "legendgroup": "solaray",
         "marker": {
          "color": "#636efa"
         },
         "name": "solaray",
         "notched": false,
         "offsetgroup": "solaray",
         "orientation": "v",
         "showlegend": true,
         "type": "box",
         "x": [
          "solaray magnesium glycnt 400 mg 120 vcp",
          "solaray magnesium 200 mg 100 cp",
          "solaray magnesium glycnt 400 mg 120 vcp",
          "solaray magnesium 200 mg 100 cp",
          "solaray magnesium glycnt 400 mg 120 vcp",
          "solaray magnesium 200 mg 100 cp",
          "solaray magnesium glycnt 400 mg 120 vcp",
          "solaray magnesium 200 mg 100 cp",
          "solaray magnesium glycnt 400 mg 120 vcp",
          "solaray magnesium 200 mg 100 cp",
          "solaray magnesium glycnt 400 mg 120 vcp",
          "solaray magnesium glycnt 400 mg 120 vcp",
          "solaray magnesium 200 mg 100 cp",
          "solaray magnesium glycnt 400 mg 120 vcp",
          "solaray magnesium 200 mg 100 cp",
          "solaray magnesium glycnt 400 mg 120 vcp",
          "solaray magnesium 200 mg 100 cp",
          "solaray magnesium glycnt 400 mg 120 vcp",
          "solaray magnesium 200 mg 100 cp",
          "solaray magnesium glycnt 400 mg 120 vcp",
          "solaray magnesium 200 mg 100 cp",
          "solaray magnesium glycnt 400 mg 120 vcp",
          "solaray magnesium glycnt 400 mg 120 vcp",
          "solaray magnesium 200 mg 100 cp",
          "solaray magnesium glycnt 400 mg 120 vcp",
          "solaray magnesium 200 mg 100 cp",
          "solaray magnesium glycnt 400 mg 120 vcp",
          "solaray magnesium 200 mg 100 cp",
          "solaray magnesium glycnt 400 mg 120 vcp",
          "solaray magnesium 200 mg 100 cp",
          "solaray magnesium glycnt 400 mg 120 vcp",
          "solaray magnesium 200 mg 100 cp",
          "solaray magnesium glycnt 400 mg 120 vcp",
          "solaray magnesium 200 mg 100 cp",
          "solaray magnesium glycnt 400 mg 120 vcp",
          "solaray magnesium 200 mg 100 cp",
          "solaray magnesium glycnt 400 mg 120 vcp",
          "solaray magnesium 200 mg 100 cp",
          "solaray magnesium glycnt 400 mg 120 vcp",
          "solaray magnesium 200 mg 100 cp",
          "solaray magnesium glycnt 400 mg 120 vcp",
          "solaray magnesium 200 mg 100 cp",
          "solaray magnesium glycnt 400 mg 120 vcp",
          "solaray magnesium 200 mg 100 cp",
          "solaray magnesium glycnt 400 mg 120 vcp",
          "solaray magnesium glycnt 400 mg 120 vcp",
          "solaray magnesium 200 mg 100 cp"
         ],
         "x0": " ",
         "xaxis": "x",
         "y": [
          20.99,
          12.99,
          20.99,
          12.99,
          20.99,
          12.99,
          15.03,
          9.47,
          13.94,
          9.49,
          17.59,
          15.22,
          10.73,
          18.86,
          11.51,
          11.36,
          10.14,
          15.19,
          10.08,
          14.89,
          10.08,
          20.06,
          14.21,
          9.61,
          15.92,
          11.87,
          15.37,
          10.72,
          14.05,
          9.13,
          12.52,
          9.13,
          17.93,
          9.65,
          16.19,
          9.5,
          14.69,
          10.64,
          15.22,
          9.75,
          16.23,
          10.73,
          13.28,
          9.7,
          15.98,
          14.72,
          10.41
         ],
         "y0": " ",
         "yaxis": "y"
        },
        {
         "alignmentgroup": "True",
         "boxpoints": "all",
         "hovertemplate": "Brand=kal<br>Item=%{x}<br>ARP=%{y}<extra></extra>",
         "legendgroup": "kal",
         "marker": {
          "color": "#EF553B"
         },
         "name": "kal",
         "notched": false,
         "offsetgroup": "kal",
         "orientation": "v",
         "showlegend": true,
         "type": "box",
         "x": [
          "kal magnesium glyc 400 mg 180 tb",
          "kal magnesium glycinate 90 tb",
          "kal magnesium glyc 400 mg 180 tb",
          "kal magnesium glycinate 90 tb",
          "kal magnesium glyc 400 mg 180 tb",
          "kal magnesium glycinate 90 tb",
          "kal magnesium glyc 400 mg 180 tb",
          "kal magnesium glycinate 90 tb",
          "kal magnesium glyc 400 mg 180 tb",
          "kal magnesium glycinate 90 tb",
          "kal magnesium glyc 400 mg 180 tb",
          "kal magnesium glycinate 90 tb",
          "kal magnesium glyc 400 mg 180 tb",
          "kal magnesium glycinate 90 tb",
          "kal magnesium glyc 400 mg 180 tb",
          "kal magnesium glycinate 90 tb",
          "kal magnesium glyc 400 mg 180 tb",
          "kal magnesium glycinate 90 tb",
          "kal magnesium glyc 400 mg 180 tb",
          "kal magnesium glycinate 90 tb",
          "kal magnesium glyc 400 mg 180 tb",
          "kal magnesium glycinate 90 tb",
          "kal magnesium glyc 400 mg 180 tb",
          "kal magnesium glycinate 90 tb",
          "kal magnesium glyc 400 mg 180 tb",
          "kal magnesium glycinate 90 tb",
          "kal magnesium glyc 400 mg 180 tb",
          "kal magnesium glycinate 90 tb",
          "kal magnesium glyc 400 mg 180 tb",
          "kal magnesium glycinate 90 tb",
          "kal magnesium glyc 400 mg 180 tb",
          "kal magnesium glycinate 90 tb",
          "kal magnesium glyc 400 mg 180 tb",
          "kal magnesium glycinate 90 tb",
          "kal magnesium glyc 400 mg 180 tb",
          "kal magnesium glycinate 90 tb",
          "kal magnesium glyc 400 mg 180 tb",
          "kal magnesium glycinate 90 tb",
          "kal magnesium glyc 400 mg 180 tb",
          "kal magnesium glycinate 90 tb",
          "kal magnesium glyc 400 mg 180 tb",
          "kal magnesium glycinate 90 tb",
          "kal magnesium glyc 400 mg 180 tb",
          "kal magnesium glycinate 90 tb",
          "kal magnesium glyc 400 mg 180 tb",
          "kal magnesium glycinate 90 tb",
          "kal magnesium glycinate 90 tb",
          "kal magnesium glyc 400 mg 180 tb",
          "kal magnesium glycinate 90 tb"
         ],
         "x0": " ",
         "xaxis": "x",
         "y": [
          30.04,
          19.49,
          32.62,
          19.49,
          29.86,
          19.49,
          24.91,
          14.74,
          23.08,
          13.83,
          29.78,
          17.62,
          23.48,
          14,
          32.99,
          14.39,
          25.14,
          11.42,
          24.74,
          14.43,
          24.19,
          14.24,
          30.19,
          18.39,
          21.86,
          15.71,
          24.72,
          14.88,
          22.25,
          13.56,
          25.31,
          13.49,
          22.53,
          12.25,
          27.36,
          14.08,
          25.36,
          15.86,
          26.77,
          13.8,
          22.61,
          14.52,
          24.83,
          14.83,
          23.1,
          12.54,
          13.99,
          29.06,
          17.55
         ],
         "y0": " ",
         "yaxis": "y"
        },
        {
         "alignmentgroup": "True",
         "boxpoints": "all",
         "hovertemplate": "Brand=now<br>Item=%{x}<br>ARP=%{y}<extra></extra>",
         "legendgroup": "now",
         "marker": {
          "color": "#00cc96"
         },
         "name": "now",
         "notched": false,
         "offsetgroup": "now",
         "orientation": "v",
         "showlegend": true,
         "type": "box",
         "x": [
          "now magnesium 400 mg 180 cp",
          "now magnesium 400 mg 180 cp",
          "now magnesium 400 mg 180 cp",
          "now magnesium 400 mg 180 cp",
          "now magnesium 400 mg 180 cp",
          "now magnesium 400 mg 180 cp",
          "now magnesium 400 mg 180 cp",
          "now magnesium 400 mg 180 cp",
          "now magnesium 400 mg 180 cp",
          "now magnesium 400 mg 180 cp",
          "now magnesium 400 mg 180 cp",
          "now magnesium 400 mg 180 cp",
          "now magnesium 400 mg 180 cp",
          "now magnesium 400 mg 180 cp",
          "now magnesium 400 mg 180 cp",
          "now magnesium 400 mg 180 cp",
          "now magnesium 400 mg 180 cp",
          "now magnesium 400 mg 180 cp",
          "now magnesium 400 mg 180 cp",
          "now magnesium 400 mg 180 cp",
          "now magnesium 400 mg 180 cp",
          "now magnesium 400 mg 180 cp",
          "now magnesium 400 mg 180 cp"
         ],
         "x0": " ",
         "xaxis": "x",
         "y": [
          18.03,
          18.36,
          17.94,
          13.2,
          13.1,
          15.35,
          14.21,
          15.71,
          15,
          18.34,
          10.25,
          17.26,
          15.42,
          17.14,
          14.41,
          13.07,
          14.98,
          14.95,
          13.7,
          16.91,
          14.58,
          14.96,
          15.34
         ],
         "y0": " ",
         "yaxis": "y"
        },
        {
         "alignmentgroup": "True",
         "boxpoints": "all",
         "hovertemplate": "Brand=natures life<br>Item=%{x}<br>ARP=%{y}<extra></extra>",
         "legendgroup": "natures life",
         "marker": {
          "color": "#ab63fa"
         },
         "name": "natures life",
         "notched": false,
         "offsetgroup": "natures life",
         "orientation": "v",
         "showlegend": true,
         "type": "box",
         "x": [
          "nat life magnesium w/b-6 100 cp",
          "nat life magnesium w/b-6 100 cp",
          "nat life magnesium w/b-6 100 cp",
          "nat life magnesium w/b-6 100 cp",
          "nat life magnesium w/b-6 100 cp",
          "nat life magnesium w/b-6 100 cp",
          "nat life magnesium w/b-6 100 cp",
          "nat life magnesium w/b-6 100 cp",
          "nat life magnesium w/b-6 100 cp",
          "nat life magnesium w/b-6 100 cp",
          "nat life magnesium w/b-6 100 cp",
          "nat life magnesium w/b-6 100 cp",
          "nat life magnesium w/b-6 100 cp",
          "nat life magnesium w/b-6 100 cp",
          "nat life magnesium w/b-6 100 cp",
          "nat life magnesium w/b-6 100 cp",
          "nat life magnesium w/b-6 100 cp",
          "nat life magnesium w/b-6 100 cp",
          "nat life magnesium w/b-6 100 cp",
          "nat life magnesium w/b-6 100 cp",
          "nat life magnesium w/b-6 100 cp",
          "nat life magnesium w/b-6 100 cp",
          "nat life magnesium w/b-6 100 cp"
         ],
         "x0": " ",
         "xaxis": "x",
         "y": [
          11.99,
          11.99,
          11.99,
          8.97,
          8.91,
          9.82,
          9.99,
          8.16,
          10.48,
          10.2,
          11.04,
          9.61,
          11.91,
          10.61,
          10.17,
          7.99,
          9.98,
          11.45,
          10.77,
          9.48,
          10.49,
          11.55,
          10.98
         ],
         "y0": " ",
         "yaxis": "y"
        },
        {
         "alignmentgroup": "True",
         "boxpoints": "all",
         "hovertemplate": "Brand=natures way<br>Item=%{x}<br>ARP=%{y}<extra></extra>",
         "legendgroup": "natures way",
         "marker": {
          "color": "#FFA15A"
         },
         "name": "natures way",
         "notched": false,
         "offsetgroup": "natures way",
         "orientation": "v",
         "showlegend": true,
         "type": "box",
         "x": [
          "nat way magnesium 500 mg 100 cp",
          "nat way magnesium 500 mg 100 cp",
          "nat way magnesium 500 mg 100 cp",
          "nat way magnesium 500 mg 100 cp",
          "nat way magnesium 500 mg 100 cp",
          "nat way magnesium 500 mg 100 cp",
          "nat way magnesium 500 mg 100 cp",
          "nat way magnesium 500 mg 100 cp",
          "nat way magnesium 500 mg 100 cp",
          "nat way magnesium 500 mg 100 cp",
          "nat way magnesium 500 mg 100 cp",
          "nat way magnesium 500 mg 100 cp",
          "nat way magnesium 500 mg 100 cp",
          "nat way magnesium 500 mg 100 cp",
          "nat way magnesium 500 mg 100 cp",
          "nat way magnesium 500 mg 100 cp",
          "nat way magnesium 500 mg 100 cp",
          "nat way magnesium 500 mg 100 cp",
          "nat way magnesium 500 mg 100 cp",
          "nat way magnesium 500 mg 100 cp",
          "nat way magnesium 500 mg 100 cp",
          "nat way magnesium 500 mg 100 cp"
         ],
         "x0": " ",
         "xaxis": "x",
         "y": [
          9.98,
          9.99,
          9.98,
          7.35,
          8.36,
          8.99,
          6.86,
          8.53,
          7.99,
          9.99,
          7.93,
          8.53,
          8.32,
          9.11,
          7.57,
          7.48,
          8.25,
          7.98,
          7.97,
          7.99,
          10.51,
          9.36
         ],
         "y0": " ",
         "yaxis": "y"
        },
        {
         "alignmentgroup": "True",
         "boxpoints": "all",
         "hovertemplate": "Brand=country life<br>Item=%{x}<br>ARP=%{y}<extra></extra>",
         "legendgroup": "country life",
         "marker": {
          "color": "#19d3f3"
         },
         "name": "country life",
         "notched": false,
         "offsetgroup": "country life",
         "orientation": "v",
         "showlegend": true,
         "type": "box",
         "x": [
          "country life magnesium 300 mg 120 vcp",
          "country life magnesium 300 mg 120 vcp",
          "country life magnesium 300 mg 120 vcp",
          "country life magnesium 300 mg 120 vcp",
          "country life magnesium 300 mg 60 vcp",
          "country life magnesium 300 mg 120 vcp",
          "country life magnesium 300 mg 60 vcp",
          "country life magnesium 300 mg 120 vcp",
          "country life magnesium 300 mg 60 vcp",
          "country life magnesium 300 mg 120 vcp",
          "country life magnesium 300 mg 60 vcp",
          "country life magnesium 300 mg 120 vcp",
          "country life magnesium 300 mg 60 vcp",
          "country life magnesium 300 mg 120 vcp",
          "country life magnesium 300 mg 60 vcp",
          "country life magnesium 300 mg 120 vcp",
          "country life magnesium 300 mg 60 vcp",
          "country life magnesium 300 mg 60 vcp",
          "country life magnesium 300 mg 120 vcp",
          "country life magnesium 300 mg 60 vcp",
          "country life magnesium 300 mg 120 vcp",
          "country life magnesium 300 mg 60 vcp",
          "country life magnesium 300 mg 120 vcp",
          "country life magnesium 300 mg 60 vcp",
          "country life magnesium 300 mg 120 vcp",
          "country life magnesium 300 mg 60 vcp",
          "country life magnesium 300 mg 120 vcp",
          "country life magnesium 300 mg 60 vcp",
          "country life magnesium 300 mg 120 vcp",
          "country life magnesium 300 mg 60 vcp",
          "country life magnesium 300 mg 120 vcp",
          "country life magnesium 300 mg 60 vcp",
          "country life magnesium 300 mg 120 vcp",
          "country life magnesium 300 mg 60 vcp",
          "country life magnesium 300 mg 120 vcp",
          "country life magnesium 300 mg 60 vcp",
          "country life magnesium 300 mg 120 vcp",
          "country life magnesium 300 mg 60 vcp",
          "country life magnesium 300 mg 120 vcp",
          "country life magnesium 300 mg 60 vcp",
          "country life magnesium 300 mg 120 vcp",
          "country life magnesium 300 mg 60 vcp"
         ],
         "x0": " ",
         "xaxis": "x",
         "y": [
          18.39,
          18.39,
          18.39,
          14.93,
          8.15,
          14.24,
          10.21,
          17.62,
          8.46,
          15.04,
          7.45,
          11.54,
          8.56,
          14.39,
          8.35,
          14.39,
          10.39,
          8.7,
          15.07,
          8.54,
          14.45,
          8.32,
          14.79,
          8.87,
          14.07,
          7.93,
          14.07,
          8.45,
          14.88,
          8.18,
          14.34,
          8.39,
          14.31,
          8.37,
          14.76,
          8.53,
          14.53,
          8.12,
          14.18,
          10.12,
          18.65,
          7.93
         ],
         "y0": " ",
         "yaxis": "y"
        },
        {
         "alignmentgroup": "True",
         "boxpoints": "all",
         "hovertemplate": "Brand=solgar<br>Item=%{x}<br>ARP=%{y}<extra></extra>",
         "legendgroup": "solgar",
         "marker": {
          "color": "#FF6692"
         },
         "name": "solgar",
         "notched": false,
         "offsetgroup": "solgar",
         "orientation": "v",
         "showlegend": true,
         "type": "box",
         "x": [
          "solgar magnesium citrate 60tb",
          "solgar magnesium citrate 60tb",
          "solgar magnesium citrate 60tb",
          "solgar magnesium citrate 60tb",
          "solgar magnesium citrate 60tb",
          "solgar magnesium citrate 60tb",
          "solgar magnesium citrate 60tb",
          "solgar magnesium citrate 60tb",
          "solgar magnesium citrate 60tb",
          "solgar magnesium citrate 60tb",
          "solgar magnesium citrate 60tb",
          "solgar magnesium citrate 60tb",
          "solgar magnesium citrate 60tb",
          "solgar magnesium citrate 60tb",
          "solgar magnesium citrate 60tb",
          "solgar magnesium citrate 60tb",
          "solgar magnesium citrate 60tb",
          "solgar magnesium citrate 60tb",
          "solgar magnesium citrate 60tb",
          "solgar magnesium citrate 60tb"
         ],
         "x0": " ",
         "xaxis": "x",
         "y": [
          10.34,
          10.12,
          10.36,
          7.34,
          7.61,
          9.78,
          8.28,
          8.99,
          6.95,
          8.44,
          8.44,
          8.55,
          7.45,
          8.62,
          9.28,
          8.84,
          8.65,
          7.89,
          8.42,
          7.93
         ],
         "y0": " ",
         "yaxis": "y"
        },
        {
         "alignmentgroup": "True",
         "boxpoints": "all",
         "hovertemplate": "Brand=doctors best<br>Item=%{x}<br>ARP=%{y}<extra></extra>",
         "legendgroup": "doctors best",
         "marker": {
          "color": "#B6E880"
         },
         "name": "doctors best",
         "notched": false,
         "offsetgroup": "doctors best",
         "orientation": "v",
         "showlegend": true,
         "type": "box",
         "x": [
          "dr best magnesium 120 tb",
          "dr best magnesium 120 tb",
          "dr best hi absorptn magngsm 1000 mg 240 tb",
          "dr best magnesium 120 tb",
          "dr best hi absorptn magngsm 1000 mg 240 tb",
          "dr best magnesium 120 tb",
          "dr best magnesium 120 tb",
          "dr best hi absorptn magngsm 1000 mg 240 tb",
          "dr best magnesium 120 tb",
          "dr best hi absorptn magngsm 1000 mg 240 tb",
          "dr best magnesium 120 tb",
          "dr best hi absorptn magngsm 1000 mg 240 tb",
          "dr best magnesium 120 tb",
          "dr best magnesium 120 tb",
          "dr best hi absorptn magngsm 1000 mg 240 tb",
          "dr best hi absorptn magngsm 1000 mg 240 tb",
          "dr best magnesium 120 tb",
          "dr best magnesium 120 tb",
          "dr best hi absorptn magngsm 1000 mg 240 tb",
          "dr best magnesium 120 tb",
          "dr best hi absorptn magngsm 1000 mg 240 tb",
          "dr best magnesium 120 tb",
          "dr best magnesium 120 tb",
          "dr best hi absorptn magngsm 1000 mg 240 tb",
          "dr best magnesium 120 tb",
          "dr best hi absorptn magngsm 1000 mg 240 tb",
          "dr best magnesium 120 tb"
         ],
         "x0": " ",
         "xaxis": "x",
         "y": [
          14.1,
          15.61,
          27.79,
          14.48,
          26.57,
          18.49,
          15.29,
          23.06,
          14.34,
          23.06,
          15.64,
          23.99,
          13.55,
          15.64,
          21.81,
          21.81,
          15.49,
          14.23,
          23.85,
          13.55,
          23.99,
          15.49,
          14.23,
          23.02,
          14.99,
          25.99,
          15.72
         ],
         "y0": " ",
         "yaxis": "y"
        },
        {
         "alignmentgroup": "True",
         "boxpoints": "all",
         "hovertemplate": "Brand=garden of life<br>Item=%{x}<br>ARP=%{y}<extra></extra>",
         "legendgroup": "garden of life",
         "marker": {
          "color": "#FF97FF"
         },
         "name": "garden of life",
         "notched": false,
         "offsetgroup": "garden of life",
         "orientation": "v",
         "showlegend": true,
         "type": "box",
         "x": [
          "garden life dr form mgnsm rsp lmn ogc 14.9oz",
          "garden life dr form mgnsm rsp lmn ogc 14.9oz",
          "garden life dr form mgnsm rsp lmn ogc 14.9oz",
          "garden life dr form mgnsm rsp lmn ogc 14.9oz",
          "garden life dr form mgnsm rsp lmn ogc 14.9oz",
          "garden life dr form mgnsm rsp lmn ogc 14.9oz",
          "garden life dr form mgnsm rsp lmn ogc 14.9oz",
          "garden life dr form mgnsm rsp lmn ogc 14.9oz",
          "garden life dr form mgnsm rsp lmn ogc 14.9oz",
          "garden life dr form mgnsm rsp lmn ogc 14.9oz",
          "garden life dr form mgnsm rsp lmn ogc 14.9oz",
          "garden life dr form mgnsm rsp lmn ogc 14.9oz",
          "garden life dr form mgnsm rsp lmn ogc 14.9oz",
          "garden life dr form mgnsm rsp lmn ogc 14.9oz",
          "garden life dr form mgnsm rsp lmn ogc 14.9oz",
          "garden life dr form mgnsm rsp lmn ogc 14.9oz",
          "garden life dr form mgnsm rsp lmn ogc 14.9oz",
          "garden life dr form mgnsm rsp lmn ogc 14.9oz"
         ],
         "x0": " ",
         "xaxis": "x",
         "y": [
          34.93,
          27.65,
          29.9,
          32.92,
          29.25,
          31.04,
          31.04,
          31.71,
          35.19,
          28.39,
          28.39,
          36.97,
          30.69,
          32.76,
          35.19,
          28.64,
          38.53,
          33.04
         ],
         "y0": " ",
         "yaxis": "y"
        },
        {
         "alignmentgroup": "True",
         "boxpoints": "all",
         "hovertemplate": "Brand=bluebonnet<br>Item=%{x}<br>ARP=%{y}<extra></extra>",
         "legendgroup": "bluebonnet",
         "marker": {
          "color": "#FECB52"
         },
         "name": "bluebonnet",
         "notched": false,
         "offsetgroup": "bluebonnet",
         "orientation": "v",
         "showlegend": true,
         "type": "box",
         "x": [
          "bluebonnet chelated magnesium 60 vcp",
          "bluebonnet chelated magnesium 120 vcp",
          "bluebonnet chelated magnesium 60 vcp",
          "bluebonnet chelated magnesium 120 vcp",
          "bluebonnet chelated magnesium 60 vcp",
          "bluebonnet chelated magnesium 120 vcp",
          "bluebonnet chelated magnesium 60 vcp",
          "bluebonnet chelated magnesium 120 vcp",
          "bluebonnet chelated magnesium 60 vcp",
          "bluebonnet chelated magnesium 60 vcp",
          "bluebonnet chelated magnesium 120 vcp",
          "bluebonnet chelated magnesium 60 vcp",
          "bluebonnet chelated magnesium 60 vcp",
          "bluebonnet chelated magnesium 60 vcp",
          "bluebonnet chelated magnesium 60 vcp",
          "bluebonnet chelated magnesium 120 vcp",
          "bluebonnet chelated magnesium 60 vcp",
          "bluebonnet chelated magnesium 120 vcp",
          "bluebonnet chelated magnesium 60 vcp",
          "bluebonnet chelated magnesium 120 vcp",
          "bluebonnet chelated magnesium 60 vcp",
          "bluebonnet chelated magnesium 60 vcp",
          "bluebonnet chelated magnesium 120 vcp"
         ],
         "x0": " ",
         "xaxis": "x",
         "y": [
          10.48,
          17.75,
          10.7,
          18.63,
          11.38,
          18.95,
          11.38,
          18.95,
          11.37,
          12.36,
          18.41,
          12.74,
          12.74,
          11.69,
          10.61,
          19.45,
          10.88,
          20.99,
          11.36,
          18.79,
          11.56,
          11.21,
          20.99
         ],
         "y0": " ",
         "yaxis": "y"
        },
        {
         "alignmentgroup": "True",
         "boxpoints": "all",
         "hovertemplate": "Brand=natures plus<br>Item=%{x}<br>ARP=%{y}<extra></extra>",
         "legendgroup": "natures plus",
         "marker": {
          "color": "#636efa"
         },
         "name": "natures plus",
         "notched": false,
         "offsetgroup": "natures plus",
         "orientation": "v",
         "showlegend": true,
         "type": "box",
         "x": [
          "nat plus magnesium 200 mg 180 tb",
          "nat plus magnesium 200 mg 180 tb"
         ],
         "x0": " ",
         "xaxis": "x",
         "y": [
          23.48,
          20.4
         ],
         "y0": " ",
         "yaxis": "y"
        }
       ],
       "layout": {
        "boxmode": "group",
        "legend": {
         "title": {
          "text": "Brand"
         },
         "tracegroupgap": 0
        },
        "template": {
         "data": {
          "bar": [
           {
            "error_x": {
             "color": "#2a3f5f"
            },
            "error_y": {
             "color": "#2a3f5f"
            },
            "marker": {
             "line": {
              "color": "#E5ECF6",
              "width": 0.5
             }
            },
            "type": "bar"
           }
          ],
          "barpolar": [
           {
            "marker": {
             "line": {
              "color": "#E5ECF6",
              "width": 0.5
             }
            },
            "type": "barpolar"
           }
          ],
          "carpet": [
           {
            "aaxis": {
             "endlinecolor": "#2a3f5f",
             "gridcolor": "white",
             "linecolor": "white",
             "minorgridcolor": "white",
             "startlinecolor": "#2a3f5f"
            },
            "baxis": {
             "endlinecolor": "#2a3f5f",
             "gridcolor": "white",
             "linecolor": "white",
             "minorgridcolor": "white",
             "startlinecolor": "#2a3f5f"
            },
            "type": "carpet"
           }
          ],
          "choropleth": [
           {
            "colorbar": {
             "outlinewidth": 0,
             "ticks": ""
            },
            "type": "choropleth"
           }
          ],
          "contour": [
           {
            "colorbar": {
             "outlinewidth": 0,
             "ticks": ""
            },
            "colorscale": [
             [
              0,
              "#0d0887"
             ],
             [
              0.1111111111111111,
              "#46039f"
             ],
             [
              0.2222222222222222,
              "#7201a8"
             ],
             [
              0.3333333333333333,
              "#9c179e"
             ],
             [
              0.4444444444444444,
              "#bd3786"
             ],
             [
              0.5555555555555556,
              "#d8576b"
             ],
             [
              0.6666666666666666,
              "#ed7953"
             ],
             [
              0.7777777777777778,
              "#fb9f3a"
             ],
             [
              0.8888888888888888,
              "#fdca26"
             ],
             [
              1,
              "#f0f921"
             ]
            ],
            "type": "contour"
           }
          ],
          "contourcarpet": [
           {
            "colorbar": {
             "outlinewidth": 0,
             "ticks": ""
            },
            "type": "contourcarpet"
           }
          ],
          "heatmap": [
           {
            "colorbar": {
             "outlinewidth": 0,
             "ticks": ""
            },
            "colorscale": [
             [
              0,
              "#0d0887"
             ],
             [
              0.1111111111111111,
              "#46039f"
             ],
             [
              0.2222222222222222,
              "#7201a8"
             ],
             [
              0.3333333333333333,
              "#9c179e"
             ],
             [
              0.4444444444444444,
              "#bd3786"
             ],
             [
              0.5555555555555556,
              "#d8576b"
             ],
             [
              0.6666666666666666,
              "#ed7953"
             ],
             [
              0.7777777777777778,
              "#fb9f3a"
             ],
             [
              0.8888888888888888,
              "#fdca26"
             ],
             [
              1,
              "#f0f921"
             ]
            ],
            "type": "heatmap"
           }
          ],
          "heatmapgl": [
           {
            "colorbar": {
             "outlinewidth": 0,
             "ticks": ""
            },
            "colorscale": [
             [
              0,
              "#0d0887"
             ],
             [
              0.1111111111111111,
              "#46039f"
             ],
             [
              0.2222222222222222,
              "#7201a8"
             ],
             [
              0.3333333333333333,
              "#9c179e"
             ],
             [
              0.4444444444444444,
              "#bd3786"
             ],
             [
              0.5555555555555556,
              "#d8576b"
             ],
             [
              0.6666666666666666,
              "#ed7953"
             ],
             [
              0.7777777777777778,
              "#fb9f3a"
             ],
             [
              0.8888888888888888,
              "#fdca26"
             ],
             [
              1,
              "#f0f921"
             ]
            ],
            "type": "heatmapgl"
           }
          ],
          "histogram": [
           {
            "marker": {
             "colorbar": {
              "outlinewidth": 0,
              "ticks": ""
             }
            },
            "type": "histogram"
           }
          ],
          "histogram2d": [
           {
            "colorbar": {
             "outlinewidth": 0,
             "ticks": ""
            },
            "colorscale": [
             [
              0,
              "#0d0887"
             ],
             [
              0.1111111111111111,
              "#46039f"
             ],
             [
              0.2222222222222222,
              "#7201a8"
             ],
             [
              0.3333333333333333,
              "#9c179e"
             ],
             [
              0.4444444444444444,
              "#bd3786"
             ],
             [
              0.5555555555555556,
              "#d8576b"
             ],
             [
              0.6666666666666666,
              "#ed7953"
             ],
             [
              0.7777777777777778,
              "#fb9f3a"
             ],
             [
              0.8888888888888888,
              "#fdca26"
             ],
             [
              1,
              "#f0f921"
             ]
            ],
            "type": "histogram2d"
           }
          ],
          "histogram2dcontour": [
           {
            "colorbar": {
             "outlinewidth": 0,
             "ticks": ""
            },
            "colorscale": [
             [
              0,
              "#0d0887"
             ],
             [
              0.1111111111111111,
              "#46039f"
             ],
             [
              0.2222222222222222,
              "#7201a8"
             ],
             [
              0.3333333333333333,
              "#9c179e"
             ],
             [
              0.4444444444444444,
              "#bd3786"
             ],
             [
              0.5555555555555556,
              "#d8576b"
             ],
             [
              0.6666666666666666,
              "#ed7953"
             ],
             [
              0.7777777777777778,
              "#fb9f3a"
             ],
             [
              0.8888888888888888,
              "#fdca26"
             ],
             [
              1,
              "#f0f921"
             ]
            ],
            "type": "histogram2dcontour"
           }
          ],
          "mesh3d": [
           {
            "colorbar": {
             "outlinewidth": 0,
             "ticks": ""
            },
            "type": "mesh3d"
           }
          ],
          "parcoords": [
           {
            "line": {
             "colorbar": {
              "outlinewidth": 0,
              "ticks": ""
             }
            },
            "type": "parcoords"
           }
          ],
          "pie": [
           {
            "automargin": true,
            "type": "pie"
           }
          ],
          "scatter": [
           {
            "marker": {
             "colorbar": {
              "outlinewidth": 0,
              "ticks": ""
             }
            },
            "type": "scatter"
           }
          ],
          "scatter3d": [
           {
            "line": {
             "colorbar": {
              "outlinewidth": 0,
              "ticks": ""
             }
            },
            "marker": {
             "colorbar": {
              "outlinewidth": 0,
              "ticks": ""
             }
            },
            "type": "scatter3d"
           }
          ],
          "scattercarpet": [
           {
            "marker": {
             "colorbar": {
              "outlinewidth": 0,
              "ticks": ""
             }
            },
            "type": "scattercarpet"
           }
          ],
          "scattergeo": [
           {
            "marker": {
             "colorbar": {
              "outlinewidth": 0,
              "ticks": ""
             }
            },
            "type": "scattergeo"
           }
          ],
          "scattergl": [
           {
            "marker": {
             "colorbar": {
              "outlinewidth": 0,
              "ticks": ""
             }
            },
            "type": "scattergl"
           }
          ],
          "scattermapbox": [
           {
            "marker": {
             "colorbar": {
              "outlinewidth": 0,
              "ticks": ""
             }
            },
            "type": "scattermapbox"
           }
          ],
          "scatterpolar": [
           {
            "marker": {
             "colorbar": {
              "outlinewidth": 0,
              "ticks": ""
             }
            },
            "type": "scatterpolar"
           }
          ],
          "scatterpolargl": [
           {
            "marker": {
             "colorbar": {
              "outlinewidth": 0,
              "ticks": ""
             }
            },
            "type": "scatterpolargl"
           }
          ],
          "scatterternary": [
           {
            "marker": {
             "colorbar": {
              "outlinewidth": 0,
              "ticks": ""
             }
            },
            "type": "scatterternary"
           }
          ],
          "surface": [
           {
            "colorbar": {
             "outlinewidth": 0,
             "ticks": ""
            },
            "colorscale": [
             [
              0,
              "#0d0887"
             ],
             [
              0.1111111111111111,
              "#46039f"
             ],
             [
              0.2222222222222222,
              "#7201a8"
             ],
             [
              0.3333333333333333,
              "#9c179e"
             ],
             [
              0.4444444444444444,
              "#bd3786"
             ],
             [
              0.5555555555555556,
              "#d8576b"
             ],
             [
              0.6666666666666666,
              "#ed7953"
             ],
             [
              0.7777777777777778,
              "#fb9f3a"
             ],
             [
              0.8888888888888888,
              "#fdca26"
             ],
             [
              1,
              "#f0f921"
             ]
            ],
            "type": "surface"
           }
          ],
          "table": [
           {
            "cells": {
             "fill": {
              "color": "#EBF0F8"
             },
             "line": {
              "color": "white"
             }
            },
            "header": {
             "fill": {
              "color": "#C8D4E3"
             },
             "line": {
              "color": "white"
             }
            },
            "type": "table"
           }
          ]
         },
         "layout": {
          "annotationdefaults": {
           "arrowcolor": "#2a3f5f",
           "arrowhead": 0,
           "arrowwidth": 1
          },
          "coloraxis": {
           "colorbar": {
            "outlinewidth": 0,
            "ticks": ""
           }
          },
          "colorscale": {
           "diverging": [
            [
             0,
             "#8e0152"
            ],
            [
             0.1,
             "#c51b7d"
            ],
            [
             0.2,
             "#de77ae"
            ],
            [
             0.3,
             "#f1b6da"
            ],
            [
             0.4,
             "#fde0ef"
            ],
            [
             0.5,
             "#f7f7f7"
            ],
            [
             0.6,
             "#e6f5d0"
            ],
            [
             0.7,
             "#b8e186"
            ],
            [
             0.8,
             "#7fbc41"
            ],
            [
             0.9,
             "#4d9221"
            ],
            [
             1,
             "#276419"
            ]
           ],
           "sequential": [
            [
             0,
             "#0d0887"
            ],
            [
             0.1111111111111111,
             "#46039f"
            ],
            [
             0.2222222222222222,
             "#7201a8"
            ],
            [
             0.3333333333333333,
             "#9c179e"
            ],
            [
             0.4444444444444444,
             "#bd3786"
            ],
            [
             0.5555555555555556,
             "#d8576b"
            ],
            [
             0.6666666666666666,
             "#ed7953"
            ],
            [
             0.7777777777777778,
             "#fb9f3a"
            ],
            [
             0.8888888888888888,
             "#fdca26"
            ],
            [
             1,
             "#f0f921"
            ]
           ],
           "sequentialminus": [
            [
             0,
             "#0d0887"
            ],
            [
             0.1111111111111111,
             "#46039f"
            ],
            [
             0.2222222222222222,
             "#7201a8"
            ],
            [
             0.3333333333333333,
             "#9c179e"
            ],
            [
             0.4444444444444444,
             "#bd3786"
            ],
            [
             0.5555555555555556,
             "#d8576b"
            ],
            [
             0.6666666666666666,
             "#ed7953"
            ],
            [
             0.7777777777777778,
             "#fb9f3a"
            ],
            [
             0.8888888888888888,
             "#fdca26"
            ],
            [
             1,
             "#f0f921"
            ]
           ]
          },
          "colorway": [
           "#636efa",
           "#EF553B",
           "#00cc96",
           "#ab63fa",
           "#FFA15A",
           "#19d3f3",
           "#FF6692",
           "#B6E880",
           "#FF97FF",
           "#FECB52"
          ],
          "font": {
           "color": "#2a3f5f"
          },
          "geo": {
           "bgcolor": "white",
           "lakecolor": "white",
           "landcolor": "#E5ECF6",
           "showlakes": true,
           "showland": true,
           "subunitcolor": "white"
          },
          "hoverlabel": {
           "align": "left"
          },
          "hovermode": "closest",
          "mapbox": {
           "style": "light"
          },
          "paper_bgcolor": "white",
          "plot_bgcolor": "#E5ECF6",
          "polar": {
           "angularaxis": {
            "gridcolor": "white",
            "linecolor": "white",
            "ticks": ""
           },
           "bgcolor": "#E5ECF6",
           "radialaxis": {
            "gridcolor": "white",
            "linecolor": "white",
            "ticks": ""
           }
          },
          "scene": {
           "xaxis": {
            "backgroundcolor": "#E5ECF6",
            "gridcolor": "white",
            "gridwidth": 2,
            "linecolor": "white",
            "showbackground": true,
            "ticks": "",
            "zerolinecolor": "white"
           },
           "yaxis": {
            "backgroundcolor": "#E5ECF6",
            "gridcolor": "white",
            "gridwidth": 2,
            "linecolor": "white",
            "showbackground": true,
            "ticks": "",
            "zerolinecolor": "white"
           },
           "zaxis": {
            "backgroundcolor": "#E5ECF6",
            "gridcolor": "white",
            "gridwidth": 2,
            "linecolor": "white",
            "showbackground": true,
            "ticks": "",
            "zerolinecolor": "white"
           }
          },
          "shapedefaults": {
           "line": {
            "color": "#2a3f5f"
           }
          },
          "ternary": {
           "aaxis": {
            "gridcolor": "white",
            "linecolor": "white",
            "ticks": ""
           },
           "baxis": {
            "gridcolor": "white",
            "linecolor": "white",
            "ticks": ""
           },
           "bgcolor": "#E5ECF6",
           "caxis": {
            "gridcolor": "white",
            "linecolor": "white",
            "ticks": ""
           }
          },
          "title": {
           "x": 0.05
          },
          "xaxis": {
           "automargin": true,
           "gridcolor": "white",
           "linecolor": "white",
           "ticks": "",
           "title": {
            "standoff": 15
           },
           "zerolinecolor": "white",
           "zerolinewidth": 2
          },
          "yaxis": {
           "automargin": true,
           "gridcolor": "white",
           "linecolor": "white",
           "ticks": "",
           "title": {
            "standoff": 15
           },
           "zerolinecolor": "white",
           "zerolinewidth": 2
          }
         }
        },
        "title": {
         "text": "magnesium"
        },
        "xaxis": {
         "anchor": "y",
         "domain": [
          0,
          1
         ],
         "title": {
          "text": "Item"
         }
        },
        "yaxis": {
         "anchor": "x",
         "domain": [
          0,
          1
         ],
         "title": {
          "text": "ARP"
         }
        }
       }
      },
      "text/html": [
       "<div>\n",
       "        \n",
       "        \n",
       "            <div id=\"de397f29-cf20-41eb-b71b-af76e128f1e5\" class=\"plotly-graph-div\" style=\"height:525px; width:100%;\"></div>\n",
       "            <script type=\"text/javascript\">\n",
       "                require([\"plotly\"], function(Plotly) {\n",
       "                    window.PLOTLYENV=window.PLOTLYENV || {};\n",
       "                    \n",
       "                if (document.getElementById(\"de397f29-cf20-41eb-b71b-af76e128f1e5\")) {\n",
       "                    Plotly.newPlot(\n",
       "                        'de397f29-cf20-41eb-b71b-af76e128f1e5',\n",
       "                        [{\"alignmentgroup\": \"True\", \"boxpoints\": \"all\", \"hovertemplate\": \"Brand=solaray<br>Item=%{x}<br>ARP=%{y}<extra></extra>\", \"legendgroup\": \"solaray\", \"marker\": {\"color\": \"#636efa\"}, \"name\": \"solaray\", \"notched\": false, \"offsetgroup\": \"solaray\", \"orientation\": \"v\", \"showlegend\": true, \"type\": \"box\", \"x\": [\"solaray magnesium glycnt 400 mg 120 vcp\", \"solaray magnesium 200 mg 100 cp\", \"solaray magnesium glycnt 400 mg 120 vcp\", \"solaray magnesium 200 mg 100 cp\", \"solaray magnesium glycnt 400 mg 120 vcp\", \"solaray magnesium 200 mg 100 cp\", \"solaray magnesium glycnt 400 mg 120 vcp\", \"solaray magnesium 200 mg 100 cp\", \"solaray magnesium glycnt 400 mg 120 vcp\", \"solaray magnesium 200 mg 100 cp\", \"solaray magnesium glycnt 400 mg 120 vcp\", \"solaray magnesium glycnt 400 mg 120 vcp\", \"solaray magnesium 200 mg 100 cp\", \"solaray magnesium glycnt 400 mg 120 vcp\", \"solaray magnesium 200 mg 100 cp\", \"solaray magnesium glycnt 400 mg 120 vcp\", \"solaray magnesium 200 mg 100 cp\", \"solaray magnesium glycnt 400 mg 120 vcp\", \"solaray magnesium 200 mg 100 cp\", \"solaray magnesium glycnt 400 mg 120 vcp\", \"solaray magnesium 200 mg 100 cp\", \"solaray magnesium glycnt 400 mg 120 vcp\", \"solaray magnesium glycnt 400 mg 120 vcp\", \"solaray magnesium 200 mg 100 cp\", \"solaray magnesium glycnt 400 mg 120 vcp\", \"solaray magnesium 200 mg 100 cp\", \"solaray magnesium glycnt 400 mg 120 vcp\", \"solaray magnesium 200 mg 100 cp\", \"solaray magnesium glycnt 400 mg 120 vcp\", \"solaray magnesium 200 mg 100 cp\", \"solaray magnesium glycnt 400 mg 120 vcp\", \"solaray magnesium 200 mg 100 cp\", \"solaray magnesium glycnt 400 mg 120 vcp\", \"solaray magnesium 200 mg 100 cp\", \"solaray magnesium glycnt 400 mg 120 vcp\", \"solaray magnesium 200 mg 100 cp\", \"solaray magnesium glycnt 400 mg 120 vcp\", \"solaray magnesium 200 mg 100 cp\", \"solaray magnesium glycnt 400 mg 120 vcp\", \"solaray magnesium 200 mg 100 cp\", \"solaray magnesium glycnt 400 mg 120 vcp\", \"solaray magnesium 200 mg 100 cp\", \"solaray magnesium glycnt 400 mg 120 vcp\", \"solaray magnesium 200 mg 100 cp\", \"solaray magnesium glycnt 400 mg 120 vcp\", \"solaray magnesium glycnt 400 mg 120 vcp\", \"solaray magnesium 200 mg 100 cp\"], \"x0\": \" \", \"xaxis\": \"x\", \"y\": [20.99, 12.99, 20.99, 12.99, 20.99, 12.99, 15.03, 9.47, 13.94, 9.49, 17.59, 15.22, 10.73, 18.86, 11.51, 11.36, 10.14, 15.19, 10.08, 14.89, 10.08, 20.06, 14.21, 9.61, 15.92, 11.87, 15.37, 10.72, 14.05, 9.13, 12.52, 9.13, 17.93, 9.65, 16.19, 9.5, 14.69, 10.64, 15.22, 9.75, 16.23, 10.73, 13.28, 9.7, 15.98, 14.72, 10.41], \"y0\": \" \", \"yaxis\": \"y\"}, {\"alignmentgroup\": \"True\", \"boxpoints\": \"all\", \"hovertemplate\": \"Brand=kal<br>Item=%{x}<br>ARP=%{y}<extra></extra>\", \"legendgroup\": \"kal\", \"marker\": {\"color\": \"#EF553B\"}, \"name\": \"kal\", \"notched\": false, \"offsetgroup\": \"kal\", \"orientation\": \"v\", \"showlegend\": true, \"type\": \"box\", \"x\": [\"kal magnesium glyc 400 mg 180 tb\", \"kal magnesium glycinate 90 tb\", \"kal magnesium glyc 400 mg 180 tb\", \"kal magnesium glycinate 90 tb\", \"kal magnesium glyc 400 mg 180 tb\", \"kal magnesium glycinate 90 tb\", \"kal magnesium glyc 400 mg 180 tb\", \"kal magnesium glycinate 90 tb\", \"kal magnesium glyc 400 mg 180 tb\", \"kal magnesium glycinate 90 tb\", \"kal magnesium glyc 400 mg 180 tb\", \"kal magnesium glycinate 90 tb\", \"kal magnesium glyc 400 mg 180 tb\", \"kal magnesium glycinate 90 tb\", \"kal magnesium glyc 400 mg 180 tb\", \"kal magnesium glycinate 90 tb\", \"kal magnesium glyc 400 mg 180 tb\", \"kal magnesium glycinate 90 tb\", \"kal magnesium glyc 400 mg 180 tb\", \"kal magnesium glycinate 90 tb\", \"kal magnesium glyc 400 mg 180 tb\", \"kal magnesium glycinate 90 tb\", \"kal magnesium glyc 400 mg 180 tb\", \"kal magnesium glycinate 90 tb\", \"kal magnesium glyc 400 mg 180 tb\", \"kal magnesium glycinate 90 tb\", \"kal magnesium glyc 400 mg 180 tb\", \"kal magnesium glycinate 90 tb\", \"kal magnesium glyc 400 mg 180 tb\", \"kal magnesium glycinate 90 tb\", \"kal magnesium glyc 400 mg 180 tb\", \"kal magnesium glycinate 90 tb\", \"kal magnesium glyc 400 mg 180 tb\", \"kal magnesium glycinate 90 tb\", \"kal magnesium glyc 400 mg 180 tb\", \"kal magnesium glycinate 90 tb\", \"kal magnesium glyc 400 mg 180 tb\", \"kal magnesium glycinate 90 tb\", \"kal magnesium glyc 400 mg 180 tb\", \"kal magnesium glycinate 90 tb\", \"kal magnesium glyc 400 mg 180 tb\", \"kal magnesium glycinate 90 tb\", \"kal magnesium glyc 400 mg 180 tb\", \"kal magnesium glycinate 90 tb\", \"kal magnesium glyc 400 mg 180 tb\", \"kal magnesium glycinate 90 tb\", \"kal magnesium glycinate 90 tb\", \"kal magnesium glyc 400 mg 180 tb\", \"kal magnesium glycinate 90 tb\"], \"x0\": \" \", \"xaxis\": \"x\", \"y\": [30.04, 19.49, 32.62, 19.49, 29.86, 19.49, 24.91, 14.74, 23.08, 13.83, 29.78, 17.62, 23.48, 14.0, 32.99, 14.39, 25.14, 11.42, 24.74, 14.43, 24.19, 14.24, 30.19, 18.39, 21.86, 15.71, 24.72, 14.88, 22.25, 13.56, 25.31, 13.49, 22.53, 12.25, 27.36, 14.08, 25.36, 15.86, 26.77, 13.8, 22.61, 14.52, 24.83, 14.83, 23.1, 12.54, 13.99, 29.06, 17.55], \"y0\": \" \", \"yaxis\": \"y\"}, {\"alignmentgroup\": \"True\", \"boxpoints\": \"all\", \"hovertemplate\": \"Brand=now<br>Item=%{x}<br>ARP=%{y}<extra></extra>\", \"legendgroup\": \"now\", \"marker\": {\"color\": \"#00cc96\"}, \"name\": \"now\", \"notched\": false, \"offsetgroup\": \"now\", \"orientation\": \"v\", \"showlegend\": true, \"type\": \"box\", \"x\": [\"now magnesium 400 mg 180 cp\", \"now magnesium 400 mg 180 cp\", \"now magnesium 400 mg 180 cp\", \"now magnesium 400 mg 180 cp\", \"now magnesium 400 mg 180 cp\", \"now magnesium 400 mg 180 cp\", \"now magnesium 400 mg 180 cp\", \"now magnesium 400 mg 180 cp\", \"now magnesium 400 mg 180 cp\", \"now magnesium 400 mg 180 cp\", \"now magnesium 400 mg 180 cp\", \"now magnesium 400 mg 180 cp\", \"now magnesium 400 mg 180 cp\", \"now magnesium 400 mg 180 cp\", \"now magnesium 400 mg 180 cp\", \"now magnesium 400 mg 180 cp\", \"now magnesium 400 mg 180 cp\", \"now magnesium 400 mg 180 cp\", \"now magnesium 400 mg 180 cp\", \"now magnesium 400 mg 180 cp\", \"now magnesium 400 mg 180 cp\", \"now magnesium 400 mg 180 cp\", \"now magnesium 400 mg 180 cp\"], \"x0\": \" \", \"xaxis\": \"x\", \"y\": [18.03, 18.36, 17.94, 13.2, 13.1, 15.35, 14.21, 15.71, 15.0, 18.34, 10.25, 17.26, 15.42, 17.14, 14.41, 13.07, 14.98, 14.95, 13.7, 16.91, 14.58, 14.96, 15.34], \"y0\": \" \", \"yaxis\": \"y\"}, {\"alignmentgroup\": \"True\", \"boxpoints\": \"all\", \"hovertemplate\": \"Brand=natures life<br>Item=%{x}<br>ARP=%{y}<extra></extra>\", \"legendgroup\": \"natures life\", \"marker\": {\"color\": \"#ab63fa\"}, \"name\": \"natures life\", \"notched\": false, \"offsetgroup\": \"natures life\", \"orientation\": \"v\", \"showlegend\": true, \"type\": \"box\", \"x\": [\"nat life magnesium w/b-6 100 cp\", \"nat life magnesium w/b-6 100 cp\", \"nat life magnesium w/b-6 100 cp\", \"nat life magnesium w/b-6 100 cp\", \"nat life magnesium w/b-6 100 cp\", \"nat life magnesium w/b-6 100 cp\", \"nat life magnesium w/b-6 100 cp\", \"nat life magnesium w/b-6 100 cp\", \"nat life magnesium w/b-6 100 cp\", \"nat life magnesium w/b-6 100 cp\", \"nat life magnesium w/b-6 100 cp\", \"nat life magnesium w/b-6 100 cp\", \"nat life magnesium w/b-6 100 cp\", \"nat life magnesium w/b-6 100 cp\", \"nat life magnesium w/b-6 100 cp\", \"nat life magnesium w/b-6 100 cp\", \"nat life magnesium w/b-6 100 cp\", \"nat life magnesium w/b-6 100 cp\", \"nat life magnesium w/b-6 100 cp\", \"nat life magnesium w/b-6 100 cp\", \"nat life magnesium w/b-6 100 cp\", \"nat life magnesium w/b-6 100 cp\", \"nat life magnesium w/b-6 100 cp\"], \"x0\": \" \", \"xaxis\": \"x\", \"y\": [11.99, 11.99, 11.99, 8.97, 8.91, 9.82, 9.99, 8.16, 10.48, 10.2, 11.04, 9.61, 11.91, 10.61, 10.17, 7.99, 9.98, 11.45, 10.77, 9.48, 10.49, 11.55, 10.98], \"y0\": \" \", \"yaxis\": \"y\"}, {\"alignmentgroup\": \"True\", \"boxpoints\": \"all\", \"hovertemplate\": \"Brand=natures way<br>Item=%{x}<br>ARP=%{y}<extra></extra>\", \"legendgroup\": \"natures way\", \"marker\": {\"color\": \"#FFA15A\"}, \"name\": \"natures way\", \"notched\": false, \"offsetgroup\": \"natures way\", \"orientation\": \"v\", \"showlegend\": true, \"type\": \"box\", \"x\": [\"nat way magnesium 500 mg 100 cp\", \"nat way magnesium 500 mg 100 cp\", \"nat way magnesium 500 mg 100 cp\", \"nat way magnesium 500 mg 100 cp\", \"nat way magnesium 500 mg 100 cp\", \"nat way magnesium 500 mg 100 cp\", \"nat way magnesium 500 mg 100 cp\", \"nat way magnesium 500 mg 100 cp\", \"nat way magnesium 500 mg 100 cp\", \"nat way magnesium 500 mg 100 cp\", \"nat way magnesium 500 mg 100 cp\", \"nat way magnesium 500 mg 100 cp\", \"nat way magnesium 500 mg 100 cp\", \"nat way magnesium 500 mg 100 cp\", \"nat way magnesium 500 mg 100 cp\", \"nat way magnesium 500 mg 100 cp\", \"nat way magnesium 500 mg 100 cp\", \"nat way magnesium 500 mg 100 cp\", \"nat way magnesium 500 mg 100 cp\", \"nat way magnesium 500 mg 100 cp\", \"nat way magnesium 500 mg 100 cp\", \"nat way magnesium 500 mg 100 cp\"], \"x0\": \" \", \"xaxis\": \"x\", \"y\": [9.98, 9.99, 9.98, 7.35, 8.36, 8.99, 6.86, 8.53, 7.99, 9.99, 7.93, 8.53, 8.32, 9.11, 7.57, 7.48, 8.25, 7.98, 7.97, 7.99, 10.51, 9.36], \"y0\": \" \", \"yaxis\": \"y\"}, {\"alignmentgroup\": \"True\", \"boxpoints\": \"all\", \"hovertemplate\": \"Brand=country life<br>Item=%{x}<br>ARP=%{y}<extra></extra>\", \"legendgroup\": \"country life\", \"marker\": {\"color\": \"#19d3f3\"}, \"name\": \"country life\", \"notched\": false, \"offsetgroup\": \"country life\", \"orientation\": \"v\", \"showlegend\": true, \"type\": \"box\", \"x\": [\"country life magnesium 300 mg 120 vcp\", \"country life magnesium 300 mg 120 vcp\", \"country life magnesium 300 mg 120 vcp\", \"country life magnesium 300 mg 120 vcp\", \"country life magnesium 300 mg 60 vcp\", \"country life magnesium 300 mg 120 vcp\", \"country life magnesium 300 mg 60 vcp\", \"country life magnesium 300 mg 120 vcp\", \"country life magnesium 300 mg 60 vcp\", \"country life magnesium 300 mg 120 vcp\", \"country life magnesium 300 mg 60 vcp\", \"country life magnesium 300 mg 120 vcp\", \"country life magnesium 300 mg 60 vcp\", \"country life magnesium 300 mg 120 vcp\", \"country life magnesium 300 mg 60 vcp\", \"country life magnesium 300 mg 120 vcp\", \"country life magnesium 300 mg 60 vcp\", \"country life magnesium 300 mg 60 vcp\", \"country life magnesium 300 mg 120 vcp\", \"country life magnesium 300 mg 60 vcp\", \"country life magnesium 300 mg 120 vcp\", \"country life magnesium 300 mg 60 vcp\", \"country life magnesium 300 mg 120 vcp\", \"country life magnesium 300 mg 60 vcp\", \"country life magnesium 300 mg 120 vcp\", \"country life magnesium 300 mg 60 vcp\", \"country life magnesium 300 mg 120 vcp\", \"country life magnesium 300 mg 60 vcp\", \"country life magnesium 300 mg 120 vcp\", \"country life magnesium 300 mg 60 vcp\", \"country life magnesium 300 mg 120 vcp\", \"country life magnesium 300 mg 60 vcp\", \"country life magnesium 300 mg 120 vcp\", \"country life magnesium 300 mg 60 vcp\", \"country life magnesium 300 mg 120 vcp\", \"country life magnesium 300 mg 60 vcp\", \"country life magnesium 300 mg 120 vcp\", \"country life magnesium 300 mg 60 vcp\", \"country life magnesium 300 mg 120 vcp\", \"country life magnesium 300 mg 60 vcp\", \"country life magnesium 300 mg 120 vcp\", \"country life magnesium 300 mg 60 vcp\"], \"x0\": \" \", \"xaxis\": \"x\", \"y\": [18.39, 18.39, 18.39, 14.93, 8.15, 14.24, 10.21, 17.62, 8.46, 15.04, 7.45, 11.54, 8.56, 14.39, 8.35, 14.39, 10.39, 8.7, 15.07, 8.54, 14.45, 8.32, 14.79, 8.87, 14.07, 7.93, 14.07, 8.45, 14.88, 8.18, 14.34, 8.39, 14.31, 8.37, 14.76, 8.53, 14.53, 8.12, 14.18, 10.12, 18.65, 7.93], \"y0\": \" \", \"yaxis\": \"y\"}, {\"alignmentgroup\": \"True\", \"boxpoints\": \"all\", \"hovertemplate\": \"Brand=solgar<br>Item=%{x}<br>ARP=%{y}<extra></extra>\", \"legendgroup\": \"solgar\", \"marker\": {\"color\": \"#FF6692\"}, \"name\": \"solgar\", \"notched\": false, \"offsetgroup\": \"solgar\", \"orientation\": \"v\", \"showlegend\": true, \"type\": \"box\", \"x\": [\"solgar magnesium citrate 60tb\", \"solgar magnesium citrate 60tb\", \"solgar magnesium citrate 60tb\", \"solgar magnesium citrate 60tb\", \"solgar magnesium citrate 60tb\", \"solgar magnesium citrate 60tb\", \"solgar magnesium citrate 60tb\", \"solgar magnesium citrate 60tb\", \"solgar magnesium citrate 60tb\", \"solgar magnesium citrate 60tb\", \"solgar magnesium citrate 60tb\", \"solgar magnesium citrate 60tb\", \"solgar magnesium citrate 60tb\", \"solgar magnesium citrate 60tb\", \"solgar magnesium citrate 60tb\", \"solgar magnesium citrate 60tb\", \"solgar magnesium citrate 60tb\", \"solgar magnesium citrate 60tb\", \"solgar magnesium citrate 60tb\", \"solgar magnesium citrate 60tb\"], \"x0\": \" \", \"xaxis\": \"x\", \"y\": [10.34, 10.12, 10.36, 7.34, 7.61, 9.78, 8.28, 8.99, 6.95, 8.44, 8.44, 8.55, 7.45, 8.62, 9.28, 8.84, 8.65, 7.89, 8.42, 7.93], \"y0\": \" \", \"yaxis\": \"y\"}, {\"alignmentgroup\": \"True\", \"boxpoints\": \"all\", \"hovertemplate\": \"Brand=doctors best<br>Item=%{x}<br>ARP=%{y}<extra></extra>\", \"legendgroup\": \"doctors best\", \"marker\": {\"color\": \"#B6E880\"}, \"name\": \"doctors best\", \"notched\": false, \"offsetgroup\": \"doctors best\", \"orientation\": \"v\", \"showlegend\": true, \"type\": \"box\", \"x\": [\"dr best magnesium 120 tb\", \"dr best magnesium 120 tb\", \"dr best hi absorptn magngsm 1000 mg 240 tb\", \"dr best magnesium 120 tb\", \"dr best hi absorptn magngsm 1000 mg 240 tb\", \"dr best magnesium 120 tb\", \"dr best magnesium 120 tb\", \"dr best hi absorptn magngsm 1000 mg 240 tb\", \"dr best magnesium 120 tb\", \"dr best hi absorptn magngsm 1000 mg 240 tb\", \"dr best magnesium 120 tb\", \"dr best hi absorptn magngsm 1000 mg 240 tb\", \"dr best magnesium 120 tb\", \"dr best magnesium 120 tb\", \"dr best hi absorptn magngsm 1000 mg 240 tb\", \"dr best hi absorptn magngsm 1000 mg 240 tb\", \"dr best magnesium 120 tb\", \"dr best magnesium 120 tb\", \"dr best hi absorptn magngsm 1000 mg 240 tb\", \"dr best magnesium 120 tb\", \"dr best hi absorptn magngsm 1000 mg 240 tb\", \"dr best magnesium 120 tb\", \"dr best magnesium 120 tb\", \"dr best hi absorptn magngsm 1000 mg 240 tb\", \"dr best magnesium 120 tb\", \"dr best hi absorptn magngsm 1000 mg 240 tb\", \"dr best magnesium 120 tb\"], \"x0\": \" \", \"xaxis\": \"x\", \"y\": [14.1, 15.61, 27.79, 14.48, 26.57, 18.49, 15.29, 23.06, 14.34, 23.06, 15.64, 23.99, 13.55, 15.64, 21.81, 21.81, 15.49, 14.23, 23.85, 13.55, 23.99, 15.49, 14.23, 23.02, 14.99, 25.99, 15.72], \"y0\": \" \", \"yaxis\": \"y\"}, {\"alignmentgroup\": \"True\", \"boxpoints\": \"all\", \"hovertemplate\": \"Brand=garden of life<br>Item=%{x}<br>ARP=%{y}<extra></extra>\", \"legendgroup\": \"garden of life\", \"marker\": {\"color\": \"#FF97FF\"}, \"name\": \"garden of life\", \"notched\": false, \"offsetgroup\": \"garden of life\", \"orientation\": \"v\", \"showlegend\": true, \"type\": \"box\", \"x\": [\"garden life dr form mgnsm rsp lmn ogc 14.9oz\", \"garden life dr form mgnsm rsp lmn ogc 14.9oz\", \"garden life dr form mgnsm rsp lmn ogc 14.9oz\", \"garden life dr form mgnsm rsp lmn ogc 14.9oz\", \"garden life dr form mgnsm rsp lmn ogc 14.9oz\", \"garden life dr form mgnsm rsp lmn ogc 14.9oz\", \"garden life dr form mgnsm rsp lmn ogc 14.9oz\", \"garden life dr form mgnsm rsp lmn ogc 14.9oz\", \"garden life dr form mgnsm rsp lmn ogc 14.9oz\", \"garden life dr form mgnsm rsp lmn ogc 14.9oz\", \"garden life dr form mgnsm rsp lmn ogc 14.9oz\", \"garden life dr form mgnsm rsp lmn ogc 14.9oz\", \"garden life dr form mgnsm rsp lmn ogc 14.9oz\", \"garden life dr form mgnsm rsp lmn ogc 14.9oz\", \"garden life dr form mgnsm rsp lmn ogc 14.9oz\", \"garden life dr form mgnsm rsp lmn ogc 14.9oz\", \"garden life dr form mgnsm rsp lmn ogc 14.9oz\", \"garden life dr form mgnsm rsp lmn ogc 14.9oz\"], \"x0\": \" \", \"xaxis\": \"x\", \"y\": [34.93, 27.65, 29.9, 32.92, 29.25, 31.04, 31.04, 31.71, 35.19, 28.39, 28.39, 36.97, 30.69, 32.76, 35.19, 28.64, 38.53, 33.04], \"y0\": \" \", \"yaxis\": \"y\"}, {\"alignmentgroup\": \"True\", \"boxpoints\": \"all\", \"hovertemplate\": \"Brand=bluebonnet<br>Item=%{x}<br>ARP=%{y}<extra></extra>\", \"legendgroup\": \"bluebonnet\", \"marker\": {\"color\": \"#FECB52\"}, \"name\": \"bluebonnet\", \"notched\": false, \"offsetgroup\": \"bluebonnet\", \"orientation\": \"v\", \"showlegend\": true, \"type\": \"box\", \"x\": [\"bluebonnet chelated magnesium 60 vcp\", \"bluebonnet chelated magnesium 120 vcp\", \"bluebonnet chelated magnesium 60 vcp\", \"bluebonnet chelated magnesium 120 vcp\", \"bluebonnet chelated magnesium 60 vcp\", \"bluebonnet chelated magnesium 120 vcp\", \"bluebonnet chelated magnesium 60 vcp\", \"bluebonnet chelated magnesium 120 vcp\", \"bluebonnet chelated magnesium 60 vcp\", \"bluebonnet chelated magnesium 60 vcp\", \"bluebonnet chelated magnesium 120 vcp\", \"bluebonnet chelated magnesium 60 vcp\", \"bluebonnet chelated magnesium 60 vcp\", \"bluebonnet chelated magnesium 60 vcp\", \"bluebonnet chelated magnesium 60 vcp\", \"bluebonnet chelated magnesium 120 vcp\", \"bluebonnet chelated magnesium 60 vcp\", \"bluebonnet chelated magnesium 120 vcp\", \"bluebonnet chelated magnesium 60 vcp\", \"bluebonnet chelated magnesium 120 vcp\", \"bluebonnet chelated magnesium 60 vcp\", \"bluebonnet chelated magnesium 60 vcp\", \"bluebonnet chelated magnesium 120 vcp\"], \"x0\": \" \", \"xaxis\": \"x\", \"y\": [10.48, 17.75, 10.7, 18.63, 11.38, 18.95, 11.38, 18.95, 11.37, 12.36, 18.41, 12.74, 12.74, 11.69, 10.61, 19.45, 10.88, 20.99, 11.36, 18.79, 11.56, 11.21, 20.99], \"y0\": \" \", \"yaxis\": \"y\"}, {\"alignmentgroup\": \"True\", \"boxpoints\": \"all\", \"hovertemplate\": \"Brand=natures plus<br>Item=%{x}<br>ARP=%{y}<extra></extra>\", \"legendgroup\": \"natures plus\", \"marker\": {\"color\": \"#636efa\"}, \"name\": \"natures plus\", \"notched\": false, \"offsetgroup\": \"natures plus\", \"orientation\": \"v\", \"showlegend\": true, \"type\": \"box\", \"x\": [\"nat plus magnesium 200 mg 180 tb\", \"nat plus magnesium 200 mg 180 tb\"], \"x0\": \" \", \"xaxis\": \"x\", \"y\": [23.48, 20.4], \"y0\": \" \", \"yaxis\": \"y\"}],\n",
       "                        {\"boxmode\": \"group\", \"legend\": {\"title\": {\"text\": \"Brand\"}, \"tracegroupgap\": 0}, \"template\": {\"data\": {\"bar\": [{\"error_x\": {\"color\": \"#2a3f5f\"}, \"error_y\": {\"color\": \"#2a3f5f\"}, \"marker\": {\"line\": {\"color\": \"#E5ECF6\", \"width\": 0.5}}, \"type\": \"bar\"}], \"barpolar\": [{\"marker\": {\"line\": {\"color\": \"#E5ECF6\", \"width\": 0.5}}, \"type\": \"barpolar\"}], \"carpet\": [{\"aaxis\": {\"endlinecolor\": \"#2a3f5f\", \"gridcolor\": \"white\", \"linecolor\": \"white\", \"minorgridcolor\": \"white\", \"startlinecolor\": \"#2a3f5f\"}, \"baxis\": {\"endlinecolor\": \"#2a3f5f\", \"gridcolor\": \"white\", \"linecolor\": \"white\", \"minorgridcolor\": \"white\", \"startlinecolor\": \"#2a3f5f\"}, \"type\": \"carpet\"}], \"choropleth\": [{\"colorbar\": {\"outlinewidth\": 0, \"ticks\": \"\"}, \"type\": \"choropleth\"}], \"contour\": [{\"colorbar\": {\"outlinewidth\": 0, \"ticks\": \"\"}, \"colorscale\": [[0.0, \"#0d0887\"], [0.1111111111111111, \"#46039f\"], [0.2222222222222222, \"#7201a8\"], [0.3333333333333333, \"#9c179e\"], [0.4444444444444444, \"#bd3786\"], [0.5555555555555556, \"#d8576b\"], [0.6666666666666666, \"#ed7953\"], [0.7777777777777778, \"#fb9f3a\"], [0.8888888888888888, \"#fdca26\"], [1.0, \"#f0f921\"]], \"type\": \"contour\"}], \"contourcarpet\": [{\"colorbar\": {\"outlinewidth\": 0, \"ticks\": \"\"}, \"type\": \"contourcarpet\"}], \"heatmap\": [{\"colorbar\": {\"outlinewidth\": 0, \"ticks\": \"\"}, \"colorscale\": [[0.0, \"#0d0887\"], [0.1111111111111111, \"#46039f\"], [0.2222222222222222, \"#7201a8\"], [0.3333333333333333, \"#9c179e\"], [0.4444444444444444, \"#bd3786\"], [0.5555555555555556, \"#d8576b\"], [0.6666666666666666, \"#ed7953\"], [0.7777777777777778, \"#fb9f3a\"], [0.8888888888888888, \"#fdca26\"], [1.0, \"#f0f921\"]], \"type\": \"heatmap\"}], \"heatmapgl\": [{\"colorbar\": {\"outlinewidth\": 0, \"ticks\": \"\"}, \"colorscale\": [[0.0, \"#0d0887\"], [0.1111111111111111, \"#46039f\"], [0.2222222222222222, \"#7201a8\"], [0.3333333333333333, \"#9c179e\"], [0.4444444444444444, \"#bd3786\"], [0.5555555555555556, \"#d8576b\"], [0.6666666666666666, \"#ed7953\"], [0.7777777777777778, \"#fb9f3a\"], [0.8888888888888888, \"#fdca26\"], [1.0, \"#f0f921\"]], \"type\": \"heatmapgl\"}], \"histogram\": [{\"marker\": {\"colorbar\": {\"outlinewidth\": 0, \"ticks\": \"\"}}, \"type\": \"histogram\"}], \"histogram2d\": [{\"colorbar\": {\"outlinewidth\": 0, \"ticks\": \"\"}, \"colorscale\": [[0.0, \"#0d0887\"], [0.1111111111111111, \"#46039f\"], [0.2222222222222222, \"#7201a8\"], [0.3333333333333333, \"#9c179e\"], [0.4444444444444444, \"#bd3786\"], [0.5555555555555556, \"#d8576b\"], [0.6666666666666666, \"#ed7953\"], [0.7777777777777778, \"#fb9f3a\"], [0.8888888888888888, \"#fdca26\"], [1.0, \"#f0f921\"]], \"type\": \"histogram2d\"}], \"histogram2dcontour\": [{\"colorbar\": {\"outlinewidth\": 0, \"ticks\": \"\"}, \"colorscale\": [[0.0, \"#0d0887\"], [0.1111111111111111, \"#46039f\"], [0.2222222222222222, \"#7201a8\"], [0.3333333333333333, \"#9c179e\"], [0.4444444444444444, \"#bd3786\"], [0.5555555555555556, \"#d8576b\"], [0.6666666666666666, \"#ed7953\"], [0.7777777777777778, \"#fb9f3a\"], [0.8888888888888888, \"#fdca26\"], [1.0, \"#f0f921\"]], \"type\": \"histogram2dcontour\"}], \"mesh3d\": [{\"colorbar\": {\"outlinewidth\": 0, \"ticks\": \"\"}, \"type\": \"mesh3d\"}], \"parcoords\": [{\"line\": {\"colorbar\": {\"outlinewidth\": 0, \"ticks\": \"\"}}, \"type\": \"parcoords\"}], \"pie\": [{\"automargin\": true, \"type\": \"pie\"}], \"scatter\": [{\"marker\": {\"colorbar\": {\"outlinewidth\": 0, \"ticks\": \"\"}}, \"type\": \"scatter\"}], \"scatter3d\": [{\"line\": {\"colorbar\": {\"outlinewidth\": 0, \"ticks\": \"\"}}, \"marker\": {\"colorbar\": {\"outlinewidth\": 0, \"ticks\": \"\"}}, \"type\": \"scatter3d\"}], \"scattercarpet\": [{\"marker\": {\"colorbar\": {\"outlinewidth\": 0, \"ticks\": \"\"}}, \"type\": \"scattercarpet\"}], \"scattergeo\": [{\"marker\": {\"colorbar\": {\"outlinewidth\": 0, \"ticks\": \"\"}}, \"type\": \"scattergeo\"}], \"scattergl\": [{\"marker\": {\"colorbar\": {\"outlinewidth\": 0, \"ticks\": \"\"}}, \"type\": \"scattergl\"}], \"scattermapbox\": [{\"marker\": {\"colorbar\": {\"outlinewidth\": 0, \"ticks\": \"\"}}, \"type\": \"scattermapbox\"}], \"scatterpolar\": [{\"marker\": {\"colorbar\": {\"outlinewidth\": 0, \"ticks\": \"\"}}, \"type\": \"scatterpolar\"}], \"scatterpolargl\": [{\"marker\": {\"colorbar\": {\"outlinewidth\": 0, \"ticks\": \"\"}}, \"type\": \"scatterpolargl\"}], \"scatterternary\": [{\"marker\": {\"colorbar\": {\"outlinewidth\": 0, \"ticks\": \"\"}}, \"type\": \"scatterternary\"}], \"surface\": [{\"colorbar\": {\"outlinewidth\": 0, \"ticks\": \"\"}, \"colorscale\": [[0.0, \"#0d0887\"], [0.1111111111111111, \"#46039f\"], [0.2222222222222222, \"#7201a8\"], [0.3333333333333333, \"#9c179e\"], [0.4444444444444444, \"#bd3786\"], [0.5555555555555556, \"#d8576b\"], [0.6666666666666666, \"#ed7953\"], [0.7777777777777778, \"#fb9f3a\"], [0.8888888888888888, \"#fdca26\"], [1.0, \"#f0f921\"]], \"type\": \"surface\"}], \"table\": [{\"cells\": {\"fill\": {\"color\": \"#EBF0F8\"}, \"line\": {\"color\": \"white\"}}, \"header\": {\"fill\": {\"color\": \"#C8D4E3\"}, \"line\": {\"color\": \"white\"}}, \"type\": \"table\"}]}, \"layout\": {\"annotationdefaults\": {\"arrowcolor\": \"#2a3f5f\", \"arrowhead\": 0, \"arrowwidth\": 1}, \"coloraxis\": {\"colorbar\": {\"outlinewidth\": 0, \"ticks\": \"\"}}, \"colorscale\": {\"diverging\": [[0, \"#8e0152\"], [0.1, \"#c51b7d\"], [0.2, \"#de77ae\"], [0.3, \"#f1b6da\"], [0.4, \"#fde0ef\"], [0.5, \"#f7f7f7\"], [0.6, \"#e6f5d0\"], [0.7, \"#b8e186\"], [0.8, \"#7fbc41\"], [0.9, \"#4d9221\"], [1, \"#276419\"]], \"sequential\": [[0.0, \"#0d0887\"], [0.1111111111111111, \"#46039f\"], [0.2222222222222222, \"#7201a8\"], [0.3333333333333333, \"#9c179e\"], [0.4444444444444444, \"#bd3786\"], [0.5555555555555556, \"#d8576b\"], [0.6666666666666666, \"#ed7953\"], [0.7777777777777778, \"#fb9f3a\"], [0.8888888888888888, \"#fdca26\"], [1.0, \"#f0f921\"]], \"sequentialminus\": [[0.0, \"#0d0887\"], [0.1111111111111111, \"#46039f\"], [0.2222222222222222, \"#7201a8\"], [0.3333333333333333, \"#9c179e\"], [0.4444444444444444, \"#bd3786\"], [0.5555555555555556, \"#d8576b\"], [0.6666666666666666, \"#ed7953\"], [0.7777777777777778, \"#fb9f3a\"], [0.8888888888888888, \"#fdca26\"], [1.0, \"#f0f921\"]]}, \"colorway\": [\"#636efa\", \"#EF553B\", \"#00cc96\", \"#ab63fa\", \"#FFA15A\", \"#19d3f3\", \"#FF6692\", \"#B6E880\", \"#FF97FF\", \"#FECB52\"], \"font\": {\"color\": \"#2a3f5f\"}, \"geo\": {\"bgcolor\": \"white\", \"lakecolor\": \"white\", \"landcolor\": \"#E5ECF6\", \"showlakes\": true, \"showland\": true, \"subunitcolor\": \"white\"}, \"hoverlabel\": {\"align\": \"left\"}, \"hovermode\": \"closest\", \"mapbox\": {\"style\": \"light\"}, \"paper_bgcolor\": \"white\", \"plot_bgcolor\": \"#E5ECF6\", \"polar\": {\"angularaxis\": {\"gridcolor\": \"white\", \"linecolor\": \"white\", \"ticks\": \"\"}, \"bgcolor\": \"#E5ECF6\", \"radialaxis\": {\"gridcolor\": \"white\", \"linecolor\": \"white\", \"ticks\": \"\"}}, \"scene\": {\"xaxis\": {\"backgroundcolor\": \"#E5ECF6\", \"gridcolor\": \"white\", \"gridwidth\": 2, \"linecolor\": \"white\", \"showbackground\": true, \"ticks\": \"\", \"zerolinecolor\": \"white\"}, \"yaxis\": {\"backgroundcolor\": \"#E5ECF6\", \"gridcolor\": \"white\", \"gridwidth\": 2, \"linecolor\": \"white\", \"showbackground\": true, \"ticks\": \"\", \"zerolinecolor\": \"white\"}, \"zaxis\": {\"backgroundcolor\": \"#E5ECF6\", \"gridcolor\": \"white\", \"gridwidth\": 2, \"linecolor\": \"white\", \"showbackground\": true, \"ticks\": \"\", \"zerolinecolor\": \"white\"}}, \"shapedefaults\": {\"line\": {\"color\": \"#2a3f5f\"}}, \"ternary\": {\"aaxis\": {\"gridcolor\": \"white\", \"linecolor\": \"white\", \"ticks\": \"\"}, \"baxis\": {\"gridcolor\": \"white\", \"linecolor\": \"white\", \"ticks\": \"\"}, \"bgcolor\": \"#E5ECF6\", \"caxis\": {\"gridcolor\": \"white\", \"linecolor\": \"white\", \"ticks\": \"\"}}, \"title\": {\"x\": 0.05}, \"xaxis\": {\"automargin\": true, \"gridcolor\": \"white\", \"linecolor\": \"white\", \"ticks\": \"\", \"title\": {\"standoff\": 15}, \"zerolinecolor\": \"white\", \"zerolinewidth\": 2}, \"yaxis\": {\"automargin\": true, \"gridcolor\": \"white\", \"linecolor\": \"white\", \"ticks\": \"\", \"title\": {\"standoff\": 15}, \"zerolinecolor\": \"white\", \"zerolinewidth\": 2}}}, \"title\": {\"text\": \"magnesium\"}, \"xaxis\": {\"anchor\": \"y\", \"domain\": [0.0, 1.0], \"title\": {\"text\": \"Item\"}}, \"yaxis\": {\"anchor\": \"x\", \"domain\": [0.0, 1.0], \"title\": {\"text\": \"ARP\"}}},\n",
       "                        {\"responsive\": true}\n",
       "                    ).then(function(){\n",
       "                            \n",
       "var gd = document.getElementById('de397f29-cf20-41eb-b71b-af76e128f1e5');\n",
       "var x = new MutationObserver(function (mutations, observer) {{\n",
       "        var display = window.getComputedStyle(gd).display;\n",
       "        if (!display || display === 'none') {{\n",
       "            console.log([gd, 'removed!']);\n",
       "            Plotly.purge(gd);\n",
       "            observer.disconnect();\n",
       "        }}\n",
       "}});\n",
       "\n",
       "// Listen for the removal of the full notebook cells\n",
       "var notebookContainer = gd.closest('#notebook-container');\n",
       "if (notebookContainer) {{\n",
       "    x.observe(notebookContainer, {childList: true});\n",
       "}}\n",
       "\n",
       "// Listen for the clearing of the current output cell\n",
       "var outputEl = gd.closest('.output');\n",
       "if (outputEl) {{\n",
       "    x.observe(outputEl, {childList: true});\n",
       "}}\n",
       "\n",
       "                        })\n",
       "                };\n",
       "                });\n",
       "            </script>\n",
       "        </div>"
      ]
     },
     "metadata": {},
     "output_type": "display_data"
    }
   ],
   "source": [
    "\n",
    "\n",
    "box_plot2(c_df)"
   ]
  },
  {
   "cell_type": "code",
   "execution_count": null,
   "metadata": {},
   "outputs": [],
   "source": []
  }
 ],
 "metadata": {
  "kernelspec": {
   "display_name": "Python 3",
   "language": "python",
   "name": "python3"
  },
  "language_info": {
   "codemirror_mode": {
    "name": "ipython",
    "version": 3
   },
   "file_extension": ".py",
   "mimetype": "text/x-python",
   "name": "python",
   "nbconvert_exporter": "python",
   "pygments_lexer": "ipython3",
   "version": "3.7.6"
  }
 },
 "nbformat": 4,
 "nbformat_minor": 4
}
