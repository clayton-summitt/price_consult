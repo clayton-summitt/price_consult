{
 "cells": [
  {
   "cell_type": "code",
   "execution_count": 6,
   "metadata": {},
   "outputs": [],
   "source": [
    "import pandas as pd\n",
    "import numpy as np\n",
    "import seaborn as sns\n",
    "import matplotlib as mat\n",
    "\n",
    "#import psycopg2\n",
    "\n",
    "import seaborn as sns; sns.set()\n",
    "import matplotlib.pyplot as plt\n",
    "import datetime\n",
    "import scipy.stats\n",
    "from statistics import mean \n",
    "import plotly.express as px\n",
    "import plotly.graph_objects as go\n",
    "from plotly.subplots import make_subplots\n",
    "import chart_studio\n",
    "import plotly.io as pio"
   ]
  },
  {
   "cell_type": "code",
   "execution_count": 15,
   "metadata": {},
   "outputs": [],
   "source": [
    "import sys  \n",
    "\n",
    "sys.path.insert(0, '/Users/GuntherUlvanget/country_life/price_consult')\n",
    "\n",
    "import boot_strap_sample\n",
    "import warnings\n",
    "warnings.filterwarnings('ignore')\n",
    "\n",
    "\n",
    "\n",
    "\n",
    "\n",
    "\n",
    "def clean_CL_UPC(df):\n",
    "\t#to match items in SPINS data, CL starts with Leading zero\n",
    "\n",
    "\tdf[\"UPC\"] = df[\"UPC\"].apply(str)\n",
    "\tdf[\"UPC\"] = df[\"UPC\"].apply(lambda x : x[:-1])\n",
    "\tdf[\"UPC\"] = df[\"UPC\"].apply(lambda x : \"0\" + x)\n",
    "\tcolumn_name = \"UPC\"\n",
    "\tfirst = df.pop(column_name)\n",
    "\tdf.insert(0, column_name, first)\n",
    "\tdf[\"MSRP$\"] = df[\"MSRP$\"].str.lstrip('$')\n",
    "\tdf[\"WSP$\"] = df[\"WSP$\"].str.lstrip('$')\n",
    "\tdf[\"MSRP$\"] = df[\"MSRP$\"].apply(float)\n",
    "\tdf[\"WSP$\"] = df[\"WSP$\"].apply(float)\n",
    "\tdf[\"Unit Size\"] = df[\"Unit Size\"].apply(int)\n",
    "    \n",
    "    \n",
    "def process_data(file_path_todata):\n",
    "    df = pd.read_csv(file_path_todata, \n",
    "        sep = \",\", \n",
    "        na_values = \"-\",\n",
    "       usecols= [  'Geography', 'Item_UPC', 'Brand', 'Subcategory',\n",
    "           'AGE', 'FORM', 'FUNCTIONAL_INGREDIENT', 'FLAVOR', 'HEALTH_FOCUS',\n",
    "        'Group', 'SIZE', 'Dollars', 'Dollars_Yago', 'Units', 'Units_Yago', 'Dollars_SPP', 'ARP',\n",
    "        'ARP_Yago',  'Base_ARP',\n",
    "        'Base_ARP_Yago']\n",
    "         )\n",
    "\n",
    "    df.dropna(axis = 0, how = \"all\", inplace=True)\n",
    "    return df\n",
    "\n",
    "def clean_spins_upc(df):\n",
    "\t#take in a dataframe, expand the number of columns into a temp\n",
    "\t#datafram\n",
    "\ttemp = df[\"Item_UPC\"].str.rsplit(\" \", n=1, expand = True)\n",
    "\t#add columns  to main dataframe from Temp\n",
    "\tdf.insert(0, \"UPC\", temp[1])\n",
    "\tdf.insert(1, \"Item\", temp[0])\n",
    "\n",
    "\t#drop original combined column\n",
    "\tdf.drop(columns= [\"Item_UPC\"], inplace=True)\n",
    "\t#SPINS data adds a leading zero to UP and includes hypen. \n",
    "\t#neither are needed for analysis.\n",
    "\tdf[\"UPC\"]= df[\"UPC\"].apply(lambda x : x[1:] if x.startswith(\"0\") else x)\n",
    "\tdf[\"UPC\"]=df[\"UPC\"].apply(lambda x :x.replace('-', ''))\n",
    "\tcol_names = df.columns\n",
    "\tfor cols in col_names:\n",
    "\t    df[cols] = df[cols].apply(lambda x: x.lower() if type(x) == str else x)\n",
    "        \n",
    "def sku_selcetor_ingredient(FUNCTIONAL_INGREDIENT, df):\n",
    "\t'''Functional ingredient can be a shortened description like cal for calcium\n",
    "\tor mag for magnesium. this will select all Items that contain the string entered'''\n",
    "\tcl_df = df[df[\"Brand\"].str.contains(\"country life\")]\n",
    "\ttemp_df = cl_df[cl_df[\"Item\"].str.contains(FUNCTIONAL_INGREDIENT)]\n",
    "\t\n",
    "\treturn temp_df\n",
    "\n",
    "\n",
    "def sku_singleton(item_id,df, brand = \"country life\"):\n",
    "    '''Select a single SKU to examine, item ID can be either full UPC or catalog ID\n",
    "    df = the dataframe you are subsetting'''\n",
    "    df = df[df[\"Brand\"].str.contains(brand)]\n",
    "    df = df[df[\"UPC\"].str.contains(item_id)].reset_index()\n",
    "    df.dropna(inplace = True)\n",
    "    #df[\"ARP_percent_off_MSRP\"] =  df[\"ARP\"].apply(lambda x: (1-(x/get_MSRP(\"item_id\")))*100)\n",
    "    df.loc[:, \"ARP_percent_off_MSRP\"] =  df.loc[:,\"ARP\"].apply(lambda x: (1-(x/get_MSRP(item_id)))*100)\n",
    "    #df['bins'] = pd.cut(df['ARP_percent_off_MSRP'],bins=[0,5,10,15,20,25,30,35,40], labels=[\"0-5%\",\"5-10%\",\"10-15%\",\"15-20%\",\"20-25%\",\"25-30%\", \"30-35%\",\"35-40\"])\n",
    "    df.loc[:,'bins'] = pd.cut(df['ARP_percent_off_MSRP'],bins=[0,5,10,15,20,25,30,35,40], labels=[\"0-5% off\",\"5-10% 5-10% off\",\"10-15% off\",\"15-20% off\",\"20-25% off\",\"25-30% off\", \"30-35% off\",\"35-40% off\"])\n",
    "    \n",
    "    return df\n",
    "\n",
    "\n",
    "def get_MSRP(item_id ):\n",
    "\ttemp = cl_top_seller[cl_top_seller.loc[:,\"UPC\"].str.contains(item_id)].reset_index()\n",
    "\treturn temp[\"MSRP$\"][0]\n",
    "\n",
    "\n",
    "def sub_set_metrics_of_interest(df, metric_to_use = ['ARP',\"Base_ARP\"]):\n",
    "\treturn df.loc[df[\"Metric\"].isin(metric_to_use)].reset_index()\n",
    "\n",
    "def easy_melt(df):\n",
    "\treturn df.melt(id_vars=[\"UPC\", \"Item\",\"Geography\",'Brand', 'Subcategory'], var_name = \"Metric\" , value_name='amount')\n",
    "\n",
    "def get_discount_proportions(df):\n",
    "    ''' Takes in a dataframe, returns a smaller dataframe'''\n",
    "    group_by_df =df.groupby(\"bins\").size()\n",
    "    #groups are stored in the index, values in series\n",
    "    #extract groups\n",
    "    groups = pd.DataFrame(group_by_df).index\n",
    "    final = group_by_df.to_frame().join(groups.to_frame())\n",
    "    #rename column 0 for extracting data in pie chart\n",
    "    final.rename(columns = {0:\"count\"}, inplace = True )\n",
    "    return final\n",
    "\n",
    "def subset_for_boxplots(df):\n",
    "    metric_to_use = ['ARP',\"Base_ARP\"]\n",
    "    df = df[df[\"Metric\"].isin(metric_to_use)].reset_index()\n",
    "\n",
    "    return df\n",
    "\n",
    "def cl_box_plot(df):\n",
    "    fig = px.box(df, x=\"Metric\", y=\"amount\", points=\"all\", title = df[\"Item\"][0])\n",
    "    fig.add_trace(go.Scatter(x=['ARP', 'Base_ARP'], y=[get_MSRP(df.loc[0,\"UPC\"]),get_MSRP(df.loc[0,\"UPC\"])], mode=\"lines\", name=\"MSRP\"))\n",
    "    fig.show()\n",
    "    \n",
    "def make_plots(df,pie_frame):\n",
    "    fig = make_subplots(\n",
    "        rows=1, cols=2,\n",
    "        specs=[[{\"type\": \"box\"}, {\"type\": \"pie\"}]],\n",
    "    )\n",
    "\n",
    "    fig.add_trace(go.Box( x=df.Metric, \n",
    "                         y=df.amount, \n",
    "                         boxpoints =\"all\",\n",
    "                         hovertext = df[\"Geography\"],\n",
    "                         jitter =0.5,\n",
    "                         boxmean = True, \n",
    "                         showlegend=False,\n",
    "                       # hovertemplate = 'Geography: $%{geography}'\n",
    "                        ), \n",
    "                  row=1, col=1)\n",
    "    #adds a line to reprsentMSRP\n",
    "    fig.add_trace(go.Scatter(x=['ARP', 'Base_ARP'], y=[get_MSRP(df.loc[0,\"UPC\"]),get_MSRP(df.loc[0,\"UPC\"])],\n",
    "                             mode=\"lines\", name=\"MSRP\", line=dict(color=\"#000000\") ))\n",
    "    \n",
    "    #generates pie chart from calculated proportion data\n",
    "    fig.add_trace(go.Pie(values=pie_frame[\"count\"], labels =pie_frame[\"bins\"], showlegend=True,\n",
    "                         title_text =\"Proportion MSRP Discounts\"),\n",
    "                  row=1, col=2)\n",
    "    # Update xaxis properties\n",
    "    fig.update_xaxes(title_text=\"Distribution of ARP vs Base ARP\", row=1, col=1)\n",
    "    #fig.update(title_text=\"Proportion of ARP as percentage discount\",  row=1, col=2)\n",
    "\n",
    "    fig.update_yaxes(title_text=\"Dollars\", row=1, col=1)\n",
    "    #fig.update_yaxes(title_text=\"Proportion of ARP as percentage discount\",  row=1, col=2)\n",
    "\n",
    "    #label the plot\n",
    "    fig.update_layout(title_text=df[\"Item\"][0], height=600)\n",
    "    fig.update_layout(height=600, showlegend=True)\n",
    "\n",
    "    fig.show()\n",
    "    pio.write_html(fig, file=df[\"Item\"][0]+'.html', auto_open=True)\n",
    "  \n",
    "\n",
    "  \n",
    "def Average(lst): \n",
    "    return mean(lst) \n",
    "\n",
    "def single_product_analysis(item_id):\n",
    "    single_sku_df = sku_singleton((\"0\"+str(item_id)),df)\n",
    "    pie_frame = get_discount_proportions(single_sku_df)\n",
    "\n",
    "    melted_df = easy_melt(single_sku_df)\n",
    "\n",
    "\n",
    "\n",
    "    subset_df_forplot = subset_for_boxplots(melted_df)\n",
    "\n",
    "    make_plots(subset_df_forplot, pie_frame)\n",
    "    boot_strap_sample.plot_bootstrap_mean(single_sku_df[\"ARP\"].to_numpy())\n",
    "    boot_strap_sample.plot_bootstrap_median(single_sku_df[\"ARP\"].to_numpy(), test_statistic=np.median)\n",
    "    \n",
    "def calculate_mean(item_id):\n",
    "    single_sku_df = sku_singleton((\"0\"+str(item_id)),df)\n",
    "    means, ci = boot_strap_sample.bootstrap_ci(single_sku_df[\"ARP\"].to_numpy())\n",
    "    return round(Average(means),2)\n",
    "\n",
    "\n",
    "\n",
    "single_sku_df = sku_singleton(str(2474),df)\n",
    "means, ci = boot_strap_sample.bootstrap_ci(single_sku_df[\"ARP\"].to_numpy())\n",
    "estimates = [calculate_mean(item) for item in items]\n",
    "\n",
    "\n",
    "#cl_top_seller.loc[:,'Price in Marketplace'] = np.asarray(estimates)\n",
    "#cl_top_seller.to_excel(\"Top Sellers with Price in Marketplace.xlsx\", index = False)"
   ]
  },
  {
   "cell_type": "code",
   "execution_count": null,
   "metadata": {},
   "outputs": [],
   "source": [
    "#round(Average(means),2)"
   ]
  },
  {
   "cell_type": "code",
   "execution_count": 4,
   "metadata": {},
   "outputs": [],
   "source": [
    "\n",
    "cl_top_seller = pd.read_csv(\"/Users/GuntherUlvanget/country_life/country_life_spins/Country Life Top Seller's Price File.csv\", sep = \",\")\n",
    "clean_CL_UPC(cl_top_seller)\n",
    "\n",
    "\n",
    "df = pd.read_csv(\"/Users/GuntherUlvanget/country_life/country_life_spins/Retailer_Report_24 Weeks_7_12_2020.csv\", \n",
    "                 sep = \",\", na_values=\"-\", usecols= [ 'Geography', 'Item UPC', 'Brand', 'Subcategory',\n",
    "       'Dollars', 'Dollars, Yago', 'Units', 'Units, Yago', 'Dollars SPP', 'Dollars SPP, Yago',  'ARP',\n",
    "       'ARP, Yago',   'Base ARP','Base ARP, Yago'])\n",
    "df.rename(columns =  {'Item UPC': 'Item_UPC', \n",
    "                      'Dollars, Yago':'Dollars_Yago', \n",
    "                      'Units, Yago':'Units_Yago', \n",
    "                      'Dollars SPP':'Dollars_SPP', \n",
    "                      'Dollars SPP, Yago': 'Dollars_SPP_Yago', \n",
    "                      'ARP, Yago': 'ARP_Yago',  \n",
    "                      'Base ARP': 'Base_ARP',\n",
    "                      'Base ARP, Yago':'BaseARP_Yago'},\n",
    "         inplace= True)\n",
    "\n",
    "clean_spins_upc(df)\n",
    "items =[item for item in cl_top_seller[\"Item#\"] ]"
   ]
  },
  {
   "cell_type": "code",
   "execution_count": 7,
   "metadata": {},
   "outputs": [],
   "source": [
    "username = 'congruency' # your username\n",
    "api_key = '5Cll2zTuPnnDNpjeNSb2' # your api key - go to profile > settings > regenerate key\n",
    "chart_studio.tools.set_credentials_file(username=username, api_key=api_key)"
   ]
  },
  {
   "cell_type": "code",
   "execution_count": 14,
   "metadata": {},
   "outputs": [],
   "source": [
    "import plotly.io as pio"
   ]
  },
  {
   "cell_type": "code",
   "execution_count": 8,
   "metadata": {},
   "outputs": [],
   "source": [
    "pio.write_html(fig, file=’index.html’, auto_open=True)"
   ]
  },
  {
   "cell_type": "code",
   "execution_count": null,
   "metadata": {},
   "outputs": [],
   "source": [
    "py.plot(fig, filename = 'mag_300_60', auto_open=True)"
   ]
  },
  {
   "cell_type": "code",
   "execution_count": null,
   "metadata": {},
   "outputs": [],
   "source": [
    "#cl_top_seller.loc[:,'Price in Marketplace'] = np.asarray(estimates)\n",
    "#cl_top_seller"
   ]
  },
  {
   "cell_type": "code",
   "execution_count": null,
   "metadata": {},
   "outputs": [],
   "source": []
  },
  {
   "cell_type": "markdown",
   "metadata": {},
   "source": [
    "### Examining 24 weeks of SPINS data to estimate customer pricing.\n"
   ]
  },
  {
   "cell_type": "code",
   "execution_count": null,
   "metadata": {},
   "outputs": [],
   "source": []
  },
  {
   "cell_type": "markdown",
   "metadata": {},
   "source": [
    "Using data collected, aggregated and summarised by SPINS we attempted to estimate two statistics from the sample data. The mean or average retail price and the median price a random consumer would pay for the item. We chose these two metrics as the range of prices is skewed to the right, with the majority of the top selling products showing this skewd distribution of pricing. For each item we show an interactive box plot, each boxplot shows the range in which products lie, the upper and lower whickers cover 95% of the distribution, the shaded region represents data from the first quartile to the 3rd quartile, the dashed line respresnts the mean price and the solid line the median price. Included in this graph is a black bar representing the MSRP. We have included the SPINS Base SRP,an estimation of retailer pricing with out retailer promotions.\n",
    "\n",
    "We then added a pie chart to show the breakdown of pricing paid as it relates to the MSRP. A quick glance shows the majority of products purchased have an average retail price at least 20-25% off \n"
   ]
  },
  {
   "cell_type": "code",
   "execution_count": 16,
   "metadata": {},
   "outputs": [
    {
     "data": {
      "application/vnd.plotly.v1+json": {
       "config": {
        "plotlyServerURL": "https://plot.ly"
       },
       "data": [
        {
         "boxmean": true,
         "boxpoints": "all",
         "hovertext": [
          "greenacres - total us (corp)",
          "greens natural market - total us (corp)",
          "infra - total us (corp)",
          "natural grocers by vc - total us (corp)",
          "ncg - total us (corp)",
          "ncg - total us x-pcc (ban)",
          "ncg - pcc (ban)",
          "ncg - mid atlantic (rgn/mkt)",
          "ncg - north central (rgn/mkt)",
          "ncg - north east (rgn/mkt)",
          "ncg - north west (rgn/mkt)",
          "ncg - northwest x-pcc (rgn/mkt)",
          "ncg - south central (rgn/mkt)",
          "ncg - south east (rgn/mkt)",
          "ncg - south west (rgn/mkt)",
          "ncg - east rgn (rgn/mkt)",
          "ncg - central rgn (rgn/mkt)",
          "ncg - west x-pcc (rgn/mkt)",
          "new seasons markets + new leaf community markets - total us (corp)",
          "sprouts farmers market - total us w/o pl (corp)",
          "greenacres - total us (corp)",
          "greens natural market - total us (corp)",
          "infra - total us (corp)",
          "natural grocers by vc - total us (corp)",
          "ncg - total us (corp)",
          "ncg - total us x-pcc (ban)",
          "ncg - pcc (ban)",
          "ncg - mid atlantic (rgn/mkt)",
          "ncg - north central (rgn/mkt)",
          "ncg - north east (rgn/mkt)",
          "ncg - north west (rgn/mkt)",
          "ncg - northwest x-pcc (rgn/mkt)",
          "ncg - south central (rgn/mkt)",
          "ncg - south east (rgn/mkt)",
          "ncg - south west (rgn/mkt)",
          "ncg - east rgn (rgn/mkt)",
          "ncg - central rgn (rgn/mkt)",
          "ncg - west x-pcc (rgn/mkt)",
          "new seasons markets + new leaf community markets - total us (corp)",
          "sprouts farmers market - total us w/o pl (corp)"
         ],
         "jitter": 0.5,
         "showlegend": false,
         "type": "box",
         "x": [
          "ARP",
          "ARP",
          "ARP",
          "ARP",
          "ARP",
          "ARP",
          "ARP",
          "ARP",
          "ARP",
          "ARP",
          "ARP",
          "ARP",
          "ARP",
          "ARP",
          "ARP",
          "ARP",
          "ARP",
          "ARP",
          "ARP",
          "ARP",
          "Base_ARP",
          "Base_ARP",
          "Base_ARP",
          "Base_ARP",
          "Base_ARP",
          "Base_ARP",
          "Base_ARP",
          "Base_ARP",
          "Base_ARP",
          "Base_ARP",
          "Base_ARP",
          "Base_ARP",
          "Base_ARP",
          "Base_ARP",
          "Base_ARP",
          "Base_ARP",
          "Base_ARP",
          "Base_ARP",
          "Base_ARP",
          "Base_ARP"
         ],
         "xaxis": "x",
         "y": [
          8.15,
          10.21,
          8.46,
          7.45,
          8.56,
          8.35,
          10.39,
          8.7,
          8.54,
          8.32,
          8.87,
          7.93,
          8.45,
          8.18,
          8.39,
          8.37,
          8.53,
          8.12,
          10.12,
          7.93,
          8.3,
          10.29,
          8.79,
          7.76,
          9.09,
          8.95,
          10.39,
          9.27,
          9.03,
          9.33,
          9.22,
          8.5,
          8.83,
          8.68,
          8.91,
          9.16,
          9.01,
          8.67,
          11.21,
          8.36
         ],
         "yaxis": "y"
        },
        {
         "line": {
          "color": "#000000"
         },
         "mode": "lines",
         "name": "MSRP",
         "type": "scatter",
         "x": [
          "ARP",
          "Base_ARP"
         ],
         "y": [
          10.79,
          10.79
         ]
        },
        {
         "domain": {
          "x": [
           0.55,
           1
          ],
          "y": [
           0,
           1
          ]
         },
         "labels": [
          "0-5% off",
          "5-10% 5-10% off",
          "10-15% off",
          "15-20% off",
          "20-25% off",
          "25-30% off",
          "30-35% off",
          "35-40% off"
         ],
         "showlegend": true,
         "title": {
          "text": "Proportion MSRP Discounts"
         },
         "type": "pie",
         "values": [
          1,
          2,
          0,
          2,
          12,
          2,
          1,
          0
         ]
        }
       ],
       "layout": {
        "height": 600,
        "showlegend": true,
        "template": {
         "data": {
          "bar": [
           {
            "error_x": {
             "color": "#2a3f5f"
            },
            "error_y": {
             "color": "#2a3f5f"
            },
            "marker": {
             "line": {
              "color": "#E5ECF6",
              "width": 0.5
             }
            },
            "type": "bar"
           }
          ],
          "barpolar": [
           {
            "marker": {
             "line": {
              "color": "#E5ECF6",
              "width": 0.5
             }
            },
            "type": "barpolar"
           }
          ],
          "carpet": [
           {
            "aaxis": {
             "endlinecolor": "#2a3f5f",
             "gridcolor": "white",
             "linecolor": "white",
             "minorgridcolor": "white",
             "startlinecolor": "#2a3f5f"
            },
            "baxis": {
             "endlinecolor": "#2a3f5f",
             "gridcolor": "white",
             "linecolor": "white",
             "minorgridcolor": "white",
             "startlinecolor": "#2a3f5f"
            },
            "type": "carpet"
           }
          ],
          "choropleth": [
           {
            "colorbar": {
             "outlinewidth": 0,
             "ticks": ""
            },
            "type": "choropleth"
           }
          ],
          "contour": [
           {
            "colorbar": {
             "outlinewidth": 0,
             "ticks": ""
            },
            "colorscale": [
             [
              0,
              "#0d0887"
             ],
             [
              0.1111111111111111,
              "#46039f"
             ],
             [
              0.2222222222222222,
              "#7201a8"
             ],
             [
              0.3333333333333333,
              "#9c179e"
             ],
             [
              0.4444444444444444,
              "#bd3786"
             ],
             [
              0.5555555555555556,
              "#d8576b"
             ],
             [
              0.6666666666666666,
              "#ed7953"
             ],
             [
              0.7777777777777778,
              "#fb9f3a"
             ],
             [
              0.8888888888888888,
              "#fdca26"
             ],
             [
              1,
              "#f0f921"
             ]
            ],
            "type": "contour"
           }
          ],
          "contourcarpet": [
           {
            "colorbar": {
             "outlinewidth": 0,
             "ticks": ""
            },
            "type": "contourcarpet"
           }
          ],
          "heatmap": [
           {
            "colorbar": {
             "outlinewidth": 0,
             "ticks": ""
            },
            "colorscale": [
             [
              0,
              "#0d0887"
             ],
             [
              0.1111111111111111,
              "#46039f"
             ],
             [
              0.2222222222222222,
              "#7201a8"
             ],
             [
              0.3333333333333333,
              "#9c179e"
             ],
             [
              0.4444444444444444,
              "#bd3786"
             ],
             [
              0.5555555555555556,
              "#d8576b"
             ],
             [
              0.6666666666666666,
              "#ed7953"
             ],
             [
              0.7777777777777778,
              "#fb9f3a"
             ],
             [
              0.8888888888888888,
              "#fdca26"
             ],
             [
              1,
              "#f0f921"
             ]
            ],
            "type": "heatmap"
           }
          ],
          "heatmapgl": [
           {
            "colorbar": {
             "outlinewidth": 0,
             "ticks": ""
            },
            "colorscale": [
             [
              0,
              "#0d0887"
             ],
             [
              0.1111111111111111,
              "#46039f"
             ],
             [
              0.2222222222222222,
              "#7201a8"
             ],
             [
              0.3333333333333333,
              "#9c179e"
             ],
             [
              0.4444444444444444,
              "#bd3786"
             ],
             [
              0.5555555555555556,
              "#d8576b"
             ],
             [
              0.6666666666666666,
              "#ed7953"
             ],
             [
              0.7777777777777778,
              "#fb9f3a"
             ],
             [
              0.8888888888888888,
              "#fdca26"
             ],
             [
              1,
              "#f0f921"
             ]
            ],
            "type": "heatmapgl"
           }
          ],
          "histogram": [
           {
            "marker": {
             "colorbar": {
              "outlinewidth": 0,
              "ticks": ""
             }
            },
            "type": "histogram"
           }
          ],
          "histogram2d": [
           {
            "colorbar": {
             "outlinewidth": 0,
             "ticks": ""
            },
            "colorscale": [
             [
              0,
              "#0d0887"
             ],
             [
              0.1111111111111111,
              "#46039f"
             ],
             [
              0.2222222222222222,
              "#7201a8"
             ],
             [
              0.3333333333333333,
              "#9c179e"
             ],
             [
              0.4444444444444444,
              "#bd3786"
             ],
             [
              0.5555555555555556,
              "#d8576b"
             ],
             [
              0.6666666666666666,
              "#ed7953"
             ],
             [
              0.7777777777777778,
              "#fb9f3a"
             ],
             [
              0.8888888888888888,
              "#fdca26"
             ],
             [
              1,
              "#f0f921"
             ]
            ],
            "type": "histogram2d"
           }
          ],
          "histogram2dcontour": [
           {
            "colorbar": {
             "outlinewidth": 0,
             "ticks": ""
            },
            "colorscale": [
             [
              0,
              "#0d0887"
             ],
             [
              0.1111111111111111,
              "#46039f"
             ],
             [
              0.2222222222222222,
              "#7201a8"
             ],
             [
              0.3333333333333333,
              "#9c179e"
             ],
             [
              0.4444444444444444,
              "#bd3786"
             ],
             [
              0.5555555555555556,
              "#d8576b"
             ],
             [
              0.6666666666666666,
              "#ed7953"
             ],
             [
              0.7777777777777778,
              "#fb9f3a"
             ],
             [
              0.8888888888888888,
              "#fdca26"
             ],
             [
              1,
              "#f0f921"
             ]
            ],
            "type": "histogram2dcontour"
           }
          ],
          "mesh3d": [
           {
            "colorbar": {
             "outlinewidth": 0,
             "ticks": ""
            },
            "type": "mesh3d"
           }
          ],
          "parcoords": [
           {
            "line": {
             "colorbar": {
              "outlinewidth": 0,
              "ticks": ""
             }
            },
            "type": "parcoords"
           }
          ],
          "pie": [
           {
            "automargin": true,
            "type": "pie"
           }
          ],
          "scatter": [
           {
            "marker": {
             "colorbar": {
              "outlinewidth": 0,
              "ticks": ""
             }
            },
            "type": "scatter"
           }
          ],
          "scatter3d": [
           {
            "line": {
             "colorbar": {
              "outlinewidth": 0,
              "ticks": ""
             }
            },
            "marker": {
             "colorbar": {
              "outlinewidth": 0,
              "ticks": ""
             }
            },
            "type": "scatter3d"
           }
          ],
          "scattercarpet": [
           {
            "marker": {
             "colorbar": {
              "outlinewidth": 0,
              "ticks": ""
             }
            },
            "type": "scattercarpet"
           }
          ],
          "scattergeo": [
           {
            "marker": {
             "colorbar": {
              "outlinewidth": 0,
              "ticks": ""
             }
            },
            "type": "scattergeo"
           }
          ],
          "scattergl": [
           {
            "marker": {
             "colorbar": {
              "outlinewidth": 0,
              "ticks": ""
             }
            },
            "type": "scattergl"
           }
          ],
          "scattermapbox": [
           {
            "marker": {
             "colorbar": {
              "outlinewidth": 0,
              "ticks": ""
             }
            },
            "type": "scattermapbox"
           }
          ],
          "scatterpolar": [
           {
            "marker": {
             "colorbar": {
              "outlinewidth": 0,
              "ticks": ""
             }
            },
            "type": "scatterpolar"
           }
          ],
          "scatterpolargl": [
           {
            "marker": {
             "colorbar": {
              "outlinewidth": 0,
              "ticks": ""
             }
            },
            "type": "scatterpolargl"
           }
          ],
          "scatterternary": [
           {
            "marker": {
             "colorbar": {
              "outlinewidth": 0,
              "ticks": ""
             }
            },
            "type": "scatterternary"
           }
          ],
          "surface": [
           {
            "colorbar": {
             "outlinewidth": 0,
             "ticks": ""
            },
            "colorscale": [
             [
              0,
              "#0d0887"
             ],
             [
              0.1111111111111111,
              "#46039f"
             ],
             [
              0.2222222222222222,
              "#7201a8"
             ],
             [
              0.3333333333333333,
              "#9c179e"
             ],
             [
              0.4444444444444444,
              "#bd3786"
             ],
             [
              0.5555555555555556,
              "#d8576b"
             ],
             [
              0.6666666666666666,
              "#ed7953"
             ],
             [
              0.7777777777777778,
              "#fb9f3a"
             ],
             [
              0.8888888888888888,
              "#fdca26"
             ],
             [
              1,
              "#f0f921"
             ]
            ],
            "type": "surface"
           }
          ],
          "table": [
           {
            "cells": {
             "fill": {
              "color": "#EBF0F8"
             },
             "line": {
              "color": "white"
             }
            },
            "header": {
             "fill": {
              "color": "#C8D4E3"
             },
             "line": {
              "color": "white"
             }
            },
            "type": "table"
           }
          ]
         },
         "layout": {
          "annotationdefaults": {
           "arrowcolor": "#2a3f5f",
           "arrowhead": 0,
           "arrowwidth": 1
          },
          "coloraxis": {
           "colorbar": {
            "outlinewidth": 0,
            "ticks": ""
           }
          },
          "colorscale": {
           "diverging": [
            [
             0,
             "#8e0152"
            ],
            [
             0.1,
             "#c51b7d"
            ],
            [
             0.2,
             "#de77ae"
            ],
            [
             0.3,
             "#f1b6da"
            ],
            [
             0.4,
             "#fde0ef"
            ],
            [
             0.5,
             "#f7f7f7"
            ],
            [
             0.6,
             "#e6f5d0"
            ],
            [
             0.7,
             "#b8e186"
            ],
            [
             0.8,
             "#7fbc41"
            ],
            [
             0.9,
             "#4d9221"
            ],
            [
             1,
             "#276419"
            ]
           ],
           "sequential": [
            [
             0,
             "#0d0887"
            ],
            [
             0.1111111111111111,
             "#46039f"
            ],
            [
             0.2222222222222222,
             "#7201a8"
            ],
            [
             0.3333333333333333,
             "#9c179e"
            ],
            [
             0.4444444444444444,
             "#bd3786"
            ],
            [
             0.5555555555555556,
             "#d8576b"
            ],
            [
             0.6666666666666666,
             "#ed7953"
            ],
            [
             0.7777777777777778,
             "#fb9f3a"
            ],
            [
             0.8888888888888888,
             "#fdca26"
            ],
            [
             1,
             "#f0f921"
            ]
           ],
           "sequentialminus": [
            [
             0,
             "#0d0887"
            ],
            [
             0.1111111111111111,
             "#46039f"
            ],
            [
             0.2222222222222222,
             "#7201a8"
            ],
            [
             0.3333333333333333,
             "#9c179e"
            ],
            [
             0.4444444444444444,
             "#bd3786"
            ],
            [
             0.5555555555555556,
             "#d8576b"
            ],
            [
             0.6666666666666666,
             "#ed7953"
            ],
            [
             0.7777777777777778,
             "#fb9f3a"
            ],
            [
             0.8888888888888888,
             "#fdca26"
            ],
            [
             1,
             "#f0f921"
            ]
           ]
          },
          "colorway": [
           "#636efa",
           "#EF553B",
           "#00cc96",
           "#ab63fa",
           "#FFA15A",
           "#19d3f3",
           "#FF6692",
           "#B6E880",
           "#FF97FF",
           "#FECB52"
          ],
          "font": {
           "color": "#2a3f5f"
          },
          "geo": {
           "bgcolor": "white",
           "lakecolor": "white",
           "landcolor": "#E5ECF6",
           "showlakes": true,
           "showland": true,
           "subunitcolor": "white"
          },
          "hoverlabel": {
           "align": "left"
          },
          "hovermode": "closest",
          "mapbox": {
           "style": "light"
          },
          "paper_bgcolor": "white",
          "plot_bgcolor": "#E5ECF6",
          "polar": {
           "angularaxis": {
            "gridcolor": "white",
            "linecolor": "white",
            "ticks": ""
           },
           "bgcolor": "#E5ECF6",
           "radialaxis": {
            "gridcolor": "white",
            "linecolor": "white",
            "ticks": ""
           }
          },
          "scene": {
           "xaxis": {
            "backgroundcolor": "#E5ECF6",
            "gridcolor": "white",
            "gridwidth": 2,
            "linecolor": "white",
            "showbackground": true,
            "ticks": "",
            "zerolinecolor": "white"
           },
           "yaxis": {
            "backgroundcolor": "#E5ECF6",
            "gridcolor": "white",
            "gridwidth": 2,
            "linecolor": "white",
            "showbackground": true,
            "ticks": "",
            "zerolinecolor": "white"
           },
           "zaxis": {
            "backgroundcolor": "#E5ECF6",
            "gridcolor": "white",
            "gridwidth": 2,
            "linecolor": "white",
            "showbackground": true,
            "ticks": "",
            "zerolinecolor": "white"
           }
          },
          "shapedefaults": {
           "line": {
            "color": "#2a3f5f"
           }
          },
          "ternary": {
           "aaxis": {
            "gridcolor": "white",
            "linecolor": "white",
            "ticks": ""
           },
           "baxis": {
            "gridcolor": "white",
            "linecolor": "white",
            "ticks": ""
           },
           "bgcolor": "#E5ECF6",
           "caxis": {
            "gridcolor": "white",
            "linecolor": "white",
            "ticks": ""
           }
          },
          "title": {
           "x": 0.05
          },
          "xaxis": {
           "automargin": true,
           "gridcolor": "white",
           "linecolor": "white",
           "ticks": "",
           "title": {
            "standoff": 15
           },
           "zerolinecolor": "white",
           "zerolinewidth": 2
          },
          "yaxis": {
           "automargin": true,
           "gridcolor": "white",
           "linecolor": "white",
           "ticks": "",
           "title": {
            "standoff": 15
           },
           "zerolinecolor": "white",
           "zerolinewidth": 2
          }
         }
        },
        "title": {
         "text": "country life magnesium 300 mg 60 vcp"
        },
        "xaxis": {
         "anchor": "y",
         "domain": [
          0,
          0.45
         ],
         "title": {
          "text": "Distribution of ARP vs Base ARP"
         }
        },
        "yaxis": {
         "anchor": "x",
         "domain": [
          0,
          1
         ],
         "title": {
          "text": "Dollars"
         }
        }
       }
      },
      "text/html": [
       "<div>\n",
       "        \n",
       "        \n",
       "            <div id=\"0c131dc6-ec84-4d67-854d-adf1d0032d33\" class=\"plotly-graph-div\" style=\"height:600px; width:100%;\"></div>\n",
       "            <script type=\"text/javascript\">\n",
       "                require([\"plotly\"], function(Plotly) {\n",
       "                    window.PLOTLYENV=window.PLOTLYENV || {};\n",
       "                    \n",
       "                if (document.getElementById(\"0c131dc6-ec84-4d67-854d-adf1d0032d33\")) {\n",
       "                    Plotly.newPlot(\n",
       "                        '0c131dc6-ec84-4d67-854d-adf1d0032d33',\n",
       "                        [{\"boxmean\": true, \"boxpoints\": \"all\", \"hovertext\": [\"greenacres - total us (corp)\", \"greens natural market - total us (corp)\", \"infra - total us (corp)\", \"natural grocers by vc - total us (corp)\", \"ncg - total us (corp)\", \"ncg - total us x-pcc (ban)\", \"ncg - pcc (ban)\", \"ncg - mid atlantic (rgn/mkt)\", \"ncg - north central (rgn/mkt)\", \"ncg - north east (rgn/mkt)\", \"ncg - north west (rgn/mkt)\", \"ncg - northwest x-pcc (rgn/mkt)\", \"ncg - south central (rgn/mkt)\", \"ncg - south east (rgn/mkt)\", \"ncg - south west (rgn/mkt)\", \"ncg - east rgn (rgn/mkt)\", \"ncg - central rgn (rgn/mkt)\", \"ncg - west x-pcc (rgn/mkt)\", \"new seasons markets + new leaf community markets - total us (corp)\", \"sprouts farmers market - total us w/o pl (corp)\", \"greenacres - total us (corp)\", \"greens natural market - total us (corp)\", \"infra - total us (corp)\", \"natural grocers by vc - total us (corp)\", \"ncg - total us (corp)\", \"ncg - total us x-pcc (ban)\", \"ncg - pcc (ban)\", \"ncg - mid atlantic (rgn/mkt)\", \"ncg - north central (rgn/mkt)\", \"ncg - north east (rgn/mkt)\", \"ncg - north west (rgn/mkt)\", \"ncg - northwest x-pcc (rgn/mkt)\", \"ncg - south central (rgn/mkt)\", \"ncg - south east (rgn/mkt)\", \"ncg - south west (rgn/mkt)\", \"ncg - east rgn (rgn/mkt)\", \"ncg - central rgn (rgn/mkt)\", \"ncg - west x-pcc (rgn/mkt)\", \"new seasons markets + new leaf community markets - total us (corp)\", \"sprouts farmers market - total us w/o pl (corp)\"], \"jitter\": 0.5, \"showlegend\": false, \"type\": \"box\", \"x\": [\"ARP\", \"ARP\", \"ARP\", \"ARP\", \"ARP\", \"ARP\", \"ARP\", \"ARP\", \"ARP\", \"ARP\", \"ARP\", \"ARP\", \"ARP\", \"ARP\", \"ARP\", \"ARP\", \"ARP\", \"ARP\", \"ARP\", \"ARP\", \"Base_ARP\", \"Base_ARP\", \"Base_ARP\", \"Base_ARP\", \"Base_ARP\", \"Base_ARP\", \"Base_ARP\", \"Base_ARP\", \"Base_ARP\", \"Base_ARP\", \"Base_ARP\", \"Base_ARP\", \"Base_ARP\", \"Base_ARP\", \"Base_ARP\", \"Base_ARP\", \"Base_ARP\", \"Base_ARP\", \"Base_ARP\", \"Base_ARP\"], \"xaxis\": \"x\", \"y\": [8.15, 10.21, 8.46, 7.45, 8.56, 8.35, 10.39, 8.7, 8.54, 8.32, 8.87, 7.93, 8.45, 8.18, 8.39, 8.37, 8.53, 8.12, 10.12, 7.93, 8.3, 10.29, 8.79, 7.76, 9.09, 8.95, 10.39, 9.27, 9.03, 9.33, 9.22, 8.5, 8.83, 8.68, 8.91, 9.16, 9.01, 8.67, 11.21, 8.36], \"yaxis\": \"y\"}, {\"line\": {\"color\": \"#000000\"}, \"mode\": \"lines\", \"name\": \"MSRP\", \"type\": \"scatter\", \"x\": [\"ARP\", \"Base_ARP\"], \"y\": [10.79, 10.79]}, {\"domain\": {\"x\": [0.55, 1.0], \"y\": [0.0, 1.0]}, \"labels\": [\"0-5% off\", \"5-10% 5-10% off\", \"10-15% off\", \"15-20% off\", \"20-25% off\", \"25-30% off\", \"30-35% off\", \"35-40% off\"], \"showlegend\": true, \"title\": {\"text\": \"Proportion MSRP Discounts\"}, \"type\": \"pie\", \"values\": [1, 2, 0, 2, 12, 2, 1, 0]}],\n",
       "                        {\"height\": 600, \"showlegend\": true, \"template\": {\"data\": {\"bar\": [{\"error_x\": {\"color\": \"#2a3f5f\"}, \"error_y\": {\"color\": \"#2a3f5f\"}, \"marker\": {\"line\": {\"color\": \"#E5ECF6\", \"width\": 0.5}}, \"type\": \"bar\"}], \"barpolar\": [{\"marker\": {\"line\": {\"color\": \"#E5ECF6\", \"width\": 0.5}}, \"type\": \"barpolar\"}], \"carpet\": [{\"aaxis\": {\"endlinecolor\": \"#2a3f5f\", \"gridcolor\": \"white\", \"linecolor\": \"white\", \"minorgridcolor\": \"white\", \"startlinecolor\": \"#2a3f5f\"}, \"baxis\": {\"endlinecolor\": \"#2a3f5f\", \"gridcolor\": \"white\", \"linecolor\": \"white\", \"minorgridcolor\": \"white\", \"startlinecolor\": \"#2a3f5f\"}, \"type\": \"carpet\"}], \"choropleth\": [{\"colorbar\": {\"outlinewidth\": 0, \"ticks\": \"\"}, \"type\": \"choropleth\"}], \"contour\": [{\"colorbar\": {\"outlinewidth\": 0, \"ticks\": \"\"}, \"colorscale\": [[0.0, \"#0d0887\"], [0.1111111111111111, \"#46039f\"], [0.2222222222222222, \"#7201a8\"], [0.3333333333333333, \"#9c179e\"], [0.4444444444444444, \"#bd3786\"], [0.5555555555555556, \"#d8576b\"], [0.6666666666666666, \"#ed7953\"], [0.7777777777777778, \"#fb9f3a\"], [0.8888888888888888, \"#fdca26\"], [1.0, \"#f0f921\"]], \"type\": \"contour\"}], \"contourcarpet\": [{\"colorbar\": {\"outlinewidth\": 0, \"ticks\": \"\"}, \"type\": \"contourcarpet\"}], \"heatmap\": [{\"colorbar\": {\"outlinewidth\": 0, \"ticks\": \"\"}, \"colorscale\": [[0.0, \"#0d0887\"], [0.1111111111111111, \"#46039f\"], [0.2222222222222222, \"#7201a8\"], [0.3333333333333333, \"#9c179e\"], [0.4444444444444444, \"#bd3786\"], [0.5555555555555556, \"#d8576b\"], [0.6666666666666666, \"#ed7953\"], [0.7777777777777778, \"#fb9f3a\"], [0.8888888888888888, \"#fdca26\"], [1.0, \"#f0f921\"]], \"type\": \"heatmap\"}], \"heatmapgl\": [{\"colorbar\": {\"outlinewidth\": 0, \"ticks\": \"\"}, \"colorscale\": [[0.0, \"#0d0887\"], [0.1111111111111111, \"#46039f\"], [0.2222222222222222, \"#7201a8\"], [0.3333333333333333, \"#9c179e\"], [0.4444444444444444, \"#bd3786\"], [0.5555555555555556, \"#d8576b\"], [0.6666666666666666, \"#ed7953\"], [0.7777777777777778, \"#fb9f3a\"], [0.8888888888888888, \"#fdca26\"], [1.0, \"#f0f921\"]], \"type\": \"heatmapgl\"}], \"histogram\": [{\"marker\": {\"colorbar\": {\"outlinewidth\": 0, \"ticks\": \"\"}}, \"type\": \"histogram\"}], \"histogram2d\": [{\"colorbar\": {\"outlinewidth\": 0, \"ticks\": \"\"}, \"colorscale\": [[0.0, \"#0d0887\"], [0.1111111111111111, \"#46039f\"], [0.2222222222222222, \"#7201a8\"], [0.3333333333333333, \"#9c179e\"], [0.4444444444444444, \"#bd3786\"], [0.5555555555555556, \"#d8576b\"], [0.6666666666666666, \"#ed7953\"], [0.7777777777777778, \"#fb9f3a\"], [0.8888888888888888, \"#fdca26\"], [1.0, \"#f0f921\"]], \"type\": \"histogram2d\"}], \"histogram2dcontour\": [{\"colorbar\": {\"outlinewidth\": 0, \"ticks\": \"\"}, \"colorscale\": [[0.0, \"#0d0887\"], [0.1111111111111111, \"#46039f\"], [0.2222222222222222, \"#7201a8\"], [0.3333333333333333, \"#9c179e\"], [0.4444444444444444, \"#bd3786\"], [0.5555555555555556, \"#d8576b\"], [0.6666666666666666, \"#ed7953\"], [0.7777777777777778, \"#fb9f3a\"], [0.8888888888888888, \"#fdca26\"], [1.0, \"#f0f921\"]], \"type\": \"histogram2dcontour\"}], \"mesh3d\": [{\"colorbar\": {\"outlinewidth\": 0, \"ticks\": \"\"}, \"type\": \"mesh3d\"}], \"parcoords\": [{\"line\": {\"colorbar\": {\"outlinewidth\": 0, \"ticks\": \"\"}}, \"type\": \"parcoords\"}], \"pie\": [{\"automargin\": true, \"type\": \"pie\"}], \"scatter\": [{\"marker\": {\"colorbar\": {\"outlinewidth\": 0, \"ticks\": \"\"}}, \"type\": \"scatter\"}], \"scatter3d\": [{\"line\": {\"colorbar\": {\"outlinewidth\": 0, \"ticks\": \"\"}}, \"marker\": {\"colorbar\": {\"outlinewidth\": 0, \"ticks\": \"\"}}, \"type\": \"scatter3d\"}], \"scattercarpet\": [{\"marker\": {\"colorbar\": {\"outlinewidth\": 0, \"ticks\": \"\"}}, \"type\": \"scattercarpet\"}], \"scattergeo\": [{\"marker\": {\"colorbar\": {\"outlinewidth\": 0, \"ticks\": \"\"}}, \"type\": \"scattergeo\"}], \"scattergl\": [{\"marker\": {\"colorbar\": {\"outlinewidth\": 0, \"ticks\": \"\"}}, \"type\": \"scattergl\"}], \"scattermapbox\": [{\"marker\": {\"colorbar\": {\"outlinewidth\": 0, \"ticks\": \"\"}}, \"type\": \"scattermapbox\"}], \"scatterpolar\": [{\"marker\": {\"colorbar\": {\"outlinewidth\": 0, \"ticks\": \"\"}}, \"type\": \"scatterpolar\"}], \"scatterpolargl\": [{\"marker\": {\"colorbar\": {\"outlinewidth\": 0, \"ticks\": \"\"}}, \"type\": \"scatterpolargl\"}], \"scatterternary\": [{\"marker\": {\"colorbar\": {\"outlinewidth\": 0, \"ticks\": \"\"}}, \"type\": \"scatterternary\"}], \"surface\": [{\"colorbar\": {\"outlinewidth\": 0, \"ticks\": \"\"}, \"colorscale\": [[0.0, \"#0d0887\"], [0.1111111111111111, \"#46039f\"], [0.2222222222222222, \"#7201a8\"], [0.3333333333333333, \"#9c179e\"], [0.4444444444444444, \"#bd3786\"], [0.5555555555555556, \"#d8576b\"], [0.6666666666666666, \"#ed7953\"], [0.7777777777777778, \"#fb9f3a\"], [0.8888888888888888, \"#fdca26\"], [1.0, \"#f0f921\"]], \"type\": \"surface\"}], \"table\": [{\"cells\": {\"fill\": {\"color\": \"#EBF0F8\"}, \"line\": {\"color\": \"white\"}}, \"header\": {\"fill\": {\"color\": \"#C8D4E3\"}, \"line\": {\"color\": \"white\"}}, \"type\": \"table\"}]}, \"layout\": {\"annotationdefaults\": {\"arrowcolor\": \"#2a3f5f\", \"arrowhead\": 0, \"arrowwidth\": 1}, \"coloraxis\": {\"colorbar\": {\"outlinewidth\": 0, \"ticks\": \"\"}}, \"colorscale\": {\"diverging\": [[0, \"#8e0152\"], [0.1, \"#c51b7d\"], [0.2, \"#de77ae\"], [0.3, \"#f1b6da\"], [0.4, \"#fde0ef\"], [0.5, \"#f7f7f7\"], [0.6, \"#e6f5d0\"], [0.7, \"#b8e186\"], [0.8, \"#7fbc41\"], [0.9, \"#4d9221\"], [1, \"#276419\"]], \"sequential\": [[0.0, \"#0d0887\"], [0.1111111111111111, \"#46039f\"], [0.2222222222222222, \"#7201a8\"], [0.3333333333333333, \"#9c179e\"], [0.4444444444444444, \"#bd3786\"], [0.5555555555555556, \"#d8576b\"], [0.6666666666666666, \"#ed7953\"], [0.7777777777777778, \"#fb9f3a\"], [0.8888888888888888, \"#fdca26\"], [1.0, \"#f0f921\"]], \"sequentialminus\": [[0.0, \"#0d0887\"], [0.1111111111111111, \"#46039f\"], [0.2222222222222222, \"#7201a8\"], [0.3333333333333333, \"#9c179e\"], [0.4444444444444444, \"#bd3786\"], [0.5555555555555556, \"#d8576b\"], [0.6666666666666666, \"#ed7953\"], [0.7777777777777778, \"#fb9f3a\"], [0.8888888888888888, \"#fdca26\"], [1.0, \"#f0f921\"]]}, \"colorway\": [\"#636efa\", \"#EF553B\", \"#00cc96\", \"#ab63fa\", \"#FFA15A\", \"#19d3f3\", \"#FF6692\", \"#B6E880\", \"#FF97FF\", \"#FECB52\"], \"font\": {\"color\": \"#2a3f5f\"}, \"geo\": {\"bgcolor\": \"white\", \"lakecolor\": \"white\", \"landcolor\": \"#E5ECF6\", \"showlakes\": true, \"showland\": true, \"subunitcolor\": \"white\"}, \"hoverlabel\": {\"align\": \"left\"}, \"hovermode\": \"closest\", \"mapbox\": {\"style\": \"light\"}, \"paper_bgcolor\": \"white\", \"plot_bgcolor\": \"#E5ECF6\", \"polar\": {\"angularaxis\": {\"gridcolor\": \"white\", \"linecolor\": \"white\", \"ticks\": \"\"}, \"bgcolor\": \"#E5ECF6\", \"radialaxis\": {\"gridcolor\": \"white\", \"linecolor\": \"white\", \"ticks\": \"\"}}, \"scene\": {\"xaxis\": {\"backgroundcolor\": \"#E5ECF6\", \"gridcolor\": \"white\", \"gridwidth\": 2, \"linecolor\": \"white\", \"showbackground\": true, \"ticks\": \"\", \"zerolinecolor\": \"white\"}, \"yaxis\": {\"backgroundcolor\": \"#E5ECF6\", \"gridcolor\": \"white\", \"gridwidth\": 2, \"linecolor\": \"white\", \"showbackground\": true, \"ticks\": \"\", \"zerolinecolor\": \"white\"}, \"zaxis\": {\"backgroundcolor\": \"#E5ECF6\", \"gridcolor\": \"white\", \"gridwidth\": 2, \"linecolor\": \"white\", \"showbackground\": true, \"ticks\": \"\", \"zerolinecolor\": \"white\"}}, \"shapedefaults\": {\"line\": {\"color\": \"#2a3f5f\"}}, \"ternary\": {\"aaxis\": {\"gridcolor\": \"white\", \"linecolor\": \"white\", \"ticks\": \"\"}, \"baxis\": {\"gridcolor\": \"white\", \"linecolor\": \"white\", \"ticks\": \"\"}, \"bgcolor\": \"#E5ECF6\", \"caxis\": {\"gridcolor\": \"white\", \"linecolor\": \"white\", \"ticks\": \"\"}}, \"title\": {\"x\": 0.05}, \"xaxis\": {\"automargin\": true, \"gridcolor\": \"white\", \"linecolor\": \"white\", \"ticks\": \"\", \"title\": {\"standoff\": 15}, \"zerolinecolor\": \"white\", \"zerolinewidth\": 2}, \"yaxis\": {\"automargin\": true, \"gridcolor\": \"white\", \"linecolor\": \"white\", \"ticks\": \"\", \"title\": {\"standoff\": 15}, \"zerolinecolor\": \"white\", \"zerolinewidth\": 2}}}, \"title\": {\"text\": \"country life magnesium 300 mg 60 vcp\"}, \"xaxis\": {\"anchor\": \"y\", \"domain\": [0.0, 0.45], \"title\": {\"text\": \"Distribution of ARP vs Base ARP\"}}, \"yaxis\": {\"anchor\": \"x\", \"domain\": [0.0, 1.0], \"title\": {\"text\": \"Dollars\"}}},\n",
       "                        {\"responsive\": true}\n",
       "                    ).then(function(){\n",
       "                            \n",
       "var gd = document.getElementById('0c131dc6-ec84-4d67-854d-adf1d0032d33');\n",
       "var x = new MutationObserver(function (mutations, observer) {{\n",
       "        var display = window.getComputedStyle(gd).display;\n",
       "        if (!display || display === 'none') {{\n",
       "            console.log([gd, 'removed!']);\n",
       "            Plotly.purge(gd);\n",
       "            observer.disconnect();\n",
       "        }}\n",
       "}});\n",
       "\n",
       "// Listen for the removal of the full notebook cells\n",
       "var notebookContainer = gd.closest('#notebook-container');\n",
       "if (notebookContainer) {{\n",
       "    x.observe(notebookContainer, {childList: true});\n",
       "}}\n",
       "\n",
       "// Listen for the clearing of the current output cell\n",
       "var outputEl = gd.closest('.output');\n",
       "if (outputEl) {{\n",
       "    x.observe(outputEl, {childList: true});\n",
       "}}\n",
       "\n",
       "                        })\n",
       "                };\n",
       "                });\n",
       "            </script>\n",
       "        </div>"
      ]
     },
     "metadata": {},
     "output_type": "display_data"
    },
    {
     "data": {
      "image/png": "[encoded data removed]",
      "text/plain": [
       "<Figure size 864x288 with 1 Axes>"
      ]
     },
     "metadata": {},
     "output_type": "display_data"
    },
    {
     "data": {
      "image/png": "[encoded data removed]",
      "text/plain": [
       "<Figure size 864x288 with 1 Axes>"
      ]
     },
     "metadata": {},
     "output_type": "display_data"
    }
   ],
   "source": [
    "single_product_analysis(items[0])\n"
   ]
  },
  {
   "cell_type": "code",
   "execution_count": null,
   "metadata": {},
   "outputs": [],
   "source": []
  },
  {
   "cell_type": "code",
   "execution_count": null,
   "metadata": {},
   "outputs": [],
   "source": [
    "single_product_analysis(items[1])"
   ]
  },
  {
   "cell_type": "code",
   "execution_count": null,
   "metadata": {},
   "outputs": [],
   "source": [
    "single_product_analysis(items[2])"
   ]
  },
  {
   "cell_type": "code",
   "execution_count": null,
   "metadata": {},
   "outputs": [],
   "source": [
    "single_product_analysis(items[3])"
   ]
  },
  {
   "cell_type": "code",
   "execution_count": null,
   "metadata": {},
   "outputs": [],
   "source": [
    "single_product_analysis(items[4])"
   ]
  },
  {
   "cell_type": "code",
   "execution_count": null,
   "metadata": {},
   "outputs": [],
   "source": [
    "single_product_analysis(items[5])"
   ]
  },
  {
   "cell_type": "code",
   "execution_count": null,
   "metadata": {},
   "outputs": [],
   "source": [
    "single_product_analysis(items[6])"
   ]
  },
  {
   "cell_type": "code",
   "execution_count": null,
   "metadata": {},
   "outputs": [],
   "source": [
    "single_product_analysis(items[7])"
   ]
  },
  {
   "cell_type": "code",
   "execution_count": null,
   "metadata": {},
   "outputs": [],
   "source": [
    "single_product_analysis(items[8])"
   ]
  },
  {
   "cell_type": "code",
   "execution_count": null,
   "metadata": {},
   "outputs": [],
   "source": [
    "single_product_analysis(items[9])"
   ]
  },
  {
   "cell_type": "code",
   "execution_count": null,
   "metadata": {},
   "outputs": [],
   "source": [
    "single_product_analysis(items[10])"
   ]
  },
  {
   "cell_type": "code",
   "execution_count": null,
   "metadata": {},
   "outputs": [],
   "source": [
    "single_product_analysis(items[11])"
   ]
  },
  {
   "cell_type": "code",
   "execution_count": null,
   "metadata": {},
   "outputs": [],
   "source": [
    "single_product_analysis(items[12])"
   ]
  },
  {
   "cell_type": "code",
   "execution_count": null,
   "metadata": {},
   "outputs": [],
   "source": [
    "single_product_analysis(items[13])"
   ]
  },
  {
   "cell_type": "code",
   "execution_count": null,
   "metadata": {},
   "outputs": [],
   "source": [
    "single_product_analysis(items[14])"
   ]
  },
  {
   "cell_type": "code",
   "execution_count": null,
   "metadata": {},
   "outputs": [],
   "source": [
    "single_product_analysis(items[15])"
   ]
  },
  {
   "cell_type": "code",
   "execution_count": null,
   "metadata": {},
   "outputs": [],
   "source": [
    "single_product_analysis(items[16])"
   ]
  },
  {
   "cell_type": "code",
   "execution_count": null,
   "metadata": {},
   "outputs": [],
   "source": [
    "single_product_analysis(items[17])"
   ]
  },
  {
   "cell_type": "code",
   "execution_count": null,
   "metadata": {},
   "outputs": [],
   "source": [
    "single_product_analysis(items[18])"
   ]
  },
  {
   "cell_type": "code",
   "execution_count": null,
   "metadata": {},
   "outputs": [],
   "source": [
    "single_product_analysis(items[19])"
   ]
  },
  {
   "cell_type": "code",
   "execution_count": null,
   "metadata": {},
   "outputs": [],
   "source": [
    "def make_plots(df,pie_frame):\n",
    "    fig = make_subplots(\n",
    "        rows=1, cols=2,\n",
    "        specs=[[{\"type\": \"box\"}, {\"type\": \"pie\"}]],\n",
    "    )\n",
    "\n",
    "    fig.add_trace(go.Box( x=df.Metric, \n",
    "                         y=df.amount, \n",
    "                         boxpoints =\"all\",\n",
    "                         hovertext = df[\"Geography\"],\n",
    "                         jitter =0.5,\n",
    "                         boxmean = True, \n",
    "                         showlegend=False,\n",
    "                       # hovertemplate = 'Geography: $%{geography}'\n",
    "                        ), \n",
    "                  row=1, col=1)\n",
    "    #adds a line to reprsentMSRP\n",
    "    fig.add_trace(go.Scatter(x=['ARP', 'Base_ARP'], y=[get_MSRP(df.loc[0,\"UPC\"]),get_MSRP(df.loc[0,\"UPC\"])],\n",
    "                             mode=\"lines\", name=\"MSRP\", line=dict(color=\"#000000\") ))\n",
    "    \n",
    "    #generates pie chart from calculated proportion data\n",
    "    fig.add_trace(go.Pie(values=pie_frame[\"count\"], labels =pie_frame[\"bins\"], showlegend=True,\n",
    "                         title_text =\"Proportion MSRP Discounts\"),\n",
    "                  row=1, col=2)\n",
    "    # Update xaxis properties\n",
    "    fig.update_xaxes(title_text=\"Distribution of ARP vs Base ARP\", row=1, col=1)\n",
    "    #fig.update(title_text=\"Proportion of ARP as percentage discount\",  row=1, col=2)\n",
    "\n",
    "    fig.update_yaxes(title_text=\"Dollars\", row=1, col=1)\n",
    "    #fig.update_yaxes(title_text=\"Proportion of ARP as percentage discount\",  row=1, col=2)\n",
    "\n",
    "    #label the plot\n",
    "    fig.update_layout(title_text=df[\"Item\"][0], height=600)\n",
    "    fig.update_layout(height=600, showlegend=True)\n",
    "\n",
    "    fig.show()"
   ]
  },
  {
   "cell_type": "code",
   "execution_count": null,
   "metadata": {},
   "outputs": [],
   "source": [
    "hovertemplate =\n",
    "    '<i>Price</i>: $%{y:.2f}"
   ]
  },
  {
   "cell_type": "code",
   "execution_count": null,
   "metadata": {},
   "outputs": [],
   "source": []
  },
  {
   "cell_type": "code",
   "execution_count": null,
   "metadata": {},
   "outputs": [],
   "source": []
  },
  {
   "cell_type": "code",
   "execution_count": null,
   "metadata": {},
   "outputs": [],
   "source": []
  },
  {
   "cell_type": "code",
   "execution_count": null,
   "metadata": {},
   "outputs": [],
   "source": []
  },
  {
   "cell_type": "code",
   "execution_count": null,
   "metadata": {},
   "outputs": [],
   "source": []
  },
  {
   "cell_type": "code",
   "execution_count": null,
   "metadata": {},
   "outputs": [],
   "source": []
  },
  {
   "cell_type": "code",
   "execution_count": null,
   "metadata": {},
   "outputs": [],
   "source": [
    "len(items)"
   ]
  },
  {
   "cell_type": "code",
   "execution_count": null,
   "metadata": {},
   "outputs": [],
   "source": [
    "# ''''df2 = pd.read_csv(\"/Users/GuntherUlvanget/country_life/country_life_spins/Sprouts_INFRA_24 weeks_ending_7_12_20.csv\", \n",
    "#                      sep = \",\", na_values = \"-\",\n",
    "#                  usecols= [  'Geography', 'Item_UPC', 'Brand', 'Subcategory',\n",
    "#        'AGE', 'FORM', 'FUNCTIONAL_INGREDIENT', 'FLAVOR', 'HEALTH_FOCUS',\n",
    "#        'Group', 'SIZE', 'Dollars', 'Dollars_Yago', 'Units', 'Units_Yago', 'Dollars_SPP', 'ARP',\n",
    "#        'ARP_Yago',  'Base_ARP',\n",
    "#        'Base_ARP_Yago'])\n",
    "       \n",
    "#        #df3 = process_data(\"/Users/GuntherUlvanget/country_life/country_life_spins/Sprouts_INFRA_24 weeks_ending_7_12_20.csv\")'''\n",
    "\n",
    "#df[\"ARP_percent_off_MSRP\"] = df[\"ARP\"].apply(lambda x: (1-(x/get_MSRP(\"2474\"))))\n",
    "#mag_df.head()\n",
    "                                                      \n",
    "\n",
    "#mag_df2 = sku_selcetor_ingredient(\"mag\",df)\n",
    "#mag_df3 = sku_singleton('2474', df)\n",
    "#mag_df3.head()\n",
    "\n",
    "#df[\"ARP_percent_off_MSRP\"] =  df[\"ARP\"].apply(lambda x: (1-(x/get_MSRP(\"2474\")))*100)\n",
    "#df['bins'] = pd.cut(df['ARP_percent_off_MSRP'],bins=[0,5,10,15,20,25,30,35,40], labels=[\"0-5%\",\"5-10%\",\"10-15%\",\"15-20%\",\"20-25%\",\"25-30%\", \"30-35%\",\"35-40\"])\n",
    "\n",
    "\n",
    "#mag_df3.reset_index(inplace = True)\n",
    "\n",
    "#mag_df3.loc[:,\"ARP_percent_off_MSRP\"] = (1-(mag_df3[\"ARP\"]/get_MSRP(\"2474\"))) *100\n",
    "\n",
    "#mag_df3['bins'] = pd.cut(mag_df3['ARP_percent_off_MSRP'],bins=[0,5,10,15,20,25,30,35,40], labels=[\"0-5%\",\"5-10%\",\"10-15%\",\"15-20%\",\"20-25%\",\"25-30%\", \"30-35%\",\"35-40\"])\n",
    "# ax = sns.boxplot(x='Metric', y='amount', data=mag_df3, showfliers = False)\n",
    "# ax = sns.stripplot(x='Metric', y='amount', data=mag_df3, color = \"black\", jitter = .1 )\n",
    "# ax.axhline(cl_top_seller[\"MSRP$\"][0])\n",
    "# #plt.title(mag_df3[\"Item\"][0])\n",
    "#mag_df3 = mag_df3.melt(id_vars=[\"UPC\", \"Item\",\"Geography\",'Brand', 'Subcategory'], var_name = \"Metric\" , value_name='amount')\n",
    "# cl_top_seller.loc[0,]\n",
    "# fig = px.box(mag_df3, x=\"Metric\", y=\"amount\", points=\"all\", title = mag_df3[\"Item\"][0])\n",
    "# fig.add_trace(go.Scatter(x=['ARP', 'Base_ARP'], y=[get_MSRP(\"2474\"),get_MSRP(\"2474\")], mode=\"lines\", name=\"MSRP\"))\n",
    "# fig.show()\n",
    "# mag_df3[\"Metric\"].unique()\n",
    "# mag_df3 = mag_df3.loc[mag_df3[\"Metric\"].isin(metric_to_use)].reset_index()\n",
    "# boot_strap_sample.plot_boot_strap_metric(single_sku_df[\"ARP\"].to_numpy())\n",
    "# boot_strap_sample.plot_boot_strap_metric(single_sku_df[\"ARP\"].to_numpy(), test_statistic=np.median)\n",
    "# pie = px.pie(data_frame= c,\n",
    "#             names = \"bins\"\n",
    "#             , values = \"count\",\n",
    "#             title = \"Breakdown of ARP as a percentage off MSRP\")\n",
    "\n",
    "# pie.show()\n",
    "\n",
    "# pie.title.position "
   ]
  },
  {
   "cell_type": "code",
   "execution_count": null,
   "metadata": {},
   "outputs": [],
   "source": [
    "# conn = psycopg2.connect(\"user='postgres' host='localhost'\")\n",
    "\n",
    "# cur = conn.cursor()\n",
    "\n",
    "# conn.autocommit = True\n",
    "# cur.execute('DROP DATABASE IF EXISTS spins;')\n",
    "# cur.execute('CREATE DATABASE spins;')\n",
    "\n",
    "# cur.close() # This is optional\n",
    "# conn.close() # Closing the connection also closes all cursors\n",
    "\n",
    "# conn = psycopg2.connect(\"dbname='spins' user='postgres' host='localhost'\")\n",
    "\n",
    "# cur = conn.cursor()\n",
    "\n",
    "#  # Inside insulinpricing database create a table with all of the \n",
    "#     #appropriate column names to match with the CSV file header. '\n",
    "# query = '''\n",
    "       \n",
    "# CREATE TABLE spins_data(Geography VARCHAR, \n",
    "# Item_UPC, \n",
    "# Brand, \n",
    "# Subcategory,\n",
    "# AGE, \n",
    "# FORM, \n",
    "# FUNCTIONAL_INGREDIENT, \n",
    "# FLAVOR, \n",
    "# HEALTH_FOCUS,\n",
    "# Group, \n",
    "# SIZE, \n",
    "# Dollars, \n",
    "# Dollars_Yago, \n",
    "# Units, \n",
    "# Units_Yago, \n",
    "# Dollars_SPP, \n",
    "# ARP,\n",
    "# ARP_Yago,  \n",
    "# Base_ARP,\n",
    "# Base_ARP_Yago)\n",
    "\n",
    "\n",
    "\n",
    "# (NDC_Description VARCHAR ,NDC VARCHAR, \n",
    "#     NADAC_Per_Unit NUMERIC, Effective_Date DATE,\n",
    "#     Pricing_Unit VARCHAR,Pharmacy_Type_Indicator VARCHAR,\n",
    "#     OTC VARCHAR,Explanation_Code VARCHAR,\n",
    "#     Classification_for_Rate_Setting VARCHAR,\n",
    "#     Corresponding_Generic_Drug_NADAC_Per_Unit NUMERIC,\n",
    "#     Corresponding_Generic_Drug_Effective_Date DATE,\n",
    "#     As_of_Date DATE);\n",
    "#         '''\n",
    "# cur.execute(query)"
   ]
  }
 ],
 "metadata": {
  "kernelspec": {
   "display_name": "Python 3",
   "language": "python",
   "name": "python3"
  },
  "language_info": {
   "codemirror_mode": {
    "name": "ipython",
    "version": 3
   },
   "file_extension": ".py",
   "mimetype": "text/x-python",
   "name": "python",
   "nbconvert_exporter": "python",
   "pygments_lexer": "ipython3",
   "version": "3.7.6"
  }
 },
 "nbformat": 4,
 "nbformat_minor": 4
}
