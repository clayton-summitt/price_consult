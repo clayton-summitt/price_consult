{
 "cells": [
  {
   "cell_type": "code",
   "execution_count": 207,
   "metadata": {
    "collapsed": true
   },
   "outputs": [],
   "source": [
    "import pandas as pd\n",
    "import numpy as np\n",
    "import seaborn as sns\n",
    "import matplotlib as mat\n",
    "\n",
    "#import psycopg2\n",
    "\n",
    "import seaborn as sns; sns.set()\n",
    "import matplotlib.pyplot as plt\n",
    "import datetime\n",
    "import scipy.stats\n",
    "from statistics import mean \n",
    "import plotly.express as px\n",
    "import plotly.graph_objects as go\n",
    "from plotly.subplots import make_subplots\n",
    "import chart_studio\n",
    "import plotly.io as pio\n",
    "\n",
    "import chart_studio.tools as tls"
   ]
  },
  {
   "cell_type": "code",
   "execution_count": 207,
   "metadata": {},
   "outputs": [],
   "source": [
    "#!/usr/bin/env python # coding: utf-8 # In[207]: \n",
    "import pandas as pd \n",
    "import numpy as np \n",
    "import seaborn as sns \n",
    "import matplotlib as mat \n",
    "#import psycopg2 \n",
    "import seaborn as sns; sns.set() \n",
    "import matplotlib.pyplot as plt \n",
    "import datetime \n",
    "import scipy.stats \n",
    "from statistics import mean \n",
    "import plotly.express as px \n",
    "import plotly.graph_objects as go \n",
    "from plotly.subplots import make_subplots \n",
    "import chart_studio \n",
    "import plotly.io as pio \n",
    "import chart_studio.tools as tls "
   ]
  },
  {
   "cell_type": "code",
   "execution_count": 206,
   "metadata": {},
   "outputs": [
    {
     "data": {
      "text/html": [
       "<script>\n",
       "code_show=true; \n",
       "function code_toggle() {\n",
       "    if (code_show){\n",
       "        $('div.cell.code_cell.rendered.selected div.input').hide();\n",
       "    } else {\n",
       "        $('div.cell.code_cell.rendered.selected div.input').show();\n",
       "    }\n",
       "    code_show = !code_show\n",
       "} \n",
       "$( document ).ready(code_toggle);\n",
       "</script>\n",
       "To show/hide this cell's raw code input, click <a href=\"javascript:code_toggle()\">here</a>."
      ],
      "text/plain": [
       "<IPython.core.display.HTML object>"
      ]
     },
     "metadata": {},
     "output_type": "display_data"
    },
    {
     "ename": "NameError",
     "evalue": "name 'py' is not defined",
     "output_type": "error",
     "traceback": [
      "\u001b[0;31m---------------------------------------------------------------------------\u001b[0m",
      "\u001b[0;31mNameError\u001b[0m                                 Traceback (most recent call last)",
      "\u001b[0;32m<ipython-input-206-583b0759661b>\u001b[0m in \u001b[0;36m<module>\u001b[0;34m\u001b[0m\n\u001b[1;32m    277\u001b[0m \u001b[0;31m#pio.write_html(fig, file='index.html', auto_open=True)\u001b[0m\u001b[0;34m\u001b[0m\u001b[0;34m\u001b[0m\u001b[0;34m\u001b[0m\u001b[0m\n\u001b[1;32m    278\u001b[0m \u001b[0;34m\u001b[0m\u001b[0m\n\u001b[0;32m--> 279\u001b[0;31m \u001b[0mpy\u001b[0m\u001b[0;34m.\u001b[0m\u001b[0mplot\u001b[0m\u001b[0;34m(\u001b[0m\u001b[0mfig\u001b[0m\u001b[0;34m,\u001b[0m \u001b[0mfilename\u001b[0m \u001b[0;34m=\u001b[0m \u001b[0;34m'mag_300_60'\u001b[0m\u001b[0;34m,\u001b[0m \u001b[0mauto_open\u001b[0m\u001b[0;34m=\u001b[0m\u001b[0;32mTrue\u001b[0m\u001b[0;34m)\u001b[0m\u001b[0;34m\u001b[0m\u001b[0;34m\u001b[0m\u001b[0m\n\u001b[0m",
      "\u001b[0;31mNameError\u001b[0m: name 'py' is not defined"
     ]
    }
   ],
   "source": [
    "from IPython.display import HTML\n",
    "from IPython.display import display\n",
    "\n",
    "# Taken from https://stackoverflow.com/questions/31517194/how-to-hide-one-specific-cell-input-or-output-in-ipython-notebook\n",
    "tag = HTML('''<script>\n",
    "code_show=true; \n",
    "function code_toggle() {\n",
    "    if (code_show){\n",
    "        $('div.cell.code_cell.rendered.selected div.input').hide();\n",
    "    } else {\n",
    "        $('div.cell.code_cell.rendered.selected div.input').show();\n",
    "    }\n",
    "    code_show = !code_show\n",
    "} \n",
    "$( document ).ready(code_toggle);\n",
    "</script>\n",
    "To show/hide this cell's raw code input, click <a href=\"javascript:code_toggle()\">here</a>.''')\n",
    "display(tag)\n",
    "\n",
    "############### Write code below ##################\n",
    "\n",
    "\n",
    "import sys  \n",
    "\n",
    "sys.path.insert(0, '/Users/GuntherUlvanget/country_life/price_consult')\n",
    "\n",
    "import boot_strap_sample\n",
    "import warnings\n",
    "warnings.filterwarnings('ignore')\n",
    "\n",
    "\n",
    "\n",
    "\n",
    "\n",
    "\n",
    "def clean_CL_UPC(df):\n",
    "\t#to match items in SPINS data, CL starts with Leading zero\n",
    "\n",
    "\tdf[\"UPC\"] = df[\"UPC\"].apply(str)\n",
    "\tdf[\"UPC\"] = df[\"UPC\"].apply(lambda x : x[:-1])\n",
    "\tdf[\"UPC\"] = df[\"UPC\"].apply(lambda x : \"0\" + x)\n",
    "\tcolumn_name = \"UPC\"\n",
    "\tfirst = df.pop(column_name)\n",
    "\tdf.insert(0, column_name, first)\n",
    "\tdf[\"MSRP$\"] = df[\"MSRP$\"].str.lstrip('$')\n",
    "\tdf[\"WSP$\"] = df[\"WSP$\"].str.lstrip('$')\n",
    "\tdf[\"MSRP$\"] = df[\"MSRP$\"].apply(float)\n",
    "\tdf[\"WSP$\"] = df[\"WSP$\"].apply(float)\n",
    "\tdf[\"Unit Size\"] = df[\"Unit Size\"].apply(int)\n",
    "    \n",
    "    \n",
    "def process_data(file_path_todata):\n",
    "    df = pd.read_csv(file_path_todata, \n",
    "        sep = \",\", \n",
    "        na_values = \"-\",\n",
    "       usecols= [  'Geography', 'Item_UPC', 'Brand', 'Subcategory',\n",
    "           'AGE', 'FORM', 'FUNCTIONAL_INGREDIENT', 'FLAVOR', 'HEALTH_FOCUS',\n",
    "        'Group', 'SIZE', 'Dollars', 'Dollars_Yago', 'Units', 'Units_Yago', 'Dollars_SPP', 'ARP',\n",
    "        'ARP_Yago',  'Base_ARP',\n",
    "        'Base_ARP_Yago']\n",
    "         )\n",
    "\n",
    "    df.dropna(axis = 0, how = \"all\", inplace=True)\n",
    "    return df\n",
    "\n",
    "def clean_spins_upc(df):\n",
    "\t#take in a dataframe, expand the number of columns into a temp\n",
    "\t#datafram\n",
    "\ttemp = df[\"Item_UPC\"].str.rsplit(\" \", n=1, expand = True)\n",
    "    #df[\"Item_cleaned\"] = df.apply(lambda x: x.Item_UPC.lstrip(x.Brand.lower()), axis=1)\n",
    "\t#add columns  to main dataframe from Temp\n",
    "\tdf.insert(0, \"UPC\", temp[1])\n",
    "\tdf.insert(1, \"Item\", temp[0])\n",
    "\n",
    "\t#drop original combined column\n",
    "\tdf.drop(columns= [\"Item_UPC\"], inplace=True)\n",
    "\t#SPINS data adds a leading zero to UPC and includes hypen. \n",
    "\t#neither are needed for analysis.\n",
    "\tdf[\"UPC\"]= df[\"UPC\"].apply(lambda x : x[1:] if x.startswith(\"0\") else x)\n",
    "\tdf[\"UPC\"]=df[\"UPC\"].apply(lambda x :x.replace('-', ''))\n",
    "\tcol_names = df.columns\n",
    "    #make all columns lower case to ease searching\n",
    "\tfor cols in col_names:\n",
    "\t    df[cols] = df[cols].apply(lambda x: x.lower() if type(x) == str else x)\n",
    "        \n",
    "        \n",
    "def item_cleanup_is_in(x):\n",
    "        if x[0] not in x[3] and x[1] not in x[3]:\n",
    "            return x[0] + \" \"+ x[1] + \" \"+ x[2]\n",
    "        elif x[0] in x[3] and x[1] in x[3]:\n",
    "            return x[2]\n",
    "        elif x[0] in x[3] and x[1] not in x[3]:\n",
    "            return x[1]  + \" \" +x[2] \n",
    "\n",
    "\n",
    "def clean_up_item(df):\n",
    "\n",
    "    #split cells and expand to clean up brands with >1 name ie Garden Of Life into 2 columns\n",
    "    temp = df[\"Item\"].str.split(\" \", n=3, expand = True)\n",
    "    brand_temp = df[\"Brand\"].str.split(\" \", n = 1, expand = True)\n",
    "\n",
    "    #drop first columns as these should match\n",
    "\n",
    "    temp.drop(columns = [0], inplace = True)\n",
    "    brand_temp.drop(columns = [0], inplace = True)\n",
    "\n",
    "    #and rename columns to concatenate\n",
    "    temp.rename(columns = {1:0, 2:1, 3:2}, inplace = True)\n",
    "    brand_temp.rename(columns = {1:3}, inplace = True)\n",
    "\n",
    "    #remove none type objects from dataframe introduced by pandas.DataFrame.str.split() method\n",
    "    temp[0] = temp[0].apply(lambda s: ' ' if s is None else str(s))\n",
    "    temp[1] = temp[1].apply(lambda s: ' ' if s is None else str(s))\n",
    "    temp[2] = temp[2].apply(lambda s: ' ' if s is None else str(s))\n",
    "    brand_temp[3] = brand_temp[3].apply(lambda s: ' ' if s is None else str(s))\n",
    "    #combine brand_temp and  temp df into 1 dataframe\n",
    "    frames = [temp,brand_temp]\n",
    "    result = pd.concat(frames, axis=1, join='inner')\n",
    "\n",
    "\n",
    "    #remove brand names from columns\n",
    "    temp[2] = result.apply(lambda x: item_cleanup_is_in(x), axis = 1)\n",
    "    df.drop(columns= [\"Item\"], inplace=True)\n",
    "    df.insert(2, \"Item\", temp[2])\n",
    "            \n",
    "        \n",
    "def sku_selcetor_ingredient(FUNCTIONAL_INGREDIENT, df):\n",
    "\t'''Functional ingredient can be a shortened description like cal for calcium\n",
    "\tor mag for magnesium. this will select all Items that contain the string entered'''\n",
    "\tcl_df = df[df[\"Brand\"].str.contains(\"country life\")]\n",
    "\ttemp_df = cl_df[cl_df[\"Item\"].str.contains(FUNCTIONAL_INGREDIENT)]\n",
    "\t\n",
    "\treturn temp_df\n",
    "\n",
    "\n",
    "def sku_singleton_MSRP_proportions(item_id,df, brand = \"country life\"):\n",
    "    '''Select a single SKU to examine, item ID can be either full UPC or catalog ID\n",
    "    df = the dataframe you are subsetting'''\n",
    "    #df = df[df[\"Brand\"].str.contains(brand)]\n",
    "    df = df[df[\"UPC\"].str.contains(item_id)].reset_index()\n",
    "    df.dropna(inplace = True)\n",
    "    df.loc[:, \"ARP_percent_off_MSRP\"] =  df.loc[:,\"ARP\"].apply(lambda x: (1-(x/get_MSRP(item_id)))*100)\n",
    "    #df['bins'] = pd.cut(df['ARP_percent_off_MSRP'],bins=[0,5,10,15,20,25,30,35,40], labels=[\"0-5%\",\"5-10%\",\"10-15%\",\"15-20%\",\"20-25%\",\"25-30%\", \"30-35%\",\"35-40\"])\n",
    "    df.loc[:,'bins'] = pd.cut(df['ARP_percent_off_MSRP'],bins=[0,5,10,15,20,25,30,35,40], labels=[\"0-5% off\",\"5-10% 5-10% off\",\"10-15% off\",\"15-20% off\",\"20-25% off\",\"25-30% off\", \"30-35% off\",\"35-40% off\"])\n",
    "    \n",
    "    return df\n",
    "\n",
    "def sku_singleton(item_id,df, brand = \"country life\"):\n",
    "    '''Select a single SKU to examine, item ID can be either full UPC or catalog ID\n",
    "    df = the dataframe you are subsetting'''\n",
    "    #df = df[df[\"Brand\"].str.contains(brand)]\n",
    "    df = df[df[\"UPC\"].str.contains(item_id)].reset_index()\n",
    "    df.dropna(inplace = True)\n",
    "    df.loc[:, \"ARP_percent_off_MSRP\"] =  df.loc[:,\"ARP\"].apply(lambda x: (1-(x/get_MSRP(item_id)))*100)\n",
    "    #df['bins'] = pd.cut(df['ARP_percent_off_MSRP'],bins=[0,5,10,15,20,25,30,35,40], labels=[\"0-5%\",\"5-10%\",\"10-15%\",\"15-20%\",\"20-25%\",\"25-30%\", \"30-35%\",\"35-40\"])\n",
    "    df.loc[:,'bins'] = pd.cut(df['ARP_percent_off_MSRP'],bins=[0,5,10,15,20,25,30,35,40], labels=[\"0-5% off\",\"5-10% 5-10% off\",\"10-15% off\",\"15-20% off\",\"20-25% off\",\"25-30% off\", \"30-35% off\",\"35-40% off\"])\n",
    "    \n",
    "    return df\n",
    "def get_MSRP(item_id ):\n",
    "\ttemp = cl_top_seller[cl_top_seller.loc[:,\"UPC\"].str.contains(item_id)].reset_index()\n",
    "\treturn temp[\"MSRP$\"][0]\n",
    "\n",
    "\n",
    "def sub_set_metrics_of_interest(df, metric_to_use = ['ARP']):\n",
    "\treturn df.loc[df[\"Metric\"].isin(metric_to_use)].reset_index()\n",
    "\n",
    "def easy_melt(df):\n",
    "\t#return df.melt(id_vars=[\"UPC\", \"Item\",\"Geography\",'Brand', 'Subcategory'], var_name = \"Metric\" , value_name='amount')\n",
    "\n",
    "\treturn df.melt(id_vars=[ \"Item\",\"Geography\", 'Subcategory'], var_name = \"Metric\" , value_name='amount')\n",
    "\n",
    "def get_discount_proportions(df):\n",
    "    ''' Takes in a dataframe, returns a smaller dataframe'''\n",
    "    group_by_df =df.groupby(\"bins\").size()\n",
    "    #groups are stored in the index, values in series\n",
    "    #extract groups\n",
    "    groups = pd.DataFrame(group_by_df).index\n",
    "    final = group_by_df.to_frame().join(groups.to_frame())\n",
    "    #rename column 0 for extracting data in pie chart\n",
    "    final.rename(columns = {0:\"count\"}, inplace = True )\n",
    "    return final\n",
    "\n",
    "def subset_for_boxplots(df):\n",
    "    metric_to_use = ['ARP']\n",
    "    df = df[df[\"Metric\"].isin(metric_to_use)].reset_index()\n",
    "\n",
    "    return df\n",
    "\n",
    "def cl_box_plot(df):\n",
    "    fig = px.box(df, x=\"Metric\", y=\"amount\", points=\"all\", title = df[\"Item\"][0])\n",
    "    fig.add_trace(go.Scatter(x=['ARP'], y=[get_MSRP(df.loc[0,\"UPC\"]),get_MSRP(df.loc[0,\"UPC\"])], mode=\"lines\", name=\"MSRP\"))\n",
    "    fig.show()\n",
    "    \n",
    "def make_plots(df,pie_frame):\n",
    "    fig = make_subplots(\n",
    "        rows=1, cols=2,\n",
    "        specs=[[{\"type\": \"box\"}, {\"type\": \"pie\"}]],\n",
    "    )\n",
    "\n",
    "    fig.add_trace(go.Box( x=df.Metric, \n",
    "                         y=df.amount, \n",
    "                         boxpoints =\"all\",\n",
    "                         hovertext = df[\"Geography\"],\n",
    "                         jitter =0.5,\n",
    "                         boxmean = True, \n",
    "                         showlegend=False,\n",
    "                       # hovertemplate = 'Geography: $%{geography}'\n",
    "                        ), \n",
    "                  row=1, col=1)\n",
    "    #adds a line to reprsentMSRP\n",
    "    #fig.add_trace(go.Scatter(x=['ARP'], y=[get_MSRP(df.loc[0,\"UPC\"]),get_MSRP(df.loc[0,\"UPC\"])],\n",
    "     #                        mode=\"lines\", name=\"MSRP\", line=dict(color=\"#000000\") ))\n",
    "    \n",
    "    #generates pie chart from calculated proportion data\n",
    "    fig.add_trace(go.Pie(values=pie_frame[\"count\"], labels =pie_frame[\"bins\"], showlegend=True,\n",
    "                         title_text =\"Proportion MSRP Discounts\"),\n",
    "                  row=1, col=2)\n",
    "    # Update xaxis properties\n",
    "    fig.update_xaxes(title_text=\"Distribution of ARP vs Base ARP\", row=1, col=1)\n",
    "    #fig.update(title_text=\"Proportion of ARP as percentage discount\",  row=1, col=2)\n",
    "\n",
    "    fig.update_yaxes(title_text=\"Dollars\", row=1, col=1)\n",
    "    #fig.update_yaxes(title_text=\"Proportion of ARP as percentage discount\",  row=1, col=2)\n",
    "\n",
    "    #label the plot\n",
    "    fig.update_layout(title_text=df[\"Item\"][0], height=600)\n",
    "    fig.update_layout(height=600, showlegend=True)\n",
    "\n",
    "    fig.show()\n",
    "    #pio.write_html(fig, file=df[\"Item\"][0]+'.html', auto_open=True)\n",
    "    \n",
    "  \n",
    "\n",
    "  \n",
    "def Average(lst): \n",
    "    return mean(lst) \n",
    "\n",
    "def single_product_analysis(item_id ,df, code = 0):\n",
    "    '''\n",
    "    code = 0 is for item UPC, code = 1 is for item_id numbers\n",
    "    '''\n",
    "    \n",
    "    if code == 0:\n",
    "        single_sku_df = sku_singleton((str(item_id)),df)\n",
    "    \n",
    "    else:\n",
    "        single_sku_df = sku_singleton((\"0\"+str(item_id)),df)\n",
    "    pie_frame = get_discount_proportions(single_sku_df)\n",
    "\n",
    "    melted_df = easy_melt(single_sku_df)\n",
    "\n",
    "\n",
    "\n",
    "    subset_df_forplot = subset_for_boxplots(melted_df)\n",
    "\n",
    "    make_plots(subset_df_forplot, pie_frame)\n",
    "    boot_strap_sample.plot_bootstrap_mean(single_sku_df[\"ARP\"].to_numpy())\n",
    "    boot_strap_sample.plot_bootstrap_median(single_sku_df[\"ARP\"].to_numpy(), test_statistic=np.median)\n",
    "    \n",
    "def calculate_mean(item_id):\n",
    "    single_sku_df = sku_singleton((\"0\"+str(item_id)),df)\n",
    "    means, ci = boot_strap_sample.bootstrap_ci(single_sku_df[\"ARP\"].to_numpy())\n",
    "    return round(Average(means),2)\n",
    "\n",
    "\n",
    "\n",
    "#single_sku_df = sku_singleton(str(2474),df)\n",
    "#means, ci = boot_strap_sample.bootstrap_ci(single_sku_df[\"ARP\"].to_numpy())\n",
    "#estimates = [calculate_mean(item) for item in items]\n",
    "\n",
    "\n",
    "#cl_top_seller.loc[:,'Price in Marketplace'] = np.asarray(estimates)\n",
    "#cl_top_seller.to_excel(\"Top Sellers with Price in Marketplace.xlsx\", index = False)\n",
    "\n",
    "#'''Save the code below for creating plotly files'''\n",
    "#chart_studio.tools.set_credentials_file(username=username, api_key=api_key)\n",
    "#pio.write_html(fig, file='index.html', auto_open=True)\n",
    "\n",
    "py.plot(fig, filename = 'mag_300_60', auto_open=True)"
   ]
  },
  {
   "cell_type": "code",
   "execution_count": 12,
   "metadata": {
    "collapsed": true
   },
   "outputs": [],
   "source": []
  },
  {
   "cell_type": "code",
   "execution_count": null,
   "metadata": {},
   "outputs": [],
   "source": [
    "cl_top_seller = pd.read_csv(\"/Users/GuntherUlvanget/country_life/country_life_spins/Country Life Top Seller's Price File.csv\", sep = \",\")\n",
    "clean_CL_UPC(cl_top_seller)\n",
    "\n",
    "\n",
    "df = pd.read_csv(\"/Users/GuntherUlvanget/country_life/country_life_spins/Retailer_Report_24 Weeks_7_12_2020.csv\", \n",
    "                 sep = \",\", na_values=\"-\", usecols= [ 'Geography', 'Item UPC', 'Brand', 'Subcategory',\n",
    "       'Dollars', 'Dollars, Yago', 'Units', 'Units, Yago', 'Dollars SPP', 'Dollars SPP, Yago',  'ARP',\n",
    "       'ARP, Yago',   'Base ARP','Base ARP, Yago'])\n",
    "df.rename(columns =  {'Item UPC': 'Item_UPC', \n",
    "                      'Dollars, Yago':'Dollars_Yago', \n",
    "                      'Units, Yago':'Units_Yago', \n",
    "                      'Dollars SPP':'Dollars_SPP', \n",
    "                      'Dollars SPP, Yago': 'Dollars_SPP_Yago', \n",
    "                      'ARP, Yago': 'ARP_Yago',  \n",
    "                      'Base ARP': 'Base_ARP',\n",
    "                      'Base ARP, Yago':'BaseARP_Yago'},\n",
    "         inplace= True)\n",
    "clean_spins_upc(df)\n",
    "clean_up_item(df)"
   ]
  },
  {
   "cell_type": "code",
   "execution_count": 201,
   "metadata": {},
   "outputs": [
    {
     "data": {
      "text/plain": [
       "[2474,\n",
       " 2475,\n",
       " 2659,\n",
       " 2488,\n",
       " 3491,\n",
       " 3492,\n",
       " 5045,\n",
       " 5070,\n",
       " 5805,\n",
       " 5806,\n",
       " 5808,\n",
       " 6418,\n",
       " 6419,\n",
       " 6507,\n",
       " 6508,\n",
       " 8190,\n",
       " 8192,\n",
       " 8194,\n",
       " 8196,\n",
       " 9123]"
      ]
     },
     "execution_count": 201,
     "metadata": {},
     "output_type": "execute_result"
    }
   ],
   "source": [
    "items =[item for item in cl_top_seller[\"Item#\"] ]\n",
    "items"
   ]
  },
  {
   "cell_type": "code",
   "execution_count": 73,
   "metadata": {
    "collapsed": true
   },
   "outputs": [],
   "source": []
  },
  {
   "cell_type": "code",
   "execution_count": 168,
   "metadata": {
    "collapsed": true
   },
   "outputs": [],
   "source": [
    "c_df = competition_sku_singleton(upc_list,comp_analysis_df )\n",
    "\n",
    "melt_c_df = easy_melt(c_df)\n",
    "\n",
    "melt_c_df[\"Metric\"].unique()\n",
    "\n",
    "df.melt(id_vars=['UPC', \"Item\",\"Geography\", 'Subcategory'], var_name = \"Metric\" , value_name='amount')\n",
    "\n",
    "subset_for_boxplots(melt_c_df)\n",
    "\n",
    "\n",
    "\n",
    "\n",
    "\n",
    "\n",
    "\n",
    "\n",
    "\n",
    "\n",
    "\n",
    "\n",
    "\n",
    "\n",
    "\n",
    "competition_single_product_analysis([\"97467033\"], comp_analysis_df)\n",
    "\n",
    "comp_analysis_df"
   ]
  },
  {
   "cell_type": "code",
   "execution_count": 44,
   "metadata": {
    "collapsed": true
   },
   "outputs": [
    {
     "data": {
      "text/html": [
       "<div>\n",
       "<style scoped>\n",
       "    .dataframe tbody tr th:only-of-type {\n",
       "        vertical-align: middle;\n",
       "    }\n",
       "\n",
       "    .dataframe tbody tr th {\n",
       "        vertical-align: top;\n",
       "    }\n",
       "\n",
       "    .dataframe thead th {\n",
       "        text-align: right;\n",
       "    }\n",
       "</style>\n",
       "<table border=\"1\" class=\"dataframe\">\n",
       "  <thead>\n",
       "    <tr style=\"text-align: right;\">\n",
       "      <th></th>\n",
       "      <th>UPC</th>\n",
       "      <th>Item</th>\n",
       "      <th>Geography</th>\n",
       "      <th>Brand</th>\n",
       "      <th>Subcategory</th>\n",
       "      <th>Metric</th>\n",
       "      <th>amount</th>\n",
       "    </tr>\n",
       "  </thead>\n",
       "  <tbody>\n",
       "    <tr>\n",
       "      <th>0</th>\n",
       "      <td>00004020402</td>\n",
       "      <td>single hemp pre roll</td>\n",
       "      <td>infra - total us (corp)</td>\n",
       "      <td>tennessee homegrown</td>\n",
       "      <td>supplements oils</td>\n",
       "      <td>index</td>\n",
       "      <td>43991</td>\n",
       "    </tr>\n",
       "    <tr>\n",
       "      <th>1</th>\n",
       "      <td>00004020402</td>\n",
       "      <td>single hemp pre roll</td>\n",
       "      <td>infra - total us (corp)</td>\n",
       "      <td>tennessee homegrown</td>\n",
       "      <td>supplements oils</td>\n",
       "      <td>ARP</td>\n",
       "      <td>$6.09</td>\n",
       "    </tr>\n",
       "  </tbody>\n",
       "</table>\n",
       "</div>"
      ],
      "text/plain": [
       "           UPC                  Item                Geography  \\\n",
       "0  00004020402  single hemp pre roll  infra - total us (corp)   \n",
       "1  00004020402  single hemp pre roll  infra - total us (corp)   \n",
       "\n",
       "                 Brand       Subcategory Metric  amount  \n",
       "0  tennessee homegrown  supplements oils  index   43991  \n",
       "1  tennessee homegrown  supplements oils    ARP  $6.09   "
      ]
     },
     "execution_count": 44,
     "metadata": {},
     "output_type": "execute_result"
    }
   ],
   "source": [
    "easy_melt(comp_analysis_df)"
   ]
  },
  {
   "cell_type": "code",
   "execution_count": null,
   "metadata": {
    "collapsed": true
   },
   "outputs": [],
   "source": [
    "#cl_top_seller.loc[:,'Price in Marketplace'] = np.asarray(estimates)\n",
    "#cl_top_seller"
   ]
  },
  {
   "cell_type": "code",
   "execution_count": 2,
   "metadata": {
    "collapsed": true
   },
   "outputs": [
    {
     "ename": "NameError",
     "evalue": "name 'items' is not defined",
     "output_type": "error",
     "traceback": [
      "\u001b[0;31m---------------------------------------------------------------------------\u001b[0m",
      "\u001b[0;31mNameError\u001b[0m                                 Traceback (most recent call last)",
      "\u001b[0;32m<ipython-input-2-5dbb89d7bbf9>\u001b[0m in \u001b[0;36m<module>\u001b[0;34m\u001b[0m\n\u001b[0;32m----> 1\u001b[0;31m \u001b[0mitems\u001b[0m\u001b[0;34m[\u001b[0m\u001b[0;36m0\u001b[0m\u001b[0;34m]\u001b[0m\u001b[0;34m\u001b[0m\u001b[0;34m\u001b[0m\u001b[0m\n\u001b[0m",
      "\u001b[0;31mNameError\u001b[0m: name 'items' is not defined"
     ]
    }
   ],
   "source": [
    "items[0]"
   ]
  },
  {
   "cell_type": "code",
   "execution_count": null,
   "metadata": {
    "collapsed": true
   },
   "outputs": [],
   "source": [
    "sku_singleton('2474', df)\n"
   ]
  },
  {
   "cell_type": "markdown",
   "metadata": {},
   "source": [
    "### Examining 24 weeks of SPINS data to estimate customer pricing.\n"
   ]
  },
  {
   "cell_type": "code",
   "execution_count": null,
   "metadata": {
    "collapsed": true
   },
   "outputs": [],
   "source": []
  },
  {
   "cell_type": "markdown",
   "metadata": {},
   "source": [
    "Using data collected, aggregated and summarised by SPINS we attempted to estimate two statistics from the sample data. The mean or average retail price and the median price a random consumer would pay for the item. We chose these two metrics as the range of prices is skewed to the right, with the majority of the top selling products showing this skewd distribution of pricing. For each item we show an interactive box plot, each boxplot shows the range in which products lie, the upper and lower whickers cover 95% of the distribution, the shaded region represents data from the first quartile to the 3rd quartile, the dashed line respresnts the mean price and the solid line the median price. Included in this graph is a black bar representing the MSRP. We have included the SPINS Base SRP,an estimation of retailer pricing with out retailer promotions.\n",
    "\n",
    "We then added a pie chart to show the breakdown of pricing paid as it relates to the MSRP. A quick glance shows the majority of products purchased have an average retail price at least 20-25% off \n"
   ]
  },
  {
   "cell_type": "code",
   "execution_count": 197,
   "metadata": {
    "collapsed": true
   },
   "outputs": [
    {
     "ename": "IndexError",
     "evalue": "index out of bounds",
     "output_type": "error",
     "traceback": [
      "\u001b[0;31m---------------------------------------------------------------------------\u001b[0m",
      "\u001b[0;31mKeyError\u001b[0m                                  Traceback (most recent call last)",
      "\u001b[0;32m~/anaconda3/lib/python3.7/site-packages/pandas/core/indexes/base.py\u001b[0m in \u001b[0;36mget_value\u001b[0;34m(self, series, key)\u001b[0m\n\u001b[1;32m   4404\u001b[0m         \u001b[0;32mtry\u001b[0m\u001b[0;34m:\u001b[0m\u001b[0;34m\u001b[0m\u001b[0;34m\u001b[0m\u001b[0m\n\u001b[0;32m-> 4405\u001b[0;31m             \u001b[0;32mreturn\u001b[0m \u001b[0mself\u001b[0m\u001b[0;34m.\u001b[0m\u001b[0m_engine\u001b[0m\u001b[0;34m.\u001b[0m\u001b[0mget_value\u001b[0m\u001b[0;34m(\u001b[0m\u001b[0ms\u001b[0m\u001b[0;34m,\u001b[0m \u001b[0mk\u001b[0m\u001b[0;34m,\u001b[0m \u001b[0mtz\u001b[0m\u001b[0;34m=\u001b[0m\u001b[0mgetattr\u001b[0m\u001b[0;34m(\u001b[0m\u001b[0mseries\u001b[0m\u001b[0;34m.\u001b[0m\u001b[0mdtype\u001b[0m\u001b[0;34m,\u001b[0m \u001b[0;34m\"tz\"\u001b[0m\u001b[0;34m,\u001b[0m \u001b[0;32mNone\u001b[0m\u001b[0;34m)\u001b[0m\u001b[0;34m)\u001b[0m\u001b[0;34m\u001b[0m\u001b[0;34m\u001b[0m\u001b[0m\n\u001b[0m\u001b[1;32m   4406\u001b[0m         \u001b[0;32mexcept\u001b[0m \u001b[0mKeyError\u001b[0m \u001b[0;32mas\u001b[0m \u001b[0me1\u001b[0m\u001b[0;34m:\u001b[0m\u001b[0;34m\u001b[0m\u001b[0;34m\u001b[0m\u001b[0m\n",
      "\u001b[0;32mpandas/_libs/index.pyx\u001b[0m in \u001b[0;36mpandas._libs.index.IndexEngine.get_value\u001b[0;34m()\u001b[0m\n",
      "\u001b[0;32mpandas/_libs/index.pyx\u001b[0m in \u001b[0;36mpandas._libs.index.IndexEngine.get_value\u001b[0;34m()\u001b[0m\n",
      "\u001b[0;32mpandas/_libs/index.pyx\u001b[0m in \u001b[0;36mpandas._libs.index.IndexEngine.get_loc\u001b[0;34m()\u001b[0m\n",
      "\u001b[0;32mpandas/_libs/hashtable_class_helper.pxi\u001b[0m in \u001b[0;36mpandas._libs.hashtable.Int64HashTable.get_item\u001b[0;34m()\u001b[0m\n",
      "\u001b[0;32mpandas/_libs/hashtable_class_helper.pxi\u001b[0m in \u001b[0;36mpandas._libs.hashtable.Int64HashTable.get_item\u001b[0;34m()\u001b[0m\n",
      "\u001b[0;31mKeyError\u001b[0m: 0",
      "\nDuring handling of the above exception, another exception occurred:\n",
      "\u001b[0;31mIndexError\u001b[0m                                Traceback (most recent call last)",
      "\u001b[0;32m<ipython-input-197-b23d675503a7>\u001b[0m in \u001b[0;36m<module>\u001b[0;34m\u001b[0m\n\u001b[0;32m----> 1\u001b[0;31m \u001b[0msingle_product_analysis\u001b[0m\u001b[0;34m(\u001b[0m\u001b[0;34m\"03398452387\"\u001b[0m\u001b[0;34m,\u001b[0m\u001b[0mdf\u001b[0m\u001b[0;34m)\u001b[0m\u001b[0;34m\u001b[0m\u001b[0;34m\u001b[0m\u001b[0m\n\u001b[0m",
      "\u001b[0;32m<ipython-input-193-b746ad613732>\u001b[0m in \u001b[0;36msingle_product_analysis\u001b[0;34m(item_id, df, code)\u001b[0m\n\u001b[1;32m    242\u001b[0m \u001b[0;34m\u001b[0m\u001b[0m\n\u001b[1;32m    243\u001b[0m     \u001b[0;32mif\u001b[0m \u001b[0mcode\u001b[0m \u001b[0;34m==\u001b[0m \u001b[0;36m0\u001b[0m\u001b[0;34m:\u001b[0m\u001b[0;34m\u001b[0m\u001b[0;34m\u001b[0m\u001b[0m\n\u001b[0;32m--> 244\u001b[0;31m         \u001b[0msingle_sku_df\u001b[0m \u001b[0;34m=\u001b[0m \u001b[0msku_singleton\u001b[0m\u001b[0;34m(\u001b[0m\u001b[0;34m(\u001b[0m\u001b[0mstr\u001b[0m\u001b[0;34m(\u001b[0m\u001b[0mitem_id\u001b[0m\u001b[0;34m)\u001b[0m\u001b[0;34m)\u001b[0m\u001b[0;34m,\u001b[0m\u001b[0mdf\u001b[0m\u001b[0;34m)\u001b[0m\u001b[0;34m\u001b[0m\u001b[0;34m\u001b[0m\u001b[0m\n\u001b[0m\u001b[1;32m    245\u001b[0m \u001b[0;34m\u001b[0m\u001b[0m\n\u001b[1;32m    246\u001b[0m     \u001b[0;32melse\u001b[0m\u001b[0;34m:\u001b[0m\u001b[0;34m\u001b[0m\u001b[0;34m\u001b[0m\u001b[0m\n",
      "\u001b[0;32m<ipython-input-193-b746ad613732>\u001b[0m in \u001b[0;36msku_singleton\u001b[0;34m(item_id, df, brand)\u001b[0m\n\u001b[1;32m    152\u001b[0m     \u001b[0mdf\u001b[0m \u001b[0;34m=\u001b[0m \u001b[0mdf\u001b[0m\u001b[0;34m[\u001b[0m\u001b[0mdf\u001b[0m\u001b[0;34m[\u001b[0m\u001b[0;34m\"UPC\"\u001b[0m\u001b[0;34m]\u001b[0m\u001b[0;34m.\u001b[0m\u001b[0mstr\u001b[0m\u001b[0;34m.\u001b[0m\u001b[0mcontains\u001b[0m\u001b[0;34m(\u001b[0m\u001b[0mitem_id\u001b[0m\u001b[0;34m)\u001b[0m\u001b[0;34m]\u001b[0m\u001b[0;34m.\u001b[0m\u001b[0mreset_index\u001b[0m\u001b[0;34m(\u001b[0m\u001b[0;34m)\u001b[0m\u001b[0;34m\u001b[0m\u001b[0;34m\u001b[0m\u001b[0m\n\u001b[1;32m    153\u001b[0m     \u001b[0mdf\u001b[0m\u001b[0;34m.\u001b[0m\u001b[0mdropna\u001b[0m\u001b[0;34m(\u001b[0m\u001b[0minplace\u001b[0m \u001b[0;34m=\u001b[0m \u001b[0;32mTrue\u001b[0m\u001b[0;34m)\u001b[0m\u001b[0;34m\u001b[0m\u001b[0;34m\u001b[0m\u001b[0m\n\u001b[0;32m--> 154\u001b[0;31m     \u001b[0mdf\u001b[0m\u001b[0;34m.\u001b[0m\u001b[0mloc\u001b[0m\u001b[0;34m[\u001b[0m\u001b[0;34m:\u001b[0m\u001b[0;34m,\u001b[0m \u001b[0;34m\"ARP_percent_off_MSRP\"\u001b[0m\u001b[0;34m]\u001b[0m \u001b[0;34m=\u001b[0m  \u001b[0mdf\u001b[0m\u001b[0;34m.\u001b[0m\u001b[0mloc\u001b[0m\u001b[0;34m[\u001b[0m\u001b[0;34m:\u001b[0m\u001b[0;34m,\u001b[0m\u001b[0;34m\"ARP\"\u001b[0m\u001b[0;34m]\u001b[0m\u001b[0;34m.\u001b[0m\u001b[0mapply\u001b[0m\u001b[0;34m(\u001b[0m\u001b[0;32mlambda\u001b[0m \u001b[0mx\u001b[0m\u001b[0;34m:\u001b[0m \u001b[0;34m(\u001b[0m\u001b[0;36m1\u001b[0m\u001b[0;34m-\u001b[0m\u001b[0;34m(\u001b[0m\u001b[0mx\u001b[0m\u001b[0;34m/\u001b[0m\u001b[0mget_MSRP\u001b[0m\u001b[0;34m(\u001b[0m\u001b[0mitem_id\u001b[0m\u001b[0;34m)\u001b[0m\u001b[0;34m)\u001b[0m\u001b[0;34m)\u001b[0m\u001b[0;34m*\u001b[0m\u001b[0;36m100\u001b[0m\u001b[0;34m)\u001b[0m\u001b[0;34m\u001b[0m\u001b[0;34m\u001b[0m\u001b[0m\n\u001b[0m\u001b[1;32m    155\u001b[0m     \u001b[0;31m#df['bins'] = pd.cut(df['ARP_percent_off_MSRP'],bins=[0,5,10,15,20,25,30,35,40], labels=[\"0-5%\",\"5-10%\",\"10-15%\",\"15-20%\",\"20-25%\",\"25-30%\", \"30-35%\",\"35-40\"])\u001b[0m\u001b[0;34m\u001b[0m\u001b[0;34m\u001b[0m\u001b[0;34m\u001b[0m\u001b[0m\n\u001b[1;32m    156\u001b[0m     \u001b[0mdf\u001b[0m\u001b[0;34m.\u001b[0m\u001b[0mloc\u001b[0m\u001b[0;34m[\u001b[0m\u001b[0;34m:\u001b[0m\u001b[0;34m,\u001b[0m\u001b[0;34m'bins'\u001b[0m\u001b[0;34m]\u001b[0m \u001b[0;34m=\u001b[0m \u001b[0mpd\u001b[0m\u001b[0;34m.\u001b[0m\u001b[0mcut\u001b[0m\u001b[0;34m(\u001b[0m\u001b[0mdf\u001b[0m\u001b[0;34m[\u001b[0m\u001b[0;34m'ARP_percent_off_MSRP'\u001b[0m\u001b[0;34m]\u001b[0m\u001b[0;34m,\u001b[0m\u001b[0mbins\u001b[0m\u001b[0;34m=\u001b[0m\u001b[0;34m[\u001b[0m\u001b[0;36m0\u001b[0m\u001b[0;34m,\u001b[0m\u001b[0;36m5\u001b[0m\u001b[0;34m,\u001b[0m\u001b[0;36m10\u001b[0m\u001b[0;34m,\u001b[0m\u001b[0;36m15\u001b[0m\u001b[0;34m,\u001b[0m\u001b[0;36m20\u001b[0m\u001b[0;34m,\u001b[0m\u001b[0;36m25\u001b[0m\u001b[0;34m,\u001b[0m\u001b[0;36m30\u001b[0m\u001b[0;34m,\u001b[0m\u001b[0;36m35\u001b[0m\u001b[0;34m,\u001b[0m\u001b[0;36m40\u001b[0m\u001b[0;34m]\u001b[0m\u001b[0;34m,\u001b[0m \u001b[0mlabels\u001b[0m\u001b[0;34m=\u001b[0m\u001b[0;34m[\u001b[0m\u001b[0;34m\"0-5% off\"\u001b[0m\u001b[0;34m,\u001b[0m\u001b[0;34m\"5-10% 5-10% off\"\u001b[0m\u001b[0;34m,\u001b[0m\u001b[0;34m\"10-15% off\"\u001b[0m\u001b[0;34m,\u001b[0m\u001b[0;34m\"15-20% off\"\u001b[0m\u001b[0;34m,\u001b[0m\u001b[0;34m\"20-25% off\"\u001b[0m\u001b[0;34m,\u001b[0m\u001b[0;34m\"25-30% off\"\u001b[0m\u001b[0;34m,\u001b[0m \u001b[0;34m\"30-35% off\"\u001b[0m\u001b[0;34m,\u001b[0m\u001b[0;34m\"35-40% off\"\u001b[0m\u001b[0;34m]\u001b[0m\u001b[0;34m)\u001b[0m\u001b[0;34m\u001b[0m\u001b[0;34m\u001b[0m\u001b[0m\n",
      "\u001b[0;32m~/anaconda3/lib/python3.7/site-packages/pandas/core/series.py\u001b[0m in \u001b[0;36mapply\u001b[0;34m(self, func, convert_dtype, args, **kwds)\u001b[0m\n\u001b[1;32m   3846\u001b[0m             \u001b[0;32melse\u001b[0m\u001b[0;34m:\u001b[0m\u001b[0;34m\u001b[0m\u001b[0;34m\u001b[0m\u001b[0m\n\u001b[1;32m   3847\u001b[0m                 \u001b[0mvalues\u001b[0m \u001b[0;34m=\u001b[0m \u001b[0mself\u001b[0m\u001b[0;34m.\u001b[0m\u001b[0mastype\u001b[0m\u001b[0;34m(\u001b[0m\u001b[0mobject\u001b[0m\u001b[0;34m)\u001b[0m\u001b[0;34m.\u001b[0m\u001b[0mvalues\u001b[0m\u001b[0;34m\u001b[0m\u001b[0;34m\u001b[0m\u001b[0m\n\u001b[0;32m-> 3848\u001b[0;31m                 \u001b[0mmapped\u001b[0m \u001b[0;34m=\u001b[0m \u001b[0mlib\u001b[0m\u001b[0;34m.\u001b[0m\u001b[0mmap_infer\u001b[0m\u001b[0;34m(\u001b[0m\u001b[0mvalues\u001b[0m\u001b[0;34m,\u001b[0m \u001b[0mf\u001b[0m\u001b[0;34m,\u001b[0m \u001b[0mconvert\u001b[0m\u001b[0;34m=\u001b[0m\u001b[0mconvert_dtype\u001b[0m\u001b[0;34m)\u001b[0m\u001b[0;34m\u001b[0m\u001b[0;34m\u001b[0m\u001b[0m\n\u001b[0m\u001b[1;32m   3849\u001b[0m \u001b[0;34m\u001b[0m\u001b[0m\n\u001b[1;32m   3850\u001b[0m         \u001b[0;32mif\u001b[0m \u001b[0mlen\u001b[0m\u001b[0;34m(\u001b[0m\u001b[0mmapped\u001b[0m\u001b[0;34m)\u001b[0m \u001b[0;32mand\u001b[0m \u001b[0misinstance\u001b[0m\u001b[0;34m(\u001b[0m\u001b[0mmapped\u001b[0m\u001b[0;34m[\u001b[0m\u001b[0;36m0\u001b[0m\u001b[0;34m]\u001b[0m\u001b[0;34m,\u001b[0m \u001b[0mSeries\u001b[0m\u001b[0;34m)\u001b[0m\u001b[0;34m:\u001b[0m\u001b[0;34m\u001b[0m\u001b[0;34m\u001b[0m\u001b[0m\n",
      "\u001b[0;32mpandas/_libs/lib.pyx\u001b[0m in \u001b[0;36mpandas._libs.lib.map_infer\u001b[0;34m()\u001b[0m\n",
      "\u001b[0;32m<ipython-input-193-b746ad613732>\u001b[0m in \u001b[0;36m<lambda>\u001b[0;34m(x)\u001b[0m\n\u001b[1;32m    152\u001b[0m     \u001b[0mdf\u001b[0m \u001b[0;34m=\u001b[0m \u001b[0mdf\u001b[0m\u001b[0;34m[\u001b[0m\u001b[0mdf\u001b[0m\u001b[0;34m[\u001b[0m\u001b[0;34m\"UPC\"\u001b[0m\u001b[0;34m]\u001b[0m\u001b[0;34m.\u001b[0m\u001b[0mstr\u001b[0m\u001b[0;34m.\u001b[0m\u001b[0mcontains\u001b[0m\u001b[0;34m(\u001b[0m\u001b[0mitem_id\u001b[0m\u001b[0;34m)\u001b[0m\u001b[0;34m]\u001b[0m\u001b[0;34m.\u001b[0m\u001b[0mreset_index\u001b[0m\u001b[0;34m(\u001b[0m\u001b[0;34m)\u001b[0m\u001b[0;34m\u001b[0m\u001b[0;34m\u001b[0m\u001b[0m\n\u001b[1;32m    153\u001b[0m     \u001b[0mdf\u001b[0m\u001b[0;34m.\u001b[0m\u001b[0mdropna\u001b[0m\u001b[0;34m(\u001b[0m\u001b[0minplace\u001b[0m \u001b[0;34m=\u001b[0m \u001b[0;32mTrue\u001b[0m\u001b[0;34m)\u001b[0m\u001b[0;34m\u001b[0m\u001b[0;34m\u001b[0m\u001b[0m\n\u001b[0;32m--> 154\u001b[0;31m     \u001b[0mdf\u001b[0m\u001b[0;34m.\u001b[0m\u001b[0mloc\u001b[0m\u001b[0;34m[\u001b[0m\u001b[0;34m:\u001b[0m\u001b[0;34m,\u001b[0m \u001b[0;34m\"ARP_percent_off_MSRP\"\u001b[0m\u001b[0;34m]\u001b[0m \u001b[0;34m=\u001b[0m  \u001b[0mdf\u001b[0m\u001b[0;34m.\u001b[0m\u001b[0mloc\u001b[0m\u001b[0;34m[\u001b[0m\u001b[0;34m:\u001b[0m\u001b[0;34m,\u001b[0m\u001b[0;34m\"ARP\"\u001b[0m\u001b[0;34m]\u001b[0m\u001b[0;34m.\u001b[0m\u001b[0mapply\u001b[0m\u001b[0;34m(\u001b[0m\u001b[0;32mlambda\u001b[0m \u001b[0mx\u001b[0m\u001b[0;34m:\u001b[0m \u001b[0;34m(\u001b[0m\u001b[0;36m1\u001b[0m\u001b[0;34m-\u001b[0m\u001b[0;34m(\u001b[0m\u001b[0mx\u001b[0m\u001b[0;34m/\u001b[0m\u001b[0mget_MSRP\u001b[0m\u001b[0;34m(\u001b[0m\u001b[0mitem_id\u001b[0m\u001b[0;34m)\u001b[0m\u001b[0;34m)\u001b[0m\u001b[0;34m)\u001b[0m\u001b[0;34m*\u001b[0m\u001b[0;36m100\u001b[0m\u001b[0;34m)\u001b[0m\u001b[0;34m\u001b[0m\u001b[0;34m\u001b[0m\u001b[0m\n\u001b[0m\u001b[1;32m    155\u001b[0m     \u001b[0;31m#df['bins'] = pd.cut(df['ARP_percent_off_MSRP'],bins=[0,5,10,15,20,25,30,35,40], labels=[\"0-5%\",\"5-10%\",\"10-15%\",\"15-20%\",\"20-25%\",\"25-30%\", \"30-35%\",\"35-40\"])\u001b[0m\u001b[0;34m\u001b[0m\u001b[0;34m\u001b[0m\u001b[0;34m\u001b[0m\u001b[0m\n\u001b[1;32m    156\u001b[0m     \u001b[0mdf\u001b[0m\u001b[0;34m.\u001b[0m\u001b[0mloc\u001b[0m\u001b[0;34m[\u001b[0m\u001b[0;34m:\u001b[0m\u001b[0;34m,\u001b[0m\u001b[0;34m'bins'\u001b[0m\u001b[0;34m]\u001b[0m \u001b[0;34m=\u001b[0m \u001b[0mpd\u001b[0m\u001b[0;34m.\u001b[0m\u001b[0mcut\u001b[0m\u001b[0;34m(\u001b[0m\u001b[0mdf\u001b[0m\u001b[0;34m[\u001b[0m\u001b[0;34m'ARP_percent_off_MSRP'\u001b[0m\u001b[0;34m]\u001b[0m\u001b[0;34m,\u001b[0m\u001b[0mbins\u001b[0m\u001b[0;34m=\u001b[0m\u001b[0;34m[\u001b[0m\u001b[0;36m0\u001b[0m\u001b[0;34m,\u001b[0m\u001b[0;36m5\u001b[0m\u001b[0;34m,\u001b[0m\u001b[0;36m10\u001b[0m\u001b[0;34m,\u001b[0m\u001b[0;36m15\u001b[0m\u001b[0;34m,\u001b[0m\u001b[0;36m20\u001b[0m\u001b[0;34m,\u001b[0m\u001b[0;36m25\u001b[0m\u001b[0;34m,\u001b[0m\u001b[0;36m30\u001b[0m\u001b[0;34m,\u001b[0m\u001b[0;36m35\u001b[0m\u001b[0;34m,\u001b[0m\u001b[0;36m40\u001b[0m\u001b[0;34m]\u001b[0m\u001b[0;34m,\u001b[0m \u001b[0mlabels\u001b[0m\u001b[0;34m=\u001b[0m\u001b[0;34m[\u001b[0m\u001b[0;34m\"0-5% off\"\u001b[0m\u001b[0;34m,\u001b[0m\u001b[0;34m\"5-10% 5-10% off\"\u001b[0m\u001b[0;34m,\u001b[0m\u001b[0;34m\"10-15% off\"\u001b[0m\u001b[0;34m,\u001b[0m\u001b[0;34m\"15-20% off\"\u001b[0m\u001b[0;34m,\u001b[0m\u001b[0;34m\"20-25% off\"\u001b[0m\u001b[0;34m,\u001b[0m\u001b[0;34m\"25-30% off\"\u001b[0m\u001b[0;34m,\u001b[0m \u001b[0;34m\"30-35% off\"\u001b[0m\u001b[0;34m,\u001b[0m\u001b[0;34m\"35-40% off\"\u001b[0m\u001b[0;34m]\u001b[0m\u001b[0;34m)\u001b[0m\u001b[0;34m\u001b[0m\u001b[0;34m\u001b[0m\u001b[0m\n",
      "\u001b[0;32m<ipython-input-193-b746ad613732>\u001b[0m in \u001b[0;36mget_MSRP\u001b[0;34m(item_id)\u001b[0m\n\u001b[1;32m    159\u001b[0m \u001b[0;32mdef\u001b[0m \u001b[0mget_MSRP\u001b[0m\u001b[0;34m(\u001b[0m\u001b[0mitem_id\u001b[0m \u001b[0;34m)\u001b[0m\u001b[0;34m:\u001b[0m\u001b[0;34m\u001b[0m\u001b[0;34m\u001b[0m\u001b[0m\n\u001b[1;32m    160\u001b[0m         \u001b[0mtemp\u001b[0m \u001b[0;34m=\u001b[0m \u001b[0mcl_top_seller\u001b[0m\u001b[0;34m[\u001b[0m\u001b[0mcl_top_seller\u001b[0m\u001b[0;34m.\u001b[0m\u001b[0mloc\u001b[0m\u001b[0;34m[\u001b[0m\u001b[0;34m:\u001b[0m\u001b[0;34m,\u001b[0m\u001b[0;34m\"UPC\"\u001b[0m\u001b[0;34m]\u001b[0m\u001b[0;34m.\u001b[0m\u001b[0mstr\u001b[0m\u001b[0;34m.\u001b[0m\u001b[0mcontains\u001b[0m\u001b[0;34m(\u001b[0m\u001b[0mitem_id\u001b[0m\u001b[0;34m)\u001b[0m\u001b[0;34m]\u001b[0m\u001b[0;34m.\u001b[0m\u001b[0mreset_index\u001b[0m\u001b[0;34m(\u001b[0m\u001b[0;34m)\u001b[0m\u001b[0;34m\u001b[0m\u001b[0;34m\u001b[0m\u001b[0m\n\u001b[0;32m--> 161\u001b[0;31m         \u001b[0;32mreturn\u001b[0m \u001b[0mtemp\u001b[0m\u001b[0;34m[\u001b[0m\u001b[0;34m\"MSRP$\"\u001b[0m\u001b[0;34m]\u001b[0m\u001b[0;34m[\u001b[0m\u001b[0;36m0\u001b[0m\u001b[0;34m]\u001b[0m\u001b[0;34m\u001b[0m\u001b[0;34m\u001b[0m\u001b[0m\n\u001b[0m\u001b[1;32m    162\u001b[0m \u001b[0;34m\u001b[0m\u001b[0m\n\u001b[1;32m    163\u001b[0m \u001b[0;34m\u001b[0m\u001b[0m\n",
      "\u001b[0;32m~/anaconda3/lib/python3.7/site-packages/pandas/core/series.py\u001b[0m in \u001b[0;36m__getitem__\u001b[0;34m(self, key)\u001b[0m\n\u001b[1;32m    869\u001b[0m         \u001b[0mkey\u001b[0m \u001b[0;34m=\u001b[0m \u001b[0mcom\u001b[0m\u001b[0;34m.\u001b[0m\u001b[0mapply_if_callable\u001b[0m\u001b[0;34m(\u001b[0m\u001b[0mkey\u001b[0m\u001b[0;34m,\u001b[0m \u001b[0mself\u001b[0m\u001b[0;34m)\u001b[0m\u001b[0;34m\u001b[0m\u001b[0;34m\u001b[0m\u001b[0m\n\u001b[1;32m    870\u001b[0m         \u001b[0;32mtry\u001b[0m\u001b[0;34m:\u001b[0m\u001b[0;34m\u001b[0m\u001b[0;34m\u001b[0m\u001b[0m\n\u001b[0;32m--> 871\u001b[0;31m             \u001b[0mresult\u001b[0m \u001b[0;34m=\u001b[0m \u001b[0mself\u001b[0m\u001b[0;34m.\u001b[0m\u001b[0mindex\u001b[0m\u001b[0;34m.\u001b[0m\u001b[0mget_value\u001b[0m\u001b[0;34m(\u001b[0m\u001b[0mself\u001b[0m\u001b[0;34m,\u001b[0m \u001b[0mkey\u001b[0m\u001b[0;34m)\u001b[0m\u001b[0;34m\u001b[0m\u001b[0;34m\u001b[0m\u001b[0m\n\u001b[0m\u001b[1;32m    872\u001b[0m \u001b[0;34m\u001b[0m\u001b[0m\n\u001b[1;32m    873\u001b[0m             \u001b[0;32mif\u001b[0m \u001b[0;32mnot\u001b[0m \u001b[0mis_scalar\u001b[0m\u001b[0;34m(\u001b[0m\u001b[0mresult\u001b[0m\u001b[0;34m)\u001b[0m\u001b[0;34m:\u001b[0m\u001b[0;34m\u001b[0m\u001b[0;34m\u001b[0m\u001b[0m\n",
      "\u001b[0;32m~/anaconda3/lib/python3.7/site-packages/pandas/core/indexes/base.py\u001b[0m in \u001b[0;36mget_value\u001b[0;34m(self, series, key)\u001b[0m\n\u001b[1;32m   4409\u001b[0m \u001b[0;34m\u001b[0m\u001b[0m\n\u001b[1;32m   4410\u001b[0m             \u001b[0;32mtry\u001b[0m\u001b[0;34m:\u001b[0m\u001b[0;34m\u001b[0m\u001b[0;34m\u001b[0m\u001b[0m\n\u001b[0;32m-> 4411\u001b[0;31m                 \u001b[0;32mreturn\u001b[0m \u001b[0mlibindex\u001b[0m\u001b[0;34m.\u001b[0m\u001b[0mget_value_at\u001b[0m\u001b[0;34m(\u001b[0m\u001b[0ms\u001b[0m\u001b[0;34m,\u001b[0m \u001b[0mkey\u001b[0m\u001b[0;34m)\u001b[0m\u001b[0;34m\u001b[0m\u001b[0;34m\u001b[0m\u001b[0m\n\u001b[0m\u001b[1;32m   4412\u001b[0m             \u001b[0;32mexcept\u001b[0m \u001b[0mIndexError\u001b[0m\u001b[0;34m:\u001b[0m\u001b[0;34m\u001b[0m\u001b[0;34m\u001b[0m\u001b[0m\n\u001b[1;32m   4413\u001b[0m                 \u001b[0;32mraise\u001b[0m\u001b[0;34m\u001b[0m\u001b[0;34m\u001b[0m\u001b[0m\n",
      "\u001b[0;32mpandas/_libs/index.pyx\u001b[0m in \u001b[0;36mpandas._libs.index.get_value_at\u001b[0;34m()\u001b[0m\n",
      "\u001b[0;32mpandas/_libs/index.pyx\u001b[0m in \u001b[0;36mpandas._libs.index.get_value_at\u001b[0;34m()\u001b[0m\n",
      "\u001b[0;32mpandas/_libs/util.pxd\u001b[0m in \u001b[0;36mpandas._libs.util.get_value_at\u001b[0;34m()\u001b[0m\n",
      "\u001b[0;32mpandas/_libs/util.pxd\u001b[0m in \u001b[0;36mpandas._libs.util.validate_indexer\u001b[0;34m()\u001b[0m\n",
      "\u001b[0;31mIndexError\u001b[0m: index out of bounds"
     ]
    }
   ],
   "source": [
    "single_product_analysis(\"03398452387\",df)\n"
   ]
  },
  {
   "cell_type": "code",
   "execution_count": 200,
   "metadata": {},
   "outputs": [
    {
     "data": {
      "text/plain": [
       "'65801011832'"
      ]
     },
     "execution_count": 200,
     "metadata": {},
     "output_type": "execute_result"
    }
   ],
   "source": [
    "get_MSRP(df.loc[0,\"UPC\"])"
   ]
  },
  {
   "cell_type": "code",
   "execution_count": 205,
   "metadata": {},
   "outputs": [
    {
     "data": {
      "text/html": [
       "<script>\n",
       "code_show=true; \n",
       "function code_toggle() {\n",
       "    if (code_show){\n",
       "        $('div.cell.code_cell.rendered.selected div.input').hide();\n",
       "    } else {\n",
       "        $('div.cell.code_cell.rendered.selected div.input').show();\n",
       "    }\n",
       "    code_show = !code_show\n",
       "} \n",
       "$( document ).ready(code_toggle);\n",
       "</script>\n",
       "To show/hide this cell's raw code input, click <a href=\"javascript:code_toggle()\">here</a>."
      ],
      "text/plain": [
       "<IPython.core.display.HTML object>"
      ]
     },
     "metadata": {},
     "output_type": "display_data"
    },
    {
     "data": {
      "application/vnd.plotly.v1+json": {
       "config": {
        "plotlyServerURL": "https://plot.ly"
       },
       "data": [
        {
         "boxmean": true,
         "boxpoints": "all",
         "hovertext": [
          "greenacres - total us (corp)",
          "greenacres - total us (corp)",
          "greens natural market - total us (corp)",
          "infra - total us (corp)",
          "infra - total us (corp)",
          "natural grocers by vc - total us (corp)",
          "natural grocers by vc - total us (corp)",
          "ncg - total us (corp)",
          "ncg - total us (corp)",
          "ncg - total us x-pcc (ban)",
          "ncg - total us x-pcc (ban)",
          "ncg - pcc (ban)",
          "ncg - mid atlantic (rgn/mkt)",
          "ncg - north central (rgn/mkt)",
          "ncg - north central (rgn/mkt)",
          "ncg - north east (rgn/mkt)",
          "ncg - north east (rgn/mkt)",
          "ncg - north west (rgn/mkt)",
          "ncg - northwest x-pcc (rgn/mkt)",
          "ncg - south central (rgn/mkt)",
          "ncg - south east (rgn/mkt)",
          "ncg - south west (rgn/mkt)",
          "ncg - south west (rgn/mkt)",
          "ncg - east rgn (rgn/mkt)",
          "ncg - east rgn (rgn/mkt)",
          "ncg - central rgn (rgn/mkt)",
          "ncg - central rgn (rgn/mkt)",
          "ncg - west x-pcc (rgn/mkt)",
          "ncg - west x-pcc (rgn/mkt)",
          "new seasons markets + new leaf community markets - total us (corp)",
          "sprouts farmers market - total us w/o pl (corp)"
         ],
         "jitter": 0.5,
         "showlegend": false,
         "type": "box",
         "x": [
          "ARP",
          "ARP",
          "ARP",
          "ARP",
          "ARP",
          "ARP",
          "ARP",
          "ARP",
          "ARP",
          "ARP",
          "ARP",
          "ARP",
          "ARP",
          "ARP",
          "ARP",
          "ARP",
          "ARP",
          "ARP",
          "ARP",
          "ARP",
          "ARP",
          "ARP",
          "ARP",
          "ARP",
          "ARP",
          "ARP",
          "ARP",
          "ARP",
          "ARP",
          "ARP",
          "ARP"
         ],
         "xaxis": "x",
         "y": [
          8.15,
          11.29,
          10.21,
          8.46,
          10.18,
          7.45,
          9.16,
          8.56,
          10.31,
          8.35,
          10.31,
          10.39,
          8.7,
          8.54,
          11.04,
          8.32,
          10.04,
          8.87,
          7.93,
          8.45,
          8.18,
          8.39,
          10.57,
          8.37,
          9.92,
          8.53,
          11.04,
          8.12,
          10.57,
          10.12,
          7.93
         ],
         "yaxis": "y"
        },
        {
         "domain": {
          "x": [
           0.55,
           1
          ],
          "y": [
           0,
           1
          ]
         },
         "labels": [
          "0-5% off",
          "5-10% 5-10% off",
          "10-15% off",
          "15-20% off",
          "20-25% off",
          "25-30% off",
          "30-35% off",
          "35-40% off"
         ],
         "showlegend": true,
         "title": {
          "text": "Proportion MSRP Discounts"
         },
         "type": "pie",
         "values": [
          5,
          5,
          0,
          3,
          12,
          2,
          1,
          0
         ]
        }
       ],
       "layout": {
        "height": 600,
        "showlegend": true,
        "template": {
         "data": {
          "bar": [
           {
            "error_x": {
             "color": "#2a3f5f"
            },
            "error_y": {
             "color": "#2a3f5f"
            },
            "marker": {
             "line": {
              "color": "#E5ECF6",
              "width": 0.5
             }
            },
            "type": "bar"
           }
          ],
          "barpolar": [
           {
            "marker": {
             "line": {
              "color": "#E5ECF6",
              "width": 0.5
             }
            },
            "type": "barpolar"
           }
          ],
          "carpet": [
           {
            "aaxis": {
             "endlinecolor": "#2a3f5f",
             "gridcolor": "white",
             "linecolor": "white",
             "minorgridcolor": "white",
             "startlinecolor": "#2a3f5f"
            },
            "baxis": {
             "endlinecolor": "#2a3f5f",
             "gridcolor": "white",
             "linecolor": "white",
             "minorgridcolor": "white",
             "startlinecolor": "#2a3f5f"
            },
            "type": "carpet"
           }
          ],
          "choropleth": [
           {
            "colorbar": {
             "outlinewidth": 0,
             "ticks": ""
            },
            "type": "choropleth"
           }
          ],
          "contour": [
           {
            "colorbar": {
             "outlinewidth": 0,
             "ticks": ""
            },
            "colorscale": [
             [
              0,
              "#0d0887"
             ],
             [
              0.1111111111111111,
              "#46039f"
             ],
             [
              0.2222222222222222,
              "#7201a8"
             ],
             [
              0.3333333333333333,
              "#9c179e"
             ],
             [
              0.4444444444444444,
              "#bd3786"
             ],
             [
              0.5555555555555556,
              "#d8576b"
             ],
             [
              0.6666666666666666,
              "#ed7953"
             ],
             [
              0.7777777777777778,
              "#fb9f3a"
             ],
             [
              0.8888888888888888,
              "#fdca26"
             ],
             [
              1,
              "#f0f921"
             ]
            ],
            "type": "contour"
           }
          ],
          "contourcarpet": [
           {
            "colorbar": {
             "outlinewidth": 0,
             "ticks": ""
            },
            "type": "contourcarpet"
           }
          ],
          "heatmap": [
           {
            "colorbar": {
             "outlinewidth": 0,
             "ticks": ""
            },
            "colorscale": [
             [
              0,
              "#0d0887"
             ],
             [
              0.1111111111111111,
              "#46039f"
             ],
             [
              0.2222222222222222,
              "#7201a8"
             ],
             [
              0.3333333333333333,
              "#9c179e"
             ],
             [
              0.4444444444444444,
              "#bd3786"
             ],
             [
              0.5555555555555556,
              "#d8576b"
             ],
             [
              0.6666666666666666,
              "#ed7953"
             ],
             [
              0.7777777777777778,
              "#fb9f3a"
             ],
             [
              0.8888888888888888,
              "#fdca26"
             ],
             [
              1,
              "#f0f921"
             ]
            ],
            "type": "heatmap"
           }
          ],
          "heatmapgl": [
           {
            "colorbar": {
             "outlinewidth": 0,
             "ticks": ""
            },
            "colorscale": [
             [
              0,
              "#0d0887"
             ],
             [
              0.1111111111111111,
              "#46039f"
             ],
             [
              0.2222222222222222,
              "#7201a8"
             ],
             [
              0.3333333333333333,
              "#9c179e"
             ],
             [
              0.4444444444444444,
              "#bd3786"
             ],
             [
              0.5555555555555556,
              "#d8576b"
             ],
             [
              0.6666666666666666,
              "#ed7953"
             ],
             [
              0.7777777777777778,
              "#fb9f3a"
             ],
             [
              0.8888888888888888,
              "#fdca26"
             ],
             [
              1,
              "#f0f921"
             ]
            ],
            "type": "heatmapgl"
           }
          ],
          "histogram": [
           {
            "marker": {
             "colorbar": {
              "outlinewidth": 0,
              "ticks": ""
             }
            },
            "type": "histogram"
           }
          ],
          "histogram2d": [
           {
            "colorbar": {
             "outlinewidth": 0,
             "ticks": ""
            },
            "colorscale": [
             [
              0,
              "#0d0887"
             ],
             [
              0.1111111111111111,
              "#46039f"
             ],
             [
              0.2222222222222222,
              "#7201a8"
             ],
             [
              0.3333333333333333,
              "#9c179e"
             ],
             [
              0.4444444444444444,
              "#bd3786"
             ],
             [
              0.5555555555555556,
              "#d8576b"
             ],
             [
              0.6666666666666666,
              "#ed7953"
             ],
             [
              0.7777777777777778,
              "#fb9f3a"
             ],
             [
              0.8888888888888888,
              "#fdca26"
             ],
             [
              1,
              "#f0f921"
             ]
            ],
            "type": "histogram2d"
           }
          ],
          "histogram2dcontour": [
           {
            "colorbar": {
             "outlinewidth": 0,
             "ticks": ""
            },
            "colorscale": [
             [
              0,
              "#0d0887"
             ],
             [
              0.1111111111111111,
              "#46039f"
             ],
             [
              0.2222222222222222,
              "#7201a8"
             ],
             [
              0.3333333333333333,
              "#9c179e"
             ],
             [
              0.4444444444444444,
              "#bd3786"
             ],
             [
              0.5555555555555556,
              "#d8576b"
             ],
             [
              0.6666666666666666,
              "#ed7953"
             ],
             [
              0.7777777777777778,
              "#fb9f3a"
             ],
             [
              0.8888888888888888,
              "#fdca26"
             ],
             [
              1,
              "#f0f921"
             ]
            ],
            "type": "histogram2dcontour"
           }
          ],
          "mesh3d": [
           {
            "colorbar": {
             "outlinewidth": 0,
             "ticks": ""
            },
            "type": "mesh3d"
           }
          ],
          "parcoords": [
           {
            "line": {
             "colorbar": {
              "outlinewidth": 0,
              "ticks": ""
             }
            },
            "type": "parcoords"
           }
          ],
          "pie": [
           {
            "automargin": true,
            "type": "pie"
           }
          ],
          "scatter": [
           {
            "marker": {
             "colorbar": {
              "outlinewidth": 0,
              "ticks": ""
             }
            },
            "type": "scatter"
           }
          ],
          "scatter3d": [
           {
            "line": {
             "colorbar": {
              "outlinewidth": 0,
              "ticks": ""
             }
            },
            "marker": {
             "colorbar": {
              "outlinewidth": 0,
              "ticks": ""
             }
            },
            "type": "scatter3d"
           }
          ],
          "scattercarpet": [
           {
            "marker": {
             "colorbar": {
              "outlinewidth": 0,
              "ticks": ""
             }
            },
            "type": "scattercarpet"
           }
          ],
          "scattergeo": [
           {
            "marker": {
             "colorbar": {
              "outlinewidth": 0,
              "ticks": ""
             }
            },
            "type": "scattergeo"
           }
          ],
          "scattergl": [
           {
            "marker": {
             "colorbar": {
              "outlinewidth": 0,
              "ticks": ""
             }
            },
            "type": "scattergl"
           }
          ],
          "scattermapbox": [
           {
            "marker": {
             "colorbar": {
              "outlinewidth": 0,
              "ticks": ""
             }
            },
            "type": "scattermapbox"
           }
          ],
          "scatterpolar": [
           {
            "marker": {
             "colorbar": {
              "outlinewidth": 0,
              "ticks": ""
             }
            },
            "type": "scatterpolar"
           }
          ],
          "scatterpolargl": [
           {
            "marker": {
             "colorbar": {
              "outlinewidth": 0,
              "ticks": ""
             }
            },
            "type": "scatterpolargl"
           }
          ],
          "scatterternary": [
           {
            "marker": {
             "colorbar": {
              "outlinewidth": 0,
              "ticks": ""
             }
            },
            "type": "scatterternary"
           }
          ],
          "surface": [
           {
            "colorbar": {
             "outlinewidth": 0,
             "ticks": ""
            },
            "colorscale": [
             [
              0,
              "#0d0887"
             ],
             [
              0.1111111111111111,
              "#46039f"
             ],
             [
              0.2222222222222222,
              "#7201a8"
             ],
             [
              0.3333333333333333,
              "#9c179e"
             ],
             [
              0.4444444444444444,
              "#bd3786"
             ],
             [
              0.5555555555555556,
              "#d8576b"
             ],
             [
              0.6666666666666666,
              "#ed7953"
             ],
             [
              0.7777777777777778,
              "#fb9f3a"
             ],
             [
              0.8888888888888888,
              "#fdca26"
             ],
             [
              1,
              "#f0f921"
             ]
            ],
            "type": "surface"
           }
          ],
          "table": [
           {
            "cells": {
             "fill": {
              "color": "#EBF0F8"
             },
             "line": {
              "color": "white"
             }
            },
            "header": {
             "fill": {
              "color": "#C8D4E3"
             },
             "line": {
              "color": "white"
             }
            },
            "type": "table"
           }
          ]
         },
         "layout": {
          "annotationdefaults": {
           "arrowcolor": "#2a3f5f",
           "arrowhead": 0,
           "arrowwidth": 1
          },
          "coloraxis": {
           "colorbar": {
            "outlinewidth": 0,
            "ticks": ""
           }
          },
          "colorscale": {
           "diverging": [
            [
             0,
             "#8e0152"
            ],
            [
             0.1,
             "#c51b7d"
            ],
            [
             0.2,
             "#de77ae"
            ],
            [
             0.3,
             "#f1b6da"
            ],
            [
             0.4,
             "#fde0ef"
            ],
            [
             0.5,
             "#f7f7f7"
            ],
            [
             0.6,
             "#e6f5d0"
            ],
            [
             0.7,
             "#b8e186"
            ],
            [
             0.8,
             "#7fbc41"
            ],
            [
             0.9,
             "#4d9221"
            ],
            [
             1,
             "#276419"
            ]
           ],
           "sequential": [
            [
             0,
             "#0d0887"
            ],
            [
             0.1111111111111111,
             "#46039f"
            ],
            [
             0.2222222222222222,
             "#7201a8"
            ],
            [
             0.3333333333333333,
             "#9c179e"
            ],
            [
             0.4444444444444444,
             "#bd3786"
            ],
            [
             0.5555555555555556,
             "#d8576b"
            ],
            [
             0.6666666666666666,
             "#ed7953"
            ],
            [
             0.7777777777777778,
             "#fb9f3a"
            ],
            [
             0.8888888888888888,
             "#fdca26"
            ],
            [
             1,
             "#f0f921"
            ]
           ],
           "sequentialminus": [
            [
             0,
             "#0d0887"
            ],
            [
             0.1111111111111111,
             "#46039f"
            ],
            [
             0.2222222222222222,
             "#7201a8"
            ],
            [
             0.3333333333333333,
             "#9c179e"
            ],
            [
             0.4444444444444444,
             "#bd3786"
            ],
            [
             0.5555555555555556,
             "#d8576b"
            ],
            [
             0.6666666666666666,
             "#ed7953"
            ],
            [
             0.7777777777777778,
             "#fb9f3a"
            ],
            [
             0.8888888888888888,
             "#fdca26"
            ],
            [
             1,
             "#f0f921"
            ]
           ]
          },
          "colorway": [
           "#636efa",
           "#EF553B",
           "#00cc96",
           "#ab63fa",
           "#FFA15A",
           "#19d3f3",
           "#FF6692",
           "#B6E880",
           "#FF97FF",
           "#FECB52"
          ],
          "font": {
           "color": "#2a3f5f"
          },
          "geo": {
           "bgcolor": "white",
           "lakecolor": "white",
           "landcolor": "#E5ECF6",
           "showlakes": true,
           "showland": true,
           "subunitcolor": "white"
          },
          "hoverlabel": {
           "align": "left"
          },
          "hovermode": "closest",
          "mapbox": {
           "style": "light"
          },
          "paper_bgcolor": "white",
          "plot_bgcolor": "#E5ECF6",
          "polar": {
           "angularaxis": {
            "gridcolor": "white",
            "linecolor": "white",
            "ticks": ""
           },
           "bgcolor": "#E5ECF6",
           "radialaxis": {
            "gridcolor": "white",
            "linecolor": "white",
            "ticks": ""
           }
          },
          "scene": {
           "xaxis": {
            "backgroundcolor": "#E5ECF6",
            "gridcolor": "white",
            "gridwidth": 2,
            "linecolor": "white",
            "showbackground": true,
            "ticks": "",
            "zerolinecolor": "white"
           },
           "yaxis": {
            "backgroundcolor": "#E5ECF6",
            "gridcolor": "white",
            "gridwidth": 2,
            "linecolor": "white",
            "showbackground": true,
            "ticks": "",
            "zerolinecolor": "white"
           },
           "zaxis": {
            "backgroundcolor": "#E5ECF6",
            "gridcolor": "white",
            "gridwidth": 2,
            "linecolor": "white",
            "showbackground": true,
            "ticks": "",
            "zerolinecolor": "white"
           }
          },
          "shapedefaults": {
           "line": {
            "color": "#2a3f5f"
           }
          },
          "ternary": {
           "aaxis": {
            "gridcolor": "white",
            "linecolor": "white",
            "ticks": ""
           },
           "baxis": {
            "gridcolor": "white",
            "linecolor": "white",
            "ticks": ""
           },
           "bgcolor": "#E5ECF6",
           "caxis": {
            "gridcolor": "white",
            "linecolor": "white",
            "ticks": ""
           }
          },
          "title": {
           "x": 0.05
          },
          "xaxis": {
           "automargin": true,
           "gridcolor": "white",
           "linecolor": "white",
           "ticks": "",
           "title": {
            "standoff": 15
           },
           "zerolinecolor": "white",
           "zerolinewidth": 2
          },
          "yaxis": {
           "automargin": true,
           "gridcolor": "white",
           "linecolor": "white",
           "ticks": "",
           "title": {
            "standoff": 15
           },
           "zerolinecolor": "white",
           "zerolinewidth": 2
          }
         }
        },
        "title": {
         "text": "magnesium 300 mg 60 vcp"
        },
        "xaxis": {
         "anchor": "y",
         "domain": [
          0,
          0.45
         ],
         "title": {
          "text": "Distribution of ARP vs Base ARP"
         }
        },
        "yaxis": {
         "anchor": "x",
         "domain": [
          0,
          1
         ],
         "title": {
          "text": "Dollars"
         }
        }
       }
      },
      "text/html": [
       "<div>\n",
       "        \n",
       "        \n",
       "            <div id=\"48f7461b-9a1e-4d65-8469-7bd8b499daa9\" class=\"plotly-graph-div\" style=\"height:600px; width:100%;\"></div>\n",
       "            <script type=\"text/javascript\">\n",
       "                require([\"plotly\"], function(Plotly) {\n",
       "                    window.PLOTLYENV=window.PLOTLYENV || {};\n",
       "                    \n",
       "                if (document.getElementById(\"48f7461b-9a1e-4d65-8469-7bd8b499daa9\")) {\n",
       "                    Plotly.newPlot(\n",
       "                        '48f7461b-9a1e-4d65-8469-7bd8b499daa9',\n",
       "                        [{\"boxmean\": true, \"boxpoints\": \"all\", \"hovertext\": [\"greenacres - total us (corp)\", \"greenacres - total us (corp)\", \"greens natural market - total us (corp)\", \"infra - total us (corp)\", \"infra - total us (corp)\", \"natural grocers by vc - total us (corp)\", \"natural grocers by vc - total us (corp)\", \"ncg - total us (corp)\", \"ncg - total us (corp)\", \"ncg - total us x-pcc (ban)\", \"ncg - total us x-pcc (ban)\", \"ncg - pcc (ban)\", \"ncg - mid atlantic (rgn/mkt)\", \"ncg - north central (rgn/mkt)\", \"ncg - north central (rgn/mkt)\", \"ncg - north east (rgn/mkt)\", \"ncg - north east (rgn/mkt)\", \"ncg - north west (rgn/mkt)\", \"ncg - northwest x-pcc (rgn/mkt)\", \"ncg - south central (rgn/mkt)\", \"ncg - south east (rgn/mkt)\", \"ncg - south west (rgn/mkt)\", \"ncg - south west (rgn/mkt)\", \"ncg - east rgn (rgn/mkt)\", \"ncg - east rgn (rgn/mkt)\", \"ncg - central rgn (rgn/mkt)\", \"ncg - central rgn (rgn/mkt)\", \"ncg - west x-pcc (rgn/mkt)\", \"ncg - west x-pcc (rgn/mkt)\", \"new seasons markets + new leaf community markets - total us (corp)\", \"sprouts farmers market - total us w/o pl (corp)\"], \"jitter\": 0.5, \"showlegend\": false, \"type\": \"box\", \"x\": [\"ARP\", \"ARP\", \"ARP\", \"ARP\", \"ARP\", \"ARP\", \"ARP\", \"ARP\", \"ARP\", \"ARP\", \"ARP\", \"ARP\", \"ARP\", \"ARP\", \"ARP\", \"ARP\", \"ARP\", \"ARP\", \"ARP\", \"ARP\", \"ARP\", \"ARP\", \"ARP\", \"ARP\", \"ARP\", \"ARP\", \"ARP\", \"ARP\", \"ARP\", \"ARP\", \"ARP\"], \"xaxis\": \"x\", \"y\": [8.15, 11.29, 10.21, 8.46, 10.18, 7.45, 9.16, 8.56, 10.31, 8.35, 10.31, 10.39, 8.7, 8.54, 11.04, 8.32, 10.04, 8.87, 7.93, 8.45, 8.18, 8.39, 10.57, 8.37, 9.92, 8.53, 11.04, 8.12, 10.57, 10.12, 7.93], \"yaxis\": \"y\"}, {\"domain\": {\"x\": [0.55, 1.0], \"y\": [0.0, 1.0]}, \"labels\": [\"0-5% off\", \"5-10% 5-10% off\", \"10-15% off\", \"15-20% off\", \"20-25% off\", \"25-30% off\", \"30-35% off\", \"35-40% off\"], \"showlegend\": true, \"title\": {\"text\": \"Proportion MSRP Discounts\"}, \"type\": \"pie\", \"values\": [5, 5, 0, 3, 12, 2, 1, 0]}],\n",
       "                        {\"height\": 600, \"showlegend\": true, \"template\": {\"data\": {\"bar\": [{\"error_x\": {\"color\": \"#2a3f5f\"}, \"error_y\": {\"color\": \"#2a3f5f\"}, \"marker\": {\"line\": {\"color\": \"#E5ECF6\", \"width\": 0.5}}, \"type\": \"bar\"}], \"barpolar\": [{\"marker\": {\"line\": {\"color\": \"#E5ECF6\", \"width\": 0.5}}, \"type\": \"barpolar\"}], \"carpet\": [{\"aaxis\": {\"endlinecolor\": \"#2a3f5f\", \"gridcolor\": \"white\", \"linecolor\": \"white\", \"minorgridcolor\": \"white\", \"startlinecolor\": \"#2a3f5f\"}, \"baxis\": {\"endlinecolor\": \"#2a3f5f\", \"gridcolor\": \"white\", \"linecolor\": \"white\", \"minorgridcolor\": \"white\", \"startlinecolor\": \"#2a3f5f\"}, \"type\": \"carpet\"}], \"choropleth\": [{\"colorbar\": {\"outlinewidth\": 0, \"ticks\": \"\"}, \"type\": \"choropleth\"}], \"contour\": [{\"colorbar\": {\"outlinewidth\": 0, \"ticks\": \"\"}, \"colorscale\": [[0.0, \"#0d0887\"], [0.1111111111111111, \"#46039f\"], [0.2222222222222222, \"#7201a8\"], [0.3333333333333333, \"#9c179e\"], [0.4444444444444444, \"#bd3786\"], [0.5555555555555556, \"#d8576b\"], [0.6666666666666666, \"#ed7953\"], [0.7777777777777778, \"#fb9f3a\"], [0.8888888888888888, \"#fdca26\"], [1.0, \"#f0f921\"]], \"type\": \"contour\"}], \"contourcarpet\": [{\"colorbar\": {\"outlinewidth\": 0, \"ticks\": \"\"}, \"type\": \"contourcarpet\"}], \"heatmap\": [{\"colorbar\": {\"outlinewidth\": 0, \"ticks\": \"\"}, \"colorscale\": [[0.0, \"#0d0887\"], [0.1111111111111111, \"#46039f\"], [0.2222222222222222, \"#7201a8\"], [0.3333333333333333, \"#9c179e\"], [0.4444444444444444, \"#bd3786\"], [0.5555555555555556, \"#d8576b\"], [0.6666666666666666, \"#ed7953\"], [0.7777777777777778, \"#fb9f3a\"], [0.8888888888888888, \"#fdca26\"], [1.0, \"#f0f921\"]], \"type\": \"heatmap\"}], \"heatmapgl\": [{\"colorbar\": {\"outlinewidth\": 0, \"ticks\": \"\"}, \"colorscale\": [[0.0, \"#0d0887\"], [0.1111111111111111, \"#46039f\"], [0.2222222222222222, \"#7201a8\"], [0.3333333333333333, \"#9c179e\"], [0.4444444444444444, \"#bd3786\"], [0.5555555555555556, \"#d8576b\"], [0.6666666666666666, \"#ed7953\"], [0.7777777777777778, \"#fb9f3a\"], [0.8888888888888888, \"#fdca26\"], [1.0, \"#f0f921\"]], \"type\": \"heatmapgl\"}], \"histogram\": [{\"marker\": {\"colorbar\": {\"outlinewidth\": 0, \"ticks\": \"\"}}, \"type\": \"histogram\"}], \"histogram2d\": [{\"colorbar\": {\"outlinewidth\": 0, \"ticks\": \"\"}, \"colorscale\": [[0.0, \"#0d0887\"], [0.1111111111111111, \"#46039f\"], [0.2222222222222222, \"#7201a8\"], [0.3333333333333333, \"#9c179e\"], [0.4444444444444444, \"#bd3786\"], [0.5555555555555556, \"#d8576b\"], [0.6666666666666666, \"#ed7953\"], [0.7777777777777778, \"#fb9f3a\"], [0.8888888888888888, \"#fdca26\"], [1.0, \"#f0f921\"]], \"type\": \"histogram2d\"}], \"histogram2dcontour\": [{\"colorbar\": {\"outlinewidth\": 0, \"ticks\": \"\"}, \"colorscale\": [[0.0, \"#0d0887\"], [0.1111111111111111, \"#46039f\"], [0.2222222222222222, \"#7201a8\"], [0.3333333333333333, \"#9c179e\"], [0.4444444444444444, \"#bd3786\"], [0.5555555555555556, \"#d8576b\"], [0.6666666666666666, \"#ed7953\"], [0.7777777777777778, \"#fb9f3a\"], [0.8888888888888888, \"#fdca26\"], [1.0, \"#f0f921\"]], \"type\": \"histogram2dcontour\"}], \"mesh3d\": [{\"colorbar\": {\"outlinewidth\": 0, \"ticks\": \"\"}, \"type\": \"mesh3d\"}], \"parcoords\": [{\"line\": {\"colorbar\": {\"outlinewidth\": 0, \"ticks\": \"\"}}, \"type\": \"parcoords\"}], \"pie\": [{\"automargin\": true, \"type\": \"pie\"}], \"scatter\": [{\"marker\": {\"colorbar\": {\"outlinewidth\": 0, \"ticks\": \"\"}}, \"type\": \"scatter\"}], \"scatter3d\": [{\"line\": {\"colorbar\": {\"outlinewidth\": 0, \"ticks\": \"\"}}, \"marker\": {\"colorbar\": {\"outlinewidth\": 0, \"ticks\": \"\"}}, \"type\": \"scatter3d\"}], \"scattercarpet\": [{\"marker\": {\"colorbar\": {\"outlinewidth\": 0, \"ticks\": \"\"}}, \"type\": \"scattercarpet\"}], \"scattergeo\": [{\"marker\": {\"colorbar\": {\"outlinewidth\": 0, \"ticks\": \"\"}}, \"type\": \"scattergeo\"}], \"scattergl\": [{\"marker\": {\"colorbar\": {\"outlinewidth\": 0, \"ticks\": \"\"}}, \"type\": \"scattergl\"}], \"scattermapbox\": [{\"marker\": {\"colorbar\": {\"outlinewidth\": 0, \"ticks\": \"\"}}, \"type\": \"scattermapbox\"}], \"scatterpolar\": [{\"marker\": {\"colorbar\": {\"outlinewidth\": 0, \"ticks\": \"\"}}, \"type\": \"scatterpolar\"}], \"scatterpolargl\": [{\"marker\": {\"colorbar\": {\"outlinewidth\": 0, \"ticks\": \"\"}}, \"type\": \"scatterpolargl\"}], \"scatterternary\": [{\"marker\": {\"colorbar\": {\"outlinewidth\": 0, \"ticks\": \"\"}}, \"type\": \"scatterternary\"}], \"surface\": [{\"colorbar\": {\"outlinewidth\": 0, \"ticks\": \"\"}, \"colorscale\": [[0.0, \"#0d0887\"], [0.1111111111111111, \"#46039f\"], [0.2222222222222222, \"#7201a8\"], [0.3333333333333333, \"#9c179e\"], [0.4444444444444444, \"#bd3786\"], [0.5555555555555556, \"#d8576b\"], [0.6666666666666666, \"#ed7953\"], [0.7777777777777778, \"#fb9f3a\"], [0.8888888888888888, \"#fdca26\"], [1.0, \"#f0f921\"]], \"type\": \"surface\"}], \"table\": [{\"cells\": {\"fill\": {\"color\": \"#EBF0F8\"}, \"line\": {\"color\": \"white\"}}, \"header\": {\"fill\": {\"color\": \"#C8D4E3\"}, \"line\": {\"color\": \"white\"}}, \"type\": \"table\"}]}, \"layout\": {\"annotationdefaults\": {\"arrowcolor\": \"#2a3f5f\", \"arrowhead\": 0, \"arrowwidth\": 1}, \"coloraxis\": {\"colorbar\": {\"outlinewidth\": 0, \"ticks\": \"\"}}, \"colorscale\": {\"diverging\": [[0, \"#8e0152\"], [0.1, \"#c51b7d\"], [0.2, \"#de77ae\"], [0.3, \"#f1b6da\"], [0.4, \"#fde0ef\"], [0.5, \"#f7f7f7\"], [0.6, \"#e6f5d0\"], [0.7, \"#b8e186\"], [0.8, \"#7fbc41\"], [0.9, \"#4d9221\"], [1, \"#276419\"]], \"sequential\": [[0.0, \"#0d0887\"], [0.1111111111111111, \"#46039f\"], [0.2222222222222222, \"#7201a8\"], [0.3333333333333333, \"#9c179e\"], [0.4444444444444444, \"#bd3786\"], [0.5555555555555556, \"#d8576b\"], [0.6666666666666666, \"#ed7953\"], [0.7777777777777778, \"#fb9f3a\"], [0.8888888888888888, \"#fdca26\"], [1.0, \"#f0f921\"]], \"sequentialminus\": [[0.0, \"#0d0887\"], [0.1111111111111111, \"#46039f\"], [0.2222222222222222, \"#7201a8\"], [0.3333333333333333, \"#9c179e\"], [0.4444444444444444, \"#bd3786\"], [0.5555555555555556, \"#d8576b\"], [0.6666666666666666, \"#ed7953\"], [0.7777777777777778, \"#fb9f3a\"], [0.8888888888888888, \"#fdca26\"], [1.0, \"#f0f921\"]]}, \"colorway\": [\"#636efa\", \"#EF553B\", \"#00cc96\", \"#ab63fa\", \"#FFA15A\", \"#19d3f3\", \"#FF6692\", \"#B6E880\", \"#FF97FF\", \"#FECB52\"], \"font\": {\"color\": \"#2a3f5f\"}, \"geo\": {\"bgcolor\": \"white\", \"lakecolor\": \"white\", \"landcolor\": \"#E5ECF6\", \"showlakes\": true, \"showland\": true, \"subunitcolor\": \"white\"}, \"hoverlabel\": {\"align\": \"left\"}, \"hovermode\": \"closest\", \"mapbox\": {\"style\": \"light\"}, \"paper_bgcolor\": \"white\", \"plot_bgcolor\": \"#E5ECF6\", \"polar\": {\"angularaxis\": {\"gridcolor\": \"white\", \"linecolor\": \"white\", \"ticks\": \"\"}, \"bgcolor\": \"#E5ECF6\", \"radialaxis\": {\"gridcolor\": \"white\", \"linecolor\": \"white\", \"ticks\": \"\"}}, \"scene\": {\"xaxis\": {\"backgroundcolor\": \"#E5ECF6\", \"gridcolor\": \"white\", \"gridwidth\": 2, \"linecolor\": \"white\", \"showbackground\": true, \"ticks\": \"\", \"zerolinecolor\": \"white\"}, \"yaxis\": {\"backgroundcolor\": \"#E5ECF6\", \"gridcolor\": \"white\", \"gridwidth\": 2, \"linecolor\": \"white\", \"showbackground\": true, \"ticks\": \"\", \"zerolinecolor\": \"white\"}, \"zaxis\": {\"backgroundcolor\": \"#E5ECF6\", \"gridcolor\": \"white\", \"gridwidth\": 2, \"linecolor\": \"white\", \"showbackground\": true, \"ticks\": \"\", \"zerolinecolor\": \"white\"}}, \"shapedefaults\": {\"line\": {\"color\": \"#2a3f5f\"}}, \"ternary\": {\"aaxis\": {\"gridcolor\": \"white\", \"linecolor\": \"white\", \"ticks\": \"\"}, \"baxis\": {\"gridcolor\": \"white\", \"linecolor\": \"white\", \"ticks\": \"\"}, \"bgcolor\": \"#E5ECF6\", \"caxis\": {\"gridcolor\": \"white\", \"linecolor\": \"white\", \"ticks\": \"\"}}, \"title\": {\"x\": 0.05}, \"xaxis\": {\"automargin\": true, \"gridcolor\": \"white\", \"linecolor\": \"white\", \"ticks\": \"\", \"title\": {\"standoff\": 15}, \"zerolinecolor\": \"white\", \"zerolinewidth\": 2}, \"yaxis\": {\"automargin\": true, \"gridcolor\": \"white\", \"linecolor\": \"white\", \"ticks\": \"\", \"title\": {\"standoff\": 15}, \"zerolinecolor\": \"white\", \"zerolinewidth\": 2}}}, \"title\": {\"text\": \"magnesium 300 mg 60 vcp\"}, \"xaxis\": {\"anchor\": \"y\", \"domain\": [0.0, 0.45], \"title\": {\"text\": \"Distribution of ARP vs Base ARP\"}}, \"yaxis\": {\"anchor\": \"x\", \"domain\": [0.0, 1.0], \"title\": {\"text\": \"Dollars\"}}},\n",
       "                        {\"responsive\": true}\n",
       "                    ).then(function(){\n",
       "                            \n",
       "var gd = document.getElementById('48f7461b-9a1e-4d65-8469-7bd8b499daa9');\n",
       "var x = new MutationObserver(function (mutations, observer) {{\n",
       "        var display = window.getComputedStyle(gd).display;\n",
       "        if (!display || display === 'none') {{\n",
       "            console.log([gd, 'removed!']);\n",
       "            Plotly.purge(gd);\n",
       "            observer.disconnect();\n",
       "        }}\n",
       "}});\n",
       "\n",
       "// Listen for the removal of the full notebook cells\n",
       "var notebookContainer = gd.closest('#notebook-container');\n",
       "if (notebookContainer) {{\n",
       "    x.observe(notebookContainer, {childList: true});\n",
       "}}\n",
       "\n",
       "// Listen for the clearing of the current output cell\n",
       "var outputEl = gd.closest('.output');\n",
       "if (outputEl) {{\n",
       "    x.observe(outputEl, {childList: true});\n",
       "}}\n",
       "\n",
       "                        })\n",
       "                };\n",
       "                });\n",
       "            </script>\n",
       "        </div>"
      ]
     },
     "metadata": {},
     "output_type": "display_data"
    },
    {
     "data": {
      "image/png": "[encoded data removed]",
      "text/plain": [
       "<Figure size 864x288 with 1 Axes>"
      ]
     },
     "metadata": {},
     "output_type": "display_data"
    },
    {
     "data": {
      "image/png": "[encoded data removed]",
      "text/plain": [
       "<Figure size 864x288 with 1 Axes>"
      ]
     },
     "metadata": {},
     "output_type": "display_data"
    }
   ],
   "source": [
    "from IPython.display import HTML\n",
    "from IPython.display import display\n",
    "\n",
    "# Taken from https://stackoverflow.com/questions/31517194/how-to-hide-one-specific-cell-input-or-output-in-ipython-notebook\n",
    "tag = HTML('''<script>\n",
    "code_show=true; \n",
    "function code_toggle() {\n",
    "    if (code_show){\n",
    "        $('div.cell.code_cell.rendered.selected div.input').hide();\n",
    "    } else {\n",
    "        $('div.cell.code_cell.rendered.selected div.input').show();\n",
    "    }\n",
    "    code_show = !code_show\n",
    "} \n",
    "$( document ).ready(code_toggle);\n",
    "</script>\n",
    "To show/hide this cell's raw code input, click <a href=\"javascript:code_toggle()\">here</a>.''')\n",
    "display(tag)\n",
    "\n",
    "############### Write code below ##################\n",
    "\n",
    "single_product_analysis(2474,df, code = 1)"
   ]
  },
  {
   "cell_type": "code",
   "execution_count": null,
   "metadata": {
    "collapsed": true
   },
   "outputs": [],
   "source": [
    "single_product_analysis(items[2])\n",
    "\n",
    "single_product_analysis(items[3])\n",
    "\n",
    "single_product_analysis(items[4])\n",
    "\n",
    "single_product_analysis(items[5])\n",
    "\n",
    "single_product_analysis(items[6])\n",
    "\n",
    "single_product_analysis(items[7])\n",
    "\n",
    "single_product_analysis(items[8])\n",
    "\n",
    "single_product_analysis(items[9])\n",
    "\n",
    "single_product_analysis(items[10])\n",
    "\n",
    "single_product_analysis(items[11])\n",
    "\n",
    "single_product_analysis(items[12])\n",
    "\n",
    "single_product_analysis(items[13])\n",
    "\n",
    "single_product_analysis(items[14])\n",
    "\n",
    "single_product_analysis(items[15])\n",
    "\n",
    "single_product_analysis(items[16])\n",
    "\n",
    "single_product_analysis(items[17])\n",
    "\n",
    "single_product_analysis(items[18])\n",
    "\n",
    "single_product_analysis(items[19])\n",
    "\n",
    "clean_spins_upc(df)"
   ]
  },
  {
   "cell_type": "code",
   "execution_count": 185,
   "metadata": {
    "collapsed": true
   },
   "outputs": [],
   "source": [
    "df[\"Item_cleaned\"] = df.apply(lambda x: x.Item.lstrip(x.Brand.lower()), axis=1)"
   ]
  },
  {
   "cell_type": "code",
   "execution_count": 186,
   "metadata": {
    "collapsed": true
   },
   "outputs": [
    {
     "data": {
      "text/plain": [
       "0                m prob onc dly wmn ogc 30vcp\n",
       "1                     collagen peptides 20 oz\n",
       "2         mbucus elderbrry gummies ogc 60 chw\n",
       "3                           mate omega 180 sg\n",
       "4                 multi collagen complex 16oz\n",
       "                         ...                 \n",
       "329863                 glucose guidance 60 cp\n",
       "329864      garlic rich super strength 180 sg\n",
       "329865            bn brth ptn vcrm ogc 28.2oz\n",
       "329866            super natural calcium 60 tb\n",
       "329867              7 sources omega og 8.5 oz\n",
       "Name: Item_cleaned, Length: 329868, dtype: object"
      ]
     },
     "execution_count": 186,
     "metadata": {},
     "output_type": "execute_result"
    }
   ],
   "source": [
    "df[\"Item_cleaned\"]\n",
    "#df[\"Item_cleaned\"] = df.apply(lambda x: x[\"Item_UPC\"].lstrip(x.Brand.lower()), axis=1)\n",
    "# if temp.iloc[329866 ,0] in brand_temp.iloc[329866 ,1]:\n",
    "#     temp.iloc[329866 ,0] = \"\"\n",
    "\n",
    "# temp"
   ]
  },
  {
   "cell_type": "code",
   "execution_count": 190,
   "metadata": {
    "collapsed": true
   },
   "outputs": [],
   "source": [
    "def item_cleanup_is_in(x):\n",
    "        if x[0] not in x[3] and x[1] not in x[3]:\n",
    "            return x[0] + \" \"+ x[1] + \" \"+ x[2]\n",
    "        elif x[0] in x[3] and x[1] in x[3]:\n",
    "            return x[2]\n",
    "        elif x[0] in x[3] and x[1] not in x[3]:\n",
    "            return x[1]  + \" \" +x[2] \n",
    "\n",
    "\n",
    "def clean_up_item(df):\n",
    "\n",
    "    #split cells and expand to clean up brands with >1 name ie Garden Of Life into 2 columns\n",
    "    temp = df[\"Item\"].str.split(\" \", n=3, expand = True)\n",
    "    brand_temp = df[\"Brand\"].str.split(\" \", n = 1, expand = True)\n",
    "\n",
    "    #drop first columns as these should match\n",
    "\n",
    "    temp.drop(columns = [0], inplace = True)\n",
    "    brand_temp.drop(columns = [0], inplace = True)\n",
    "\n",
    "    #and rename columns to concatenate\n",
    "    temp.rename(columns = {1:0, 2:1, 3:2}, inplace = True)\n",
    "    brand_temp.rename(columns = {1:3}, inplace = True)\n",
    "\n",
    "    #remove none type objects from dataframe introduced by pandas.DataFrame.str.split() method\n",
    "    temp[0] = temp[0].apply(lambda s: ' ' if s is None else str(s))\n",
    "    temp[1] = temp[1].apply(lambda s: ' ' if s is None else str(s))\n",
    "    temp[2] = temp[2].apply(lambda s: ' ' if s is None else str(s))\n",
    "    brand_temp[3] = brand_temp[3].apply(lambda s: ' ' if s is None else str(s))\n",
    "    #combine brand_temp and  temp df into 1 dataframe\n",
    "    frames = [temp,brand_temp]\n",
    "    result = pd.concat(frames, axis=1, join='inner')\n",
    "\n",
    "\n",
    "    #remove brand names from columns\n",
    "    temp[2] = result.apply(lambda x: item_cleanup_is_in(x), axis = 1)\n",
    "    df.insert(2, \"Items\", temp[2])\n",
    "    df.drop(columns= [\"Item\"], inplace=True)"
   ]
  },
  {
   "cell_type": "code",
   "execution_count": 191,
   "metadata": {
    "collapsed": true
   },
   "outputs": [
    {
     "data": {
      "text/html": [
       "<div>\n",
       "<style scoped>\n",
       "    .dataframe tbody tr th:only-of-type {\n",
       "        vertical-align: middle;\n",
       "    }\n",
       "\n",
       "    .dataframe tbody tr th {\n",
       "        vertical-align: top;\n",
       "    }\n",
       "\n",
       "    .dataframe thead th {\n",
       "        text-align: right;\n",
       "    }\n",
       "</style>\n",
       "<table border=\"1\" class=\"dataframe\">\n",
       "  <thead>\n",
       "    <tr style=\"text-align: right;\">\n",
       "      <th></th>\n",
       "      <th>UPC</th>\n",
       "      <th>Items</th>\n",
       "      <th>Geography</th>\n",
       "      <th>Brand</th>\n",
       "      <th>Subcategory</th>\n",
       "      <th>Dollars</th>\n",
       "      <th>Dollars_Yago</th>\n",
       "      <th>Units</th>\n",
       "      <th>Units_Yago</th>\n",
       "      <th>Dollars_SPP</th>\n",
       "      <th>Dollars_SPP_Yago</th>\n",
       "      <th>ARP</th>\n",
       "      <th>ARP_Yago</th>\n",
       "      <th>Base_ARP</th>\n",
       "      <th>BaseARP_Yago</th>\n",
       "    </tr>\n",
       "  </thead>\n",
       "  <tbody>\n",
       "    <tr>\n",
       "      <th>0</th>\n",
       "      <td>65801011832</td>\n",
       "      <td>dr frm prob onc dly wmn ogc 30vcp</td>\n",
       "      <td>earth fare - total us (corp)</td>\n",
       "      <td>garden of life</td>\n",
       "      <td>prebiotics &amp; probiotics</td>\n",
       "      <td>10579.14</td>\n",
       "      <td>47225.35</td>\n",
       "      <td>286.0</td>\n",
       "      <td>1442.0</td>\n",
       "      <td>182.87</td>\n",
       "      <td>486.06</td>\n",
       "      <td>36.99</td>\n",
       "      <td>32.75</td>\n",
       "      <td>36.99</td>\n",
       "      <td>36.06</td>\n",
       "    </tr>\n",
       "    <tr>\n",
       "      <th>1</th>\n",
       "      <td>85023200508</td>\n",
       "      <td>collagen peptides 20 oz</td>\n",
       "      <td>earth fare - total us (corp)</td>\n",
       "      <td>vital proteins</td>\n",
       "      <td>protein &amp; meal replacement powder</td>\n",
       "      <td>10085.45</td>\n",
       "      <td>77767.14</td>\n",
       "      <td>205.0</td>\n",
       "      <td>1854.0</td>\n",
       "      <td>123.64</td>\n",
       "      <td>820.67</td>\n",
       "      <td>49.20</td>\n",
       "      <td>41.95</td>\n",
       "      <td>49.53</td>\n",
       "      <td>42.62</td>\n",
       "    </tr>\n",
       "    <tr>\n",
       "      <th>2</th>\n",
       "      <td>03367410486</td>\n",
       "      <td>sambucus elderbrry gummies ogc 60 chw</td>\n",
       "      <td>earth fare - total us (corp)</td>\n",
       "      <td>natures way</td>\n",
       "      <td>herbal formulas cold &amp; flu &amp; immune</td>\n",
       "      <td>7220.56</td>\n",
       "      <td>24308.32</td>\n",
       "      <td>344.0</td>\n",
       "      <td>1168.0</td>\n",
       "      <td>73.22</td>\n",
       "      <td>244.99</td>\n",
       "      <td>20.99</td>\n",
       "      <td>20.81</td>\n",
       "      <td>20.99</td>\n",
       "      <td>20.92</td>\n",
       "    </tr>\n",
       "    <tr>\n",
       "      <th>3</th>\n",
       "      <td>76899003790</td>\n",
       "      <td>ultimate omega 180 sg</td>\n",
       "      <td>earth fare - total us (corp)</td>\n",
       "      <td>nordic naturals</td>\n",
       "      <td>supplements oils</td>\n",
       "      <td>32276.56</td>\n",
       "      <td>43280.34</td>\n",
       "      <td>544.0</td>\n",
       "      <td>814.0</td>\n",
       "      <td>328.68</td>\n",
       "      <td>455.39</td>\n",
       "      <td>59.33</td>\n",
       "      <td>53.17</td>\n",
       "      <td>59.51</td>\n",
       "      <td>56.70</td>\n",
       "    </tr>\n",
       "    <tr>\n",
       "      <th>4</th>\n",
       "      <td>85810900611</td>\n",
       "      <td>multi collagen complex 16oz</td>\n",
       "      <td>earth fare - total us (corp)</td>\n",
       "      <td>ancient nutrition</td>\n",
       "      <td>protein &amp; meal replacement powder</td>\n",
       "      <td>9986.64</td>\n",
       "      <td>51194.58</td>\n",
       "      <td>206.0</td>\n",
       "      <td>1050.0</td>\n",
       "      <td>106.24</td>\n",
       "      <td>533.05</td>\n",
       "      <td>48.48</td>\n",
       "      <td>48.76</td>\n",
       "      <td>48.81</td>\n",
       "      <td>49.00</td>\n",
       "    </tr>\n",
       "  </tbody>\n",
       "</table>\n",
       "</div>"
      ],
      "text/plain": [
       "           UPC                                  Items  \\\n",
       "0  65801011832      dr frm prob onc dly wmn ogc 30vcp   \n",
       "1  85023200508                collagen peptides 20 oz   \n",
       "2  03367410486  sambucus elderbrry gummies ogc 60 chw   \n",
       "3  76899003790                  ultimate omega 180 sg   \n",
       "4  85810900611            multi collagen complex 16oz   \n",
       "\n",
       "                      Geography              Brand  \\\n",
       "0  earth fare - total us (corp)     garden of life   \n",
       "1  earth fare - total us (corp)     vital proteins   \n",
       "2  earth fare - total us (corp)        natures way   \n",
       "3  earth fare - total us (corp)    nordic naturals   \n",
       "4  earth fare - total us (corp)  ancient nutrition   \n",
       "\n",
       "                           Subcategory   Dollars  Dollars_Yago  Units  \\\n",
       "0              prebiotics & probiotics  10579.14      47225.35  286.0   \n",
       "1    protein & meal replacement powder  10085.45      77767.14  205.0   \n",
       "2  herbal formulas cold & flu & immune   7220.56      24308.32  344.0   \n",
       "3                     supplements oils  32276.56      43280.34  544.0   \n",
       "4    protein & meal replacement powder   9986.64      51194.58  206.0   \n",
       "\n",
       "   Units_Yago  Dollars_SPP  Dollars_SPP_Yago    ARP  ARP_Yago  Base_ARP  \\\n",
       "0      1442.0       182.87            486.06  36.99     32.75     36.99   \n",
       "1      1854.0       123.64            820.67  49.20     41.95     49.53   \n",
       "2      1168.0        73.22            244.99  20.99     20.81     20.99   \n",
       "3       814.0       328.68            455.39  59.33     53.17     59.51   \n",
       "4      1050.0       106.24            533.05  48.48     48.76     48.81   \n",
       "\n",
       "   BaseARP_Yago  \n",
       "0         36.06  \n",
       "1         42.62  \n",
       "2         20.92  \n",
       "3         56.70  \n",
       "4         49.00  "
      ]
     },
     "execution_count": 191,
     "metadata": {},
     "output_type": "execute_result"
    }
   ],
   "source": [
    "clean_up_item(df)\n",
    "df.head()"
   ]
  },
  {
   "cell_type": "code",
   "execution_count": null,
   "metadata": {
    "collapsed": true
   },
   "outputs": [],
   "source": [
    "temp = df[\"Item_UPC\"].str.rsplit(\" \",  expand = True)\n",
    "temp"
   ]
  },
  {
   "cell_type": "code",
   "execution_count": null,
   "metadata": {
    "collapsed": true
   },
   "outputs": [],
   "source": [
    "temp[temp.loc[:,13]=='07-33739-00384']\n",
    "\n",
    "temp.shape"
   ]
  },
  {
   "cell_type": "code",
   "execution_count": 48,
   "metadata": {
    "collapsed": true
   },
   "outputs": [
    {
     "data": {
      "text/plain": [
       "True"
      ]
     },
     "execution_count": 48,
     "metadata": {},
     "output_type": "execute_result"
    }
   ],
   "source": [
    "st = brand_temp.iloc[0,1]\n",
    "temp.iloc[2,0] in brand_temp.iloc[2,1]"
   ]
  },
  {
   "cell_type": "code",
   "execution_count": null,
   "metadata": {
    "collapsed": true
   },
   "outputs": [],
   "source": [
    "df2 = pd.DataFrame({'Item_UPC': ['fubar baz dr frm prob onc dly wmn ogc 30vcp 06580-66-832',\n",
    " 'xxx stuff coll tides 20 oz 09980-66-832',\n",
    " 'hel world sambucus elder 60 chw 0392-67-491',\n",
    " 'northern cold ultimate  180 sg 06580-66-832',\n",
    " 'ancient nuts  boogs 16oz 58532-42-123 '], \n",
    "                   'Brand': ['FUBAR OF BAZ',\n",
    " 'XXX STUFF',\n",
    " 'HELLO WORLD',\n",
    " 'NORTHERN COLDNITES',\n",
    " 'ANCIENT NUTS']}) \n",
    "\n",
    "df2\n",
    "\n",
    "\n",
    "\n",
    "\n",
    "df[\"Item_cleaned\"] = df.apply(lambda x: x.Item_UPC.lstrip(x.Brand.lower()), axis=1)\n",
    "df2"
   ]
  },
  {
   "cell_type": "code",
   "execution_count": null,
   "metadata": {
    "collapsed": true
   },
   "outputs": [],
   "source": [
    "# ''''df2 = pd.read_csv(\"/Users/GuntherUlvanget/country_life/country_life_spins/Sprouts_INFRA_24 weeks_ending_7_12_20.csv\", \n",
    "#                      sep = \",\", na_values = \"-\",\n",
    "#                  usecols= [  'Geography', 'Item_UPC', 'Brand', 'Subcategory',\n",
    "#        'AGE', 'FORM', 'FUNCTIONAL_INGREDIENT', 'FLAVOR', 'HEALTH_FOCUS',\n",
    "#        'Group', 'SIZE', 'Dollars', 'Dollars_Yago', 'Units', 'Units_Yago', 'Dollars_SPP', 'ARP',\n",
    "#        'ARP_Yago',  'Base_ARP',\n",
    "#        'Base_ARP_Yago'])\n",
    "       \n",
    "#        #df3 = process_data(\"/Users/GuntherUlvanget/country_life/country_life_spins/Sprouts_INFRA_24 weeks_ending_7_12_20.csv\")'''\n",
    "\n",
    "#df[\"ARP_percent_off_MSRP\"] = df[\"ARP\"].apply(lambda x: (1-(x/get_MSRP(\"2474\"))))\n",
    "#mag_df.head()\n",
    "                                                      \n",
    "\n",
    "#mag_df2 = sku_selcetor_ingredient(\"mag\",df)\n",
    "#mag_df3 = sku_singleton('2474', df)\n",
    "#mag_df3.head()\n",
    "\n",
    "#df[\"ARP_percent_off_MSRP\"] =  df[\"ARP\"].apply(lambda x: (1-(x/get_MSRP(\"2474\")))*100)\n",
    "#df['bins'] = pd.cut(df['ARP_percent_off_MSRP'],bins=[0,5,10,15,20,25,30,35,40], labels=[\"0-5%\",\"5-10%\",\"10-15%\",\"15-20%\",\"20-25%\",\"25-30%\", \"30-35%\",\"35-40\"])\n",
    "\n",
    "\n",
    "#mag_df3.reset_index(inplace = True)\n",
    "\n",
    "#mag_df3.loc[:,\"ARP_percent_off_MSRP\"] = (1-(mag_df3[\"ARP\"]/get_MSRP(\"2474\"))) *100\n",
    "\n",
    "#mag_df3['bins'] = pd.cut(mag_df3['ARP_percent_off_MSRP'],bins=[0,5,10,15,20,25,30,35,40], labels=[\"0-5%\",\"5-10%\",\"10-15%\",\"15-20%\",\"20-25%\",\"25-30%\", \"30-35%\",\"35-40\"])\n",
    "# ax = sns.boxplot(x='Metric', y='amount', data=mag_df3, showfliers = False)\n",
    "# ax = sns.stripplot(x='Metric', y='amount', data=mag_df3, color = \"black\", jitter = .1 )\n",
    "# ax.axhline(cl_top_seller[\"MSRP$\"][0])\n",
    "# #plt.title(mag_df3[\"Item\"][0])\n",
    "#mag_df3 = mag_df3.melt(id_vars=[\"UPC\", \"Item\",\"Geography\",'Brand', 'Subcategory'], var_name = \"Metric\" , value_name='amount')\n",
    "# cl_top_seller.loc[0,]\n",
    "# fig = px.box(mag_df3, x=\"Metric\", y=\"amount\", points=\"all\", title = mag_df3[\"Item\"][0])\n",
    "# fig.add_trace(go.Scatter(x=['ARP', 'Base_ARP'], y=[get_MSRP(\"2474\"),get_MSRP(\"2474\")], mode=\"lines\", name=\"MSRP\"))\n",
    "# fig.show()\n",
    "# mag_df3[\"Metric\"].unique()\n",
    "# mag_df3 = mag_df3.loc[mag_df3[\"Metric\"].isin(metric_to_use)].reset_index()\n",
    "# boot_strap_sample.plot_boot_strap_metric(single_sku_df[\"ARP\"].to_numpy())\n",
    "# boot_strap_sample.plot_boot_strap_metric(single_sku_df[\"ARP\"].to_numpy(), test_statistic=np.median)\n",
    "# pie = px.pie(data_frame= c,\n",
    "#             names = \"bins\"\n",
    "#             , values = \"count\",\n",
    "#             title = \"Breakdown of ARP as a percentage off MSRP\")\n",
    "\n",
    "# pie.show()\n",
    "\n",
    "# pie.title.position "
   ]
  },
  {
   "cell_type": "code",
   "execution_count": null,
   "metadata": {
    "collapsed": true
   },
   "outputs": [],
   "source": [
    "# conn = psycopg2.connect(\"user='postgres' host='localhost'\")\n",
    "\n",
    "# cur = conn.cursor()\n",
    "\n",
    "# conn.autocommit = True\n",
    "# cur.execute('DROP DATABASE IF EXISTS spins;')\n",
    "# cur.execute('CREATE DATABASE spins;')\n",
    "\n",
    "# cur.close() # This is optional\n",
    "# conn.close() # Closing the connection also closes all cursors\n",
    "\n",
    "# conn = psycopg2.connect(\"dbname='spins' user='postgres' host='localhost'\")\n",
    "\n",
    "# cur = conn.cursor()\n",
    "\n",
    "#  # Inside insulinpricing database create a table with all of the \n",
    "#     #appropriate column names to match with the CSV file header. '\n",
    "# query = '''\n",
    "       \n",
    "# CREATE TABLE spins_data(Geography VARCHAR, \n",
    "# Item_UPC, \n",
    "# Brand, \n",
    "# Subcategory,\n",
    "# AGE, \n",
    "# FORM, \n",
    "# FUNCTIONAL_INGREDIENT, \n",
    "# FLAVOR, \n",
    "# HEALTH_FOCUS,\n",
    "# Group, \n",
    "# SIZE, \n",
    "# Dollars, \n",
    "# Dollars_Yago, \n",
    "# Units, \n",
    "# Units_Yago, \n",
    "# Dollars_SPP, \n",
    "# ARP,\n",
    "# ARP_Yago,  \n",
    "# Base_ARP,\n",
    "# Base_ARP_Yago)\n",
    "\n",
    "\n",
    "\n",
    "# (NDC_Description VARCHAR ,NDC VARCHAR, \n",
    "#     NADAC_Per_Unit NUMERIC, Effective_Date DATE,\n",
    "#     Pricing_Unit VARCHAR,Pharmacy_Type_Indicator VARCHAR,\n",
    "#     OTC VARCHAR,Explanation_Code VARCHAR,\n",
    "#     Classification_for_Rate_Setting VARCHAR,\n",
    "#     Corresponding_Generic_Drug_NADAC_Per_Unit NUMERIC,\n",
    "#     Corresponding_Generic_Drug_Effective_Date DATE,\n",
    "#     As_of_Date DATE);\n",
    "#         '''\n",
    "# cur.execute(query)"
   ]
  }
 ],
 "metadata": {
  "kernelspec": {
   "display_name": "Python 3",
   "language": "python",
   "name": "python3"
  },
  "language_info": {
   "codemirror_mode": {
    "name": "ipython",
    "version": 3
   },
   "file_extension": ".py",
   "mimetype": "text/x-python",
   "name": "python",
   "nbconvert_exporter": "python",
   "pygments_lexer": "ipython3",
   "version": "3.7.6"
  }
 },
 "nbformat": 4,
 "nbformat_minor": 4
}
