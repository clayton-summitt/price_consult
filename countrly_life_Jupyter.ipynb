{
 "cells": [
  {
   "cell_type": "code",
   "execution_count": 73,
   "metadata": {
    "collapsed": true
   },
   "outputs": [],
   "source": [
    "import pandas as pd\n",
    "import numpy as np\n",
    "import seaborn as sns\n",
    "import matplotlib as mat\n",
    "\n",
    "#import psycopg2\n",
    "\n",
    "import seaborn as sns; sns.set()\n",
    "import matplotlib.pyplot as plt\n",
    "import datetime\n",
    "import scipy.stats\n",
    "\n",
    "import plotly.express as px\n",
    "import plotly.graph_objects as go\n",
    "from plotly.subplots import make_subplots"
   ]
  },
  {
   "cell_type": "code",
   "execution_count": null,
   "metadata": {},
   "outputs": [],
   "source": []
  },
  {
   "cell_type": "code",
   "execution_count": 2,
   "metadata": {},
   "outputs": [
    {
     "data": {
      "text/plain": [
       "'\\'df2 = pd.read_csv(\"/Users/GuntherUlvanget/country_life/country_life_spins/Sprouts_INFRA_24 weeks_ending_7_12_20.csv\", \\n                     sep = \",\", na_values = \"-\",\\n                 usecols= [  \\'Geography\\', \\'Item_UPC\\', \\'Brand\\', \\'Subcategory\\',\\n       \\'AGE\\', \\'FORM\\', \\'FUNCTIONAL_INGREDIENT\\', \\'FLAVOR\\', \\'HEALTH_FOCUS\\',\\n       \\'Group\\', \\'SIZE\\', \\'Dollars\\', \\'Dollars_Yago\\', \\'Units\\', \\'Units_Yago\\', \\'Dollars_SPP\\', \\'ARP\\',\\n       \\'ARP_Yago\\',  \\'Base_ARP\\',\\n       \\'Base_ARP_Yago\\'])\\n       \\n       #df3 = process_data(\"/Users/GuntherUlvanget/country_life/country_life_spins/Sprouts_INFRA_24 weeks_ending_7_12_20.csv\")'"
      ]
     },
     "execution_count": 2,
     "metadata": {},
     "output_type": "execute_result"
    }
   ],
   "source": [
    "''''df2 = pd.read_csv(\"/Users/GuntherUlvanget/country_life/country_life_spins/Sprouts_INFRA_24 weeks_ending_7_12_20.csv\", \n",
    "                     sep = \",\", na_values = \"-\",\n",
    "                 usecols= [  'Geography', 'Item_UPC', 'Brand', 'Subcategory',\n",
    "       'AGE', 'FORM', 'FUNCTIONAL_INGREDIENT', 'FLAVOR', 'HEALTH_FOCUS',\n",
    "       'Group', 'SIZE', 'Dollars', 'Dollars_Yago', 'Units', 'Units_Yago', 'Dollars_SPP', 'ARP',\n",
    "       'ARP_Yago',  'Base_ARP',\n",
    "       'Base_ARP_Yago'])\n",
    "       \n",
    "       #df3 = process_data(\"/Users/GuntherUlvanget/country_life/country_life_spins/Sprouts_INFRA_24 weeks_ending_7_12_20.csv\")'''"
   ]
  },
  {
   "cell_type": "code",
   "execution_count": null,
   "metadata": {},
   "outputs": [],
   "source": []
  },
  {
   "cell_type": "code",
   "execution_count": 56,
   "metadata": {
    "collapsed": true
   },
   "outputs": [],
   "source": [
    "def clean_CL_UPC(df):\n",
    "\t#to match items in SPINS data, CL starts with Leading zero\n",
    "\n",
    "\tdf[\"UPC\"] = df[\"UPC\"].apply(str)\n",
    "\tdf[\"UPC\"] = df[\"UPC\"].apply(lambda x : x[:-1])\n",
    "\tdf[\"UPC\"] = df[\"UPC\"].apply(lambda x : \"0\" + x)\n",
    "\tcolumn_name = \"UPC\"\n",
    "\tfirst = df.pop(column_name)\n",
    "\tdf.insert(0, column_name, first)\n",
    "\tdf[\"MSRP$\"] = df[\"MSRP$\"].str.lstrip('$')\n",
    "\tdf[\"WSP$\"] = df[\"WSP$\"].str.lstrip('$')\n",
    "\tdf[\"MSRP$\"] = df[\"MSRP$\"].apply(float)\n",
    "\tdf[\"WSP$\"] = df[\"WSP$\"].apply(float)\n",
    "\tdf[\"Unit Size\"] = df[\"Unit Size\"].apply(int)\n",
    "    \n",
    "    \n",
    "def process_data(file_path_todata):\n",
    "    df = pd.read_csv(file_path_todata, \n",
    "        sep = \",\", \n",
    "        na_values = \"-\",\n",
    "       usecols= [  'Geography', 'Item_UPC', 'Brand', 'Subcategory',\n",
    "           'AGE', 'FORM', 'FUNCTIONAL_INGREDIENT', 'FLAVOR', 'HEALTH_FOCUS',\n",
    "        'Group', 'SIZE', 'Dollars', 'Dollars_Yago', 'Units', 'Units_Yago', 'Dollars_SPP', 'ARP',\n",
    "        'ARP_Yago',  'Base_ARP',\n",
    "        'Base_ARP_Yago']\n",
    "         )\n",
    "\n",
    "    df.dropna(axis = 0, how = \"all\", inplace=True)\n",
    "\n",
    "    \n",
    "\n",
    "\n",
    "    return df\n",
    "\n",
    "def clean_spins_upc(df):\n",
    "\t#take in a dataframe, expand the number of columns into a temp\n",
    "\t#datafram\n",
    "\ttemp = df[\"Item_UPC\"].str.rsplit(\" \", n=1, expand = True)\n",
    "\t#add columns  to main dataframe from Temp\n",
    "\tdf.insert(0, \"UPC\", temp[1])\n",
    "\tdf.insert(1, \"Item\", temp[0])\n",
    "\n",
    "\t#drop original combined column\n",
    "\tdf.drop(columns= [\"Item_UPC\"], inplace=True)\n",
    "\t#SPINS data adds a leading zero to UP and includes hypen. \n",
    "\t#neither are needed for analysis.\n",
    "\tdf[\"UPC\"]= df[\"UPC\"].apply(lambda x : x[1:] if x.startswith(\"0\") else x)\n",
    "\tdf[\"UPC\"]=df[\"UPC\"].apply(lambda x :x.replace('-', ''))\n",
    "\tcol_names = df.columns\n",
    "\tfor cols in col_names:\n",
    "\t    df[cols] = df[cols].apply(lambda x: x.lower() if type(x) == str else x)\n",
    "        \n",
    "def sku_selcetor_ingredient(FUNCTIONAL_INGREDIENT, df):\n",
    "\t'''Functional ingredient can be a shortened description like cal for calcium\n",
    "\tor mag for magnesium. this will select all Items that contain the string entered'''\n",
    "\tcl_df = df[df[\"Brand\"].str.contains(\"country life\")]\n",
    "\ttemp_df = cl_df[cl_df[\"Item\"].str.contains(FUNCTIONAL_INGREDIENT)]\n",
    "\t\n",
    "\treturn temp_df\n",
    "\n",
    "\n",
    "def sku_singleton(item_id,df, brand = \"country life\"):\n",
    "    '''Select a single SKU to examine, item ID can be either full UPC or catalog ID\n",
    "    df = the dataframe you are subsetting'''\n",
    "    df = df[df[\"Brand\"].str.contains(brand)]\n",
    "    df = df[df[\"UPC\"].str.contains(item_id)].reset_index()\n",
    "    #df[\"ARP_percent_off_MSRP\"] =  df[\"ARP\"].apply(lambda x: (1-(x/get_MSRP(\"item_id\")))*100)\n",
    "    df.loc[:, \"ARP_percent_off_MSRP\"] =  df.loc[:,\"ARP\"].apply(lambda x: (1-(x/get_MSRP(item_id)))*100)\n",
    "    #df['bins'] = pd.cut(df['ARP_percent_off_MSRP'],bins=[0,5,10,15,20,25,30,35,40], labels=[\"0-5%\",\"5-10%\",\"10-15%\",\"15-20%\",\"20-25%\",\"25-30%\", \"30-35%\",\"35-40\"])\n",
    "    df.loc[:,'bins'] = pd.cut(df['ARP_percent_off_MSRP'],bins=[0,5,10,15,20,25,30,35,40], labels=[\"0-5%\",\"5-10%\",\"10-15%\",\"15-20%\",\"20-25%\",\"25-30%\", \"30-35%\",\"35-40\"])\n",
    "    \n",
    "    return df\n",
    "\n",
    "\n",
    "def get_MSRP(item_id ):\n",
    "\ttemp = cl_top_seller[cl_top_seller.loc[:,\"UPC\"].str.contains(item_id)]\n",
    "\treturn temp[\"MSRP$\"][0]\n",
    "\n",
    "\n",
    "def sub_set_metrics_of_interest(df, metric_to_use = ['ARP',\"Base_ARP\"]):\n",
    "\treturn df.loc[df[\"Metric\"].isin(metric_to_use)].reset_index()\n",
    "\n",
    "def easy_melt(df):\n",
    "\treturn df.melt(id_vars=[\"UPC\", \"Item\",\"Geography\",'Brand', 'Subcategory'], var_name = \"Metric\" , value_name='amount')\n",
    "\n",
    "def get_discount_proportions(df):\n",
    "    ''' Takes in a dataframe, returns a smaller dataframe'''\n",
    "    group_by_df =df.groupby(\"bins\").size()\n",
    "    #groups are stored in the index, values in series\n",
    "    #extract groups\n",
    "    groups = pd.DataFrame(group_by_df).index\n",
    "    final = group_by_df.to_frame().join(groups.to_frame())\n",
    "    #rename column 0 for extracting data in pie chart\n",
    "    final.rename(columns = {0:\"count\"}, inplace = True )\n",
    "    return final"
   ]
  },
  {
   "cell_type": "code",
   "execution_count": 57,
   "metadata": {
    "collapsed": true
   },
   "outputs": [],
   "source": [
    "cl_top_seller = pd.read_csv(\"/Users/GuntherUlvanget/country_life/country_life_spins/Country Life Top Seller's Price File.csv\", sep = \",\")\n",
    "clean_CL_UPC(cl_top_seller)\n"
   ]
  },
  {
   "cell_type": "code",
   "execution_count": 58,
   "metadata": {
    "collapsed": true
   },
   "outputs": [],
   "source": [
    "df = pd.read_csv(\"/Users/GuntherUlvanget/country_life/country_life_spins/Retailer_Report_24 Weeks_7_12_2020.csv\", \n",
    "                 sep = \",\", na_values=\"-\", usecols= [ 'Geography', 'Item UPC', 'Brand', 'Subcategory',\n",
    "       'Dollars', 'Dollars, Yago', 'Units', 'Units, Yago', 'Dollars SPP', 'Dollars SPP, Yago',  'ARP',\n",
    "       'ARP, Yago',   'Base ARP','Base ARP, Yago'])\n",
    "df.rename(columns =  {'Item UPC': 'Item_UPC', \n",
    "                      'Dollars, Yago':'Dollars_Yago', \n",
    "                      'Units, Yago':'Units_Yago', \n",
    "                      'Dollars SPP':'Dollars_SPP', \n",
    "                      'Dollars SPP, Yago': 'Dollars_SPP_Yago', \n",
    "                      'ARP, Yago': 'ARP_Yago',  \n",
    "                      'Base ARP': 'Base_ARP',\n",
    "                      'Base ARP, Yago':'BaseARP_Yago'},\n",
    "         inplace= True)\n",
    "\n",
    "clean_spins_upc(df)\n"
   ]
  },
  {
   "cell_type": "code",
   "execution_count": null,
   "metadata": {},
   "outputs": [],
   "source": [
    "mag_df3 = sku_singleton('2474',df)\n",
    "pie_frame = get_discount_proportions(mag_df3)"
   ]
  },
  {
   "cell_type": "code",
   "execution_count": 90,
   "metadata": {},
   "outputs": [
    {
     "data": {
      "text/plain": [
       "pandas.core.series.Series"
      ]
     },
     "execution_count": 90,
     "metadata": {},
     "output_type": "execute_result"
    }
   ],
   "source": [
    "type(pie_frame[\"count\"])"
   ]
  },
  {
   "cell_type": "code",
   "execution_count": 60,
   "metadata": {
    "collapsed": true
   },
   "outputs": [
    {
     "data": {
      "text/plain": [
       "UPC                        01579402474\n",
       "Item#                             2474\n",
       "Retail Description    MAGNESIUM 300 MG\n",
       "Unit Size                           60\n",
       "Form                          Vegicaps\n",
       "MSRP$                            10.79\n",
       "WSP$                               5.4\n",
       "Category                Other Minerals\n",
       "Name: 0, dtype: object"
      ]
     },
     "execution_count": 60,
     "metadata": {},
     "output_type": "execute_result"
    }
   ],
   "source": [
    "cl_top_seller.loc[0,]"
   ]
  },
  {
   "cell_type": "code",
   "execution_count": 44,
   "metadata": {
    "collapsed": true
   },
   "outputs": [],
   "source": [
    "mag_df4 = easy_melt(mag_df3)"
   ]
  },
  {
   "cell_type": "code",
   "execution_count": 39,
   "metadata": {
    "collapsed": true
   },
   "outputs": [
    {
     "data": {
      "text/plain": [
       "(20, 18)"
      ]
     },
     "execution_count": 39,
     "metadata": {},
     "output_type": "execute_result"
    }
   ],
   "source": [
    "mag_df4"
   ]
  },
  {
   "cell_type": "code",
   "execution_count": null,
   "metadata": {},
   "outputs": [],
   "source": [
    "\n",
    "\n",
    "#df[\"ARP_percent_off_MSRP\"] = df[\"ARP\"].apply(lambda x: (1-(x/get_MSRP(\"2474\"))))\n",
    "#mag_df.head()\n",
    "                                                      \n",
    "\n",
    "#mag_df2 = sku_selcetor_ingredient(\"mag\",df)\n",
    "#mag_df3 = sku_singleton('2474', df)\n",
    "#mag_df3.head()\n",
    "\n",
    "#df[\"ARP_percent_off_MSRP\"] =  df[\"ARP\"].apply(lambda x: (1-(x/get_MSRP(\"2474\")))*100)\n",
    "#df['bins'] = pd.cut(df['ARP_percent_off_MSRP'],bins=[0,5,10,15,20,25,30,35,40], labels=[\"0-5%\",\"5-10%\",\"10-15%\",\"15-20%\",\"20-25%\",\"25-30%\", \"30-35%\",\"35-40\"])\n",
    "\n",
    "\n",
    "#mag_df3.reset_index(inplace = True)\n",
    "\n",
    "#mag_df3.loc[:,\"ARP_percent_off_MSRP\"] = (1-(mag_df3[\"ARP\"]/get_MSRP(\"2474\"))) *100\n",
    "\n",
    "#mag_df3['bins'] = pd.cut(mag_df3['ARP_percent_off_MSRP'],bins=[0,5,10,15,20,25,30,35,40], labels=[\"0-5%\",\"5-10%\",\"10-15%\",\"15-20%\",\"20-25%\",\"25-30%\", \"30-35%\",\"35-40\"])\n",
    "\n",
    "\n",
    "\n"
   ]
  },
  {
   "cell_type": "code",
   "execution_count": 61,
   "metadata": {
    "collapsed": true
   },
   "outputs": [
    {
     "data": {
      "text/html": [
       "<div>\n",
       "<style scoped>\n",
       "    .dataframe tbody tr th:only-of-type {\n",
       "        vertical-align: middle;\n",
       "    }\n",
       "\n",
       "    .dataframe tbody tr th {\n",
       "        vertical-align: top;\n",
       "    }\n",
       "\n",
       "    .dataframe thead th {\n",
       "        text-align: right;\n",
       "    }\n",
       "</style>\n",
       "<table border=\"1\" class=\"dataframe\">\n",
       "  <thead>\n",
       "    <tr style=\"text-align: right;\">\n",
       "      <th></th>\n",
       "      <th>count</th>\n",
       "      <th>bins</th>\n",
       "    </tr>\n",
       "    <tr>\n",
       "      <th>bins</th>\n",
       "      <th></th>\n",
       "      <th></th>\n",
       "    </tr>\n",
       "  </thead>\n",
       "  <tbody>\n",
       "    <tr>\n",
       "      <th>0-5%</th>\n",
       "      <td>1</td>\n",
       "      <td>0-5%</td>\n",
       "    </tr>\n",
       "    <tr>\n",
       "      <th>5-10%</th>\n",
       "      <td>2</td>\n",
       "      <td>5-10%</td>\n",
       "    </tr>\n",
       "    <tr>\n",
       "      <th>10-15%</th>\n",
       "      <td>0</td>\n",
       "      <td>10-15%</td>\n",
       "    </tr>\n",
       "    <tr>\n",
       "      <th>15-20%</th>\n",
       "      <td>2</td>\n",
       "      <td>15-20%</td>\n",
       "    </tr>\n",
       "    <tr>\n",
       "      <th>20-25%</th>\n",
       "      <td>12</td>\n",
       "      <td>20-25%</td>\n",
       "    </tr>\n",
       "    <tr>\n",
       "      <th>25-30%</th>\n",
       "      <td>2</td>\n",
       "      <td>25-30%</td>\n",
       "    </tr>\n",
       "    <tr>\n",
       "      <th>30-35%</th>\n",
       "      <td>1</td>\n",
       "      <td>30-35%</td>\n",
       "    </tr>\n",
       "    <tr>\n",
       "      <th>35-40</th>\n",
       "      <td>0</td>\n",
       "      <td>35-40</td>\n",
       "    </tr>\n",
       "  </tbody>\n",
       "</table>\n",
       "</div>"
      ],
      "text/plain": [
       "        count    bins\n",
       "bins                 \n",
       "0-5%        1    0-5%\n",
       "5-10%       2   5-10%\n",
       "10-15%      0  10-15%\n",
       "15-20%      2  15-20%\n",
       "20-25%     12  20-25%\n",
       "25-30%      2  25-30%\n",
       "30-35%      1  30-35%\n",
       "35-40       0   35-40"
      ]
     },
     "execution_count": 61,
     "metadata": {},
     "output_type": "execute_result"
    }
   ],
   "source": [
    "pie_frame = get_discount_proportions(mag_df3)\n",
    "pie_frame"
   ]
  },
  {
   "cell_type": "code",
   "execution_count": null,
   "metadata": {
    "collapsed": true
   },
   "outputs": [],
   "source": []
  },
  {
   "cell_type": "code",
   "execution_count": 62,
   "metadata": {
    "collapsed": true
   },
   "outputs": [],
   "source": [
    "mag_df3 = easy_melt(mag_df3)"
   ]
  },
  {
   "cell_type": "code",
   "execution_count": 63,
   "metadata": {
    "collapsed": true
   },
   "outputs": [
    {
     "data": {
      "text/html": [
       "<div>\n",
       "<style scoped>\n",
       "    .dataframe tbody tr th:only-of-type {\n",
       "        vertical-align: middle;\n",
       "    }\n",
       "\n",
       "    .dataframe tbody tr th {\n",
       "        vertical-align: top;\n",
       "    }\n",
       "\n",
       "    .dataframe thead th {\n",
       "        text-align: right;\n",
       "    }\n",
       "</style>\n",
       "<table border=\"1\" class=\"dataframe\">\n",
       "  <thead>\n",
       "    <tr style=\"text-align: right;\">\n",
       "      <th></th>\n",
       "      <th>UPC</th>\n",
       "      <th>Item</th>\n",
       "      <th>Geography</th>\n",
       "      <th>Brand</th>\n",
       "      <th>Subcategory</th>\n",
       "      <th>Metric</th>\n",
       "      <th>amount</th>\n",
       "    </tr>\n",
       "  </thead>\n",
       "  <tbody>\n",
       "    <tr>\n",
       "      <th>0</th>\n",
       "      <td>01579402474</td>\n",
       "      <td>country life magnesium 300 mg 60 vcp</td>\n",
       "      <td>greenacres - total us (corp)</td>\n",
       "      <td>country life</td>\n",
       "      <td>minerals other</td>\n",
       "      <td>index</td>\n",
       "      <td>23451</td>\n",
       "    </tr>\n",
       "    <tr>\n",
       "      <th>1</th>\n",
       "      <td>01579402474</td>\n",
       "      <td>country life magnesium 300 mg 60 vcp</td>\n",
       "      <td>greens natural market - total us (corp)</td>\n",
       "      <td>country life</td>\n",
       "      <td>minerals other</td>\n",
       "      <td>index</td>\n",
       "      <td>38117</td>\n",
       "    </tr>\n",
       "    <tr>\n",
       "      <th>2</th>\n",
       "      <td>01579402474</td>\n",
       "      <td>country life magnesium 300 mg 60 vcp</td>\n",
       "      <td>infra - total us (corp)</td>\n",
       "      <td>country life</td>\n",
       "      <td>minerals other</td>\n",
       "      <td>index</td>\n",
       "      <td>46293</td>\n",
       "    </tr>\n",
       "    <tr>\n",
       "      <th>3</th>\n",
       "      <td>01579402474</td>\n",
       "      <td>country life magnesium 300 mg 60 vcp</td>\n",
       "      <td>natural grocers by vc - total us (corp)</td>\n",
       "      <td>country life</td>\n",
       "      <td>minerals other</td>\n",
       "      <td>index</td>\n",
       "      <td>88879</td>\n",
       "    </tr>\n",
       "    <tr>\n",
       "      <th>4</th>\n",
       "      <td>01579402474</td>\n",
       "      <td>country life magnesium 300 mg 60 vcp</td>\n",
       "      <td>ncg - total us (corp)</td>\n",
       "      <td>country life</td>\n",
       "      <td>minerals other</td>\n",
       "      <td>index</td>\n",
       "      <td>104553</td>\n",
       "    </tr>\n",
       "    <tr>\n",
       "      <th>5</th>\n",
       "      <td>01579402474</td>\n",
       "      <td>country life magnesium 300 mg 60 vcp</td>\n",
       "      <td>ncg - total us x-pcc (ban)</td>\n",
       "      <td>country life</td>\n",
       "      <td>minerals other</td>\n",
       "      <td>index</td>\n",
       "      <td>130211</td>\n",
       "    </tr>\n",
       "    <tr>\n",
       "      <th>6</th>\n",
       "      <td>01579402474</td>\n",
       "      <td>country life magnesium 300 mg 60 vcp</td>\n",
       "      <td>ncg - pcc (ban)</td>\n",
       "      <td>country life</td>\n",
       "      <td>minerals other</td>\n",
       "      <td>index</td>\n",
       "      <td>155513</td>\n",
       "    </tr>\n",
       "    <tr>\n",
       "      <th>7</th>\n",
       "      <td>01579402474</td>\n",
       "      <td>country life magnesium 300 mg 60 vcp</td>\n",
       "      <td>ncg - mid atlantic (rgn/mkt)</td>\n",
       "      <td>country life</td>\n",
       "      <td>minerals other</td>\n",
       "      <td>index</td>\n",
       "      <td>158991</td>\n",
       "    </tr>\n",
       "    <tr>\n",
       "      <th>8</th>\n",
       "      <td>01579402474</td>\n",
       "      <td>country life magnesium 300 mg 60 vcp</td>\n",
       "      <td>ncg - north central (rgn/mkt)</td>\n",
       "      <td>country life</td>\n",
       "      <td>minerals other</td>\n",
       "      <td>index</td>\n",
       "      <td>172172</td>\n",
       "    </tr>\n",
       "    <tr>\n",
       "      <th>9</th>\n",
       "      <td>01579402474</td>\n",
       "      <td>country life magnesium 300 mg 60 vcp</td>\n",
       "      <td>ncg - north east (rgn/mkt)</td>\n",
       "      <td>country life</td>\n",
       "      <td>minerals other</td>\n",
       "      <td>index</td>\n",
       "      <td>188778</td>\n",
       "    </tr>\n",
       "  </tbody>\n",
       "</table>\n",
       "</div>"
      ],
      "text/plain": [
       "           UPC                                  Item  \\\n",
       "0  01579402474  country life magnesium 300 mg 60 vcp   \n",
       "1  01579402474  country life magnesium 300 mg 60 vcp   \n",
       "2  01579402474  country life magnesium 300 mg 60 vcp   \n",
       "3  01579402474  country life magnesium 300 mg 60 vcp   \n",
       "4  01579402474  country life magnesium 300 mg 60 vcp   \n",
       "5  01579402474  country life magnesium 300 mg 60 vcp   \n",
       "6  01579402474  country life magnesium 300 mg 60 vcp   \n",
       "7  01579402474  country life magnesium 300 mg 60 vcp   \n",
       "8  01579402474  country life magnesium 300 mg 60 vcp   \n",
       "9  01579402474  country life magnesium 300 mg 60 vcp   \n",
       "\n",
       "                                 Geography         Brand     Subcategory  \\\n",
       "0             greenacres - total us (corp)  country life  minerals other   \n",
       "1  greens natural market - total us (corp)  country life  minerals other   \n",
       "2                  infra - total us (corp)  country life  minerals other   \n",
       "3  natural grocers by vc - total us (corp)  country life  minerals other   \n",
       "4                    ncg - total us (corp)  country life  minerals other   \n",
       "5               ncg - total us x-pcc (ban)  country life  minerals other   \n",
       "6                          ncg - pcc (ban)  country life  minerals other   \n",
       "7             ncg - mid atlantic (rgn/mkt)  country life  minerals other   \n",
       "8            ncg - north central (rgn/mkt)  country life  minerals other   \n",
       "9               ncg - north east (rgn/mkt)  country life  minerals other   \n",
       "\n",
       "  Metric  amount  \n",
       "0  index   23451  \n",
       "1  index   38117  \n",
       "2  index   46293  \n",
       "3  index   88879  \n",
       "4  index  104553  \n",
       "5  index  130211  \n",
       "6  index  155513  \n",
       "7  index  158991  \n",
       "8  index  172172  \n",
       "9  index  188778  "
      ]
     },
     "execution_count": 63,
     "metadata": {},
     "output_type": "execute_result"
    }
   ],
   "source": [
    "mag_df3.head(10)"
   ]
  },
  {
   "cell_type": "code",
   "execution_count": 64,
   "metadata": {
    "collapsed": true
   },
   "outputs": [],
   "source": [
    "#mag_df3 = mag_df3.melt(id_vars=[\"UPC\", \"Item\",\"Geography\",'Brand', 'Subcategory'], var_name = \"Metric\" , value_name='amount')"
   ]
  },
  {
   "cell_type": "code",
   "execution_count": 65,
   "metadata": {
    "collapsed": true
   },
   "outputs": [
    {
     "data": {
      "text/plain": [
       "array(['index', 'Dollars', 'Dollars_Yago', 'Units', 'Units_Yago',\n",
       "       'Dollars_SPP', 'Dollars_SPP_Yago', 'ARP', 'ARP_Yago', 'Base_ARP',\n",
       "       'BaseARP_Yago', 'ARP_percent_off_MSRP', 'bins'], dtype=object)"
      ]
     },
     "execution_count": 65,
     "metadata": {},
     "output_type": "execute_result"
    }
   ],
   "source": [
    "mag_df3[\"Metric\"].unique()"
   ]
  },
  {
   "cell_type": "code",
   "execution_count": 66,
   "metadata": {
    "collapsed": true
   },
   "outputs": [],
   "source": [
    "def subset_for_boxplots(df):\n",
    "    metric_to_use = ['ARP',\"Base_ARP\"]\n",
    "    df = df[df[\"Metric\"].isin(metric_to_use)].reset_index()\n",
    "\n",
    "    return df"
   ]
  },
  {
   "cell_type": "code",
   "execution_count": 67,
   "metadata": {
    "collapsed": true
   },
   "outputs": [
    {
     "data": {
      "text/html": [
       "<div>\n",
       "<style scoped>\n",
       "    .dataframe tbody tr th:only-of-type {\n",
       "        vertical-align: middle;\n",
       "    }\n",
       "\n",
       "    .dataframe tbody tr th {\n",
       "        vertical-align: top;\n",
       "    }\n",
       "\n",
       "    .dataframe thead th {\n",
       "        text-align: right;\n",
       "    }\n",
       "</style>\n",
       "<table border=\"1\" class=\"dataframe\">\n",
       "  <thead>\n",
       "    <tr style=\"text-align: right;\">\n",
       "      <th></th>\n",
       "      <th>index</th>\n",
       "      <th>UPC</th>\n",
       "      <th>Item</th>\n",
       "      <th>Geography</th>\n",
       "      <th>Brand</th>\n",
       "      <th>Subcategory</th>\n",
       "      <th>Metric</th>\n",
       "      <th>amount</th>\n",
       "    </tr>\n",
       "  </thead>\n",
       "  <tbody>\n",
       "    <tr>\n",
       "      <th>0</th>\n",
       "      <td>140</td>\n",
       "      <td>01579402474</td>\n",
       "      <td>country life magnesium 300 mg 60 vcp</td>\n",
       "      <td>greenacres - total us (corp)</td>\n",
       "      <td>country life</td>\n",
       "      <td>minerals other</td>\n",
       "      <td>ARP</td>\n",
       "      <td>8.15</td>\n",
       "    </tr>\n",
       "    <tr>\n",
       "      <th>1</th>\n",
       "      <td>141</td>\n",
       "      <td>01579402474</td>\n",
       "      <td>country life magnesium 300 mg 60 vcp</td>\n",
       "      <td>greens natural market - total us (corp)</td>\n",
       "      <td>country life</td>\n",
       "      <td>minerals other</td>\n",
       "      <td>ARP</td>\n",
       "      <td>10.21</td>\n",
       "    </tr>\n",
       "    <tr>\n",
       "      <th>2</th>\n",
       "      <td>142</td>\n",
       "      <td>01579402474</td>\n",
       "      <td>country life magnesium 300 mg 60 vcp</td>\n",
       "      <td>infra - total us (corp)</td>\n",
       "      <td>country life</td>\n",
       "      <td>minerals other</td>\n",
       "      <td>ARP</td>\n",
       "      <td>8.46</td>\n",
       "    </tr>\n",
       "    <tr>\n",
       "      <th>3</th>\n",
       "      <td>143</td>\n",
       "      <td>01579402474</td>\n",
       "      <td>country life magnesium 300 mg 60 vcp</td>\n",
       "      <td>natural grocers by vc - total us (corp)</td>\n",
       "      <td>country life</td>\n",
       "      <td>minerals other</td>\n",
       "      <td>ARP</td>\n",
       "      <td>7.45</td>\n",
       "    </tr>\n",
       "    <tr>\n",
       "      <th>4</th>\n",
       "      <td>144</td>\n",
       "      <td>01579402474</td>\n",
       "      <td>country life magnesium 300 mg 60 vcp</td>\n",
       "      <td>ncg - total us (corp)</td>\n",
       "      <td>country life</td>\n",
       "      <td>minerals other</td>\n",
       "      <td>ARP</td>\n",
       "      <td>8.56</td>\n",
       "    </tr>\n",
       "    <tr>\n",
       "      <th>5</th>\n",
       "      <td>145</td>\n",
       "      <td>01579402474</td>\n",
       "      <td>country life magnesium 300 mg 60 vcp</td>\n",
       "      <td>ncg - total us x-pcc (ban)</td>\n",
       "      <td>country life</td>\n",
       "      <td>minerals other</td>\n",
       "      <td>ARP</td>\n",
       "      <td>8.35</td>\n",
       "    </tr>\n",
       "    <tr>\n",
       "      <th>6</th>\n",
       "      <td>146</td>\n",
       "      <td>01579402474</td>\n",
       "      <td>country life magnesium 300 mg 60 vcp</td>\n",
       "      <td>ncg - pcc (ban)</td>\n",
       "      <td>country life</td>\n",
       "      <td>minerals other</td>\n",
       "      <td>ARP</td>\n",
       "      <td>10.39</td>\n",
       "    </tr>\n",
       "    <tr>\n",
       "      <th>7</th>\n",
       "      <td>147</td>\n",
       "      <td>01579402474</td>\n",
       "      <td>country life magnesium 300 mg 60 vcp</td>\n",
       "      <td>ncg - mid atlantic (rgn/mkt)</td>\n",
       "      <td>country life</td>\n",
       "      <td>minerals other</td>\n",
       "      <td>ARP</td>\n",
       "      <td>8.7</td>\n",
       "    </tr>\n",
       "    <tr>\n",
       "      <th>8</th>\n",
       "      <td>148</td>\n",
       "      <td>01579402474</td>\n",
       "      <td>country life magnesium 300 mg 60 vcp</td>\n",
       "      <td>ncg - north central (rgn/mkt)</td>\n",
       "      <td>country life</td>\n",
       "      <td>minerals other</td>\n",
       "      <td>ARP</td>\n",
       "      <td>8.54</td>\n",
       "    </tr>\n",
       "    <tr>\n",
       "      <th>9</th>\n",
       "      <td>149</td>\n",
       "      <td>01579402474</td>\n",
       "      <td>country life magnesium 300 mg 60 vcp</td>\n",
       "      <td>ncg - north east (rgn/mkt)</td>\n",
       "      <td>country life</td>\n",
       "      <td>minerals other</td>\n",
       "      <td>ARP</td>\n",
       "      <td>8.32</td>\n",
       "    </tr>\n",
       "    <tr>\n",
       "      <th>10</th>\n",
       "      <td>150</td>\n",
       "      <td>01579402474</td>\n",
       "      <td>country life magnesium 300 mg 60 vcp</td>\n",
       "      <td>ncg - north west (rgn/mkt)</td>\n",
       "      <td>country life</td>\n",
       "      <td>minerals other</td>\n",
       "      <td>ARP</td>\n",
       "      <td>8.87</td>\n",
       "    </tr>\n",
       "    <tr>\n",
       "      <th>11</th>\n",
       "      <td>151</td>\n",
       "      <td>01579402474</td>\n",
       "      <td>country life magnesium 300 mg 60 vcp</td>\n",
       "      <td>ncg - northwest x-pcc (rgn/mkt)</td>\n",
       "      <td>country life</td>\n",
       "      <td>minerals other</td>\n",
       "      <td>ARP</td>\n",
       "      <td>7.93</td>\n",
       "    </tr>\n",
       "    <tr>\n",
       "      <th>12</th>\n",
       "      <td>152</td>\n",
       "      <td>01579402474</td>\n",
       "      <td>country life magnesium 300 mg 60 vcp</td>\n",
       "      <td>ncg - south central (rgn/mkt)</td>\n",
       "      <td>country life</td>\n",
       "      <td>minerals other</td>\n",
       "      <td>ARP</td>\n",
       "      <td>8.45</td>\n",
       "    </tr>\n",
       "    <tr>\n",
       "      <th>13</th>\n",
       "      <td>153</td>\n",
       "      <td>01579402474</td>\n",
       "      <td>country life magnesium 300 mg 60 vcp</td>\n",
       "      <td>ncg - south east (rgn/mkt)</td>\n",
       "      <td>country life</td>\n",
       "      <td>minerals other</td>\n",
       "      <td>ARP</td>\n",
       "      <td>8.18</td>\n",
       "    </tr>\n",
       "    <tr>\n",
       "      <th>14</th>\n",
       "      <td>154</td>\n",
       "      <td>01579402474</td>\n",
       "      <td>country life magnesium 300 mg 60 vcp</td>\n",
       "      <td>ncg - south west (rgn/mkt)</td>\n",
       "      <td>country life</td>\n",
       "      <td>minerals other</td>\n",
       "      <td>ARP</td>\n",
       "      <td>8.39</td>\n",
       "    </tr>\n",
       "    <tr>\n",
       "      <th>15</th>\n",
       "      <td>155</td>\n",
       "      <td>01579402474</td>\n",
       "      <td>country life magnesium 300 mg 60 vcp</td>\n",
       "      <td>ncg - east rgn (rgn/mkt)</td>\n",
       "      <td>country life</td>\n",
       "      <td>minerals other</td>\n",
       "      <td>ARP</td>\n",
       "      <td>8.37</td>\n",
       "    </tr>\n",
       "    <tr>\n",
       "      <th>16</th>\n",
       "      <td>156</td>\n",
       "      <td>01579402474</td>\n",
       "      <td>country life magnesium 300 mg 60 vcp</td>\n",
       "      <td>ncg - central rgn (rgn/mkt)</td>\n",
       "      <td>country life</td>\n",
       "      <td>minerals other</td>\n",
       "      <td>ARP</td>\n",
       "      <td>8.53</td>\n",
       "    </tr>\n",
       "    <tr>\n",
       "      <th>17</th>\n",
       "      <td>157</td>\n",
       "      <td>01579402474</td>\n",
       "      <td>country life magnesium 300 mg 60 vcp</td>\n",
       "      <td>ncg - west x-pcc (rgn/mkt)</td>\n",
       "      <td>country life</td>\n",
       "      <td>minerals other</td>\n",
       "      <td>ARP</td>\n",
       "      <td>8.12</td>\n",
       "    </tr>\n",
       "    <tr>\n",
       "      <th>18</th>\n",
       "      <td>158</td>\n",
       "      <td>01579402474</td>\n",
       "      <td>country life magnesium 300 mg 60 vcp</td>\n",
       "      <td>new seasons markets + new leaf community marke...</td>\n",
       "      <td>country life</td>\n",
       "      <td>minerals other</td>\n",
       "      <td>ARP</td>\n",
       "      <td>10.12</td>\n",
       "    </tr>\n",
       "    <tr>\n",
       "      <th>19</th>\n",
       "      <td>159</td>\n",
       "      <td>01579402474</td>\n",
       "      <td>country life magnesium 300 mg 60 vcp</td>\n",
       "      <td>sprouts farmers market - total us w/o pl (corp)</td>\n",
       "      <td>country life</td>\n",
       "      <td>minerals other</td>\n",
       "      <td>ARP</td>\n",
       "      <td>7.93</td>\n",
       "    </tr>\n",
       "    <tr>\n",
       "      <th>20</th>\n",
       "      <td>180</td>\n",
       "      <td>01579402474</td>\n",
       "      <td>country life magnesium 300 mg 60 vcp</td>\n",
       "      <td>greenacres - total us (corp)</td>\n",
       "      <td>country life</td>\n",
       "      <td>minerals other</td>\n",
       "      <td>Base_ARP</td>\n",
       "      <td>8.3</td>\n",
       "    </tr>\n",
       "    <tr>\n",
       "      <th>21</th>\n",
       "      <td>181</td>\n",
       "      <td>01579402474</td>\n",
       "      <td>country life magnesium 300 mg 60 vcp</td>\n",
       "      <td>greens natural market - total us (corp)</td>\n",
       "      <td>country life</td>\n",
       "      <td>minerals other</td>\n",
       "      <td>Base_ARP</td>\n",
       "      <td>10.29</td>\n",
       "    </tr>\n",
       "    <tr>\n",
       "      <th>22</th>\n",
       "      <td>182</td>\n",
       "      <td>01579402474</td>\n",
       "      <td>country life magnesium 300 mg 60 vcp</td>\n",
       "      <td>infra - total us (corp)</td>\n",
       "      <td>country life</td>\n",
       "      <td>minerals other</td>\n",
       "      <td>Base_ARP</td>\n",
       "      <td>8.79</td>\n",
       "    </tr>\n",
       "    <tr>\n",
       "      <th>23</th>\n",
       "      <td>183</td>\n",
       "      <td>01579402474</td>\n",
       "      <td>country life magnesium 300 mg 60 vcp</td>\n",
       "      <td>natural grocers by vc - total us (corp)</td>\n",
       "      <td>country life</td>\n",
       "      <td>minerals other</td>\n",
       "      <td>Base_ARP</td>\n",
       "      <td>7.76</td>\n",
       "    </tr>\n",
       "    <tr>\n",
       "      <th>24</th>\n",
       "      <td>184</td>\n",
       "      <td>01579402474</td>\n",
       "      <td>country life magnesium 300 mg 60 vcp</td>\n",
       "      <td>ncg - total us (corp)</td>\n",
       "      <td>country life</td>\n",
       "      <td>minerals other</td>\n",
       "      <td>Base_ARP</td>\n",
       "      <td>9.09</td>\n",
       "    </tr>\n",
       "    <tr>\n",
       "      <th>25</th>\n",
       "      <td>185</td>\n",
       "      <td>01579402474</td>\n",
       "      <td>country life magnesium 300 mg 60 vcp</td>\n",
       "      <td>ncg - total us x-pcc (ban)</td>\n",
       "      <td>country life</td>\n",
       "      <td>minerals other</td>\n",
       "      <td>Base_ARP</td>\n",
       "      <td>8.95</td>\n",
       "    </tr>\n",
       "    <tr>\n",
       "      <th>26</th>\n",
       "      <td>186</td>\n",
       "      <td>01579402474</td>\n",
       "      <td>country life magnesium 300 mg 60 vcp</td>\n",
       "      <td>ncg - pcc (ban)</td>\n",
       "      <td>country life</td>\n",
       "      <td>minerals other</td>\n",
       "      <td>Base_ARP</td>\n",
       "      <td>10.39</td>\n",
       "    </tr>\n",
       "    <tr>\n",
       "      <th>27</th>\n",
       "      <td>187</td>\n",
       "      <td>01579402474</td>\n",
       "      <td>country life magnesium 300 mg 60 vcp</td>\n",
       "      <td>ncg - mid atlantic (rgn/mkt)</td>\n",
       "      <td>country life</td>\n",
       "      <td>minerals other</td>\n",
       "      <td>Base_ARP</td>\n",
       "      <td>9.27</td>\n",
       "    </tr>\n",
       "    <tr>\n",
       "      <th>28</th>\n",
       "      <td>188</td>\n",
       "      <td>01579402474</td>\n",
       "      <td>country life magnesium 300 mg 60 vcp</td>\n",
       "      <td>ncg - north central (rgn/mkt)</td>\n",
       "      <td>country life</td>\n",
       "      <td>minerals other</td>\n",
       "      <td>Base_ARP</td>\n",
       "      <td>9.03</td>\n",
       "    </tr>\n",
       "    <tr>\n",
       "      <th>29</th>\n",
       "      <td>189</td>\n",
       "      <td>01579402474</td>\n",
       "      <td>country life magnesium 300 mg 60 vcp</td>\n",
       "      <td>ncg - north east (rgn/mkt)</td>\n",
       "      <td>country life</td>\n",
       "      <td>minerals other</td>\n",
       "      <td>Base_ARP</td>\n",
       "      <td>9.33</td>\n",
       "    </tr>\n",
       "    <tr>\n",
       "      <th>30</th>\n",
       "      <td>190</td>\n",
       "      <td>01579402474</td>\n",
       "      <td>country life magnesium 300 mg 60 vcp</td>\n",
       "      <td>ncg - north west (rgn/mkt)</td>\n",
       "      <td>country life</td>\n",
       "      <td>minerals other</td>\n",
       "      <td>Base_ARP</td>\n",
       "      <td>9.22</td>\n",
       "    </tr>\n",
       "    <tr>\n",
       "      <th>31</th>\n",
       "      <td>191</td>\n",
       "      <td>01579402474</td>\n",
       "      <td>country life magnesium 300 mg 60 vcp</td>\n",
       "      <td>ncg - northwest x-pcc (rgn/mkt)</td>\n",
       "      <td>country life</td>\n",
       "      <td>minerals other</td>\n",
       "      <td>Base_ARP</td>\n",
       "      <td>8.5</td>\n",
       "    </tr>\n",
       "    <tr>\n",
       "      <th>32</th>\n",
       "      <td>192</td>\n",
       "      <td>01579402474</td>\n",
       "      <td>country life magnesium 300 mg 60 vcp</td>\n",
       "      <td>ncg - south central (rgn/mkt)</td>\n",
       "      <td>country life</td>\n",
       "      <td>minerals other</td>\n",
       "      <td>Base_ARP</td>\n",
       "      <td>8.83</td>\n",
       "    </tr>\n",
       "    <tr>\n",
       "      <th>33</th>\n",
       "      <td>193</td>\n",
       "      <td>01579402474</td>\n",
       "      <td>country life magnesium 300 mg 60 vcp</td>\n",
       "      <td>ncg - south east (rgn/mkt)</td>\n",
       "      <td>country life</td>\n",
       "      <td>minerals other</td>\n",
       "      <td>Base_ARP</td>\n",
       "      <td>8.68</td>\n",
       "    </tr>\n",
       "    <tr>\n",
       "      <th>34</th>\n",
       "      <td>194</td>\n",
       "      <td>01579402474</td>\n",
       "      <td>country life magnesium 300 mg 60 vcp</td>\n",
       "      <td>ncg - south west (rgn/mkt)</td>\n",
       "      <td>country life</td>\n",
       "      <td>minerals other</td>\n",
       "      <td>Base_ARP</td>\n",
       "      <td>8.91</td>\n",
       "    </tr>\n",
       "    <tr>\n",
       "      <th>35</th>\n",
       "      <td>195</td>\n",
       "      <td>01579402474</td>\n",
       "      <td>country life magnesium 300 mg 60 vcp</td>\n",
       "      <td>ncg - east rgn (rgn/mkt)</td>\n",
       "      <td>country life</td>\n",
       "      <td>minerals other</td>\n",
       "      <td>Base_ARP</td>\n",
       "      <td>9.16</td>\n",
       "    </tr>\n",
       "    <tr>\n",
       "      <th>36</th>\n",
       "      <td>196</td>\n",
       "      <td>01579402474</td>\n",
       "      <td>country life magnesium 300 mg 60 vcp</td>\n",
       "      <td>ncg - central rgn (rgn/mkt)</td>\n",
       "      <td>country life</td>\n",
       "      <td>minerals other</td>\n",
       "      <td>Base_ARP</td>\n",
       "      <td>9.01</td>\n",
       "    </tr>\n",
       "    <tr>\n",
       "      <th>37</th>\n",
       "      <td>197</td>\n",
       "      <td>01579402474</td>\n",
       "      <td>country life magnesium 300 mg 60 vcp</td>\n",
       "      <td>ncg - west x-pcc (rgn/mkt)</td>\n",
       "      <td>country life</td>\n",
       "      <td>minerals other</td>\n",
       "      <td>Base_ARP</td>\n",
       "      <td>8.67</td>\n",
       "    </tr>\n",
       "    <tr>\n",
       "      <th>38</th>\n",
       "      <td>198</td>\n",
       "      <td>01579402474</td>\n",
       "      <td>country life magnesium 300 mg 60 vcp</td>\n",
       "      <td>new seasons markets + new leaf community marke...</td>\n",
       "      <td>country life</td>\n",
       "      <td>minerals other</td>\n",
       "      <td>Base_ARP</td>\n",
       "      <td>11.21</td>\n",
       "    </tr>\n",
       "    <tr>\n",
       "      <th>39</th>\n",
       "      <td>199</td>\n",
       "      <td>01579402474</td>\n",
       "      <td>country life magnesium 300 mg 60 vcp</td>\n",
       "      <td>sprouts farmers market - total us w/o pl (corp)</td>\n",
       "      <td>country life</td>\n",
       "      <td>minerals other</td>\n",
       "      <td>Base_ARP</td>\n",
       "      <td>8.36</td>\n",
       "    </tr>\n",
       "  </tbody>\n",
       "</table>\n",
       "</div>"
      ],
      "text/plain": [
       "    index          UPC                                  Item  \\\n",
       "0     140  01579402474  country life magnesium 300 mg 60 vcp   \n",
       "1     141  01579402474  country life magnesium 300 mg 60 vcp   \n",
       "2     142  01579402474  country life magnesium 300 mg 60 vcp   \n",
       "3     143  01579402474  country life magnesium 300 mg 60 vcp   \n",
       "4     144  01579402474  country life magnesium 300 mg 60 vcp   \n",
       "5     145  01579402474  country life magnesium 300 mg 60 vcp   \n",
       "6     146  01579402474  country life magnesium 300 mg 60 vcp   \n",
       "7     147  01579402474  country life magnesium 300 mg 60 vcp   \n",
       "8     148  01579402474  country life magnesium 300 mg 60 vcp   \n",
       "9     149  01579402474  country life magnesium 300 mg 60 vcp   \n",
       "10    150  01579402474  country life magnesium 300 mg 60 vcp   \n",
       "11    151  01579402474  country life magnesium 300 mg 60 vcp   \n",
       "12    152  01579402474  country life magnesium 300 mg 60 vcp   \n",
       "13    153  01579402474  country life magnesium 300 mg 60 vcp   \n",
       "14    154  01579402474  country life magnesium 300 mg 60 vcp   \n",
       "15    155  01579402474  country life magnesium 300 mg 60 vcp   \n",
       "16    156  01579402474  country life magnesium 300 mg 60 vcp   \n",
       "17    157  01579402474  country life magnesium 300 mg 60 vcp   \n",
       "18    158  01579402474  country life magnesium 300 mg 60 vcp   \n",
       "19    159  01579402474  country life magnesium 300 mg 60 vcp   \n",
       "20    180  01579402474  country life magnesium 300 mg 60 vcp   \n",
       "21    181  01579402474  country life magnesium 300 mg 60 vcp   \n",
       "22    182  01579402474  country life magnesium 300 mg 60 vcp   \n",
       "23    183  01579402474  country life magnesium 300 mg 60 vcp   \n",
       "24    184  01579402474  country life magnesium 300 mg 60 vcp   \n",
       "25    185  01579402474  country life magnesium 300 mg 60 vcp   \n",
       "26    186  01579402474  country life magnesium 300 mg 60 vcp   \n",
       "27    187  01579402474  country life magnesium 300 mg 60 vcp   \n",
       "28    188  01579402474  country life magnesium 300 mg 60 vcp   \n",
       "29    189  01579402474  country life magnesium 300 mg 60 vcp   \n",
       "30    190  01579402474  country life magnesium 300 mg 60 vcp   \n",
       "31    191  01579402474  country life magnesium 300 mg 60 vcp   \n",
       "32    192  01579402474  country life magnesium 300 mg 60 vcp   \n",
       "33    193  01579402474  country life magnesium 300 mg 60 vcp   \n",
       "34    194  01579402474  country life magnesium 300 mg 60 vcp   \n",
       "35    195  01579402474  country life magnesium 300 mg 60 vcp   \n",
       "36    196  01579402474  country life magnesium 300 mg 60 vcp   \n",
       "37    197  01579402474  country life magnesium 300 mg 60 vcp   \n",
       "38    198  01579402474  country life magnesium 300 mg 60 vcp   \n",
       "39    199  01579402474  country life magnesium 300 mg 60 vcp   \n",
       "\n",
       "                                            Geography         Brand  \\\n",
       "0                        greenacres - total us (corp)  country life   \n",
       "1             greens natural market - total us (corp)  country life   \n",
       "2                             infra - total us (corp)  country life   \n",
       "3             natural grocers by vc - total us (corp)  country life   \n",
       "4                               ncg - total us (corp)  country life   \n",
       "5                          ncg - total us x-pcc (ban)  country life   \n",
       "6                                     ncg - pcc (ban)  country life   \n",
       "7                        ncg - mid atlantic (rgn/mkt)  country life   \n",
       "8                       ncg - north central (rgn/mkt)  country life   \n",
       "9                          ncg - north east (rgn/mkt)  country life   \n",
       "10                         ncg - north west (rgn/mkt)  country life   \n",
       "11                    ncg - northwest x-pcc (rgn/mkt)  country life   \n",
       "12                      ncg - south central (rgn/mkt)  country life   \n",
       "13                         ncg - south east (rgn/mkt)  country life   \n",
       "14                         ncg - south west (rgn/mkt)  country life   \n",
       "15                           ncg - east rgn (rgn/mkt)  country life   \n",
       "16                        ncg - central rgn (rgn/mkt)  country life   \n",
       "17                         ncg - west x-pcc (rgn/mkt)  country life   \n",
       "18  new seasons markets + new leaf community marke...  country life   \n",
       "19    sprouts farmers market - total us w/o pl (corp)  country life   \n",
       "20                       greenacres - total us (corp)  country life   \n",
       "21            greens natural market - total us (corp)  country life   \n",
       "22                            infra - total us (corp)  country life   \n",
       "23            natural grocers by vc - total us (corp)  country life   \n",
       "24                              ncg - total us (corp)  country life   \n",
       "25                         ncg - total us x-pcc (ban)  country life   \n",
       "26                                    ncg - pcc (ban)  country life   \n",
       "27                       ncg - mid atlantic (rgn/mkt)  country life   \n",
       "28                      ncg - north central (rgn/mkt)  country life   \n",
       "29                         ncg - north east (rgn/mkt)  country life   \n",
       "30                         ncg - north west (rgn/mkt)  country life   \n",
       "31                    ncg - northwest x-pcc (rgn/mkt)  country life   \n",
       "32                      ncg - south central (rgn/mkt)  country life   \n",
       "33                         ncg - south east (rgn/mkt)  country life   \n",
       "34                         ncg - south west (rgn/mkt)  country life   \n",
       "35                           ncg - east rgn (rgn/mkt)  country life   \n",
       "36                        ncg - central rgn (rgn/mkt)  country life   \n",
       "37                         ncg - west x-pcc (rgn/mkt)  country life   \n",
       "38  new seasons markets + new leaf community marke...  country life   \n",
       "39    sprouts farmers market - total us w/o pl (corp)  country life   \n",
       "\n",
       "       Subcategory    Metric amount  \n",
       "0   minerals other       ARP   8.15  \n",
       "1   minerals other       ARP  10.21  \n",
       "2   minerals other       ARP   8.46  \n",
       "3   minerals other       ARP   7.45  \n",
       "4   minerals other       ARP   8.56  \n",
       "5   minerals other       ARP   8.35  \n",
       "6   minerals other       ARP  10.39  \n",
       "7   minerals other       ARP    8.7  \n",
       "8   minerals other       ARP   8.54  \n",
       "9   minerals other       ARP   8.32  \n",
       "10  minerals other       ARP   8.87  \n",
       "11  minerals other       ARP   7.93  \n",
       "12  minerals other       ARP   8.45  \n",
       "13  minerals other       ARP   8.18  \n",
       "14  minerals other       ARP   8.39  \n",
       "15  minerals other       ARP   8.37  \n",
       "16  minerals other       ARP   8.53  \n",
       "17  minerals other       ARP   8.12  \n",
       "18  minerals other       ARP  10.12  \n",
       "19  minerals other       ARP   7.93  \n",
       "20  minerals other  Base_ARP    8.3  \n",
       "21  minerals other  Base_ARP  10.29  \n",
       "22  minerals other  Base_ARP   8.79  \n",
       "23  minerals other  Base_ARP   7.76  \n",
       "24  minerals other  Base_ARP   9.09  \n",
       "25  minerals other  Base_ARP   8.95  \n",
       "26  minerals other  Base_ARP  10.39  \n",
       "27  minerals other  Base_ARP   9.27  \n",
       "28  minerals other  Base_ARP   9.03  \n",
       "29  minerals other  Base_ARP   9.33  \n",
       "30  minerals other  Base_ARP   9.22  \n",
       "31  minerals other  Base_ARP    8.5  \n",
       "32  minerals other  Base_ARP   8.83  \n",
       "33  minerals other  Base_ARP   8.68  \n",
       "34  minerals other  Base_ARP   8.91  \n",
       "35  minerals other  Base_ARP   9.16  \n",
       "36  minerals other  Base_ARP   9.01  \n",
       "37  minerals other  Base_ARP   8.67  \n",
       "38  minerals other  Base_ARP  11.21  \n",
       "39  minerals other  Base_ARP   8.36  "
      ]
     },
     "execution_count": 67,
     "metadata": {},
     "output_type": "execute_result"
    }
   ],
   "source": [
    "mag_df3 = subset_for_boxplots(mag_df3)\n",
    "mag_df3"
   ]
  },
  {
   "cell_type": "code",
   "execution_count": 69,
   "metadata": {
    "collapsed": true
   },
   "outputs": [],
   "source": [
    "def cl_box_plot(df):\n",
    "    fig = px.box(df, x=\"Metric\", y=\"amount\", points=\"all\", title = df[\"Item\"][0])\n",
    "    fig.add_trace(go.Scatter(x=['ARP', 'Base_ARP'], y=[get_MSRP(df.loc[0,\"UPC\"]),get_MSRP(df.loc[0,\"UPC\"])], mode=\"lines\", name=\"MSRP\"))\n",
    "    fig.show()\n",
    "    "
   ]
  },
  {
   "cell_type": "code",
   "execution_count": null,
   "metadata": {},
   "outputs": [],
   "source": [
    "mag_df3 = mag_df3.loc[mag_df3[\"Metric\"].isin(metric_to_use)].reset_index()"
   ]
  },
  {
   "cell_type": "code",
   "execution_count": null,
   "metadata": {},
   "outputs": [],
   "source": [
    "ax = sns.boxplot(x='Metric', y='amount', data=mag_df3, showfliers = False)\n",
    "ax = sns.stripplot(x='Metric', y='amount', data=mag_df3, color = \"black\", jitter = .1 )\n",
    "ax.axhline(cl_top_seller[\"MSRP$\"][0])\n",
    "#plt.title(mag_df3[\"Item\"][0])"
   ]
  },
  {
   "cell_type": "code",
   "execution_count": 71,
   "metadata": {
    "collapsed": true
   },
   "outputs": [
    {
     "data": {
      "text/plain": [
       "'01579402474'"
      ]
     },
     "execution_count": 71,
     "metadata": {},
     "output_type": "execute_result"
    }
   ],
   "source": [
    "mag_df3.loc[0,\"UPC\"]"
   ]
  },
  {
   "cell_type": "code",
   "execution_count": null,
   "metadata": {},
   "outputs": [],
   "source": [
    "fig = px.box(mag_df3, x=\"Metric\", y=\"amount\", points=\"all\", title = mag_df3[\"Item\"][0])\n",
    "fig.add_trace(go.Scatter(x=['ARP', 'Base_ARP'], y=[get_MSRP(\"2474\"),get_MSRP(\"2474\")], mode=\"lines\", name=\"MSRP\"))\n",
    "fig.show()"
   ]
  },
  {
   "cell_type": "code",
   "execution_count": 68,
   "metadata": {},
   "outputs": [
    {
     "data": {
      "text/plain": [
       "10.79"
      ]
     },
     "execution_count": 68,
     "metadata": {},
     "output_type": "execute_result"
    }
   ],
   "source": [
    "get_MSRP(\"01579402474\")"
   ]
  },
  {
   "cell_type": "code",
   "execution_count": null,
   "metadata": {
    "collapsed": true
   },
   "outputs": [],
   "source": [
    "from plotly.subplots import make_subplots\n",
    "import plotly.graph_objects as go\n",
    "\n",
    "fig = make_subplots(\n",
    "    rows=2, cols=2,\n",
    "    specs=[[{\"type\": \"xy\"}, {\"type\": \"polar\"}],\n",
    "           [{\"type\": \"domain\"}, {\"type\": \"scene\"}]],\n",
    ")\n",
    "\n",
    "fig.add_trace(go.Bar(y=[2, 3, 1]),\n",
    "              row=1, col=1)\n",
    "\n",
    "fig.add_trace(go.Barpolar(theta=[0, 45, 90], r=[2, 3, 1]),\n",
    "              row=1, col=2)\n",
    "\n",
    "fig.add_trace(go.Pie(values=[2, 3, 1]),\n",
    "              row=2, col=1)\n",
    "\n",
    "fig.add_trace(go.Scatter3d(x=[2, 3, 1], y=[0, 0, 0], \n",
    "                           z=[0.5, 1, 2], mode=\"lines\"),\n",
    "              row=2, col=2)\n",
    "\n",
    "fig.update_layout(height=700, showlegend=False)\n",
    "\n",
    "fig.show()"
   ]
  },
  {
   "cell_type": "code",
   "execution_count": 121,
   "metadata": {},
   "outputs": [],
   "source": [
    "def make_plots(df,pie_frame):\n",
    "    fig = make_subplots(\n",
    "        rows=1, cols=2,\n",
    "        specs=[[{\"type\": \"box\"}, {\"type\": \"pie\"}]],\n",
    "    )\n",
    "\n",
    "    fig.add_trace(go.Box( x=df.Metric, y=df.amount, boxpoints =\"all\", jitter =0.5,\n",
    "                         boxmean = True, showlegend=False), row=1, col=1)\n",
    "    #adds a line to reprsent \n",
    "    fig.add_trace(go.Scatter(x=['ARP', 'Base_ARP'], y=[get_MSRP(df.loc[0,\"UPC\"]),get_MSRP(df.loc[0,\"UPC\"])],\n",
    "                             mode=\"lines\", name=\"MSRP\"))\n",
    "    \n",
    "    #generates pie chart from calculated proportion data\n",
    "    fig.add_trace(go.Pie(values=pie_frame[\"count\"], labels =pie_frame[\"bins\"], showlegend=True,\n",
    "                         title_text =\"Proportion of ARP as a percentage discount off MSRP\"),\n",
    "                  row=1, col=2)\n",
    "    # Update xaxis properties\n",
    "    fig.update_xaxes(title_text=\"Distribution of ARP vs Base ARP\", row=1, col=1)\n",
    "    #fig.update(title_text=\"Proportion of ARP as percentage discount\",  row=1, col=2)\n",
    "\n",
    "    fig.update_yaxes(title_text=\"Dollars\", row=1, col=1)\n",
    "    fig.update_yaxes(title_text=\"Proportion of ARP as percentage discount\",  row=1, col=2)\n",
    "\n",
    "    #label the plot\n",
    "    fig.update_layout(title_text=mag_df3[\"Item\"][0], height=700)\n",
    "    fig.update_layout(height=700, showlegend=True)\n",
    "\n",
    "    fig.show()"
   ]
  },
  {
   "cell_type": "code",
   "execution_count": 122,
   "metadata": {},
   "outputs": [
    {
     "data": {
      "application/vnd.plotly.v1+json": {
       "config": {
        "plotlyServerURL": "https://plot.ly"
       },
       "data": [
        {
         "boxmean": true,
         "boxpoints": "all",
         "jitter": 0.5,
         "showlegend": false,
         "type": "box",
         "x": [
          "ARP",
          "ARP",
          "ARP",
          "ARP",
          "ARP",
          "ARP",
          "ARP",
          "ARP",
          "ARP",
          "ARP",
          "ARP",
          "ARP",
          "ARP",
          "ARP",
          "ARP",
          "ARP",
          "ARP",
          "ARP",
          "ARP",
          "ARP",
          "Base_ARP",
          "Base_ARP",
          "Base_ARP",
          "Base_ARP",
          "Base_ARP",
          "Base_ARP",
          "Base_ARP",
          "Base_ARP",
          "Base_ARP",
          "Base_ARP",
          "Base_ARP",
          "Base_ARP",
          "Base_ARP",
          "Base_ARP",
          "Base_ARP",
          "Base_ARP",
          "Base_ARP",
          "Base_ARP",
          "Base_ARP",
          "Base_ARP"
         ],
         "xaxis": "x",
         "y": [
          8.15,
          10.21,
          8.46,
          7.45,
          8.56,
          8.35,
          10.39,
          8.7,
          8.54,
          8.32,
          8.87,
          7.93,
          8.45,
          8.18,
          8.39,
          8.37,
          8.53,
          8.12,
          10.12,
          7.93,
          8.3,
          10.29,
          8.79,
          7.76,
          9.09,
          8.95,
          10.39,
          9.27,
          9.03,
          9.33,
          9.22,
          8.5,
          8.83,
          8.68,
          8.91,
          9.16,
          9.01,
          8.67,
          11.21,
          8.36
         ],
         "yaxis": "y"
        },
        {
         "mode": "lines",
         "name": "MSRP",
         "type": "scatter",
         "x": [
          "ARP",
          "Base_ARP"
         ],
         "y": [
          10.79,
          10.79
         ]
        },
        {
         "domain": {
          "x": [
           0.55,
           1
          ],
          "y": [
           0,
           1
          ]
         },
         "labels": [
          "0-5%",
          "5-10%",
          "10-15%",
          "15-20%",
          "20-25%",
          "25-30%",
          "30-35%",
          "35-40"
         ],
         "showlegend": true,
         "title": {
          "text": "Proportion of ARP as a percentage discount off MSRP"
         },
         "type": "pie",
         "values": [
          1,
          2,
          0,
          2,
          12,
          2,
          1,
          0
         ]
        }
       ],
       "layout": {
        "height": 700,
        "showlegend": true,
        "template": {
         "data": {
          "bar": [
           {
            "error_x": {
             "color": "#2a3f5f"
            },
            "error_y": {
             "color": "#2a3f5f"
            },
            "marker": {
             "line": {
              "color": "#E5ECF6",
              "width": 0.5
             }
            },
            "type": "bar"
           }
          ],
          "barpolar": [
           {
            "marker": {
             "line": {
              "color": "#E5ECF6",
              "width": 0.5
             }
            },
            "type": "barpolar"
           }
          ],
          "carpet": [
           {
            "aaxis": {
             "endlinecolor": "#2a3f5f",
             "gridcolor": "white",
             "linecolor": "white",
             "minorgridcolor": "white",
             "startlinecolor": "#2a3f5f"
            },
            "baxis": {
             "endlinecolor": "#2a3f5f",
             "gridcolor": "white",
             "linecolor": "white",
             "minorgridcolor": "white",
             "startlinecolor": "#2a3f5f"
            },
            "type": "carpet"
           }
          ],
          "choropleth": [
           {
            "colorbar": {
             "outlinewidth": 0,
             "ticks": ""
            },
            "type": "choropleth"
           }
          ],
          "contour": [
           {
            "colorbar": {
             "outlinewidth": 0,
             "ticks": ""
            },
            "colorscale": [
             [
              0,
              "#0d0887"
             ],
             [
              0.1111111111111111,
              "#46039f"
             ],
             [
              0.2222222222222222,
              "#7201a8"
             ],
             [
              0.3333333333333333,
              "#9c179e"
             ],
             [
              0.4444444444444444,
              "#bd3786"
             ],
             [
              0.5555555555555556,
              "#d8576b"
             ],
             [
              0.6666666666666666,
              "#ed7953"
             ],
             [
              0.7777777777777778,
              "#fb9f3a"
             ],
             [
              0.8888888888888888,
              "#fdca26"
             ],
             [
              1,
              "#f0f921"
             ]
            ],
            "type": "contour"
           }
          ],
          "contourcarpet": [
           {
            "colorbar": {
             "outlinewidth": 0,
             "ticks": ""
            },
            "type": "contourcarpet"
           }
          ],
          "heatmap": [
           {
            "colorbar": {
             "outlinewidth": 0,
             "ticks": ""
            },
            "colorscale": [
             [
              0,
              "#0d0887"
             ],
             [
              0.1111111111111111,
              "#46039f"
             ],
             [
              0.2222222222222222,
              "#7201a8"
             ],
             [
              0.3333333333333333,
              "#9c179e"
             ],
             [
              0.4444444444444444,
              "#bd3786"
             ],
             [
              0.5555555555555556,
              "#d8576b"
             ],
             [
              0.6666666666666666,
              "#ed7953"
             ],
             [
              0.7777777777777778,
              "#fb9f3a"
             ],
             [
              0.8888888888888888,
              "#fdca26"
             ],
             [
              1,
              "#f0f921"
             ]
            ],
            "type": "heatmap"
           }
          ],
          "heatmapgl": [
           {
            "colorbar": {
             "outlinewidth": 0,
             "ticks": ""
            },
            "colorscale": [
             [
              0,
              "#0d0887"
             ],
             [
              0.1111111111111111,
              "#46039f"
             ],
             [
              0.2222222222222222,
              "#7201a8"
             ],
             [
              0.3333333333333333,
              "#9c179e"
             ],
             [
              0.4444444444444444,
              "#bd3786"
             ],
             [
              0.5555555555555556,
              "#d8576b"
             ],
             [
              0.6666666666666666,
              "#ed7953"
             ],
             [
              0.7777777777777778,
              "#fb9f3a"
             ],
             [
              0.8888888888888888,
              "#fdca26"
             ],
             [
              1,
              "#f0f921"
             ]
            ],
            "type": "heatmapgl"
           }
          ],
          "histogram": [
           {
            "marker": {
             "colorbar": {
              "outlinewidth": 0,
              "ticks": ""
             }
            },
            "type": "histogram"
           }
          ],
          "histogram2d": [
           {
            "colorbar": {
             "outlinewidth": 0,
             "ticks": ""
            },
            "colorscale": [
             [
              0,
              "#0d0887"
             ],
             [
              0.1111111111111111,
              "#46039f"
             ],
             [
              0.2222222222222222,
              "#7201a8"
             ],
             [
              0.3333333333333333,
              "#9c179e"
             ],
             [
              0.4444444444444444,
              "#bd3786"
             ],
             [
              0.5555555555555556,
              "#d8576b"
             ],
             [
              0.6666666666666666,
              "#ed7953"
             ],
             [
              0.7777777777777778,
              "#fb9f3a"
             ],
             [
              0.8888888888888888,
              "#fdca26"
             ],
             [
              1,
              "#f0f921"
             ]
            ],
            "type": "histogram2d"
           }
          ],
          "histogram2dcontour": [
           {
            "colorbar": {
             "outlinewidth": 0,
             "ticks": ""
            },
            "colorscale": [
             [
              0,
              "#0d0887"
             ],
             [
              0.1111111111111111,
              "#46039f"
             ],
             [
              0.2222222222222222,
              "#7201a8"
             ],
             [
              0.3333333333333333,
              "#9c179e"
             ],
             [
              0.4444444444444444,
              "#bd3786"
             ],
             [
              0.5555555555555556,
              "#d8576b"
             ],
             [
              0.6666666666666666,
              "#ed7953"
             ],
             [
              0.7777777777777778,
              "#fb9f3a"
             ],
             [
              0.8888888888888888,
              "#fdca26"
             ],
             [
              1,
              "#f0f921"
             ]
            ],
            "type": "histogram2dcontour"
           }
          ],
          "mesh3d": [
           {
            "colorbar": {
             "outlinewidth": 0,
             "ticks": ""
            },
            "type": "mesh3d"
           }
          ],
          "parcoords": [
           {
            "line": {
             "colorbar": {
              "outlinewidth": 0,
              "ticks": ""
             }
            },
            "type": "parcoords"
           }
          ],
          "pie": [
           {
            "automargin": true,
            "type": "pie"
           }
          ],
          "scatter": [
           {
            "marker": {
             "colorbar": {
              "outlinewidth": 0,
              "ticks": ""
             }
            },
            "type": "scatter"
           }
          ],
          "scatter3d": [
           {
            "line": {
             "colorbar": {
              "outlinewidth": 0,
              "ticks": ""
             }
            },
            "marker": {
             "colorbar": {
              "outlinewidth": 0,
              "ticks": ""
             }
            },
            "type": "scatter3d"
           }
          ],
          "scattercarpet": [
           {
            "marker": {
             "colorbar": {
              "outlinewidth": 0,
              "ticks": ""
             }
            },
            "type": "scattercarpet"
           }
          ],
          "scattergeo": [
           {
            "marker": {
             "colorbar": {
              "outlinewidth": 0,
              "ticks": ""
             }
            },
            "type": "scattergeo"
           }
          ],
          "scattergl": [
           {
            "marker": {
             "colorbar": {
              "outlinewidth": 0,
              "ticks": ""
             }
            },
            "type": "scattergl"
           }
          ],
          "scattermapbox": [
           {
            "marker": {
             "colorbar": {
              "outlinewidth": 0,
              "ticks": ""
             }
            },
            "type": "scattermapbox"
           }
          ],
          "scatterpolar": [
           {
            "marker": {
             "colorbar": {
              "outlinewidth": 0,
              "ticks": ""
             }
            },
            "type": "scatterpolar"
           }
          ],
          "scatterpolargl": [
           {
            "marker": {
             "colorbar": {
              "outlinewidth": 0,
              "ticks": ""
             }
            },
            "type": "scatterpolargl"
           }
          ],
          "scatterternary": [
           {
            "marker": {
             "colorbar": {
              "outlinewidth": 0,
              "ticks": ""
             }
            },
            "type": "scatterternary"
           }
          ],
          "surface": [
           {
            "colorbar": {
             "outlinewidth": 0,
             "ticks": ""
            },
            "colorscale": [
             [
              0,
              "#0d0887"
             ],
             [
              0.1111111111111111,
              "#46039f"
             ],
             [
              0.2222222222222222,
              "#7201a8"
             ],
             [
              0.3333333333333333,
              "#9c179e"
             ],
             [
              0.4444444444444444,
              "#bd3786"
             ],
             [
              0.5555555555555556,
              "#d8576b"
             ],
             [
              0.6666666666666666,
              "#ed7953"
             ],
             [
              0.7777777777777778,
              "#fb9f3a"
             ],
             [
              0.8888888888888888,
              "#fdca26"
             ],
             [
              1,
              "#f0f921"
             ]
            ],
            "type": "surface"
           }
          ],
          "table": [
           {
            "cells": {
             "fill": {
              "color": "#EBF0F8"
             },
             "line": {
              "color": "white"
             }
            },
            "header": {
             "fill": {
              "color": "#C8D4E3"
             },
             "line": {
              "color": "white"
             }
            },
            "type": "table"
           }
          ]
         },
         "layout": {
          "annotationdefaults": {
           "arrowcolor": "#2a3f5f",
           "arrowhead": 0,
           "arrowwidth": 1
          },
          "coloraxis": {
           "colorbar": {
            "outlinewidth": 0,
            "ticks": ""
           }
          },
          "colorscale": {
           "diverging": [
            [
             0,
             "#8e0152"
            ],
            [
             0.1,
             "#c51b7d"
            ],
            [
             0.2,
             "#de77ae"
            ],
            [
             0.3,
             "#f1b6da"
            ],
            [
             0.4,
             "#fde0ef"
            ],
            [
             0.5,
             "#f7f7f7"
            ],
            [
             0.6,
             "#e6f5d0"
            ],
            [
             0.7,
             "#b8e186"
            ],
            [
             0.8,
             "#7fbc41"
            ],
            [
             0.9,
             "#4d9221"
            ],
            [
             1,
             "#276419"
            ]
           ],
           "sequential": [
            [
             0,
             "#0d0887"
            ],
            [
             0.1111111111111111,
             "#46039f"
            ],
            [
             0.2222222222222222,
             "#7201a8"
            ],
            [
             0.3333333333333333,
             "#9c179e"
            ],
            [
             0.4444444444444444,
             "#bd3786"
            ],
            [
             0.5555555555555556,
             "#d8576b"
            ],
            [
             0.6666666666666666,
             "#ed7953"
            ],
            [
             0.7777777777777778,
             "#fb9f3a"
            ],
            [
             0.8888888888888888,
             "#fdca26"
            ],
            [
             1,
             "#f0f921"
            ]
           ],
           "sequentialminus": [
            [
             0,
             "#0d0887"
            ],
            [
             0.1111111111111111,
             "#46039f"
            ],
            [
             0.2222222222222222,
             "#7201a8"
            ],
            [
             0.3333333333333333,
             "#9c179e"
            ],
            [
             0.4444444444444444,
             "#bd3786"
            ],
            [
             0.5555555555555556,
             "#d8576b"
            ],
            [
             0.6666666666666666,
             "#ed7953"
            ],
            [
             0.7777777777777778,
             "#fb9f3a"
            ],
            [
             0.8888888888888888,
             "#fdca26"
            ],
            [
             1,
             "#f0f921"
            ]
           ]
          },
          "colorway": [
           "#636efa",
           "#EF553B",
           "#00cc96",
           "#ab63fa",
           "#FFA15A",
           "#19d3f3",
           "#FF6692",
           "#B6E880",
           "#FF97FF",
           "#FECB52"
          ],
          "font": {
           "color": "#2a3f5f"
          },
          "geo": {
           "bgcolor": "white",
           "lakecolor": "white",
           "landcolor": "#E5ECF6",
           "showlakes": true,
           "showland": true,
           "subunitcolor": "white"
          },
          "hoverlabel": {
           "align": "left"
          },
          "hovermode": "closest",
          "mapbox": {
           "style": "light"
          },
          "paper_bgcolor": "white",
          "plot_bgcolor": "#E5ECF6",
          "polar": {
           "angularaxis": {
            "gridcolor": "white",
            "linecolor": "white",
            "ticks": ""
           },
           "bgcolor": "#E5ECF6",
           "radialaxis": {
            "gridcolor": "white",
            "linecolor": "white",
            "ticks": ""
           }
          },
          "scene": {
           "xaxis": {
            "backgroundcolor": "#E5ECF6",
            "gridcolor": "white",
            "gridwidth": 2,
            "linecolor": "white",
            "showbackground": true,
            "ticks": "",
            "zerolinecolor": "white"
           },
           "yaxis": {
            "backgroundcolor": "#E5ECF6",
            "gridcolor": "white",
            "gridwidth": 2,
            "linecolor": "white",
            "showbackground": true,
            "ticks": "",
            "zerolinecolor": "white"
           },
           "zaxis": {
            "backgroundcolor": "#E5ECF6",
            "gridcolor": "white",
            "gridwidth": 2,
            "linecolor": "white",
            "showbackground": true,
            "ticks": "",
            "zerolinecolor": "white"
           }
          },
          "shapedefaults": {
           "line": {
            "color": "#2a3f5f"
           }
          },
          "ternary": {
           "aaxis": {
            "gridcolor": "white",
            "linecolor": "white",
            "ticks": ""
           },
           "baxis": {
            "gridcolor": "white",
            "linecolor": "white",
            "ticks": ""
           },
           "bgcolor": "#E5ECF6",
           "caxis": {
            "gridcolor": "white",
            "linecolor": "white",
            "ticks": ""
           }
          },
          "title": {
           "x": 0.05
          },
          "xaxis": {
           "automargin": true,
           "gridcolor": "white",
           "linecolor": "white",
           "ticks": "",
           "title": {
            "standoff": 15
           },
           "zerolinecolor": "white",
           "zerolinewidth": 2
          },
          "yaxis": {
           "automargin": true,
           "gridcolor": "white",
           "linecolor": "white",
           "ticks": "",
           "title": {
            "standoff": 15
           },
           "zerolinecolor": "white",
           "zerolinewidth": 2
          }
         }
        },
        "title": {
         "text": "country life magnesium 300 mg 60 vcp"
        },
        "xaxis": {
         "anchor": "y",
         "domain": [
          0,
          0.45
         ],
         "title": {
          "text": "Distribution of ARP vs Base ARP"
         }
        },
        "yaxis": {
         "anchor": "x",
         "domain": [
          0,
          1
         ],
         "title": {
          "text": "Dollars"
         }
        }
       }
      },
      "text/html": [
       "<div>\n",
       "        \n",
       "        \n",
       "            <div id=\"9533903c-5b8e-40a2-b7a5-5101c99a8495\" class=\"plotly-graph-div\" style=\"height:700px; width:100%;\"></div>\n",
       "            <script type=\"text/javascript\">\n",
       "                require([\"plotly\"], function(Plotly) {\n",
       "                    window.PLOTLYENV=window.PLOTLYENV || {};\n",
       "                    \n",
       "                if (document.getElementById(\"9533903c-5b8e-40a2-b7a5-5101c99a8495\")) {\n",
       "                    Plotly.newPlot(\n",
       "                        '9533903c-5b8e-40a2-b7a5-5101c99a8495',\n",
       "                        [{\"boxmean\": true, \"boxpoints\": \"all\", \"jitter\": 0.5, \"showlegend\": false, \"type\": \"box\", \"x\": [\"ARP\", \"ARP\", \"ARP\", \"ARP\", \"ARP\", \"ARP\", \"ARP\", \"ARP\", \"ARP\", \"ARP\", \"ARP\", \"ARP\", \"ARP\", \"ARP\", \"ARP\", \"ARP\", \"ARP\", \"ARP\", \"ARP\", \"ARP\", \"Base_ARP\", \"Base_ARP\", \"Base_ARP\", \"Base_ARP\", \"Base_ARP\", \"Base_ARP\", \"Base_ARP\", \"Base_ARP\", \"Base_ARP\", \"Base_ARP\", \"Base_ARP\", \"Base_ARP\", \"Base_ARP\", \"Base_ARP\", \"Base_ARP\", \"Base_ARP\", \"Base_ARP\", \"Base_ARP\", \"Base_ARP\", \"Base_ARP\"], \"xaxis\": \"x\", \"y\": [8.15, 10.21, 8.46, 7.45, 8.56, 8.35, 10.39, 8.7, 8.54, 8.32, 8.87, 7.93, 8.45, 8.18, 8.39, 8.37, 8.53, 8.12, 10.12, 7.93, 8.3, 10.29, 8.79, 7.76, 9.09, 8.95, 10.39, 9.27, 9.03, 9.33, 9.22, 8.5, 8.83, 8.68, 8.91, 9.16, 9.01, 8.67, 11.21, 8.36], \"yaxis\": \"y\"}, {\"mode\": \"lines\", \"name\": \"MSRP\", \"type\": \"scatter\", \"x\": [\"ARP\", \"Base_ARP\"], \"y\": [10.79, 10.79]}, {\"domain\": {\"x\": [0.55, 1.0], \"y\": [0.0, 1.0]}, \"labels\": [\"0-5%\", \"5-10%\", \"10-15%\", \"15-20%\", \"20-25%\", \"25-30%\", \"30-35%\", \"35-40\"], \"showlegend\": true, \"title\": {\"text\": \"Proportion of ARP as a percentage discount off MSRP\"}, \"type\": \"pie\", \"values\": [1, 2, 0, 2, 12, 2, 1, 0]}],\n",
       "                        {\"height\": 700, \"showlegend\": true, \"template\": {\"data\": {\"bar\": [{\"error_x\": {\"color\": \"#2a3f5f\"}, \"error_y\": {\"color\": \"#2a3f5f\"}, \"marker\": {\"line\": {\"color\": \"#E5ECF6\", \"width\": 0.5}}, \"type\": \"bar\"}], \"barpolar\": [{\"marker\": {\"line\": {\"color\": \"#E5ECF6\", \"width\": 0.5}}, \"type\": \"barpolar\"}], \"carpet\": [{\"aaxis\": {\"endlinecolor\": \"#2a3f5f\", \"gridcolor\": \"white\", \"linecolor\": \"white\", \"minorgridcolor\": \"white\", \"startlinecolor\": \"#2a3f5f\"}, \"baxis\": {\"endlinecolor\": \"#2a3f5f\", \"gridcolor\": \"white\", \"linecolor\": \"white\", \"minorgridcolor\": \"white\", \"startlinecolor\": \"#2a3f5f\"}, \"type\": \"carpet\"}], \"choropleth\": [{\"colorbar\": {\"outlinewidth\": 0, \"ticks\": \"\"}, \"type\": \"choropleth\"}], \"contour\": [{\"colorbar\": {\"outlinewidth\": 0, \"ticks\": \"\"}, \"colorscale\": [[0.0, \"#0d0887\"], [0.1111111111111111, \"#46039f\"], [0.2222222222222222, \"#7201a8\"], [0.3333333333333333, \"#9c179e\"], [0.4444444444444444, \"#bd3786\"], [0.5555555555555556, \"#d8576b\"], [0.6666666666666666, \"#ed7953\"], [0.7777777777777778, \"#fb9f3a\"], [0.8888888888888888, \"#fdca26\"], [1.0, \"#f0f921\"]], \"type\": \"contour\"}], \"contourcarpet\": [{\"colorbar\": {\"outlinewidth\": 0, \"ticks\": \"\"}, \"type\": \"contourcarpet\"}], \"heatmap\": [{\"colorbar\": {\"outlinewidth\": 0, \"ticks\": \"\"}, \"colorscale\": [[0.0, \"#0d0887\"], [0.1111111111111111, \"#46039f\"], [0.2222222222222222, \"#7201a8\"], [0.3333333333333333, \"#9c179e\"], [0.4444444444444444, \"#bd3786\"], [0.5555555555555556, \"#d8576b\"], [0.6666666666666666, \"#ed7953\"], [0.7777777777777778, \"#fb9f3a\"], [0.8888888888888888, \"#fdca26\"], [1.0, \"#f0f921\"]], \"type\": \"heatmap\"}], \"heatmapgl\": [{\"colorbar\": {\"outlinewidth\": 0, \"ticks\": \"\"}, \"colorscale\": [[0.0, \"#0d0887\"], [0.1111111111111111, \"#46039f\"], [0.2222222222222222, \"#7201a8\"], [0.3333333333333333, \"#9c179e\"], [0.4444444444444444, \"#bd3786\"], [0.5555555555555556, \"#d8576b\"], [0.6666666666666666, \"#ed7953\"], [0.7777777777777778, \"#fb9f3a\"], [0.8888888888888888, \"#fdca26\"], [1.0, \"#f0f921\"]], \"type\": \"heatmapgl\"}], \"histogram\": [{\"marker\": {\"colorbar\": {\"outlinewidth\": 0, \"ticks\": \"\"}}, \"type\": \"histogram\"}], \"histogram2d\": [{\"colorbar\": {\"outlinewidth\": 0, \"ticks\": \"\"}, \"colorscale\": [[0.0, \"#0d0887\"], [0.1111111111111111, \"#46039f\"], [0.2222222222222222, \"#7201a8\"], [0.3333333333333333, \"#9c179e\"], [0.4444444444444444, \"#bd3786\"], [0.5555555555555556, \"#d8576b\"], [0.6666666666666666, \"#ed7953\"], [0.7777777777777778, \"#fb9f3a\"], [0.8888888888888888, \"#fdca26\"], [1.0, \"#f0f921\"]], \"type\": \"histogram2d\"}], \"histogram2dcontour\": [{\"colorbar\": {\"outlinewidth\": 0, \"ticks\": \"\"}, \"colorscale\": [[0.0, \"#0d0887\"], [0.1111111111111111, \"#46039f\"], [0.2222222222222222, \"#7201a8\"], [0.3333333333333333, \"#9c179e\"], [0.4444444444444444, \"#bd3786\"], [0.5555555555555556, \"#d8576b\"], [0.6666666666666666, \"#ed7953\"], [0.7777777777777778, \"#fb9f3a\"], [0.8888888888888888, \"#fdca26\"], [1.0, \"#f0f921\"]], \"type\": \"histogram2dcontour\"}], \"mesh3d\": [{\"colorbar\": {\"outlinewidth\": 0, \"ticks\": \"\"}, \"type\": \"mesh3d\"}], \"parcoords\": [{\"line\": {\"colorbar\": {\"outlinewidth\": 0, \"ticks\": \"\"}}, \"type\": \"parcoords\"}], \"pie\": [{\"automargin\": true, \"type\": \"pie\"}], \"scatter\": [{\"marker\": {\"colorbar\": {\"outlinewidth\": 0, \"ticks\": \"\"}}, \"type\": \"scatter\"}], \"scatter3d\": [{\"line\": {\"colorbar\": {\"outlinewidth\": 0, \"ticks\": \"\"}}, \"marker\": {\"colorbar\": {\"outlinewidth\": 0, \"ticks\": \"\"}}, \"type\": \"scatter3d\"}], \"scattercarpet\": [{\"marker\": {\"colorbar\": {\"outlinewidth\": 0, \"ticks\": \"\"}}, \"type\": \"scattercarpet\"}], \"scattergeo\": [{\"marker\": {\"colorbar\": {\"outlinewidth\": 0, \"ticks\": \"\"}}, \"type\": \"scattergeo\"}], \"scattergl\": [{\"marker\": {\"colorbar\": {\"outlinewidth\": 0, \"ticks\": \"\"}}, \"type\": \"scattergl\"}], \"scattermapbox\": [{\"marker\": {\"colorbar\": {\"outlinewidth\": 0, \"ticks\": \"\"}}, \"type\": \"scattermapbox\"}], \"scatterpolar\": [{\"marker\": {\"colorbar\": {\"outlinewidth\": 0, \"ticks\": \"\"}}, \"type\": \"scatterpolar\"}], \"scatterpolargl\": [{\"marker\": {\"colorbar\": {\"outlinewidth\": 0, \"ticks\": \"\"}}, \"type\": \"scatterpolargl\"}], \"scatterternary\": [{\"marker\": {\"colorbar\": {\"outlinewidth\": 0, \"ticks\": \"\"}}, \"type\": \"scatterternary\"}], \"surface\": [{\"colorbar\": {\"outlinewidth\": 0, \"ticks\": \"\"}, \"colorscale\": [[0.0, \"#0d0887\"], [0.1111111111111111, \"#46039f\"], [0.2222222222222222, \"#7201a8\"], [0.3333333333333333, \"#9c179e\"], [0.4444444444444444, \"#bd3786\"], [0.5555555555555556, \"#d8576b\"], [0.6666666666666666, \"#ed7953\"], [0.7777777777777778, \"#fb9f3a\"], [0.8888888888888888, \"#fdca26\"], [1.0, \"#f0f921\"]], \"type\": \"surface\"}], \"table\": [{\"cells\": {\"fill\": {\"color\": \"#EBF0F8\"}, \"line\": {\"color\": \"white\"}}, \"header\": {\"fill\": {\"color\": \"#C8D4E3\"}, \"line\": {\"color\": \"white\"}}, \"type\": \"table\"}]}, \"layout\": {\"annotationdefaults\": {\"arrowcolor\": \"#2a3f5f\", \"arrowhead\": 0, \"arrowwidth\": 1}, \"coloraxis\": {\"colorbar\": {\"outlinewidth\": 0, \"ticks\": \"\"}}, \"colorscale\": {\"diverging\": [[0, \"#8e0152\"], [0.1, \"#c51b7d\"], [0.2, \"#de77ae\"], [0.3, \"#f1b6da\"], [0.4, \"#fde0ef\"], [0.5, \"#f7f7f7\"], [0.6, \"#e6f5d0\"], [0.7, \"#b8e186\"], [0.8, \"#7fbc41\"], [0.9, \"#4d9221\"], [1, \"#276419\"]], \"sequential\": [[0.0, \"#0d0887\"], [0.1111111111111111, \"#46039f\"], [0.2222222222222222, \"#7201a8\"], [0.3333333333333333, \"#9c179e\"], [0.4444444444444444, \"#bd3786\"], [0.5555555555555556, \"#d8576b\"], [0.6666666666666666, \"#ed7953\"], [0.7777777777777778, \"#fb9f3a\"], [0.8888888888888888, \"#fdca26\"], [1.0, \"#f0f921\"]], \"sequentialminus\": [[0.0, \"#0d0887\"], [0.1111111111111111, \"#46039f\"], [0.2222222222222222, \"#7201a8\"], [0.3333333333333333, \"#9c179e\"], [0.4444444444444444, \"#bd3786\"], [0.5555555555555556, \"#d8576b\"], [0.6666666666666666, \"#ed7953\"], [0.7777777777777778, \"#fb9f3a\"], [0.8888888888888888, \"#fdca26\"], [1.0, \"#f0f921\"]]}, \"colorway\": [\"#636efa\", \"#EF553B\", \"#00cc96\", \"#ab63fa\", \"#FFA15A\", \"#19d3f3\", \"#FF6692\", \"#B6E880\", \"#FF97FF\", \"#FECB52\"], \"font\": {\"color\": \"#2a3f5f\"}, \"geo\": {\"bgcolor\": \"white\", \"lakecolor\": \"white\", \"landcolor\": \"#E5ECF6\", \"showlakes\": true, \"showland\": true, \"subunitcolor\": \"white\"}, \"hoverlabel\": {\"align\": \"left\"}, \"hovermode\": \"closest\", \"mapbox\": {\"style\": \"light\"}, \"paper_bgcolor\": \"white\", \"plot_bgcolor\": \"#E5ECF6\", \"polar\": {\"angularaxis\": {\"gridcolor\": \"white\", \"linecolor\": \"white\", \"ticks\": \"\"}, \"bgcolor\": \"#E5ECF6\", \"radialaxis\": {\"gridcolor\": \"white\", \"linecolor\": \"white\", \"ticks\": \"\"}}, \"scene\": {\"xaxis\": {\"backgroundcolor\": \"#E5ECF6\", \"gridcolor\": \"white\", \"gridwidth\": 2, \"linecolor\": \"white\", \"showbackground\": true, \"ticks\": \"\", \"zerolinecolor\": \"white\"}, \"yaxis\": {\"backgroundcolor\": \"#E5ECF6\", \"gridcolor\": \"white\", \"gridwidth\": 2, \"linecolor\": \"white\", \"showbackground\": true, \"ticks\": \"\", \"zerolinecolor\": \"white\"}, \"zaxis\": {\"backgroundcolor\": \"#E5ECF6\", \"gridcolor\": \"white\", \"gridwidth\": 2, \"linecolor\": \"white\", \"showbackground\": true, \"ticks\": \"\", \"zerolinecolor\": \"white\"}}, \"shapedefaults\": {\"line\": {\"color\": \"#2a3f5f\"}}, \"ternary\": {\"aaxis\": {\"gridcolor\": \"white\", \"linecolor\": \"white\", \"ticks\": \"\"}, \"baxis\": {\"gridcolor\": \"white\", \"linecolor\": \"white\", \"ticks\": \"\"}, \"bgcolor\": \"#E5ECF6\", \"caxis\": {\"gridcolor\": \"white\", \"linecolor\": \"white\", \"ticks\": \"\"}}, \"title\": {\"x\": 0.05}, \"xaxis\": {\"automargin\": true, \"gridcolor\": \"white\", \"linecolor\": \"white\", \"ticks\": \"\", \"title\": {\"standoff\": 15}, \"zerolinecolor\": \"white\", \"zerolinewidth\": 2}, \"yaxis\": {\"automargin\": true, \"gridcolor\": \"white\", \"linecolor\": \"white\", \"ticks\": \"\", \"title\": {\"standoff\": 15}, \"zerolinecolor\": \"white\", \"zerolinewidth\": 2}}}, \"title\": {\"text\": \"country life magnesium 300 mg 60 vcp\"}, \"xaxis\": {\"anchor\": \"y\", \"domain\": [0.0, 0.45], \"title\": {\"text\": \"Distribution of ARP vs Base ARP\"}}, \"yaxis\": {\"anchor\": \"x\", \"domain\": [0.0, 1.0], \"title\": {\"text\": \"Dollars\"}}},\n",
       "                        {\"responsive\": true}\n",
       "                    ).then(function(){\n",
       "                            \n",
       "var gd = document.getElementById('9533903c-5b8e-40a2-b7a5-5101c99a8495');\n",
       "var x = new MutationObserver(function (mutations, observer) {{\n",
       "        var display = window.getComputedStyle(gd).display;\n",
       "        if (!display || display === 'none') {{\n",
       "            console.log([gd, 'removed!']);\n",
       "            Plotly.purge(gd);\n",
       "            observer.disconnect();\n",
       "        }}\n",
       "}});\n",
       "\n",
       "// Listen for the removal of the full notebook cells\n",
       "var notebookContainer = gd.closest('#notebook-container');\n",
       "if (notebookContainer) {{\n",
       "    x.observe(notebookContainer, {childList: true});\n",
       "}}\n",
       "\n",
       "// Listen for the clearing of the current output cell\n",
       "var outputEl = gd.closest('.output');\n",
       "if (outputEl) {{\n",
       "    x.observe(outputEl, {childList: true});\n",
       "}}\n",
       "\n",
       "                        })\n",
       "                };\n",
       "                });\n",
       "            </script>\n",
       "        </div>"
      ]
     },
     "metadata": {},
     "output_type": "display_data"
    }
   ],
   "source": [
    "make_plots(mag_df3,pie_frame)"
   ]
  },
  {
   "cell_type": "code",
   "execution_count": 123,
   "metadata": {},
   "outputs": [
    {
     "data": {
      "text/html": [
       "<div>\n",
       "<style scoped>\n",
       "    .dataframe tbody tr th:only-of-type {\n",
       "        vertical-align: middle;\n",
       "    }\n",
       "\n",
       "    .dataframe tbody tr th {\n",
       "        vertical-align: top;\n",
       "    }\n",
       "\n",
       "    .dataframe thead th {\n",
       "        text-align: right;\n",
       "    }\n",
       "</style>\n",
       "<table border=\"1\" class=\"dataframe\">\n",
       "  <thead>\n",
       "    <tr style=\"text-align: right;\">\n",
       "      <th></th>\n",
       "      <th>UPC</th>\n",
       "      <th>Item</th>\n",
       "      <th>Geography</th>\n",
       "      <th>Brand</th>\n",
       "      <th>Subcategory</th>\n",
       "      <th>Dollars</th>\n",
       "      <th>Dollars_Yago</th>\n",
       "      <th>Units</th>\n",
       "      <th>Units_Yago</th>\n",
       "      <th>Dollars_SPP</th>\n",
       "      <th>Dollars_SPP_Yago</th>\n",
       "      <th>ARP</th>\n",
       "      <th>ARP_Yago</th>\n",
       "      <th>Base_ARP</th>\n",
       "      <th>BaseARP_Yago</th>\n",
       "    </tr>\n",
       "  </thead>\n",
       "  <tbody>\n",
       "    <tr>\n",
       "      <th>0</th>\n",
       "      <td>65801011832</td>\n",
       "      <td>garden life dr frm prob onc dly wmn ogc 30vcp</td>\n",
       "      <td>earth fare - total us (corp)</td>\n",
       "      <td>garden of life</td>\n",
       "      <td>prebiotics &amp; probiotics</td>\n",
       "      <td>10579.14</td>\n",
       "      <td>47225.35</td>\n",
       "      <td>286.0</td>\n",
       "      <td>1442.0</td>\n",
       "      <td>182.87</td>\n",
       "      <td>486.06</td>\n",
       "      <td>36.99</td>\n",
       "      <td>32.75</td>\n",
       "      <td>36.99</td>\n",
       "      <td>36.06</td>\n",
       "    </tr>\n",
       "    <tr>\n",
       "      <th>1</th>\n",
       "      <td>85023200508</td>\n",
       "      <td>vital proteins collagen peptides 20 oz</td>\n",
       "      <td>earth fare - total us (corp)</td>\n",
       "      <td>vital proteins</td>\n",
       "      <td>protein &amp; meal replacement powder</td>\n",
       "      <td>10085.45</td>\n",
       "      <td>77767.14</td>\n",
       "      <td>205.0</td>\n",
       "      <td>1854.0</td>\n",
       "      <td>123.64</td>\n",
       "      <td>820.67</td>\n",
       "      <td>49.20</td>\n",
       "      <td>41.95</td>\n",
       "      <td>49.53</td>\n",
       "      <td>42.62</td>\n",
       "    </tr>\n",
       "    <tr>\n",
       "      <th>2</th>\n",
       "      <td>03367410486</td>\n",
       "      <td>nat way sambucus elderbrry gummies ogc 60 chw</td>\n",
       "      <td>earth fare - total us (corp)</td>\n",
       "      <td>natures way</td>\n",
       "      <td>herbal formulas cold &amp; flu &amp; immune</td>\n",
       "      <td>7220.56</td>\n",
       "      <td>24308.32</td>\n",
       "      <td>344.0</td>\n",
       "      <td>1168.0</td>\n",
       "      <td>73.22</td>\n",
       "      <td>244.99</td>\n",
       "      <td>20.99</td>\n",
       "      <td>20.81</td>\n",
       "      <td>20.99</td>\n",
       "      <td>20.92</td>\n",
       "    </tr>\n",
       "    <tr>\n",
       "      <th>3</th>\n",
       "      <td>76899003790</td>\n",
       "      <td>nordic nat ultimate omega 180 sg</td>\n",
       "      <td>earth fare - total us (corp)</td>\n",
       "      <td>nordic naturals</td>\n",
       "      <td>supplements oils</td>\n",
       "      <td>32276.56</td>\n",
       "      <td>43280.34</td>\n",
       "      <td>544.0</td>\n",
       "      <td>814.0</td>\n",
       "      <td>328.68</td>\n",
       "      <td>455.39</td>\n",
       "      <td>59.33</td>\n",
       "      <td>53.17</td>\n",
       "      <td>59.51</td>\n",
       "      <td>56.70</td>\n",
       "    </tr>\n",
       "    <tr>\n",
       "      <th>4</th>\n",
       "      <td>85810900611</td>\n",
       "      <td>ancient nutrition multi collagen complex 16oz</td>\n",
       "      <td>earth fare - total us (corp)</td>\n",
       "      <td>ancient nutrition</td>\n",
       "      <td>protein &amp; meal replacement powder</td>\n",
       "      <td>9986.64</td>\n",
       "      <td>51194.58</td>\n",
       "      <td>206.0</td>\n",
       "      <td>1050.0</td>\n",
       "      <td>106.24</td>\n",
       "      <td>533.05</td>\n",
       "      <td>48.48</td>\n",
       "      <td>48.76</td>\n",
       "      <td>48.81</td>\n",
       "      <td>49.00</td>\n",
       "    </tr>\n",
       "  </tbody>\n",
       "</table>\n",
       "</div>"
      ],
      "text/plain": [
       "           UPC                                           Item  \\\n",
       "0  65801011832  garden life dr frm prob onc dly wmn ogc 30vcp   \n",
       "1  85023200508         vital proteins collagen peptides 20 oz   \n",
       "2  03367410486  nat way sambucus elderbrry gummies ogc 60 chw   \n",
       "3  76899003790               nordic nat ultimate omega 180 sg   \n",
       "4  85810900611  ancient nutrition multi collagen complex 16oz   \n",
       "\n",
       "                      Geography              Brand  \\\n",
       "0  earth fare - total us (corp)     garden of life   \n",
       "1  earth fare - total us (corp)     vital proteins   \n",
       "2  earth fare - total us (corp)        natures way   \n",
       "3  earth fare - total us (corp)    nordic naturals   \n",
       "4  earth fare - total us (corp)  ancient nutrition   \n",
       "\n",
       "                           Subcategory   Dollars  Dollars_Yago  Units  \\\n",
       "0              prebiotics & probiotics  10579.14      47225.35  286.0   \n",
       "1    protein & meal replacement powder  10085.45      77767.14  205.0   \n",
       "2  herbal formulas cold & flu & immune   7220.56      24308.32  344.0   \n",
       "3                     supplements oils  32276.56      43280.34  544.0   \n",
       "4    protein & meal replacement powder   9986.64      51194.58  206.0   \n",
       "\n",
       "   Units_Yago  Dollars_SPP  Dollars_SPP_Yago    ARP  ARP_Yago  Base_ARP  \\\n",
       "0      1442.0       182.87            486.06  36.99     32.75     36.99   \n",
       "1      1854.0       123.64            820.67  49.20     41.95     49.53   \n",
       "2      1168.0        73.22            244.99  20.99     20.81     20.99   \n",
       "3       814.0       328.68            455.39  59.33     53.17     59.51   \n",
       "4      1050.0       106.24            533.05  48.48     48.76     48.81   \n",
       "\n",
       "   BaseARP_Yago  \n",
       "0         36.06  \n",
       "1         42.62  \n",
       "2         20.92  \n",
       "3         56.70  \n",
       "4         49.00  "
      ]
     },
     "execution_count": 123,
     "metadata": {},
     "output_type": "execute_result"
    }
   ],
   "source": [
    "df.head()"
   ]
  },
  {
   "cell_type": "code",
   "execution_count": null,
   "metadata": {},
   "outputs": [],
   "source": []
  },
  {
   "cell_type": "code",
   "execution_count": null,
   "metadata": {},
   "outputs": [],
   "source": []
  },
  {
   "cell_type": "code",
   "execution_count": null,
   "metadata": {},
   "outputs": [],
   "source": []
  },
  {
   "cell_type": "code",
   "execution_count": null,
   "metadata": {},
   "outputs": [],
   "source": [
    "pie = px.pie(data_frame= c,\n",
    "            names = \"bins\"\n",
    "            , values = \"count\",\n",
    "            title = \"Breakdown of ARP as a percentage off MSRP\")\n",
    "\n",
    "pie.show()\n",
    "\n",
    "pie.title.position "
   ]
  },
  {
   "cell_type": "code",
   "execution_count": null,
   "metadata": {},
   "outputs": [],
   "source": [
    "conn = psycopg2.connect(\"user='postgres' host='localhost'\")\n",
    "\n",
    "cur = conn.cursor()\n",
    "\n",
    "conn.autocommit = True\n",
    "cur.execute('DROP DATABASE IF EXISTS spins;')\n",
    "cur.execute('CREATE DATABASE spins;')\n",
    "\n",
    "cur.close() # This is optional\n",
    "conn.close() # Closing the connection also closes all cursors\n",
    "\n",
    "conn = psycopg2.connect(\"dbname='spins' user='postgres' host='localhost'\")\n",
    "\n",
    "cur = conn.cursor()\n",
    "\n",
    " # Inside insulinpricing database create a table with all of the \n",
    "    #appropriate column names to match with the CSV file header. '\n",
    "query = '''\n",
    "       \n",
    "CREATE TABLE spins_data(Geography VARCHAR, \n",
    "Item_UPC, \n",
    "Brand, \n",
    "Subcategory,\n",
    "AGE, \n",
    "FORM, \n",
    "FUNCTIONAL_INGREDIENT, \n",
    "FLAVOR, \n",
    "HEALTH_FOCUS,\n",
    "Group, \n",
    "SIZE, \n",
    "Dollars, \n",
    "Dollars_Yago, \n",
    "Units, \n",
    "Units_Yago, \n",
    "Dollars_SPP, \n",
    "ARP,\n",
    "ARP_Yago,  \n",
    "Base_ARP,\n",
    "Base_ARP_Yago)\n",
    "\n",
    "\n",
    "\n",
    "(NDC_Description VARCHAR ,NDC VARCHAR, \n",
    "    NADAC_Per_Unit NUMERIC, Effective_Date DATE,\n",
    "    Pricing_Unit VARCHAR,Pharmacy_Type_Indicator VARCHAR,\n",
    "    OTC VARCHAR,Explanation_Code VARCHAR,\n",
    "    Classification_for_Rate_Setting VARCHAR,\n",
    "    Corresponding_Generic_Drug_NADAC_Per_Unit NUMERIC,\n",
    "    Corresponding_Generic_Drug_Effective_Date DATE,\n",
    "    As_of_Date DATE);\n",
    "        '''\n",
    "cur.execute(query)"
   ]
  }
 ],
 "metadata": {
  "kernelspec": {
   "display_name": "Python 3",
   "language": "python",
   "name": "python3"
  },
  "language_info": {
   "codemirror_mode": {
    "name": "ipython",
    "version": 3
   },
   "file_extension": ".py",
   "mimetype": "text/x-python",
   "name": "python",
   "nbconvert_exporter": "python",
   "pygments_lexer": "ipython3",
   "version": "3.7.6"
  }
 },
 "nbformat": 4,
 "nbformat_minor": 4
}
